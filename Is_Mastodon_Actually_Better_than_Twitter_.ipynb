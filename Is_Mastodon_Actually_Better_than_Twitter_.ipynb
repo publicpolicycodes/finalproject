{
  "nbformat": 4,
  "nbformat_minor": 0,
  "metadata": {
    "colab": {
      "provenance": []
    },
    "kernelspec": {
      "name": "python3",
      "display_name": "Python 3"
    },
    "language_info": {
      "name": "python"
    }
  },
  "cells": [
    {
      "cell_type": "markdown",
      "source": [
        "# Is Mastodon Actually Better than Twitter? - A Closer Look at Privacy Policies \n",
        "\n",
        "## Introduction\n",
        "\n",
        "In January of 2022, Elon Musk indicated [interest in acquiring Twitter](https://apnews.com/article/twitter-elon-musk-timeline-c6b09620ee0905e59df9325ed042a609) by purchasing a small percentage of its shares. By October 27th of the same year, Musk closed a $44 billion deal to purchase Twitter and officially took over one of the major social media platforms in the world. With Musk’s mixed reputation in the technology space as well as [his vision](https://www.cnn.com/2022/10/28/tech/elon-musk-twitter-changes/index.html#:~:text=Musk%20has%20also%20said%20he,or%20demoted%20in%20their%20feed. ) for the platform, his leadership alarmed many users as he has heavily focused on profit and free speech over user trust and safety. In search of an alternative, users sought out a similar platform called Mastodon. [Mastodon](https://www.nytimes.com/2022/11/07/technology/mastodon-twitter-elon-musk.html ) is a social media platform that was founded in 2016 by software developer Eugen Rochko, and claims it can be a [“viable alternative to Twitter”](https://blog.joinmastodon.org/2022/04/twitter-buyout-puts-mastodon-into-spotlight/ ) as a free and open source platform where communication is not dictated by one commercial company. Its user base has [grown significantly](https://www.cnn.com/2022/12/20/tech/mastodon-twitter-usage/index.html) since Musk's takeover of Twitter.\n",
        "\n",
        "Musk’s leadership at Twitter has raised many questions about how social media should be governed and operated. Among many issues that social media companies are scrutinized for, privacy and data are one of the major topics discussed. There have been many data breaches of social media companies such as the infamous [Cambridge Analytica Scandal](https://www.nytimes.com/2018/04/04/us/politics/cambridge-analytica-scandal-fallout.html) in 2018, where millions of Facebook user’s data were breached and used for political purposes. Considering the significance of privacy and data, this paper aims to compare the privacy policies of Twitter and its alternative Mastodon. \n",
        "\n",
        "The hypothesis for this paper is that Mastodon is a better social media platform than Twitter, therefore Mastodon must have a good if not a better privacy policy than Twitter. In this context, a good privacy policy means setting out, at minimum, answers to these questions building upon [guildelines set by UC Berkeley's Information Security Office](https://security.berkeley.edu/how-write-effective-website-privacy-statement#:~:text=Your%20privacy%20statement%20must%20accurately,you%20must%20inform%20your%20users): what kind of data are collected, what is the legal basis for collecting such data, how are these data are used, who to contact regarding policies, how long is data retained, what measures are taken to protect and secure data, and who has access to data. The goal is to compare the two policies to determine which platform has the more comprehensive policy that seeks to provide necessary information to users but also do due diligence to protect the data. Vague language as well as difficult and technical jargon used in the policies will be considered against the platforms’ policies.\n",
        "\n",
        "For the purpose of this paper, technical jargon is limited to the use of abbreviations. For instance, if the policy states GDPR, a European regulation on data, instead of writing out General Data Protection Regulation, it will be considered a technical jargon. In terms of vague language, it will be limited to ambiguity coming from use of language that does not give certainty, such as ‘may’ will be considered. \n",
        "\n",
        "## Methodology\n",
        "\n",
        "Data collection for this method is fairly simple. Privacy policies are to be collected by downloading directly from [Twitter](https://twitter.com/en/privacy) and [Mastodon](https://mastodon.social/privacy-policy)’s websites and by using PyMuPDF, the texts will be extracted. \n",
        "\n",
        "First part of the research will go through the questions to be answered in privacy policies via search using Python readlines functions. Then, technical jargon will be searched using the Spacy library. Data will be then cleaned up using NLTK.  \n",
        "\n",
        "Considering Twitter’s privacy policy is longer and more detailed, using lexical density, a quantitative way of finding out breadth of vocabularies, the research seeks to answer which policy is more robust. Additionally, the Term Frequency-Inverse Document Frequency (TF-IDF) method will be used. Using this method, the most frequent and significant terms used in each company’s policies will be identified. Lastly, some of visualization tools will also be used. For instance, Word Cloud will show common words and visually demonstrate in sizes the relative frequency of the term mentioned in each of the policies, as well as a heat map showing the top 10 TF-IDF terms for each policy. \n",
        "\n",
        "Unless otherwise specified in this document, all codes used in this document are from the [Introduction to Text Analysis](https://github.com/intro-to-text-analysis-SIPA-S23/syllabus) course taught by Rebecca Krisel. \n",
        "\n",
        "\n"
      ],
      "metadata": {
        "id": "lgLauQmtHgMC"
      }
    },
    {
      "cell_type": "markdown",
      "source": [
        "## Data Scraping"
      ],
      "metadata": {
        "id": "3MvHfq_BLOhJ"
      }
    },
    {
      "cell_type": "markdown",
      "source": [
        "First scrape the policy from PDF using PyMuPDF\n",
        "\n",
        "Install PyMuPDF library"
      ],
      "metadata": {
        "id": "Efs_qfQ6719k"
      }
    },
    {
      "cell_type": "code",
      "execution_count": null,
      "metadata": {
        "colab": {
          "base_uri": "https://localhost:8080/"
        },
        "id": "ZdG4taNw7D2E",
        "outputId": "8dde06a0-b2ed-4a78-8611-a1c53b3e6648"
      },
      "outputs": [
        {
          "output_type": "stream",
          "name": "stdout",
          "text": [
            "Looking in indexes: https://pypi.org/simple, https://us-python.pkg.dev/colab-wheels/public/simple/\n",
            "Collecting PyMuPDF\n",
            "  Downloading PyMuPDF-1.22.2-cp39-cp39-manylinux_2_17_x86_64.manylinux2014_x86_64.whl (14.1 MB)\n",
            "\u001b[2K     \u001b[90m━━━━━━━━━━━━━━━━━━━━━━━━━━━━━━━━━━━━━━━━\u001b[0m \u001b[32m14.1/14.1 MB\u001b[0m \u001b[31m47.8 MB/s\u001b[0m eta \u001b[36m0:00:00\u001b[0m\n",
            "\u001b[?25hInstalling collected packages: PyMuPDF\n",
            "Successfully installed PyMuPDF-1.22.2\n"
          ]
        }
      ],
      "source": [
        "!pip install PyMuPDF"
      ]
    },
    {
      "cell_type": "markdown",
      "source": [
        "Extract the text from the PDF files and create a text document"
      ],
      "metadata": {
        "id": "Jw1F9k7DLSra"
      }
    },
    {
      "cell_type": "code",
      "source": [
        "import fitz #fitz is pymupdf\n",
        "doc = fitz.open(\"Twitter_Privacy_Policy_EN.pdf\")  # open document\n",
        "out = open(\"twitter.txt\", \"wb\")  # open text output\n",
        "for page in doc:  # iterate the document pages\n",
        "    text = page.get_text().encode(\"utf8\")  # get plain text (is in UTF-8)\n",
        "    out.write(text)  # write text of page\n",
        "    out.write(bytes((12,)))  # write page delimiter (form feed 0x0C)\n",
        "out.close()"
      ],
      "metadata": {
        "id": "F-mOoJTJ7HXv"
      },
      "execution_count": null,
      "outputs": []
    },
    {
      "cell_type": "code",
      "source": [
        "doc2 = fitz.open(\"Mastodon_Privacy_Policy.pdf\")\n",
        "out2 = open(\"mastodon.txt\", \"wb\") \n",
        "for page2 in doc2:  # iterate the document pages\n",
        "    text2 = page2.get_text().encode(\"utf8\")  # get plain text (is in UTF-8)\n",
        "    out2.write(text2)  # write text of page\n",
        "    out2.write(bytes((12,)))  # write page delimiter (form feed 0x0C)\n",
        "out2.close()"
      ],
      "metadata": {
        "id": "CXWCLidQ0hjw"
      },
      "execution_count": null,
      "outputs": []
    },
    {
      "cell_type": "markdown",
      "source": [
        "## Answering UC Berkley's Guidelines using readlines function. \n",
        "\n",
        "The following script is adopted from [GeeksforGeeks](https://www.geeksforgeeks.org/python-how-to-search-for-a-string-in-text-files/# )"
      ],
      "metadata": {
        "id": "NA8De7k4LdUO"
      }
    },
    {
      "cell_type": "markdown",
      "source": [
        "Question 1: what kind of data are collected? For this question, \"data\" and \"information\" are used as search terms.\n"
      ],
      "metadata": {
        "id": "Q4WJIlTgRvwq"
      }
    },
    {
      "cell_type": "code",
      "source": [
        "word = 'data'\n",
        "with open(r'twitter.txt', 'r') as twitter:\n",
        "    # read all lines in a list\n",
        "    lines = twitter.readlines()\n",
        "    for line in lines:\n",
        "        # check if string present on a current line\n",
        "        if line.find(word) != -1:\n",
        "            print(word, 'string exists in file')\n",
        "            print('Line Number:', lines.index(line))\n",
        "            print('Line:', line)"
      ],
      "metadata": {
        "colab": {
          "base_uri": "https://localhost:8080/"
        },
        "id": "-RwNwnqzOMkd",
        "outputId": "82971678-f871-423b-f6aa-b67ce9d07c29"
      },
      "execution_count": null,
      "outputs": [
        {
          "output_type": "stream",
          "name": "stdout",
          "text": [
            "data string exists in file\n",
            "Line Number: 22\n",
            "Line: We collect some data about you\n",
            "\n",
            "data string exists in file\n",
            "Line Number: 26\n",
            "Line: We use your data to make Twitter better\n",
            "\n",
            "data string exists in file\n",
            "Line Number: 31\n",
            "Line: how we use data, just ask\n",
            "\n",
            "data string exists in file\n",
            "Line Number: 34\n",
            "Line: with my data?\n",
            "\n",
            "data string exists in file\n",
            "Line Number: 56\n",
            "Line: What data do you collect about me?\n",
            "\n",
            "data string exists in file\n",
            "Line Number: 57\n",
            "Line: You give some data, we get some data. In return we offer useful \n",
            "\n",
            "data string exists in file\n",
            "Line Number: 154\n",
            "Line: similar technologies to collect additional website usage data and to operate our \n",
            "\n",
            "data string exists in file\n",
            "Line Number: 169\n",
            "Line: or interest data, and content viewed or actions taken on a website or app. Some \n",
            "\n",
            "data string exists in file\n",
            "Line Number: 304\n",
            "Line: For more information about how we make public data on Twitter available \n",
            "\n",
            "data string exists in file\n",
            "Line Number: 331\n",
            "Line: \fDoes data have an expiration \n",
            "\n",
            "data string exists in file\n",
            "Line Number: 340\n",
            "Line: We generally keep other personally identifiable data we collect when you \n",
            "\n",
            "data string exists in file\n",
            "Line Number: 355\n",
            "Line: How long do you keep data?\n",
            "\n",
            "data string exists in file\n",
            "Line Number: 356\n",
            "Line: Generally, we keep your data as long as your account is up.\n",
            "\n",
            "data string exists in file\n",
            "Line Number: 376\n",
            "Line: How can I control my data?\n",
            "\n",
            "data string exists in file\n",
            "Line Number: 412\n",
            "Line: this additional information about data processing. And no, we don’t sell your \n",
            "\n",
            "data string exists in file\n",
            "Line Number: 414\n",
            "Line: 6.2 We move your data to make Twitter \n",
            "\n",
            "data string exists in file\n",
            "Line Number: 426\n",
            "Line: \fWe also use data centers and cloud providers, and engage our affiliates and \n",
            "\n",
            "data string exists in file\n",
            "Line Number: 428\n",
            "Line: help us provide our services. Before we move data between countries we look \n",
            "\n",
            "data string exists in file\n",
            "Line Number: 429\n",
            "Line: at the risks that may be presented to the data and rely on things like standard \n",
            "\n",
            "data string exists in file\n",
            "Line Number: 430\n",
            "Line: contractual clauses, where applicable, to ensure your data rights are protected. \n",
            "\n",
            "data string exists in file\n",
            "Line Number: 431\n",
            "Line: If data will be shared with a third party, we require them to maintain the same \n",
            "\n",
            "data string exists in file\n",
            "Line Number: 432\n",
            "Line: protections over your data that we provide directly.\n",
            "\n",
            "data string exists in file\n",
            "Line Number: 436\n",
            "Line: of your personal data in your country (in some countries we may allow your parent \n",
            "\n",
            "data string exists in file\n",
            "Line Number: 444\n",
            "Line: personal data and we may revise this Privacy Policy from time to time as needed.\n",
            "\n",
            "data string exists in file\n",
            "Line Number: 457\n",
            "Line: United Kingdom, the data controller \n",
            "\n",
            "data string exists in file\n",
            "Line Number: 458\n",
            "Line: responsible for your personal data is \n",
            "\n",
            "data string exists in file\n",
            "Line Number: 462\n",
            "Line: Kingdom, the data controller \n",
            "\n",
            "data string exists in file\n",
            "Line Number: 475\n",
            "Line: our data processing practices, you have the right to do so with your local \n",
            "\n"
          ]
        }
      ]
    },
    {
      "cell_type": "markdown",
      "source": [
        "Looking at the document from line 56, Twitter provides very detailed information about the data collected including email address or phone number, date of birth, as well as user tracking data, such as content posted, interaction with other content, links that you interact with. Additionally, Twitter collects device and location information, even interactions with Twitter content on third-party sites."
      ],
      "metadata": {
        "id": "p7BjHIjtMPpS"
      }
    },
    {
      "cell_type": "code",
      "source": [
        "word = 'information'\n",
        "with open(r'mastodon.txt', 'r') as mastodon:\n",
        "    # read all lines in a list\n",
        "    lines = mastodon.readlines()\n",
        "    for line in lines:\n",
        "        # check if string present on a current line\n",
        "        if line.find(word) != -1:\n",
        "            print(word, 'string exists in file')\n",
        "            print('Line Number:', lines.index(line))\n",
        "            print('Line:', line)"
      ],
      "metadata": {
        "colab": {
          "base_uri": "https://localhost:8080/"
        },
        "id": "ZFLYj_hC-TLJ",
        "outputId": "d27211f3-10c7-4d91-cc8e-f5ed3f1f8c32"
      },
      "execution_count": null,
      "outputs": [
        {
          "output_type": "stream",
          "name": "stdout",
          "text": [
            "information string exists in file\n",
            "Line Number: 7\n",
            "Line: uses the personally identiﬁable information you may provide through the mastodon.social website or its\n",
            "\n",
            "information string exists in file\n",
            "Line Number: 8\n",
            "Line: API. The policy also describes the choices available to you regarding our use of your personal information\n",
            "\n",
            "information string exists in file\n",
            "Line Number: 9\n",
            "Line: and how you can access and update this information. This policy does not apply to the practices of\n",
            "\n",
            "information string exists in file\n",
            "Line Number: 12\n",
            "Line: What information do we collect?\n",
            "\n",
            "information string exists in file\n",
            "Line Number: 13\n",
            "Line: Basic account information: If you register on this server, you may be asked to enter a username, an e-\n",
            "\n",
            "information string exists in file\n",
            "Line Number: 14\n",
            "Line: mail address and a password. You may also enter additional proﬁle information such as a display\n",
            "\n",
            "information string exists in file\n",
            "Line Number: 17\n",
            "Line: Posts, following and other public information: The list of people you follow is listed publicly, the same\n",
            "\n",
            "information string exists in file\n",
            "Line Number: 21\n",
            "Line: proﬁle, that is also publicly available information. Your posts are delivered to your followers, in some\n",
            "\n",
            "information string exists in file\n",
            "Line Number: 33\n",
            "Line: them. Do not share any sensitive information over Mastodon.\n",
            "\n",
            "information string exists in file\n",
            "Line Number: 42\n",
            "Line: What do we use your information for?\n",
            "\n",
            "information string exists in file\n",
            "Line Number: 43\n",
            "Line: Any of the information we collect from you may be used in the following ways:\n",
            "\n",
            "information string exists in file\n",
            "Line Number: 44\n",
            "Line: How do we protect your information?\n",
            "\n",
            "information string exists in file\n",
            "Line Number: 45\n",
            "Line: We implement a variety of security measures to maintain the safety of your personal information when\n",
            "\n",
            "information string exists in file\n",
            "Line Number: 46\n",
            "Line: you enter, submit, or access your personal information. Among other things, your browser session, as well\n",
            "\n",
            "information string exists in file\n",
            "Line Number: 60\n",
            "Line: Do we disclose any information to outside parties?\n",
            "\n",
            "information string exists in file\n",
            "Line Number: 66\n",
            "Line: The email address you provide may be used to send you information, notiﬁcations about other people\n",
            "\n",
            "information string exists in file\n",
            "Line Number: 76\n",
            "Line: We do not sell, trade, or otherwise transfer to outside parties your personally identiﬁable information. This\n",
            "\n",
            "information string exists in file\n",
            "Line Number: 78\n",
            "Line: servicing you, so long as those parties agree to keep this information conﬁdential. We may also release\n",
            "\n",
            "information string exists in file\n",
            "Line Number: 79\n",
            "Line: your information when we believe release is appropriate to comply with the law, enforce our site policies,\n",
            "\n",
            "information string exists in file\n",
            "Line Number: 85\n",
            "Line: approve, it may access your public proﬁle information, your following list, your followers, your lists, all your\n",
            "\n"
          ]
        }
      ]
    },
    {
      "cell_type": "markdown",
      "source": [
        "From line 12 of the Mastodon document, it states that username, e-mail address, password, content, log information, etc., are all collected. \n",
        "\n",
        "Mastodon seems to collect less information from users. This may be because the products that Twitter offers are more complex than Mastodon. \n",
        "\n",
        "Ultimately, both policies meet the minimum requirement of answering what data are collected. \n"
      ],
      "metadata": {
        "id": "YDxsFTZEMf2T"
      }
    },
    {
      "cell_type": "markdown",
      "source": [
        "Question 2: what is the legal basis of collecting such data? For this question, \"law\" and \"legal\" are used as search terms."
      ],
      "metadata": {
        "id": "TBNMSw1DMISk"
      }
    },
    {
      "cell_type": "code",
      "source": [
        "word = 'legal'\n",
        "with open(r'twitter.txt', 'r') as twitter:\n",
        "    # read all lines in a list\n",
        "    lines = twitter.readlines()\n",
        "    for line in lines:\n",
        "        # check if string present on a current line\n",
        "        if line.find(word) != -1:\n",
        "            print(word, 'string exists in file')\n",
        "            print('Line Number:', lines.index(line))\n",
        "            print('Line:', line)"
      ],
      "metadata": {
        "colab": {
          "base_uri": "https://localhost:8080/"
        },
        "id": "z40Q0o7OPW_N",
        "outputId": "15320837-738c-4aa7-ffbe-8795a37e1e44"
      },
      "execution_count": null,
      "outputs": [
        {
          "output_type": "stream",
          "name": "stdout",
          "text": [
            "legal string exists in file\n",
            "Line Number: 8\n",
            "Line: our regulators ask us to meet our legal \n",
            "\n",
            "legal string exists in file\n",
            "Line Number: 219\n",
            "Line: use, and illegal activity. We also use the information to evaluate and affect \n",
            "\n",
            "legal string exists in file\n",
            "Line Number: 311\n",
            "Line: comply with a law, regulation, legal process, or governmental request;\n",
            "\n",
            "legal string exists in file\n",
            "Line Number: 354\n",
            "Line: to comply with legal requirements and for safety and security reasons.\n",
            "\n",
            "legal string exists in file\n",
            "Line Number: 407\n",
            "Line: 6.1 We have specific legal bases to use your \n",
            "\n",
            "legal string exists in file\n",
            "Line Number: 409\n",
            "Line: Twitter has carefully considered the legal reasons it is permitted to collect, \n",
            "\n",
            "legal string exists in file\n",
            "Line Number: 8\n",
            "Line: our regulators ask us to meet our legal \n",
            "\n",
            "legal string exists in file\n",
            "Line Number: 219\n",
            "Line: use, and illegal activity. We also use the information to evaluate and affect \n",
            "\n",
            "legal string exists in file\n",
            "Line Number: 311\n",
            "Line: comply with a law, regulation, legal process, or governmental request;\n",
            "\n",
            "legal string exists in file\n",
            "Line Number: 354\n",
            "Line: to comply with legal requirements and for safety and security reasons.\n",
            "\n",
            "legal string exists in file\n",
            "Line Number: 407\n",
            "Line: 6.1 We have specific legal bases to use your \n",
            "\n",
            "legal string exists in file\n",
            "Line Number: 409\n",
            "Line: Twitter has carefully considered the legal reasons it is permitted to collect, \n",
            "\n"
          ]
        }
      ]
    },
    {
      "cell_type": "markdown",
      "source": [
        "In line 407, section 6.1 of the document, Twitter mentions that it has \"carefully considered the legal reasons it is permitted to collect,\n",
        "use, share and otherwise process your information.\" There is no specific mention of the laws and regulation themselves. It does not fully answer the question but it does mention the legal basis. "
      ],
      "metadata": {
        "id": "8XprlB40NhWf"
      }
    },
    {
      "cell_type": "code",
      "source": [
        "word = 'law'\n",
        "with open(r'mastodon.txt', 'r') as mastodon:\n",
        "    # read all lines in a list\n",
        "    lines = mastodon.readlines()\n",
        "    for line in lines:\n",
        "        # check if string present on a current line\n",
        "        if line.find(word) != -1:\n",
        "            print(word, 'string exists in file')\n",
        "            print('Line Number:', lines.index(line))\n",
        "            print('Line:', line)"
      ],
      "metadata": {
        "colab": {
          "base_uri": "https://localhost:8080/"
        },
        "id": "b8ZjosHrBa9o",
        "outputId": "ee505f34-ca14-4269-d847-b51a555aac26"
      },
      "execution_count": null,
      "outputs": [
        {
          "output_type": "stream",
          "name": "stdout",
          "text": [
            "law string exists in file\n",
            "Line Number: 79\n",
            "Line: your information when we believe release is appropriate to comply with the law, enforce our site policies,\n",
            "\n"
          ]
        }
      ]
    },
    {
      "cell_type": "markdown",
      "source": [
        "Law is mentioned in Mastodon's policy, however, it also does not mention the legal basis on collection of the data. The statement is on sharing the data. \n",
        "\n",
        "For question 2, both Twitter and Mastodon do not cover the legal basis."
      ],
      "metadata": {
        "id": "PVkZFVOGN7NT"
      }
    },
    {
      "cell_type": "markdown",
      "source": [
        "Question 3: how are data used? For this question, \"use\" is used as a search term."
      ],
      "metadata": {
        "id": "P6_5vhGQOuGT"
      }
    },
    {
      "cell_type": "code",
      "source": [
        "word = 'use'\n",
        "with open(r'twitter.txt', 'r') as twitter:\n",
        "    # read all lines in a list\n",
        "    lines = twitter.readlines()\n",
        "    for line in lines:\n",
        "        # check if string present on a current line\n",
        "        if line.find(word) != -1:\n",
        "            print(word, 'string exists in file')\n",
        "            print('Line Number:', lines.index(line))\n",
        "            print('Line:', line)"
      ],
      "metadata": {
        "colab": {
          "base_uri": "https://localhost:8080/"
        },
        "id": "9eIko5AZCNRO",
        "outputId": "ca6620db-a20e-40cb-d2fb-c6b3609ffa7e"
      },
      "execution_count": null,
      "outputs": [
        {
          "output_type": "stream",
          "name": "stdout",
          "text": [
            "use string exists in file\n",
            "Line Number: 4\n",
            "Line: with a Privacy Policy. Most people who use \n",
            "\n",
            "use string exists in file\n",
            "Line Number: 14\n",
            "Line: when you use Twitter by making sure you \n",
            "\n",
            "use string exists in file\n",
            "Line Number: 16\n",
            "Line: information we collect, how it’s used, and \n",
            "\n",
            "use string exists in file\n",
            "Line Number: 26\n",
            "Line: We use your data to make Twitter better\n",
            "\n",
            "use string exists in file\n",
            "Line Number: 31\n",
            "Line: how we use data, just ask\n",
            "\n",
            "use string exists in file\n",
            "Line Number: 36\n",
            "Line: The information we collect when you use Twitter falls into three categories.\n",
            "\n",
            "use string exists in file\n",
            "Line Number: 38\n",
            "Line: To use some of our products and services you need to have an account, and \n",
            "\n",
            "use string exists in file\n",
            "Line Number: 40\n",
            "Line: if you use our paid products and services, we cannot provide them to you \n",
            "\n",
            "use string exists in file\n",
            "Line Number: 42\n",
            "Line: necessary if you want to use many of our products and services.\n",
            "\n",
            "use string exists in file\n",
            "Line Number: 46\n",
            "Line: includes a display name (for example, “Twitter Moments”); a username \n",
            "\n",
            "use string exists in file\n",
            "Line Number: 52\n",
            "Line: profile information, which includes your display name and username, \n",
            "\n",
            "use string exists in file\n",
            "Line Number: 53\n",
            "Line: is always public, but you can use either your real name or a pseudonym. \n",
            "\n",
            "use string exists in file\n",
            "Line Number: 57\n",
            "Line: You give some data, we get some data. In return we offer useful \n",
            "\n",
            "use string exists in file\n",
            "Line Number: 73\n",
            "Line: use Twitter\n",
            "\n",
            "use string exists in file\n",
            "Line Number: 74\n",
            "Line: When you use our services, we collect information about how you use our \n",
            "\n",
            "use string exists in file\n",
            "Line Number: 75\n",
            "Line: products and services. We use that information to provide you with products and \n",
            "\n",
            "use string exists in file\n",
            "Line Number: 86\n",
            "Line: Your interactions with other users’ content, such as retweets, likes, shares, \n",
            "\n",
            "use string exists in file\n",
            "Line Number: 87\n",
            "Line: replies, if other users mention or tag you in content or if you mention or tag \n",
            "\n",
            "use string exists in file\n",
            "Line Number: 92\n",
            "Line: people who follow you, and when you use Direct Messages, including the \n",
            "\n",
            "use string exists in file\n",
            "Line Number: 104\n",
            "Line: \fDevice Information. We collect information from and about the devices you use \n",
            "\n",
            "use string exists in file\n",
            "Line Number: 115\n",
            "Line: Location Information. When you use Twitter, we collect some information about \n",
            "\n",
            "use string exists in file\n",
            "Line Number: 118\n",
            "Line: places where you’ve previously used Twitter by enabling these settings in your \n",
            "\n",
            "use string exists in file\n",
            "Line Number: 120\n",
            "Line: Inferred Identity. We may collect or receive information that we use to infer \n",
            "\n",
            "use string exists in file\n",
            "Line Number: 125\n",
            "Line: associate your account with browsers or devices other than those you use to \n",
            "\n",
            "use string exists in file\n",
            "Line Number: 131\n",
            "Line: Subject to your settings, we may also use this information in order to infer \n",
            "\n",
            "use string exists in file\n",
            "Line Number: 153\n",
            "Line: Cookies and similar technologies. Like many websites, we use cookies and \n",
            "\n",
            "use string exists in file\n",
            "Line Number: 157\n",
            "Line: we use cookies and similar technologies here.\n",
            "\n",
            "use string exists in file\n",
            "Line Number: 164\n",
            "Line: When you use other online products and services, they may share information \n",
            "\n",
            "use string exists in file\n",
            "Line Number: 168\n",
            "Line: mobile device IDs, hashed user information like email addresses, demographic \n",
            "\n",
            "use string exists in file\n",
            "Line Number: 179\n",
            "Line: other Twitter users, developers, and partners who help us evaluate the safety \n",
            "\n",
            "use string exists in file\n",
            "Line Number: 184\n",
            "Line: \f2. How we use information\n",
            "\n",
            "use string exists in file\n",
            "Line Number: 185\n",
            "Line: Breaking down how we use the information we collect is not simple because of the \n",
            "\n",
            "use string exists in file\n",
            "Line Number: 187\n",
            "Line: information may be used differently for different purposes to ultimately deliver a single \n",
            "\n",
            "use string exists in file\n",
            "Line Number: 188\n",
            "Line: service. We think it’s most useful to describe the five main ways we use information \n",
            "\n",
            "use string exists in file\n",
            "Line Number: 193\n",
            "Line: We use the information we collect to provide and operate Twitter products and \n",
            "\n",
            "use string exists in file\n",
            "Line Number: 194\n",
            "Line: services. We also use the information we collect to improve and personalize our \n",
            "\n",
            "use string exists in file\n",
            "Line Number: 198\n",
            "Line: We may use the information we collect from accounts of other services that \n",
            "\n",
            "use string exists in file\n",
            "Line Number: 201\n",
            "Line: We use your contact information to help others find your account if your \n",
            "\n",
            "use string exists in file\n",
            "Line Number: 203\n",
            "Line: We use your information to provide our advertising and sponsored content \n",
            "\n",
            "use string exists in file\n",
            "Line Number: 205\n",
            "Line: relevant to you. We also use this information to measure the effectiveness \n",
            "\n",
            "use string exists in file\n",
            "Line Number: 209\n",
            "Line: How do you use my information?\n",
            "\n",
            "use string exists in file\n",
            "Line Number: 216\n",
            "Line: We use information we collect to provide for the safety and security of our \n",
            "\n",
            "use string exists in file\n",
            "Line Number: 217\n",
            "Line: users, our products, services, and your account. This includes verifying your \n",
            "\n",
            "use string exists in file\n",
            "Line Number: 219\n",
            "Line: use, and illegal activity. We also use the information to evaluate and affect \n",
            "\n",
            "use string exists in file\n",
            "Line Number: 224\n",
            "Line: We use the information we collect to measure and analyze the effectiveness \n",
            "\n",
            "use string exists in file\n",
            "Line Number: 225\n",
            "Line: of our products and services and to better understand how you use them \n",
            "\n",
            "use string exists in file\n",
            "Line Number: 229\n",
            "Line: We use the information we collect to communicate with you about our products \n",
            "\n",
            "use string exists in file\n",
            "Line Number: 234\n",
            "Line: We use information you share with us, or that we collect to conduct research, \n",
            "\n",
            "use string exists in file\n",
            "Line Number: 244\n",
            "Line: (e.g., name/pseudonym, username, profile pictures), is available for viewing \n",
            "\n",
            "use string exists in file\n",
            "Line Number: 248\n",
            "Line: With other Twitter users. Depending on your settings, and based on the \n",
            "\n",
            "use string exists in file\n",
            "Line Number: 249\n",
            "Line: Twitter products and services you use, we share:\n",
            "\n",
            "use string exists in file\n",
            "Line Number: 251\n",
            "Line: Your interactions with Twitter content of other users, such as likes, \n",
            "\n",
            "use string exists in file\n",
            "Line Number: 254\n",
            "Line: Content you send to a specific Twitter user, such as through Direct Messages. \n",
            "\n",
            "use string exists in file\n",
            "Line Number: 276\n",
            "Line: our various blogs and wikis; service providers that help us understand the use \n",
            "\n",
            "use string exists in file\n",
            "Line Number: 296\n",
            "Line: \fThrough our APIs. We use technology like APIs and embeds to make public \n",
            "\n",
            "use string exists in file\n",
            "Line Number: 297\n",
            "Line: Twitter information available to websites, apps, and others for their use, \n",
            "\n",
            "use string exists in file\n",
            "Line Number: 301\n",
            "Line: terms that govern how this information can be used, and a compliance program \n",
            "\n",
            "use string exists in file\n",
            "Line Number: 308\n",
            "Line: We may preserve, use, share, or disclose your information if we believe that \n",
            "\n",
            "use string exists in file\n",
            "Line Number: 314\n",
            "Line: including to help prevent spam, abuse, or malicious actors on our services;\n",
            "\n",
            "use string exists in file\n",
            "Line Number: 321\n",
            "Line: protect our rights or property, or the rights or property of those who use \n",
            "\n",
            "use string exists in file\n",
            "Line Number: 341\n",
            "Line: use our products and services for a maximum of 18 months.\n",
            "\n",
            "use string exists in file\n",
            "Line Number: 350\n",
            "Line: identifiers you used to create the account (i.e., email address or phone number) \n",
            "\n",
            "use string exists in file\n",
            "Line Number: 382\n",
            "Line: username, and public profile, will no longer be viewable on Twitter.com, Twitter for \n",
            "\n",
            "use string exists in file\n",
            "Line Number: 404\n",
            "Line: privacy tools and controls to all of our users regardless of where they live. However, \n",
            "\n",
            "use string exists in file\n",
            "Line Number: 405\n",
            "Line: your experience may be slightly different than users in other countries to ensure \n",
            "\n",
            "use string exists in file\n",
            "Line Number: 407\n",
            "Line: 6.1 We have specific legal bases to use your \n",
            "\n",
            "use string exists in file\n",
            "Line Number: 410\n",
            "Line: use, share and otherwise process your information. If you want to dig in to learn \n",
            "\n",
            "use string exists in file\n",
            "Line Number: 416\n",
            "Line: Just as you use Twitter to seamlessly participate in global conversations with \n",
            "\n",
            "use string exists in file\n",
            "Line Number: 426\n",
            "Line: \fWe also use data centers and cloud providers, and engage our affiliates and \n",
            "\n",
            "use string exists in file\n",
            "Line Number: 430\n",
            "Line: contractual clauses, where applicable, to ensure your data rights are protected. \n",
            "\n",
            "use string exists in file\n",
            "Line Number: 434\n",
            "Line: Our services are not directed to children, and you may not use our services if you \n",
            "\n",
            "use string exists in file\n",
            "Line Number: 447\n",
            "Line: Privacy Policy before you continue to use Twitter.\n",
            "\n"
          ]
        }
      ]
    },
    {
      "cell_type": "markdown",
      "source": [
        "There are many mentions of \"use\" in Twitter's document. In the section provided on line 2, Twitter provides a comprehensive explanation on where the collected data are used, such as for personalized service, service analysis, and safety of users."
      ],
      "metadata": {
        "id": "SHYSLilJPQfm"
      }
    },
    {
      "cell_type": "code",
      "source": [
        "word = 'use'\n",
        "with open(r'mastodon.txt', 'r') as mastodon:\n",
        "    # read all lines in a list\n",
        "    lines = mastodon.readlines()\n",
        "    for line in lines:\n",
        "        # check if string present on a current line\n",
        "        if line.find(word) != -1:\n",
        "            print(word, 'string exists in file')\n",
        "            print('Line Number:', lines.index(line))\n",
        "            print('Line:', line)"
      ],
      "metadata": {
        "colab": {
          "base_uri": "https://localhost:8080/"
        },
        "id": "uEZqphMoCUGa",
        "outputId": "8ebe6e42-9444-42e2-b3b2-6ee5cbc5838a"
      },
      "execution_count": null,
      "outputs": [
        {
          "output_type": "stream",
          "name": "stdout",
          "text": [
            "use string exists in file\n",
            "Line Number: 7\n",
            "Line: uses the personally identiﬁable information you may provide through the mastodon.social website or its\n",
            "\n",
            "use string exists in file\n",
            "Line Number: 8\n",
            "Line: API. The policy also describes the choices available to you regarding our use of your personal information\n",
            "\n",
            "use string exists in file\n",
            "Line Number: 13\n",
            "Line: Basic account information: If you register on this server, you may be asked to enter a username, an e-\n",
            "\n",
            "use string exists in file\n",
            "Line Number: 15\n",
            "Line: name and biography, and upload a proﬁle picture and header image. The username, display name,\n",
            "\n",
            "use string exists in file\n",
            "Line Number: 26\n",
            "Line: posts are delivered to your followers and users who are mentioned in them, and direct posts are\n",
            "\n",
            "use string exists in file\n",
            "Line Number: 27\n",
            "Line: delivered only to users mentioned in them. In some cases it means they are delivered to different\n",
            "\n",
            "use string exists in file\n",
            "Line Number: 36\n",
            "Line: revocation in the settings. The latest IP address used is stored for up to 12 months. We also may\n",
            "\n",
            "use string exists in file\n",
            "Line Number: 42\n",
            "Line: What do we use your information for?\n",
            "\n",
            "use string exists in file\n",
            "Line Number: 43\n",
            "Line: Any of the information we collect from you may be used in the following ways:\n",
            "\n",
            "use string exists in file\n",
            "Line Number: 55\n",
            "Line: Do we use cookies?\n",
            "\n",
            "use string exists in file\n",
            "Line Number: 59\n",
            "Line: We use cookies to understand and save your preferences for future visits.\n",
            "\n",
            "use string exists in file\n",
            "Line Number: 66\n",
            "Line: The email address you provide may be used to send you information, notiﬁcations about other people\n",
            "\n",
            "use string exists in file\n",
            "Line Number: 71\n",
            "Line: Retain the IP addresses associated with registered users no more than 12 months.\n",
            "\n",
            "use string exists in file\n",
            "Line Number: 84\n",
            "Line: When you authorize an application to use your account, depending on the scope of permissions you\n",
            "\n",
            "use string exists in file\n",
            "Line Number: 90\n",
            "Line: Protection Regulation) do not use this site.\n",
            "\n",
            "use string exists in file\n",
            "Line Number: 93\n",
            "Line: Protection Act) do not use this site.\n",
            "\n"
          ]
        }
      ]
    },
    {
      "cell_type": "markdown",
      "source": [
        "For Mastodon, on line 42 “What do we use your information for?”, the document provides explanations of where the data are used, such as for core functionality, moderation of the community, and others.\n",
        "\n",
        "Twitter and Mastodon both answer the third question."
      ],
      "metadata": {
        "id": "cTv-n5RcPyGS"
      }
    },
    {
      "cell_type": "markdown",
      "source": [
        "Question 4: who to contact regarding policies? For this question, \"contact\" is used as a search term."
      ],
      "metadata": {
        "id": "LbHefBOKQM4j"
      }
    },
    {
      "cell_type": "code",
      "source": [
        "word = 'contact'\n",
        "with open(r'twitter.txt', 'r') as twitter:\n",
        "    # read all lines in a list\n",
        "    lines = twitter.readlines()\n",
        "    for line in lines:\n",
        "        # check if string present on a current line\n",
        "        if line.find(word) != -1:\n",
        "            print(word, 'string exists in file')\n",
        "            print('Line Number:', lines.index(line))\n",
        "            print('Line:', line)"
      ],
      "metadata": {
        "colab": {
          "base_uri": "https://localhost:8080/"
        },
        "id": "cxRx800jFGwK",
        "outputId": "e0168a71-f0e5-4183-ed9a-8ada5479e698"
      },
      "execution_count": null,
      "outputs": [
        {
          "output_type": "stream",
          "name": "stdout",
          "text": [
            "contact string exists in file\n",
            "Line Number: 32\n",
            "Line: Learn how to contact us\n",
            "\n",
            "contact string exists in file\n",
            "Line Number: 62\n",
            "Line: information, including street address, contact email address, and contact \n",
            "\n",
            "contact string exists in file\n",
            "Line Number: 189\n",
            "Line: and if you have questions that are not answered, you can always contact us. \n",
            "\n",
            "contact string exists in file\n",
            "Line Number: 201\n",
            "Line: We use your contact information to help others find your account if your \n",
            "\n",
            "contact string exists in file\n",
            "Line Number: 399\n",
            "Line: agent, you may also contact us as specified in the How To Contact Twitter \n",
            "\n",
            "contact string exists in file\n",
            "Line Number: 452\n",
            "Line: Privacy Policy. You can contact us via our Privacy Policy Inquiries page \n",
            "\n",
            "contact string exists in file\n",
            "Line Number: 473\n",
            "Line: You can confidentially contact Twitter’s Data Protection Officer through \n",
            "\n",
            "contact string exists in file\n",
            "Line Number: 478\n",
            "Line: contact details listed on their website.\n",
            "\n",
            "contact string exists in file\n",
            "Line Number: 480\n",
            "Line: How can I contact Twitter?\n",
            "\n"
          ]
        }
      ]
    },
    {
      "cell_type": "markdown",
      "source": [
        "On line 480, there is a section on how to contact Twitter. The document provides contact information based on where the user is located as well as a link to a web form. "
      ],
      "metadata": {
        "id": "opEzeRQnQZcs"
      }
    },
    {
      "cell_type": "code",
      "source": [
        "word = 'contact'\n",
        "with open(r'mastodon.txt', 'r') as mastodon:\n",
        "    # read all lines in a list\n",
        "    lines = mastodon.readlines()\n",
        "    for line in lines:\n",
        "        # check if string present on a current line\n",
        "        if line.find(word) != -1:\n",
        "            print(word, 'string exists in file')\n",
        "            print('Line Number:', lines.index(line))\n",
        "            print('Line:', line)"
      ],
      "metadata": {
        "id": "MEWKDLVwFiPI"
      },
      "execution_count": null,
      "outputs": []
    },
    {
      "cell_type": "markdown",
      "source": [
        "Mastodon does not provide contact information for inquiries related to the privacy policy.\n",
        "\n",
        "For question 4, only Twitter fulfills the requirement.  "
      ],
      "metadata": {
        "id": "n1Rs278OQzqU"
      }
    },
    {
      "cell_type": "markdown",
      "source": [
        "Question 5: how long are the data retained? For this question, \"period\" and \"rentention\" are used as search terms. "
      ],
      "metadata": {
        "id": "Qq0QCCHGSEmM"
      }
    },
    {
      "cell_type": "code",
      "source": [
        "word = 'period'\n",
        "with open(r'twitter.txt', 'r') as twitter:\n",
        "    # read all lines in a list\n",
        "    lines = twitter.readlines()\n",
        "    for line in lines:\n",
        "        # check if string present on a current line\n",
        "        if line.find(word) != -1:\n",
        "            print(word, 'string exists in file')\n",
        "            print('Line Number:', lines.index(line))\n",
        "            print('Line:', line)"
      ],
      "metadata": {
        "id": "99AnLzKVRsto",
        "colab": {
          "base_uri": "https://localhost:8080/"
        },
        "outputId": "16f7cf1e-6d5f-4ecd-fa10-0e039a5ee8bb"
      },
      "execution_count": null,
      "outputs": [
        {
          "output_type": "stream",
          "name": "stdout",
          "text": [
            "period string exists in file\n",
            "Line Number: 335\n",
            "Line: We keep different types of information for different periods of time: \n",
            "\n"
          ]
        }
      ]
    },
    {
      "cell_type": "markdown",
      "source": [
        "Twitter does provide the data retention period in line 335. This section provides how different types of information are retained for different periods. \n"
      ],
      "metadata": {
        "id": "6uo_inT_RXXR"
      }
    },
    {
      "cell_type": "code",
      "source": [
        "word = 'retention'\n",
        "with open(r'mastodon.txt', 'r') as mastodon:\n",
        "    # read all lines in a list\n",
        "    lines = mastodon.readlines()\n",
        "    for line in lines:\n",
        "        # check if string present on a current line\n",
        "        if line.find(word) != -1:\n",
        "            print(word, 'string exists in file')\n",
        "            print('Line Number:', lines.index(line))\n",
        "            print('Line:', line)"
      ],
      "metadata": {
        "colab": {
          "base_uri": "https://localhost:8080/"
        },
        "id": "YyIEA5INHZC3",
        "outputId": "93952aa6-473a-450e-d469-d174c155666f"
      },
      "execution_count": null,
      "outputs": [
        {
          "output_type": "stream",
          "name": "stdout",
          "text": [
            "retention string exists in file\n",
            "Line Number: 50\n",
            "Line: What is our data retention policy?\n",
            "\n"
          ]
        }
      ]
    },
    {
      "cell_type": "markdown",
      "source": [
        "Mastodon also provides the data retention policy in line 50. The document provides retention period for server logs and IP address. \n",
        "\n",
        "Both Twitter and Mastodon fulfill the fifth requirement. "
      ],
      "metadata": {
        "id": "6IbMQKoaRcU3"
      }
    },
    {
      "cell_type": "markdown",
      "source": [
        "Question 6: What measures are taken to protect and secure the data? \"Protect\" is used as a search term."
      ],
      "metadata": {
        "id": "tvlywA1VSMM4"
      }
    },
    {
      "cell_type": "code",
      "source": [
        "word = 'protect'\n",
        "with open(r'twitter.txt', 'r') as twitter:\n",
        "    # read all lines in a list\n",
        "    lines = twitter.readlines()\n",
        "    for line in lines:\n",
        "        # check if string present on a current line\n",
        "        if line.find(word) != -1:\n",
        "            print(word, 'string exists in file')\n",
        "            print('Line Number:', lines.index(line))\n",
        "            print('Line:', line)"
      ],
      "metadata": {
        "colab": {
          "base_uri": "https://localhost:8080/"
        },
        "id": "Wn-zrXA3RtpD",
        "outputId": "f071ac6c-1997-40a6-8cd6-1934c30395f6"
      },
      "execution_count": null,
      "outputs": [
        {
          "output_type": "stream",
          "name": "stdout",
          "text": [
            "protect string exists in file\n",
            "Line Number: 256\n",
            "Line: or protected Tweets with someone else who accesses Twitter through \n",
            "\n",
            "protect string exists in file\n",
            "Line Number: 313\n",
            "Line: protect the safety of any person, protect the safety or integrity of our platform, \n",
            "\n",
            "protect string exists in file\n",
            "Line Number: 321\n",
            "Line: protect our rights or property, or the rights or property of those who use \n",
            "\n",
            "protect string exists in file\n",
            "Line Number: 371\n",
            "Line: To protect your privacy and maintain security, we take steps to verify your identity \n",
            "\n",
            "protect string exists in file\n",
            "Line Number: 430\n",
            "Line: contractual clauses, where applicable, to ensure your data rights are protected. \n",
            "\n",
            "protect string exists in file\n",
            "Line Number: 432\n",
            "Line: protections over your data that we provide directly.\n",
            "\n"
          ]
        }
      ]
    },
    {
      "cell_type": "markdown",
      "source": [
        "Although line 371 mention protecting and securing privacy, there is no specific mention on how. Same for line 432, when data is shared with third parties, where Twitter requires them to protect the data but with no mention of how. "
      ],
      "metadata": {
        "id": "CQHpdwmETKRV"
      }
    },
    {
      "cell_type": "code",
      "source": [
        "word = 'protect'\n",
        "with open(r'mastodon.txt', 'r') as mastodon:\n",
        "    # read all lines in a list\n",
        "    lines = mastodon.readlines()\n",
        "    for line in lines:\n",
        "        # check if string present on a current line\n",
        "        if line.find(word) != -1:\n",
        "            print(word, 'string exists in file')\n",
        "            print('Line Number:', lines.index(line))\n",
        "            print('Line:', line)"
      ],
      "metadata": {
        "colab": {
          "base_uri": "https://localhost:8080/"
        },
        "id": "MMx0-PSDRuG2",
        "outputId": "94f095a6-fbc9-475a-fe80-4fa3823cd091"
      },
      "execution_count": null,
      "outputs": [
        {
          "output_type": "stream",
          "name": "stdout",
          "text": [
            "protect string exists in file\n",
            "Line Number: 6\n",
            "Line: This privacy policy describes how mastodon.social (\"mastodon.social\", \"we\", \"us\") collects, protects and\n",
            "\n",
            "protect string exists in file\n",
            "Line Number: 44\n",
            "Line: How do we protect your information?\n",
            "\n",
            "protect string exists in file\n",
            "Line Number: 80\n",
            "Line: or protect ours or others rights, property, or safety.\n",
            "\n"
          ]
        }
      ]
    },
    {
      "cell_type": "markdown",
      "source": [
        "Line 44 provides the section on how Mastodon protect user information. \n",
        "\n",
        "This section mentions security measures such as hashing.\n",
        "\n",
        "Only Mastodon fulfills the 6th requirement. "
      ],
      "metadata": {
        "id": "ArRb5TWoS38f"
      }
    },
    {
      "cell_type": "markdown",
      "source": [
        "Last question: who has access to the data? 'share' and 'transfer' are used as search terms."
      ],
      "metadata": {
        "id": "Q4pFwt6XM1jY"
      }
    },
    {
      "cell_type": "code",
      "source": [
        "word = 'share'\n",
        "with open(r'twitter.txt', 'r') as twitter:\n",
        "    # read all lines in a list\n",
        "    lines = twitter.readlines()\n",
        "    for line in lines:\n",
        "        # check if string present on a current line\n",
        "        if line.find(word) != -1:\n",
        "            print(word, 'string exists in file')\n",
        "            print('Line Number:', lines.index(line))\n",
        "            print('Line:', line)"
      ],
      "metadata": {
        "colab": {
          "base_uri": "https://localhost:8080/"
        },
        "id": "KYCMah0FStC8",
        "outputId": "5e662ed0-1d3b-4240-f539-4926ca1473cb"
      },
      "execution_count": null,
      "outputs": [
        {
          "output_type": "stream",
          "name": "stdout",
          "text": [
            "share string exists in file\n",
            "Line Number: 17\n",
            "Line: when it’s shared. \n",
            "\n",
            "share string exists in file\n",
            "Line Number: 50\n",
            "Line: choose to share your location in your profile and Tweets, and to upload \n",
            "\n",
            "share string exists in file\n",
            "Line Number: 86\n",
            "Line: Your interactions with other users’ content, such as retweets, likes, shares, \n",
            "\n",
            "share string exists in file\n",
            "Line Number: 114\n",
            "Line: Your device address book, if you’ve chosen to share it with us.\n",
            "\n",
            "share string exists in file\n",
            "Line Number: 117\n",
            "Line: you relevant ads. You can also choose to share your current precise location or \n",
            "\n",
            "share string exists in file\n",
            "Line Number: 133\n",
            "Line: account with hashes of email addresses that share common components \n",
            "\n",
            "share string exists in file\n",
            "Line Number: 164\n",
            "Line: When you use other online products and services, they may share information \n",
            "\n",
            "share string exists in file\n",
            "Line Number: 166\n",
            "Line: Ad Partners, Developers, Publishers. Our ad and business partners share \n",
            "\n",
            "share string exists in file\n",
            "Line Number: 172\n",
            "Line: technology. Information shared by ad partners and affiliates or collected \n",
            "\n",
            "share string exists in file\n",
            "Line Number: 174\n",
            "Line: combined with the other information you share with Twitter and that Twitter \n",
            "\n",
            "share string exists in file\n",
            "Line Number: 211\n",
            "Line: \fInformation shared by ad partners and affiliates or collected by Twitter from \n",
            "\n",
            "share string exists in file\n",
            "Line Number: 213\n",
            "Line: other information you share with Twitter and that Twitter receives, generates, \n",
            "\n",
            "share string exists in file\n",
            "Line Number: 234\n",
            "Line: We use information you share with us, or that we collect to conduct research, \n",
            "\n",
            "share string exists in file\n",
            "Line Number: 239\n",
            "Line: You should know the ways we share your information, why we share it, and how \n",
            "\n",
            "share string exists in file\n",
            "Line Number: 240\n",
            "Line: you can control it. There are five general ways we share your information.\n",
            "\n",
            "share string exists in file\n",
            "Line Number: 241\n",
            "Line: 3.1 When you Tweet, post, and share.\n",
            "\n",
            "share string exists in file\n",
            "Line Number: 249\n",
            "Line: Twitter products and services you use, we share:\n",
            "\n",
            "share string exists in file\n",
            "Line Number: 255\n",
            "Line: Please keep in mind that if you’ve shared information like Direct Messages \n",
            "\n",
            "share string exists in file\n",
            "Line Number: 257\n",
            "Line: a third-party service, the information may be shared with the third-party \n",
            "\n",
            "share string exists in file\n",
            "Line Number: 259\n",
            "Line: How or when do you share my information?\n",
            "\n",
            "share string exists in file\n",
            "Line Number: 265\n",
            "Line: You can control whether Twitter shares your personal information with these \n",
            "\n",
            "share string exists in file\n",
            "Line Number: 268\n",
            "Line: elsewhere in this Privacy Policy, such as when we share information with \n",
            "\n",
            "share string exists in file\n",
            "Line Number: 273\n",
            "Line: With service providers. We may share your information with our service \n",
            "\n",
            "share string exists in file\n",
            "Line Number: 286\n",
            "Line: Third-party content & integrations. We share or disclose your information \n",
            "\n",
            "share string exists in file\n",
            "Line Number: 289\n",
            "Line: to share your feedback with a business. Similarly, to improve your experience, \n",
            "\n",
            "share string exists in file\n",
            "Line Number: 308\n",
            "Line: We may preserve, use, share, or disclose your information if we believe that \n",
            "\n",
            "share string exists in file\n",
            "Line Number: 324\n",
            "Line: We may share information amongst our affiliates to provide our products \n",
            "\n",
            "share string exists in file\n",
            "Line Number: 327\n",
            "Line: We may share, sell, or transfer information about you in connection with \n",
            "\n",
            "share string exists in file\n",
            "Line Number: 329\n",
            "Line: Policy will apply to your personal information that is shared with (before and after \n",
            "\n",
            "share string exists in file\n",
            "Line Number: 410\n",
            "Line: use, share and otherwise process your information. If you want to dig in to learn \n",
            "\n",
            "share string exists in file\n",
            "Line Number: 431\n",
            "Line: If data will be shared with a third party, we require them to maintain the same \n",
            "\n"
          ]
        }
      ]
    },
    {
      "cell_type": "code",
      "source": [
        "word = 'transfer'\n",
        "with open(r'twitter.txt', 'r') as twitter:\n",
        "    # read all lines in a list\n",
        "    lines = twitter.readlines()\n",
        "    for line in lines:\n",
        "        # check if string present on a current line\n",
        "        if line.find(word) != -1:\n",
        "            print(word, 'string exists in file')\n",
        "            print('Line Number:', lines.index(line))\n",
        "            print('Line:', line)"
      ],
      "metadata": {
        "colab": {
          "base_uri": "https://localhost:8080/"
        },
        "id": "64LTCey2KSXu",
        "outputId": "e7349759-c1a2-452c-f981-d1320247524a"
      },
      "execution_count": null,
      "outputs": [
        {
          "output_type": "stream",
          "name": "stdout",
          "text": [
            "transfer string exists in file\n",
            "Line Number: 327\n",
            "Line: We may share, sell, or transfer information about you in connection with \n",
            "\n",
            "transfer string exists in file\n",
            "Line Number: 330\n",
            "Line: the close of any transaction) or transferred to the new entity.\n",
            "\n"
          ]
        }
      ]
    },
    {
      "cell_type": "markdown",
      "source": [
        "There are many mentions of sharing and transferring data in the Twitter document. Thus, Twitter fulfills the requirement. "
      ],
      "metadata": {
        "id": "gcEi37bhU8Fg"
      }
    },
    {
      "cell_type": "code",
      "source": [
        "word = 'share'\n",
        "with open(r'mastodon.txt', 'r') as mastodon:\n",
        "    # read all lines in a list\n",
        "    lines = mastodon.readlines()\n",
        "    for line in lines:\n",
        "        # check if string present on a current line\n",
        "        if line.find(word) != -1:\n",
        "            print(word, 'string exists in file')\n",
        "            print('Line Number:', lines.index(line))\n",
        "            print('Line:', line)"
      ],
      "metadata": {
        "colab": {
          "base_uri": "https://localhost:8080/"
        },
        "id": "wOKByr-gJliS",
        "outputId": "0e67a039-42cf-4150-9d3f-dc31061a2901"
      },
      "execution_count": null,
      "outputs": [
        {
          "output_type": "stream",
          "name": "stdout",
          "text": [
            "share string exists in file\n",
            "Line Number: 32\n",
            "Line: server may view such messages, and that recipients may screenshot, copy or otherwise re-share\n",
            "\n",
            "share string exists in file\n",
            "Line Number: 33\n",
            "Line: them. Do not share any sensitive information over Mastodon.\n",
            "\n"
          ]
        }
      ]
    },
    {
      "cell_type": "code",
      "source": [
        "word = 'transfer'\n",
        "with open(r'mastodon.txt', 'r') as mastodon:\n",
        "    # read all lines in a list\n",
        "    lines = mastodon.readlines()\n",
        "    for line in lines:\n",
        "        # check if string present on a current line\n",
        "        if line.find(word) != -1:\n",
        "            print(word, 'string exists in file')\n",
        "            print('Line Number:', lines.index(line))\n",
        "            print('Line:', line)"
      ],
      "metadata": {
        "colab": {
          "base_uri": "https://localhost:8080/"
        },
        "id": "19ZKNmnBKVvW",
        "outputId": "1225acb1-3596-45b8-ba79-3634a48bfae2"
      },
      "execution_count": null,
      "outputs": [
        {
          "output_type": "stream",
          "name": "stdout",
          "text": [
            "transfer string exists in file\n",
            "Line Number: 56\n",
            "Line: Yes. Cookies are small ﬁles that a site or its service provider transfers to your computer's hard drive\n",
            "\n",
            "transfer string exists in file\n",
            "Line Number: 76\n",
            "Line: We do not sell, trade, or otherwise transfer to outside parties your personally identiﬁable information. This\n",
            "\n"
          ]
        }
      ]
    },
    {
      "cell_type": "markdown",
      "source": [
        "Line 76 provides that Mastodon does not \"sell, trade or otherwise transfer to outside parties your personally identifiable information.\"\n",
        "\n",
        "Both Twitter and Mastodon fulfill the requirement of mentioning who has access to user data.\n",
        "\n",
        "For the first part of the analysis, both Twitter and Mastodon lack clarity on certain questions and need improvement on their policy. "
      ],
      "metadata": {
        "id": "tl5Gfze3UMUa"
      }
    },
    {
      "cell_type": "markdown",
      "source": [
        "## Search for Technical Jargon\n",
        "\n",
        "Prior to cleaning up the data, spacy library is used to search abbreviations in the document and check whether abbreviations are written out to avoid confusion.\n",
        "\n",
        "Spacy library will be used for this analysis. The folllwing script is adapted from [allenai Github](https://https://github.com/allenai/scispacy)."
      ],
      "metadata": {
        "id": "jJk_6lzAVGG6"
      }
    },
    {
      "cell_type": "markdown",
      "source": [
        "First, install scispacy"
      ],
      "metadata": {
        "id": "06SQ8T7-Vx6n"
      }
    },
    {
      "cell_type": "code",
      "source": [
        "pip install scispacy"
      ],
      "metadata": {
        "colab": {
          "base_uri": "https://localhost:8080/"
        },
        "id": "SVYrTWLYsvLD",
        "outputId": "3fe2d4d0-b5b9-47ed-9b0c-5d6d089a909e"
      },
      "execution_count": null,
      "outputs": [
        {
          "output_type": "stream",
          "name": "stdout",
          "text": [
            "Looking in indexes: https://pypi.org/simple, https://us-python.pkg.dev/colab-wheels/public/simple/\n",
            "Collecting scispacy\n",
            "  Downloading scispacy-0.5.1-py3-none-any.whl (44 kB)\n",
            "\u001b[2K     \u001b[90m━━━━━━━━━━━━━━━━━━━━━━━━━━━━━━━━━━━━━━━━\u001b[0m \u001b[32m44.9/44.9 kB\u001b[0m \u001b[31m5.1 MB/s\u001b[0m eta \u001b[36m0:00:00\u001b[0m\n",
            "\u001b[?25hRequirement already satisfied: joblib in /usr/local/lib/python3.9/dist-packages (from scispacy) (1.2.0)\n",
            "Requirement already satisfied: requests<3.0.0,>=2.0.0 in /usr/local/lib/python3.9/dist-packages (from scispacy) (2.27.1)\n",
            "Collecting conllu\n",
            "  Downloading conllu-4.5.2-py2.py3-none-any.whl (16 kB)\n",
            "Requirement already satisfied: scikit-learn>=0.20.3 in /usr/local/lib/python3.9/dist-packages (from scispacy) (1.2.2)\n",
            "Collecting pysbd\n",
            "  Downloading pysbd-0.3.4-py3-none-any.whl (71 kB)\n",
            "\u001b[2K     \u001b[90m━━━━━━━━━━━━━━━━━━━━━━━━━━━━━━━━━━━━━━━━\u001b[0m \u001b[32m71.1/71.1 kB\u001b[0m \u001b[31m7.9 MB/s\u001b[0m eta \u001b[36m0:00:00\u001b[0m\n",
            "\u001b[?25hCollecting nmslib>=1.7.3.6\n",
            "  Downloading nmslib-2.1.1-cp39-cp39-manylinux2010_x86_64.whl (13.3 MB)\n",
            "\u001b[2K     \u001b[90m━━━━━━━━━━━━━━━━━━━━━━━━━━━━━━━━━━━━━━━━\u001b[0m \u001b[32m13.3/13.3 MB\u001b[0m \u001b[31m48.0 MB/s\u001b[0m eta \u001b[36m0:00:00\u001b[0m\n",
            "\u001b[?25hCollecting spacy<3.5.0,>=3.4.0\n",
            "  Downloading spacy-3.4.4-cp39-cp39-manylinux_2_17_x86_64.manylinux2014_x86_64.whl (6.5 MB)\n",
            "\u001b[2K     \u001b[90m━━━━━━━━━━━━━━━━━━━━━━━━━━━━━━━━━━━━━━━━\u001b[0m \u001b[32m6.5/6.5 MB\u001b[0m \u001b[31m58.8 MB/s\u001b[0m eta \u001b[36m0:00:00\u001b[0m\n",
            "\u001b[?25hRequirement already satisfied: numpy in /usr/local/lib/python3.9/dist-packages (from scispacy) (1.22.4)\n",
            "Collecting pybind11<2.6.2\n",
            "  Downloading pybind11-2.6.1-py2.py3-none-any.whl (188 kB)\n",
            "\u001b[2K     \u001b[90m━━━━━━━━━━━━━━━━━━━━━━━━━━━━━━━━━━━━━━\u001b[0m \u001b[32m188.5/188.5 kB\u001b[0m \u001b[31m19.9 MB/s\u001b[0m eta \u001b[36m0:00:00\u001b[0m\n",
            "\u001b[?25hRequirement already satisfied: psutil in /usr/local/lib/python3.9/dist-packages (from nmslib>=1.7.3.6->scispacy) (5.9.5)\n",
            "Requirement already satisfied: certifi>=2017.4.17 in /usr/local/lib/python3.9/dist-packages (from requests<3.0.0,>=2.0.0->scispacy) (2022.12.7)\n",
            "Requirement already satisfied: urllib3<1.27,>=1.21.1 in /usr/local/lib/python3.9/dist-packages (from requests<3.0.0,>=2.0.0->scispacy) (1.26.15)\n",
            "Requirement already satisfied: charset-normalizer~=2.0.0 in /usr/local/lib/python3.9/dist-packages (from requests<3.0.0,>=2.0.0->scispacy) (2.0.12)\n",
            "Requirement already satisfied: idna<4,>=2.5 in /usr/local/lib/python3.9/dist-packages (from requests<3.0.0,>=2.0.0->scispacy) (3.4)\n",
            "Requirement already satisfied: scipy>=1.3.2 in /usr/local/lib/python3.9/dist-packages (from scikit-learn>=0.20.3->scispacy) (1.10.1)\n",
            "Requirement already satisfied: threadpoolctl>=2.0.0 in /usr/local/lib/python3.9/dist-packages (from scikit-learn>=0.20.3->scispacy) (3.1.0)\n",
            "Requirement already satisfied: pydantic!=1.8,!=1.8.1,<1.11.0,>=1.7.4 in /usr/local/lib/python3.9/dist-packages (from spacy<3.5.0,>=3.4.0->scispacy) (1.10.7)\n",
            "Requirement already satisfied: cymem<2.1.0,>=2.0.2 in /usr/local/lib/python3.9/dist-packages (from spacy<3.5.0,>=3.4.0->scispacy) (2.0.7)\n",
            "Collecting wasabi<1.1.0,>=0.9.1\n",
            "  Downloading wasabi-0.10.1-py3-none-any.whl (26 kB)\n",
            "Requirement already satisfied: setuptools in /usr/local/lib/python3.9/dist-packages (from spacy<3.5.0,>=3.4.0->scispacy) (67.7.2)\n",
            "Requirement already satisfied: smart-open<7.0.0,>=5.2.1 in /usr/local/lib/python3.9/dist-packages (from spacy<3.5.0,>=3.4.0->scispacy) (6.3.0)\n",
            "Requirement already satisfied: thinc<8.2.0,>=8.1.0 in /usr/local/lib/python3.9/dist-packages (from spacy<3.5.0,>=3.4.0->scispacy) (8.1.9)\n",
            "Requirement already satisfied: langcodes<4.0.0,>=3.2.0 in /usr/local/lib/python3.9/dist-packages (from spacy<3.5.0,>=3.4.0->scispacy) (3.3.0)\n",
            "Requirement already satisfied: spacy-loggers<2.0.0,>=1.0.0 in /usr/local/lib/python3.9/dist-packages (from spacy<3.5.0,>=3.4.0->scispacy) (1.0.4)\n",
            "Requirement already satisfied: packaging>=20.0 in /usr/local/lib/python3.9/dist-packages (from spacy<3.5.0,>=3.4.0->scispacy) (23.1)\n",
            "Requirement already satisfied: preshed<3.1.0,>=3.0.2 in /usr/local/lib/python3.9/dist-packages (from spacy<3.5.0,>=3.4.0->scispacy) (3.0.8)\n",
            "Requirement already satisfied: murmurhash<1.1.0,>=0.28.0 in /usr/local/lib/python3.9/dist-packages (from spacy<3.5.0,>=3.4.0->scispacy) (1.0.9)\n",
            "Requirement already satisfied: jinja2 in /usr/local/lib/python3.9/dist-packages (from spacy<3.5.0,>=3.4.0->scispacy) (3.1.2)\n",
            "Requirement already satisfied: tqdm<5.0.0,>=4.38.0 in /usr/local/lib/python3.9/dist-packages (from spacy<3.5.0,>=3.4.0->scispacy) (4.65.0)\n",
            "Requirement already satisfied: srsly<3.0.0,>=2.4.3 in /usr/local/lib/python3.9/dist-packages (from spacy<3.5.0,>=3.4.0->scispacy) (2.4.6)\n",
            "Requirement already satisfied: pathy>=0.3.5 in /usr/local/lib/python3.9/dist-packages (from spacy<3.5.0,>=3.4.0->scispacy) (0.10.1)\n",
            "Requirement already satisfied: spacy-legacy<3.1.0,>=3.0.10 in /usr/local/lib/python3.9/dist-packages (from spacy<3.5.0,>=3.4.0->scispacy) (3.0.12)\n",
            "Requirement already satisfied: typer<0.8.0,>=0.3.0 in /usr/local/lib/python3.9/dist-packages (from spacy<3.5.0,>=3.4.0->scispacy) (0.7.0)\n",
            "Requirement already satisfied: catalogue<2.1.0,>=2.0.6 in /usr/local/lib/python3.9/dist-packages (from spacy<3.5.0,>=3.4.0->scispacy) (2.0.8)\n",
            "Requirement already satisfied: typing-extensions>=4.2.0 in /usr/local/lib/python3.9/dist-packages (from pydantic!=1.8,!=1.8.1,<1.11.0,>=1.7.4->spacy<3.5.0,>=3.4.0->scispacy) (4.5.0)\n",
            "Requirement already satisfied: confection<1.0.0,>=0.0.1 in /usr/local/lib/python3.9/dist-packages (from thinc<8.2.0,>=8.1.0->spacy<3.5.0,>=3.4.0->scispacy) (0.0.4)\n",
            "Requirement already satisfied: blis<0.8.0,>=0.7.8 in /usr/local/lib/python3.9/dist-packages (from thinc<8.2.0,>=8.1.0->spacy<3.5.0,>=3.4.0->scispacy) (0.7.9)\n",
            "Requirement already satisfied: click<9.0.0,>=7.1.1 in /usr/local/lib/python3.9/dist-packages (from typer<0.8.0,>=0.3.0->spacy<3.5.0,>=3.4.0->scispacy) (8.1.3)\n",
            "Requirement already satisfied: MarkupSafe>=2.0 in /usr/local/lib/python3.9/dist-packages (from jinja2->spacy<3.5.0,>=3.4.0->scispacy) (2.1.2)\n",
            "Installing collected packages: wasabi, pysbd, pybind11, conllu, nmslib, spacy, scispacy\n",
            "  Attempting uninstall: wasabi\n",
            "    Found existing installation: wasabi 1.1.1\n",
            "    Uninstalling wasabi-1.1.1:\n",
            "      Successfully uninstalled wasabi-1.1.1\n",
            "  Attempting uninstall: spacy\n",
            "    Found existing installation: spacy 3.5.2\n",
            "    Uninstalling spacy-3.5.2:\n",
            "      Successfully uninstalled spacy-3.5.2\n",
            "\u001b[31mERROR: pip's dependency resolver does not currently take into account all the packages that are installed. This behaviour is the source of the following dependency conflicts.\n",
            "en-core-web-sm 3.5.0 requires spacy<3.6.0,>=3.5.0, but you have spacy 3.4.4 which is incompatible.\u001b[0m\u001b[31m\n",
            "\u001b[0mSuccessfully installed conllu-4.5.2 nmslib-2.1.1 pybind11-2.6.1 pysbd-0.3.4 scispacy-0.5.1 spacy-3.4.4 wasabi-0.10.1\n"
          ]
        }
      ]
    },
    {
      "cell_type": "code",
      "source": [
        "pip install https://s3-us-west-2.amazonaws.com/ai2-s2-scispacy/releases/v0.5.1/en_core_sci_sm-0.5.1.tar.gz"
      ],
      "metadata": {
        "colab": {
          "base_uri": "https://localhost:8080/"
        },
        "id": "1ExTH6Nhs8uT",
        "outputId": "19cf97c5-d59d-4024-e6f9-c63bd473fe46"
      },
      "execution_count": null,
      "outputs": [
        {
          "output_type": "stream",
          "name": "stdout",
          "text": [
            "Looking in indexes: https://pypi.org/simple, https://us-python.pkg.dev/colab-wheels/public/simple/\n",
            "Collecting https://s3-us-west-2.amazonaws.com/ai2-s2-scispacy/releases/v0.5.1/en_core_sci_sm-0.5.1.tar.gz\n",
            "  Downloading https://s3-us-west-2.amazonaws.com/ai2-s2-scispacy/releases/v0.5.1/en_core_sci_sm-0.5.1.tar.gz (15.9 MB)\n",
            "\u001b[2K     \u001b[90m━━━━━━━━━━━━━━━━━━━━━━━━━━━━━━━━━━━━━━━━\u001b[0m \u001b[32m15.9/15.9 MB\u001b[0m \u001b[31m13.2 MB/s\u001b[0m eta \u001b[36m0:00:00\u001b[0m\n",
            "\u001b[?25h  Preparing metadata (setup.py) ... \u001b[?25l\u001b[?25hdone\n",
            "Requirement already satisfied: spacy<3.5.0,>=3.4.1 in /usr/local/lib/python3.9/dist-packages (from en-core-sci-sm==0.5.1) (3.4.4)\n",
            "Requirement already satisfied: wasabi<1.1.0,>=0.9.1 in /usr/local/lib/python3.9/dist-packages (from spacy<3.5.0,>=3.4.1->en-core-sci-sm==0.5.1) (0.10.1)\n",
            "Requirement already satisfied: tqdm<5.0.0,>=4.38.0 in /usr/local/lib/python3.9/dist-packages (from spacy<3.5.0,>=3.4.1->en-core-sci-sm==0.5.1) (4.65.0)\n",
            "Requirement already satisfied: pathy>=0.3.5 in /usr/local/lib/python3.9/dist-packages (from spacy<3.5.0,>=3.4.1->en-core-sci-sm==0.5.1) (0.10.1)\n",
            "Requirement already satisfied: srsly<3.0.0,>=2.4.3 in /usr/local/lib/python3.9/dist-packages (from spacy<3.5.0,>=3.4.1->en-core-sci-sm==0.5.1) (2.4.6)\n",
            "Requirement already satisfied: cymem<2.1.0,>=2.0.2 in /usr/local/lib/python3.9/dist-packages (from spacy<3.5.0,>=3.4.1->en-core-sci-sm==0.5.1) (2.0.7)\n",
            "Requirement already satisfied: setuptools in /usr/local/lib/python3.9/dist-packages (from spacy<3.5.0,>=3.4.1->en-core-sci-sm==0.5.1) (67.7.2)\n",
            "Requirement already satisfied: pydantic!=1.8,!=1.8.1,<1.11.0,>=1.7.4 in /usr/local/lib/python3.9/dist-packages (from spacy<3.5.0,>=3.4.1->en-core-sci-sm==0.5.1) (1.10.7)\n",
            "Requirement already satisfied: langcodes<4.0.0,>=3.2.0 in /usr/local/lib/python3.9/dist-packages (from spacy<3.5.0,>=3.4.1->en-core-sci-sm==0.5.1) (3.3.0)\n",
            "Requirement already satisfied: preshed<3.1.0,>=3.0.2 in /usr/local/lib/python3.9/dist-packages (from spacy<3.5.0,>=3.4.1->en-core-sci-sm==0.5.1) (3.0.8)\n",
            "Requirement already satisfied: spacy-legacy<3.1.0,>=3.0.10 in /usr/local/lib/python3.9/dist-packages (from spacy<3.5.0,>=3.4.1->en-core-sci-sm==0.5.1) (3.0.12)\n",
            "Requirement already satisfied: smart-open<7.0.0,>=5.2.1 in /usr/local/lib/python3.9/dist-packages (from spacy<3.5.0,>=3.4.1->en-core-sci-sm==0.5.1) (6.3.0)\n",
            "Requirement already satisfied: typer<0.8.0,>=0.3.0 in /usr/local/lib/python3.9/dist-packages (from spacy<3.5.0,>=3.4.1->en-core-sci-sm==0.5.1) (0.7.0)\n",
            "Requirement already satisfied: numpy>=1.15.0 in /usr/local/lib/python3.9/dist-packages (from spacy<3.5.0,>=3.4.1->en-core-sci-sm==0.5.1) (1.22.4)\n",
            "Requirement already satisfied: thinc<8.2.0,>=8.1.0 in /usr/local/lib/python3.9/dist-packages (from spacy<3.5.0,>=3.4.1->en-core-sci-sm==0.5.1) (8.1.9)\n",
            "Requirement already satisfied: requests<3.0.0,>=2.13.0 in /usr/local/lib/python3.9/dist-packages (from spacy<3.5.0,>=3.4.1->en-core-sci-sm==0.5.1) (2.27.1)\n",
            "Requirement already satisfied: jinja2 in /usr/local/lib/python3.9/dist-packages (from spacy<3.5.0,>=3.4.1->en-core-sci-sm==0.5.1) (3.1.2)\n",
            "Requirement already satisfied: murmurhash<1.1.0,>=0.28.0 in /usr/local/lib/python3.9/dist-packages (from spacy<3.5.0,>=3.4.1->en-core-sci-sm==0.5.1) (1.0.9)\n",
            "Requirement already satisfied: spacy-loggers<2.0.0,>=1.0.0 in /usr/local/lib/python3.9/dist-packages (from spacy<3.5.0,>=3.4.1->en-core-sci-sm==0.5.1) (1.0.4)\n",
            "Requirement already satisfied: catalogue<2.1.0,>=2.0.6 in /usr/local/lib/python3.9/dist-packages (from spacy<3.5.0,>=3.4.1->en-core-sci-sm==0.5.1) (2.0.8)\n",
            "Requirement already satisfied: packaging>=20.0 in /usr/local/lib/python3.9/dist-packages (from spacy<3.5.0,>=3.4.1->en-core-sci-sm==0.5.1) (23.1)\n",
            "Requirement already satisfied: typing-extensions>=4.2.0 in /usr/local/lib/python3.9/dist-packages (from pydantic!=1.8,!=1.8.1,<1.11.0,>=1.7.4->spacy<3.5.0,>=3.4.1->en-core-sci-sm==0.5.1) (4.5.0)\n",
            "Requirement already satisfied: idna<4,>=2.5 in /usr/local/lib/python3.9/dist-packages (from requests<3.0.0,>=2.13.0->spacy<3.5.0,>=3.4.1->en-core-sci-sm==0.5.1) (3.4)\n",
            "Requirement already satisfied: urllib3<1.27,>=1.21.1 in /usr/local/lib/python3.9/dist-packages (from requests<3.0.0,>=2.13.0->spacy<3.5.0,>=3.4.1->en-core-sci-sm==0.5.1) (1.26.15)\n",
            "Requirement already satisfied: charset-normalizer~=2.0.0 in /usr/local/lib/python3.9/dist-packages (from requests<3.0.0,>=2.13.0->spacy<3.5.0,>=3.4.1->en-core-sci-sm==0.5.1) (2.0.12)\n",
            "Requirement already satisfied: certifi>=2017.4.17 in /usr/local/lib/python3.9/dist-packages (from requests<3.0.0,>=2.13.0->spacy<3.5.0,>=3.4.1->en-core-sci-sm==0.5.1) (2022.12.7)\n",
            "Requirement already satisfied: blis<0.8.0,>=0.7.8 in /usr/local/lib/python3.9/dist-packages (from thinc<8.2.0,>=8.1.0->spacy<3.5.0,>=3.4.1->en-core-sci-sm==0.5.1) (0.7.9)\n",
            "Requirement already satisfied: confection<1.0.0,>=0.0.1 in /usr/local/lib/python3.9/dist-packages (from thinc<8.2.0,>=8.1.0->spacy<3.5.0,>=3.4.1->en-core-sci-sm==0.5.1) (0.0.4)\n",
            "Requirement already satisfied: click<9.0.0,>=7.1.1 in /usr/local/lib/python3.9/dist-packages (from typer<0.8.0,>=0.3.0->spacy<3.5.0,>=3.4.1->en-core-sci-sm==0.5.1) (8.1.3)\n",
            "Requirement already satisfied: MarkupSafe>=2.0 in /usr/local/lib/python3.9/dist-packages (from jinja2->spacy<3.5.0,>=3.4.1->en-core-sci-sm==0.5.1) (2.1.2)\n",
            "Building wheels for collected packages: en-core-sci-sm\n",
            "  Building wheel for en-core-sci-sm (setup.py) ... \u001b[?25l\u001b[?25hdone\n",
            "  Created wheel for en-core-sci-sm: filename=en_core_sci_sm-0.5.1-py3-none-any.whl size=15870871 sha256=58d4c7f2ff03917d731afcc4c0c91b868d18c02293ba8a3f3898fec4937cbf8b\n",
            "  Stored in directory: /root/.cache/pip/wheels/f5/2e/39/9c9d425a1d34c06409420f7c65c5e10a56f7b149a3c37cdfa6\n",
            "Successfully built en-core-sci-sm\n",
            "Installing collected packages: en-core-sci-sm\n",
            "Successfully installed en-core-sci-sm-0.5.1\n"
          ]
        }
      ]
    },
    {
      "cell_type": "markdown",
      "source": [
        "Create variables for the twitter and mastodon text files."
      ],
      "metadata": {
        "id": "fiekXAwlV999"
      }
    },
    {
      "cell_type": "code",
      "source": [
        "file = open(\"twitter.txt\", 'r')\n",
        "print(file)\n",
        "content = file.read()\n",
        "\n",
        "file2 = open(\"mastodon.txt\", 'r')\n",
        "print(file2)\n",
        "content2 = file2.read()"
      ],
      "metadata": {
        "colab": {
          "base_uri": "https://localhost:8080/"
        },
        "id": "Dh1laCSQtRGa",
        "outputId": "8386a592-9117-4a1b-eb16-2076ee6680b1"
      },
      "execution_count": null,
      "outputs": [
        {
          "output_type": "stream",
          "name": "stdout",
          "text": [
            "<_io.TextIOWrapper name='twitter.txt' mode='r' encoding='UTF-8'>\n",
            "<_io.TextIOWrapper name='mastodon.txt' mode='r' encoding='UTF-8'>\n"
          ]
        }
      ]
    },
    {
      "cell_type": "markdown",
      "source": [
        "Import spacy and using the \"en_core_sci_sm\" dictionary, look for abbreviations in the document and find written out terms/definition in the document.\n",
        "\n",
        "First is the Twitter document."
      ],
      "metadata": {
        "id": "lde2dngpua0v"
      }
    },
    {
      "cell_type": "code",
      "source": [
        "import spacy\n",
        "from scispacy.abbreviation import AbbreviationDetector\n",
        "\n",
        "nlp = spacy.load(\"en_core_sci_sm\")\n",
        "\n",
        "# Add the abbreviation pipe to the spacy pipeline.\n",
        "nlp.add_pipe(\"abbreviation_detector\")\n",
        "\n",
        "doc = nlp(content)\n",
        "\n",
        "print(\"Abbreviation\", \"\\t\", \"Definition\")\n",
        "for abrv in doc._.abbreviations:\n",
        "\tprint(f\"{abrv} \\t ({abrv.start}, {abrv.end}) {abrv._.long_form}\")"
      ],
      "metadata": {
        "colab": {
          "base_uri": "https://localhost:8080/"
        },
        "id": "JXXbVxQEtYlH",
        "outputId": "80f8ed6c-48b9-43c4-b747-43bd6ee6079a"
      },
      "execution_count": null,
      "outputs": [
        {
          "output_type": "stream",
          "name": "stdout",
          "text": [
            "Abbreviation \t Definition\n",
            "here \t (1688, 1689) here\n",
            "here \t (4118, 4119) here\n",
            "here \t (4270, 4271) here\n",
            "here \t (4094, 4095) here\n",
            "here \t (4275, 4276) here\n",
            "here \t (3927, 3928) here\n",
            "here \t (4371, 4372) here\n",
            "here \t (4150, 4151) here\n"
          ]
        }
      ]
    },
    {
      "cell_type": "markdown",
      "source": [
        "Twitter has abbreviations but does not seem to show on the result. After manually searching through the file, there were references to the Digital Advertising Alliance (DAA) and EFTA, among others. However, certain terms such as EFTA, assumed to refer to the European Free Trade Association, wer not defined in the document."
      ],
      "metadata": {
        "id": "ry6AS_Q-W5YY"
      }
    },
    {
      "cell_type": "code",
      "source": [
        "import spacy\n",
        "from scispacy.abbreviation import AbbreviationDetector\n",
        "\n",
        "nlp = spacy.load(\"en_core_sci_sm\")\n",
        "\n",
        "# Add the abbreviation pipe to the spacy pipeline.\n",
        "nlp.add_pipe(\"abbreviation_detector\")\n",
        "\n",
        "doc = nlp(content2)\n",
        "\n",
        "print(\"Abbreviation\", \"\\t\", \"Definition\")\n",
        "for abrv in doc._.abbreviations:\n",
        "\tprint(f\"{abrv} \\t ({abrv.start}, {abrv.end}) {abrv._.long_form}\")"
      ],
      "metadata": {
        "colab": {
          "base_uri": "https://localhost:8080/"
        },
        "id": "CaQ7etfSqNh4",
        "outputId": "41cf094c-fe3b-42f9-ea45-f7792897ff42"
      },
      "execution_count": null,
      "outputs": [
        {
          "output_type": "stream",
          "name": "stdout",
          "text": [
            "Abbreviation \t Definition\n",
            "GDPR \t (1304, 1305) General Data\n",
            "Protection Regulation\n",
            "COPPA \t (1360, 1361) Children's Online Privacy\n",
            "Protection Act\n"
          ]
        }
      ]
    },
    {
      "cell_type": "markdown",
      "source": [
        "Mastodon has two acronyms that were both defined in the document.\n",
        "\n",
        "Twitter should be more mindful of writing out the abbreviations for users that may not be familiar with certain terms. "
      ],
      "metadata": {
        "id": "qzmstRDxXVAh"
      }
    },
    {
      "cell_type": "markdown",
      "source": [
        "## Data Clean Up\n",
        "To continue the analysis, the text data will be cleaned up using NLTK pos tag, lemmetizer and stop words. \n",
        "\n",
        "First import all the libraries."
      ],
      "metadata": {
        "id": "b1k0fAVESwQ4"
      }
    },
    {
      "cell_type": "code",
      "source": [
        "import nltk\n",
        "from nltk.corpus import stopwords\n",
        "nltk.download('stopwords')\n",
        "from nltk import pos_tag\n",
        "from nltk.corpus import wordnet \n",
        "from nltk.stem.wordnet import WordNetLemmatizer\n",
        "stops = stopwords.words('english')\n",
        "\n",
        "import glob"
      ],
      "metadata": {
        "colab": {
          "base_uri": "https://localhost:8080/"
        },
        "id": "scd6QwjETkeQ",
        "outputId": "c6a97d10-ca3e-498d-eeb8-298a07a1c5bd"
      },
      "execution_count": null,
      "outputs": [
        {
          "output_type": "stream",
          "name": "stderr",
          "text": [
            "[nltk_data] Downloading package stopwords to /root/nltk_data...\n",
            "[nltk_data]   Unzipping corpora/stopwords.zip.\n"
          ]
        }
      ]
    },
    {
      "cell_type": "markdown",
      "source": [
        "Create a folder for the clean up files to go into."
      ],
      "metadata": {
        "id": "vDx6IoqBX7aV"
      }
    },
    {
      "cell_type": "code",
      "source": [
        "! mkdir files_cleaned"
      ],
      "metadata": {
        "id": "mL3IlLwS3WB5"
      },
      "execution_count": null,
      "outputs": []
    },
    {
      "cell_type": "markdown",
      "source": [
        "Define a function to map POS tag."
      ],
      "metadata": {
        "id": "905jGz0WYAEs"
      }
    },
    {
      "cell_type": "code",
      "source": [
        "def get_wordnet_pos(word):\n",
        "    \"\"\"Map POS tag to first character lemmatize() accepts\"\"\"\n",
        "    tag = nltk.pos_tag([word])[0][1][0].upper()\n",
        "    tag_dict = {\"J\": wordnet.ADJ,\n",
        "                \"N\": wordnet.NOUN,\n",
        "                \"V\": wordnet.VERB,\n",
        "                \"R\": wordnet.ADV}\n",
        "\n",
        "    return tag_dict.get(tag, wordnet.NOUN)"
      ],
      "metadata": {
        "id": "oeM9cUOkrxMm"
      },
      "execution_count": null,
      "outputs": []
    },
    {
      "cell_type": "markdown",
      "source": [
        "Clean up the files by changing all terms to lowercase, filtering through stop words, and lemmatizing the terms. Finally, save the result into a new text file."
      ],
      "metadata": {
        "id": "dRNoTOnGYH5e"
      }
    },
    {
      "cell_type": "code",
      "source": [
        "nltk.download('averaged_perceptron_tagger')\n",
        "nltk.download('wordnet')\n",
        "nltk.download('punkt')\n",
        "text_tokens = nltk.word_tokenize(content)\n",
        "nltk_text = nltk.Text(text_tokens)\n",
        "text_lower = [t.lower() for t in nltk_text if t.isalnum()]\n",
        "text_stops = [t for t in text_lower if t not in stops]\n",
        "text_clean = [WordNetLemmatizer().lemmatize(t, get_wordnet_pos(t)) for t in text_stops]\n",
        "\n",
        "with open(f\"files_cleaned/twitter_cleaned.txt\", \"w\") as file:\n",
        "    file.write(str(text_clean))"
      ],
      "metadata": {
        "colab": {
          "base_uri": "https://localhost:8080/"
        },
        "id": "V8qmzKIhrxUM",
        "outputId": "c1af0644-805a-40b8-b341-5055e2f97a3a"
      },
      "execution_count": null,
      "outputs": [
        {
          "output_type": "stream",
          "name": "stderr",
          "text": [
            "[nltk_data] Downloading package averaged_perceptron_tagger to\n",
            "[nltk_data]     /root/nltk_data...\n",
            "[nltk_data]   Package averaged_perceptron_tagger is already up-to-\n",
            "[nltk_data]       date!\n",
            "[nltk_data] Downloading package wordnet to /root/nltk_data...\n",
            "[nltk_data]   Package wordnet is already up-to-date!\n",
            "[nltk_data] Downloading package punkt to /root/nltk_data...\n",
            "[nltk_data]   Unzipping tokenizers/punkt.zip.\n"
          ]
        }
      ]
    },
    {
      "cell_type": "code",
      "source": [
        "text_tokens2 = nltk.word_tokenize(content2)\n",
        "nltk_text2 = nltk.Text(text_tokens2)\n",
        "text_lower2 = [t.lower() for t in nltk_text2 if t.isalnum()]\n",
        "text_stops2 = [t for t in text_lower2 if t not in stops]\n",
        "text_clean2 = [WordNetLemmatizer().lemmatize(t, get_wordnet_pos(t)) for t in text_stops2]\n",
        "\n",
        "with open(f\"files_cleaned/mastodon_cleaned.txt\", \"w\") as file:\n",
        "    file.write(str(text_clean2))"
      ],
      "metadata": {
        "id": "g6odzq_H5J1P"
      },
      "execution_count": null,
      "outputs": []
    },
    {
      "cell_type": "markdown",
      "source": [
        "Check to see if any more stop words need to be added. "
      ],
      "metadata": {
        "id": "FvGRRTpOYvvl"
      }
    },
    {
      "cell_type": "code",
      "source": [
        "file = open(f\"files_cleaned/twitter_cleaned.txt\", 'r')\n",
        "twittercontent = file.read()\n",
        "print(twittercontent)"
      ],
      "metadata": {
        "colab": {
          "base_uri": "https://localhost:8080/"
        },
        "id": "8kdLfkOy3r4l",
        "outputId": "3ffd7eb6-3edc-4eb8-9dab-d8e48f4daa48"
      },
      "execution_count": null,
      "outputs": [
        {
          "output_type": "stream",
          "name": "stdout",
          "text": [
            "['twitter', 'privacy', 'policy', 'scroll', 'read', 'really', 'hard', 'make', 'everyone', 'happy', 'privacy', 'policy', 'people', 'use', 'twitter', 'want', 'something', 'short', 'easy', 'understand', 'wish', 'could', 'fit', 'everything', 'need', 'know', 'tweet', 'regulator', 'ask', 'u', 'meet', 'legal', 'obligation', 'describe', 'lot', 'detail', 'mind', 'write', 'privacy', 'policy', 'simply', 'possible', 'empower', 'make', 'inform', 'decision', 'use', 'twitter', 'make', 'sure', 'understand', 'control', 'information', 'collect', 'use', 'share', 'skip', 'reading', 'every', 'word', 'privacy', 'policy', 'least', 'know', 'twitter', 'public', 'platform', 'learn', 'viewable', 'searchable', 'collect', 'data', 'learn', 'collect', 'affiliate', 'service', 'may', 'policy', 'learn', 'affiliate', 'use', 'data', 'make', 'twitter', 'well', 'learn', 'make', 'info', 'work', 'control', 'experience', 'learn', 'update', 'setting', 'question', 'use', 'data', 'ask', 'learn', 'contact', 'u', 'seriously', 'happens', 'data', '1', 'information', 'collect', 'information', 'collect', 'use', 'twitter', 'fall', 'three', 'category', 'information', 'provide', 'u', 'use', 'product', 'service', 'need', 'account', 'create', 'account', 'need', 'provide', 'u', 'certain', 'information', 'likewise', 'use', 'paid', 'product', 'service', 'provide', 'without', 'get', 'payment', 'information', 'basically', 'certain', 'information', 'necessary', 'want', 'use', 'many', 'product', 'service', 'personal', 'account', 'create', 'account', 'must', 'provide', 'u', 'information', 'provide', 'service', 'include', 'display', 'name', 'example', 'twitter', 'moment', 'username', 'example', 'twittermoments', 'password', 'email', 'address', 'phone', 'number', 'date', 'birth', 'display', 'language', 'single', 'information', 'choose', 'method', 'also', 'choose', 'share', 'location', 'profile', 'tweet', 'upload', 'address', 'book', 'twitter', 'help', 'find', 'people', 'may', 'know', 'profile', 'information', 'include', 'display', 'name', 'username', 'always', 'public', 'use', 'either', 'real', 'name', 'pseudonym', 'remember', 'create', 'multiple', 'twitter', 'account', 'example', 'express', 'different', 'part', 'identity', 'professional', 'otherwise', 'data', 'collect', 'give', 'data', 'get', 'data', 'return', 'offer', 'useful', 'service', 'mind', 'check', 'setting', 'professional', 'account', 'create', 'professional', 'account', 'also', 'need', 'provide', 'u', 'professional', 'category', 'may', 'provide', 'u', 'information', 'include', 'street', 'address', 'contact', 'email', 'address', 'contact', 'phone', 'number', 'always', 'public', 'payment', 'information', 'order', 'purchase', 'ad', 'offering', 'provide', 'part', 'paid', 'product', 'service', 'need', 'provide', 'u', 'payment', 'information', 'include', 'credit', 'debit', 'card', 'number', 'card', 'expiration', 'date', 'cvv', 'code', 'billing', 'address', 'preference', 'set', 'preference', 'use', 'setting', 'collect', 'information', 'respect', 'preference', 'information', 'collect', 'use', 'twitter', 'use', 'service', 'collect', 'information', 'use', 'product', 'service', 'use', 'information', 'provide', 'product', 'service', 'help', 'keep', 'twitter', 'secure', 'respectful', 'everyone', 'relevant', 'usage', 'information', 'collect', 'information', 'activity', 'twitter', 'include', 'tweet', 'content', 'post', 'include', 'date', 'application', 'version', 'twitter', 'information', 'broadcast', 'activity', 'twitterlive', 'space', 'include', 'broadcast', 'create', 'create', 'list', 'bookmark', 'community', 'part', 'interaction', 'user', 'content', 'retweets', 'like', 'share', 'reply', 'user', 'mention', 'tag', 'content', 'mention', 'tag', 'broadcast', 'participate', 'include', 'view', 'history', 'listen', 'comment', 'speak', 'react', 'interact', 'others', 'platform', 'people', 'follow', 'people', 'follow', 'use', 'direct', 'message', 'include', 'content', 'message', 'recipient', 'date', 'time', 'message', 'communicate', 'u', 'email', 'collect', 'information', 'communication', 'content', 'collect', 'information', 'link', 'interact', 'across', 'service', 'include', 'email', 'sent', 'purchase', 'payment', 'allow', 'make', 'payment', 'send', 'money', 'use', 'twitter', 'feature', 'service', 'include', 'intermediary', 'may', 'receive', 'information', 'transaction', 'make', 'subscription', 'set', 'expire', 'amount', 'paid', 'receive', 'device', 'information', 'collect', 'information', 'device', 'use', 'access', 'twitter', 'include', 'information', 'connection', 'ip', 'address', 'browser', 'type', 'information', 'device', 'setting', 'device', 'advertising', 'id', 'operating', 'system', 'carrier', 'language', 'memory', 'apps', 'instal', 'battery', 'level', 'device', 'address', 'book', 'chosen', 'share', 'u', 'location', 'information', 'use', 'twitter', 'collect', 'information', 'approximate', 'location', 'provide', 'service', 'expect', 'include', 'show', 'relevant', 'ad', 'also', 'choose', 'share', 'current', 'precise', 'location', 'place', 'previously', 'use', 'twitter', 'enable', 'setting', 'account', 'infer', 'identity', 'may', 'collect', 'receive', 'information', 'use', 'infer', 'identity', 'detailed', 'sign', 'twitter', 'browser', 'device', 'associate', 'browser', 'device', 'account', 'subject', 'setting', 'may', 'also', 'associate', 'account', 'browser', 'device', 'use', 'sign', 'twitter', 'associate', 'device', 'browser', 'browser', 'device', 'identifier', 'provide', 'information', 'twitter', 'include', 'email', 'address', 'phone', 'number', 'associate', 'information', 'twitter', 'account', 'subject', 'setting', 'may', 'also', 'use', 'information', 'order', 'infer', 'information', 'identity', 'example', 'associate', 'account', 'hash', 'email', 'address', 'share', 'common', 'component', 'email', 'address', 'provide', 'twitter', 'access', 'twitter', 'sign', 'may', 'infer', 'identity', 'base', 'information', 'collect', 'log', 'information', 'may', 'receive', 'information', 'view', 'content', 'otherwise', 'interact', 'product', 'service', 'even', 'create', 'account', 'sign', 'ip', 'address', 'browser', 'type', 'language', 'operating', 'system', 'refer', 'webpage', 'access', 'time', 'page', 'visit', 'location', 'mobile', 'carrier', 'device', 'information', 'include', 'device', 'application', 'id', 'search', 'term', 'id', 'include', 'submit', 'query', 'ad', 'show', 'twitter', 'identifier', 'identifier', 'associate', 'cooky', 'also', 'receive', 'log', 'information', 'click', 'view', 'interact', 'link', 'service', 'include', 'install', 'another', 'application', 'twitter', 'advertisement', 'view', 'interact', 'ad', 'serve', 'twitter', 'may', 'collect', 'information', 'view', 'interaction', 'watch', 'video', 'ad', 'preroll', 'click', 'ad', 'interact', 'retweets', 'reply', 'ad', 'cooky', 'similar', 'technology', 'like', 'many', 'website', 'use', 'cooky', 'similar', 'technology', 'collect', 'additional', 'website', 'usage', 'data', 'operate', 'service', 'cooky', 'require', 'many', 'part', 'product', 'service', 'search', 'look', 'public', 'profile', 'learn', 'use', 'cooky', 'similar', 'technology', 'interaction', 'content', 'site', 'view', 'content', 'website', 'integrate', 'twitter', 'content', 'embed', 'timeline', 'tweet', 'button', 'may', 'receive', 'log', 'information', 'include', 'web', 'page', 'visit', 'information', 'receive', 'third', 'party', 'use', 'online', 'product', 'service', 'may', 'share', 'information', 'usage', 'u', 'ad', 'partner', 'developer', 'publisher', 'ad', 'business', 'partner', 'share', 'information', 'u', 'browser', 'cookie', 'id', 'identifier', 'mobile', 'device', 'id', 'hash', 'user', 'information', 'like', 'email', 'address', 'demographic', 'interest', 'data', 'content', 'view', 'action', 'take', 'website', 'app', 'ad', 'partner', 'particularly', 'advertiser', 'also', 'enable', 'u', 'collect', 'similar', 'information', 'directly', 'website', 'app', 'integrate', 'advertising', 'technology', 'information', 'share', 'ad', 'partner', 'affiliate', 'collect', 'twitter', 'website', 'apps', 'ad', 'partner', 'affiliate', 'may', 'combine', 'information', 'share', 'twitter', 'twitter', 'receives', 'generates', 'infers', 'described', 'elsewhere', 'privacy', 'policy', 'third', 'party', 'account', 'connection', 'integration', 'may', 'receive', 'information', 'third', 'party', 'ad', 'partner', 'twitter', 'user', 'developer', 'partner', 'help', 'u', 'evaluate', 'safety', 'quality', 'content', 'platform', 'corporate', 'affiliate', 'service', 'link', 'twitter', 'account', 'may', 'choose', 'connect', 'twitter', 'account', 'account', 'another', 'service', 'service', 'may', 'send', 'u', 'information', 'account', 'service', '2', 'use', 'information', 'break', 'use', 'information', 'collect', 'simple', 'way', 'system', 'bring', 'service', 'work', 'example', 'piece', 'information', 'may', 'use', 'differently', 'different', 'purpose', 'ultimately', 'deliver', 'single', 'service', 'think', 'useful', 'describe', 'five', 'main', 'way', 'use', 'information', 'question', 'answer', 'always', 'contact', 'u', 'go', 'operate', 'improve', 'personalize', 'service', 'use', 'information', 'collect', 'provide', 'operate', 'twitter', 'product', 'service', 'also', 'use', 'information', 'collect', 'improve', 'personalize', 'product', 'service', 'well', 'experience', 'twitter', 'include', 'show', 'relevant', 'content', 'ad', 'suggest', 'people', 'topic', 'follow', 'enable', 'help', 'discover', 'affiliate', 'apps', 'service', 'may', 'use', 'information', 'collect', 'account', 'service', 'choose', 'connect', 'twitter', 'account', 'provide', 'feature', 'like', 'authentication', 'operate', 'service', 'use', 'contact', 'information', 'help', 'others', 'find', 'account', 'setting', 'permit', 'include', 'service', 'client', 'application', 'use', 'information', 'provide', 'advertising', 'sponsor', 'content', 'service', 'subject', 'setting', 'help', 'make', 'ad', 'twitter', 'relevant', 'also', 'use', 'information', 'measure', 'effectiveness', 'ad', 'help', 'recognize', 'device', 'serve', 'ad', 'twitter', 'ad', 'partner', 'also', 'enable', 'u', 'collect', 'similar', 'information', 'directly', 'website', 'app', 'integrate', 'advertising', 'technology', 'use', 'information', 'make', 'twitter', 'service', 'know', 'love', 'information', 'share', 'ad', 'partner', 'affiliate', 'collect', 'twitter', 'website', 'apps', 'ad', 'partner', 'affiliate', 'may', 'combine', 'information', 'share', 'twitter', 'twitter', 'receives', 'generates', 'infers', 'described', 'elsewhere', 'privacy', 'policy', 'foster', 'safety', 'security', 'use', 'information', 'collect', 'provide', 'safety', 'security', 'user', 'product', 'service', 'account', 'include', 'verify', 'identity', 'authenticate', 'account', 'defend', 'fraud', 'unauthorized', 'use', 'illegal', 'activity', 'also', 'use', 'information', 'evaluate', 'affect', 'safety', 'quality', 'content', 'twitter', 'include', 'investigate', 'enforce', 'policy', 'term', 'well', 'applicable', 'law', 'measure', 'analyze', 'make', 'service', 'well', 'use', 'information', 'collect', 'measure', 'analyze', 'effectiveness', 'product', 'service', 'well', 'understand', 'use', 'order', 'make', 'well', 'communicate', 'service', 'use', 'information', 'collect', 'communicate', 'product', 'service', 'include', 'product', 'update', 'change', 'policy', 'term', 'open', 'hearing', 'u', 'may', 'also', 'send', 'marketing', 'message', 'time', 'time', 'research', 'use', 'information', 'share', 'u', 'collect', 'conduct', 'research', 'survey', 'product', 'test', 'troubleshoot', 'help', 'u', 'operate', 'improve', 'product', 'service', 'tweet', 'public', '3', 'share', 'information', 'know', 'way', 'share', 'information', 'share', 'control', 'five', 'general', 'way', 'share', 'information', 'tweet', 'post', 'share', 'general', 'public', 'direct', 'u', 'disclose', 'information', 'broadly', 'possible', 'twitter', 'content', 'include', 'profile', 'information', 'username', 'profile', 'picture', 'available', 'view', 'general', 'public', 'public', 'need', 'sign', 'view', 'much', 'content', 'twitter', 'may', 'also', 'find', 'twitter', 'content', 'twitter', 'example', 'search', 'query', 'result', 'internet', 'search', 'engine', 'twitter', 'user', 'depend', 'setting', 'base', 'twitter', 'product', 'service', 'use', 'share', 'interaction', 'twitter', 'content', 'user', 'like', 'people', 'follow', 'content', 'send', 'specific', 'twitter', 'user', 'direct', 'message', 'please', 'keep', 'mind', 'share', 'information', 'like', 'direct', 'message', 'protect', 'tweet', 'someone', 'else', 'access', 'twitter', 'service', 'information', 'may', 'share', 'service', 'share', 'information', 'quick', 'answer', 'one', 'head', 'tweet', 'end', 'news', 'search', 'engine', 'partner', 'depend', 'setting', 'also', 'provide', 'certain', 'third', 'party', 'information', 'help', 'u', 'offer', 'operate', 'product', 'service', 'learn', 'partnership', 'help', 'center', 'control', 'whether', 'twitter', 'share', 'personal', 'information', 'partner', 'use', 'data', 'share', 'business', 'partner', 'option', 'privacy', 'safety', 'setting', 'set', 'control', 'share', 'described', 'elsewhere', 'privacy', 'policy', 'share', 'information', 'service', 'provider', 'partnership', 'described', 'help', 'center', 'article', 'third', 'party', 'integration', 'service', 'provider', 'may', 'share', 'information', 'service', 'provider', 'perform', 'function', 'provide', 'service', 'behalf', 'include', 'payment', 'service', 'provider', 'facilitate', 'payment', 'service', 'provider', 'host', 'various', 'blog', 'wikis', 'service', 'provider', 'help', 'u', 'understand', 'use', 'service', 'provide', 'fraud', 'detection', 'service', 'advertiser', 'advertising', 'revenue', 'enables', 'u', 'provide', 'product', 'service', 'advertiser', 'may', 'learn', 'information', 'engagement', 'ad', 'twitter', 'example', 'click', 'external', 'link', 'ad', 'service', 'advertiser', 'website', 'operator', 'might', 'figure', 'come', 'twitter', 'along', 'information', 'associate', 'ad', 'clicked', 'characteristic', 'audience', 'intend', 'reach', 'identifier', 'ad', 'may', 'also', 'collect', 'personal', 'information', 'cookie', 'identifier', 'ip', 'address', 'content', 'integration', 'share', 'disclose', 'information', 'consent', 'direction', 'authorize', 'party', 'web', 'client', 'application', 'access', 'account', 'direct', 'u', 'share', 'feedback', 'business', 'similarly', 'improve', 'experience', 'work', 'partner', 'display', 'video', 'content', 'twitter', 'allow', 'share', 'watch', 'otherwise', 'interact', 'content', 'video', 'share', 'partner', 'may', 'receive', 'process', 'personal', 'information', 'described', 'privacy', 'policy', 'video', 'content', 'adjust', 'autoplay', 'setting', 'prefer', 'content', 'play', 'automatically', 'apis', 'use', 'technology', 'like', 'apis', 'embeds', 'make', 'public', 'twitter', 'information', 'available', 'website', 'apps', 'others', 'use', 'example', 'display', 'tweet', 'news', 'website', 'analyze', 'people', 'say', 'twitter', 'generally', 'make', 'content', 'available', 'limited', 'quantity', 'free', 'charge', 'licensing', 'fee', 'access', 'standard', 'term', 'govern', 'information', 'use', 'compliance', 'program', 'enforce', 'term', 'individual', 'company', 'affiliate', 'twitter', 'offering', 'may', 'reflect', 'update', 'make', 'twitter', 'information', 'make', 'public', 'data', 'twitter', 'available', 'world', 'visit', 'http', 'require', 'law', 'prevent', 'harm', 'public', 'interest', 'may', 'preserve', 'use', 'share', 'disclose', 'information', 'believe', 'reasonably', 'necessary', 'comply', 'law', 'regulation', 'legal', 'process', 'governmental', 'request', 'protect', 'safety', 'person', 'protect', 'safety', 'integrity', 'platform', 'include', 'help', 'prevent', 'spam', 'abuse', 'malicious', 'actor', 'service', 'explain', 'remove', 'content', 'account', 'service', 'violation', 'twitter', 'rule', 'address', 'fraud', 'security', 'technical', 'issue', 'protect', 'right', 'property', 'right', 'property', 'use', 'service', 'affiliate', 'may', 'share', 'information', 'amongst', 'affiliate', 'provide', 'product', 'service', 'result', 'change', 'ownership', 'may', 'share', 'sell', 'transfer', 'information', 'connection', 'merger', 'acquisition', 'reorganization', 'sale', 'asset', 'bankruptcy', 'privacy', 'policy', 'apply', 'personal', 'information', 'share', 'close', 'transaction', 'transfer', 'new', 'entity', 'data', 'expiration', 'date', '4', 'long', 'keep', 'information', 'keep', 'different', 'type', 'information', 'different', 'period', 'time', 'keep', 'profile', 'information', 'content', 'duration', 'account', 'generally', 'keep', 'personally', 'identifiable', 'data', 'collect', 'use', 'product', 'service', 'maximum', '18', 'month', 'remember', 'public', 'content', 'exist', 'elsewhere', 'even', 'remove', 'twitter', 'example', 'search', 'engine', 'third', 'party', 'may', 'retain', 'copy', 'tweet', 'longer', 'base', 'upon', 'privacy', 'policy', 'even', 'delete', 'expire', 'twitter', 'read', 'search', 'visibility', 'violate', 'rule', 'account', 'suspend', 'may', 'keep', 'identifier', 'use', 'create', 'account', 'email', 'address', 'phone', 'number', 'indefinitely', 'prevent', 'repeat', 'policy', 'offender', 'create', 'new', 'account', 'may', 'keep', 'certain', 'information', 'longer', 'policy', 'specify', 'order', 'comply', 'legal', 'requirement', 'safety', 'security', 'reason', 'long', 'keep', 'data', 'generally', 'keep', 'data', 'long', 'account', '5', 'take', 'control', 'access', 'correction', 'portability', 'access', 'correct', 'modify', 'information', 'provide', 'u', 'edit', 'profile', 'adjust', 'account', 'setting', 'learn', 'information', 'collect', 'infer', 'twitter', 'data', 'request', 'access', 'additional', 'information', 'download', 'copy', 'information', 'tweet', 'follow', 'instruction', 'periscope', 'website', 'request', 'correction', 'modification', 'information', 'download', 'account', 'information', 'follow', 'instruction', 'protect', 'privacy', 'maintain', 'security', 'take', 'step', 'verify', 'identity', 'grant', 'access', 'personal', 'information', 'comply', 'deletion', 'portability', 'related', 'request', 'may', 'certain', 'situation', 'reject', 'request', 'access', 'correction', 'portability', 'example', 'may', 'reject', 'access', 'unable', 'verify', 'identity', 'control', 'data', 'access', 'delete', 'change', 'setting', 'basically', 'bos', 'delete', 'information', 'follow', 'instruction', 'periscope', 'account', 'deactivate', 'deactivate', 'twitter', 'account', 'include', 'display', 'name', 'username', 'public', 'profile', 'longer', 'viewable', 'twitter', 'io', 'twitter', 'android', '30', 'day', 'deactivation', 'still', 'possible', 'restore', 'twitter', 'account', 'accidentally', 'wrongfully', 'deactivate', 'object', 'restrict', 'withdraw', 'consent', 'manage', 'privacy', 'setting', 'account', 'feature', 'change', 'setting', 'may', 'take', 'time', 'choice', 'fully', 'reflect', 'throughout', 'system', 'may', 'also', 'notice', 'change', 'twitter', 'experience', 'limitation', 'ability', 'access', 'certain', 'feature', 'depend', 'setting', 'adjust', 'twitter', 'adheres', 'digital', 'advertising', 'alliance', 'principle', 'online', 'behavioral', 'advertising', 'also', 'refer', 'advertising', 'respect', 'daa', 'consumer', 'choice', 'tool', 'opt', 'base', 'advertising', 'http', 'authorize', 'agent', 'request', 'submit', 'request', 'related', 'access', 'modification', 'deletion', 'information', 'someone', 'else', 'information', 'authorize', 'agent', 'may', 'also', 'contact', 'u', 'specify', 'contact', 'twitter', 'section', 'privacy', 'policy', 'may', 'require', 'provide', 'additional', 'information', 'verification', '6', 'right', 'provide', 'twitter', 'people', 'world', 'provide', 'many', 'privacy', 'tool', 'control', 'user', 'regardless', 'live', 'however', 'experience', 'may', 'slightly', 'different', 'user', 'country', 'ensure', 'twitter', 'respect', 'local', 'requirement', 'specific', 'legal', 'base', 'use', 'information', 'twitter', 'carefully', 'consider', 'legal', 'reason', 'permit', 'collect', 'use', 'share', 'otherwise', 'process', 'information', 'want', 'dig', 'learn', 'well', 'understand', 'nuance', 'encourage', 'check', 'additional', 'information', 'data', 'processing', 'sell', 'personal', 'information', 'move', 'data', 'make', 'twitter', 'work', 'use', 'twitter', 'seamlessly', 'participate', 'global', 'conversation', 'people', 'country', 'world', 'twitter', 'must', 'move', 'information', 'across', 'border', 'different', 'country', 'around', 'world', 'support', 'safe', 'reliable', 'service', 'depend', 'example', 'live', 'europe', 'conversation', 'someone', 'united', 'state', 'information', 'move', 'country', 'provide', 'experience', 'expect', 'u', 'twitter', 'handle', 'information', 'wherever', 'treat', 'information', 'fairly', 'matter', 'live', 'around', 'world', 'also', 'use', 'data', 'center', 'cloud', 'provider', 'engage', 'affiliate', 'partner', 'service', 'provider', 'locate', 'many', 'part', 'world', 'help', 'u', 'provide', 'service', 'move', 'data', 'country', 'look', 'risk', 'may', 'present', 'data', 'rely', 'thing', 'like', 'standard', 'contractual', 'clause', 'applicable', 'ensure', 'data', 'right', 'protect', 'data', 'share', 'third', 'party', 'require', 'maintain', 'protection', 'data', 'provide', 'directly', '7', 'twitter', 'audience', 'service', 'direct', 'child', 'may', 'use', 'service', 'age', '13', 'must', 'also', 'old', 'enough', 'consent', 'processing', 'personal', 'data', 'country', 'country', 'may', 'allow', 'parent', 'guardian', 'behalf', 'twitter', 'kid', 'nope', 'twitter', 'intend', 'people', '13', 'twitter', '8', 'change', 'privacy', 'policy', 'current', 'version', 'privacy', 'policy', 'governs', 'processing', 'personal', 'data', 'may', 'revise', 'privacy', 'policy', 'time', 'time', 'need', 'revise', 'privacy', 'policy', 'make', 'change', 'determine', 'u', 'material', 'provide', 'notice', 'opportunity', 'review', 'revise', 'privacy', 'policy', 'continue', 'use', 'twitter', 'policy', 'change', 'let', 'know', '9', 'contact', 'twitter', 'want', 'hear', 'thought', 'question', 'privacy', 'policy', 'contact', 'u', 'via', 'privacy', 'policy', 'inquiry', 'page', 'write', 'u', 'appropriate', 'address', 'live', 'united', 'state', 'country', 'outside', 'european', 'union', 'efta', 'state', 'united', 'kingdom', 'data', 'controller', 'responsible', 'personal', 'data', 'twitter', 'address', 'live', 'european', 'union', 'efta', 'state', 'united', 'kingdom', 'data', 'controller', 'twitter', 'international', 'unlimited', 'company', 'address', 'twitter', 'attn', 'privacy', 'policy', 'inquiry', '1355', 'market', 'street', 'suite', '900', 'san', 'francisco', 'ca', '94103', 'twitter', 'international', 'unlimited', 'company', 'attn', 'data', 'protection', 'officer', 'one', 'cumberland', 'place', 'fenian', 'street', 'dublin', '2', 'd02', 'ax07', 'ireland', 'confidentially', 'contact', 'twitter', 'data', 'protection', 'officer', 'data', 'protection', 'inquiry', 'form', 'wish', 'raise', 'concern', 'data', 'processing', 'practice', 'right', 'local', 'supervisory', 'authority', 'twitter', 'international', 'unlimited', 'company', 'lead', 'supervisory', 'authority', 'irish', 'data', 'protection', 'commission', 'use', 'contact', 'detail', 'list', 'website', 'effective', 'june', '10', '2022', 'contact', 'twitter', 'slide', 'official', 'inbox']\n"
          ]
        }
      ]
    },
    {
      "cell_type": "code",
      "source": [
        "file2 = open(f\"files_cleaned/mastodon_cleaned.txt\", 'r')\n",
        "mastodoncontent = file2.read()\n",
        "print(mastodoncontent)"
      ],
      "metadata": {
        "colab": {
          "base_uri": "https://localhost:8080/"
        },
        "id": "aUnm2sZt5ZwN",
        "outputId": "e1aa860d-0256-402e-d699-d4a75e4bc181"
      },
      "execution_count": null,
      "outputs": [
        {
          "output_type": "stream",
          "name": "stdout",
          "text": [
            "['privacy', 'policy', 'mastodon', 'http', 'privacy', 'policy', 'last', 'update', 'oct', '06', '2022', 'privacy', 'policy', 'describes', 'u', 'collect', 'protects', 'us', 'personally', 'identiﬁable', 'information', 'may', 'provide', 'website', 'api', 'policy', 'also', 'describes', 'choice', 'available', 'regard', 'use', 'personal', 'information', 'access', 'update', 'information', 'policy', 'apply', 'practice', 'company', 'control', 'individual', 'employ', 'manage', 'information', 'collect', 'basic', 'account', 'information', 'register', 'server', 'may', 'ask', 'enter', 'username', 'mail', 'address', 'password', 'may', 'also', 'enter', 'additional', 'proﬁle', 'information', 'display', 'name', 'biography', 'upload', 'proﬁle', 'picture', 'header', 'image', 'username', 'display', 'name', 'biography', 'proﬁle', 'picture', 'header', 'image', 'always', 'list', 'publicly', 'post', 'follow', 'public', 'information', 'list', 'people', 'follow', 'list', 'publicly', 'true', 'follower', 'submit', 'message', 'date', 'time', 'store', 'well', 'application', 'submit', 'message', 'message', 'may', 'contain', 'medium', 'attachment', 'picture', 'video', 'public', 'unlisted', 'post', 'available', 'publicly', 'feature', 'post', 'proﬁle', 'also', 'publicly', 'available', 'information', 'post', 'deliver', 'follower', 'case', 'mean', 'deliver', 'different', 'server', 'copy', 'store', 'delete', 'post', 'likewise', 'deliver', 'follower', 'action', 'reblogging', 'favouriting', 'another', 'post', 'always', 'public', 'direct', 'post', 'post', 'store', 'process', 'server', 'post', 'deliver', 'follower', 'user', 'mention', 'direct', 'post', 'deliver', 'user', 'mention', 'case', 'mean', 'deliver', 'different', 'server', 'copy', 'store', 'make', 'good', 'faith', 'effort', 'limit', 'access', 'post', 'authorize', 'person', 'server', 'may', 'fail', 'therefore', 'important', 'review', 'server', 'follower', 'belong', 'may', 'toggle', 'option', 'approve', 'reject', 'new', 'follower', 'manually', 'setting', 'please', 'keep', 'mind', 'operator', 'server', 'receive', 'server', 'may', 'view', 'message', 'recipient', 'may', 'screenshot', 'copy', 'otherwise', 'share', 'sensitive', 'information', 'mastodon', 'ip', 'metadata', 'log', 'record', 'ip', 'address', 'log', 'well', 'name', 'browser', 'application', 'log', 'session', 'available', 'review', 'revocation', 'setting', 'late', 'ip', 'address', 'use', 'store', '12', 'month', 'also', 'may', 'retain', 'server', 'log', 'include', 'ip', 'address', 'every', 'request', 'server', 'privacy', 'policy', 'mastodon', 'http', 'use', 'information', 'information', 'collect', 'may', 'use', 'follow', 'way', 'protect', 'information', 'implement', 'variety', 'security', 'measure', 'maintain', 'safety', 'personal', 'information', 'enter', 'submit', 'access', 'personal', 'information', 'among', 'thing', 'browser', 'session', 'well', 'traﬃc', 'application', 'api', 'secure', 'ssl', 'password', 'hash', 'use', 'strong', 'algorithm', 'may', 'enable', 'authentication', 'secure', 'access', 'account', 'data', 'retention', 'policy', 'make', 'good', 'faith', 'effort', 'request', 'download', 'archive', 'content', 'include', 'post', 'medium', 'attachment', 'proﬁle', 'picture', 'header', 'image', 'may', 'irreversibly', 'delete', 'account', 'time', 'use', 'cooky', 'yes', 'cooky', 'small', 'ﬁles', 'site', 'service', 'provider', 'transfer', 'computer', 'hard', 'drive', 'web', 'browser', 'allow', 'cooky', 'enable', 'site', 'recognize', 'browser', 'register', 'account', 'associate', 'register', 'account', 'use', 'cooky', 'understand', 'save', 'preference', 'future', 'visit', 'disclose', 'information', 'outside', 'party', 'provide', 'core', 'functionality', 'mastodon', 'interact', 'people', 'content', 'post', 'content', 'log', 'example', 'may', 'follow', 'people', 'view', 'combine', 'post', 'personalize', 'home', 'timeline', 'aid', 'moderation', 'community', 'example', 'compare', 'ip', 'address', 'know', 'one', 'determine', 'ban', 'evasion', 'violation', 'email', 'address', 'provide', 'may', 'use', 'send', 'information', 'notiﬁcations', 'people', 'interact', 'content', 'send', 'message', 'respond', 'inquiry', 'request', 'question', 'retain', 'server', 'log', 'contain', 'ip', 'address', 'request', 'server', 'far', 'log', 'kept', '90', 'day', 'retain', 'ip', 'address', 'associate', 'register', 'user', '12', 'month', 'privacy', 'policy', 'mastodon', 'http', 'sell', 'trade', 'otherwise', 'transfer', 'outside', 'party', 'personally', 'identiﬁable', 'information', 'include', 'trust', 'third', 'party', 'assist', 'u', 'operating', 'site', 'conduct', 'business', 'service', 'long', 'party', 'agree', 'keep', 'information', 'conﬁdential', 'may', 'also', 'release', 'information', 'believe', 'release', 'appropriate', 'comply', 'law', 'enforce', 'site', 'policy', 'protect', 'others', 'right', 'property', 'safety', 'public', 'content', 'may', 'download', 'server', 'network', 'public', 'post', 'deliver', 'server', 'follower', 'reside', 'direct', 'message', 'deliver', 'server', 'recipient', 'far', 'follower', 'recipient', 'reside', 'different', 'server', 'authorize', 'application', 'use', 'account', 'depend', 'scope', 'permission', 'approve', 'may', 'access', 'public', 'proﬁle', 'information', 'follow', 'list', 'follower', 'list', 'post', 'favourite', 'application', 'never', 'access', 'address', 'password', 'site', 'usage', 'child', 'server', 'eu', 'eea', 'site', 'product', 'service', 'direct', 'people', 'least', '16', 'year', 'old', 'age', '16', 'per', 'requirement', 'gdpr', 'general', 'data', 'protection', 'regulation', 'use', 'site', 'server', 'usa', 'site', 'product', 'service', 'direct', 'people', 'least', '13', 'year', 'old', 'age', '13', 'per', 'requirement', 'coppa', 'child', 'online', 'privacy', 'protection', 'act', 'use', 'site', 'law', 'requirement', 'different', 'server', 'another', 'jurisdiction', 'document', 'originally', 'adapt', 'discourse', 'privacy', 'policy']\n"
          ]
        }
      ]
    },
    {
      "cell_type": "markdown",
      "source": [
        "To check for more significant words to be added to the stop words list, split function and most_common functions are used to list the terms by most frequent terms in the document. \n",
        "\n",
        "The following script is adopted from [Geeks for Geeks.](https://www.geeksforgeeks.org/find-k-frequent-words-data-set-python/#) "
      ],
      "metadata": {
        "id": "OAch7I4nY2CK"
      }
    },
    {
      "cell_type": "code",
      "source": [
        "from collections import Counter\n",
        "  \n",
        "# split() returns list of all the words in the string\n",
        "split_it = twittercontent.split()\n",
        "  \n",
        "# Pass the split_it list to instance of Counter class.\n",
        "Counter0 = Counter(split_it)\n",
        "\n",
        "# most_common() produces k frequently encountered\n",
        "# input values and their respective counts.\n",
        "most_occur_twitter = Counter0.most_common(300)\n",
        "\n",
        "    \n",
        "print(most_occur_twitter)"
      ],
      "metadata": {
        "colab": {
          "base_uri": "https://localhost:8080/"
        },
        "id": "iUQ5JaGy4KCl",
        "outputId": "6779a7a0-dde0-4532-cbc7-415f1d04dae8"
      },
      "execution_count": null,
      "outputs": [
        {
          "output_type": "stream",
          "name": "stdout",
          "text": [
            "[(\"'information',\", 116), (\"'twitter',\", 91), (\"'service',\", 64), (\"'use',\", 61), (\"'may',\", 44), (\"'share',\", 37), (\"'account',\", 36), (\"'data',\", 35), (\"'collect',\", 34), (\"'u',\", 32), (\"'provide',\", 30), (\"'content',\", 28), (\"'include',\", 27), (\"'policy',\", 25), (\"'ad',\", 24), (\"'privacy',\", 23), (\"'product',\", 22), (\"'also',\", 20), (\"'setting',\", 18), (\"'address',\", 18), (\"'make',\", 17), (\"'partner',\", 16), (\"'access',\", 15), (\"'help',\", 14), (\"'device',\", 14), (\"'public',\", 13), (\"'website',\", 13), (\"'affiliate',\", 12), (\"'contact',\", 12), (\"'tweet',\", 11), (\"'learn',\", 11), (\"'example',\", 11), (\"'people',\", 10), (\"'personal',\", 10), (\"'keep',\", 10), (\"'user',\", 10), (\"'create',\", 9), (\"'email',\", 9), (\"'view',\", 9), (\"'receive',\", 9), (\"'advertising',\", 9), (\"'control',\", 8), (\"'profile',\", 8), (\"'identity',\", 8), (\"'like',\", 8), (\"'time',\", 8), (\"'browser',\", 8), (\"'party',\", 8), (\"'safety',\", 8), (\"'change',\", 8), (\"'provider',\", 8), (\"'country',\", 8), (\"'need',\", 7), (\"'well',\", 7), (\"'payment',\", 7), (\"'interact',\", 7), (\"'follow',\", 7), (\"'associate',\", 7), (\"'identifier',\", 7), (\"'search',\", 7), (\"'third',\", 7), (\"'request',\", 7), (\"'know',\", 6), (\"'experience',\", 6), (\"'certain',\", 6), (\"'display',\", 6), (\"'different',\", 6), (\"'direct',\", 6), (\"'message',\", 6), (\"'technology',\", 6), (\"'operate',\", 6), (\"'protect',\", 6), (\"'world',\", 6), (\"'understand',\", 5), (\"'legal',\", 5), (\"'many',\", 5), (\"'number',\", 5), (\"'date',\", 5), (\"'choose',\", 5), (\"'location',\", 5), (\"'part',\", 5), (\"'application',\", 5), (\"'id',\", 5), (\"'apps',\", 5), (\"'infer',\", 5), (\"'sign',\", 5), (\"'base',\", 5), (\"'term',\", 5), (\"'cooky',\", 5), (\"'similar',\", 5), (\"'described',\", 5), (\"'security',\", 5), (\"'right',\", 5), (\"'live',\", 5), (\"'protection',\", 5), (\"'want',\", 4), (\"'platform',\", 4), (\"'work',\", 4), (\"'name',\", 4), (\"'username',\", 4), (\"'phone',\", 4), (\"'professional',\", 4), (\"'otherwise',\", 4), (\"'order',\", 4), (\"'relevant',\", 4), (\"'interaction',\", 4), (\"'link',\", 4), (\"'send',\", 4), (\"'feature',\", 4), (\"'system',\", 4), (\"'enable',\", 4), (\"'video',\", 4), (\"'additional',\", 4), (\"'require',\", 4), (\"'take',\", 4), (\"'advertiser',\", 4), (\"'elsewhere',\", 4), (\"'way',\", 4), (\"'improve',\", 4), (\"'available',\", 4), (\"'depend',\", 4), (\"'company',\", 4), (\"'processing',\", 4), (\"'move',\", 4), (\"'united',\", 4), (\"'state',\", 4), (\"'mind',\", 3), (\"'possible',\", 3), (\"'update',\", 3), (\"'question',\", 3), (\"'paid',\", 3), (\"'must',\", 3), (\"'language',\", 3), (\"'find',\", 3), (\"'always',\", 3), (\"'street',\", 3), (\"'preference',\", 3), (\"'set',\", 3), (\"'respect',\", 3), (\"'usage',\", 3), (\"'activity',\", 3), (\"'broadcast',\", 3), (\"'others',\", 3), (\"'communicate',\", 3), (\"'allow',\", 3), (\"'connection',\", 3), (\"'ip',\", 3), (\"'type',\", 3), (\"'show',\", 3), (\"'subject',\", 3), (\"'log',\", 3), (\"'even',\", 3), (\"'page',\", 3), (\"'visit',\", 3), (\"'click',\", 3), (\"'integrate',\", 3), (\"'business',\", 3), (\"'app',\", 3), (\"'directly',\", 3), (\"'integration',\", 3), (\"'measure',\", 3), (\"'verify',\", 3), (\"'fraud',\", 3), (\"'law',\", 3), (\"'analyze',\", 3), (\"'general',\", 3), (\"'disclose',\", 3), (\"'engine',\", 3), (\"'someone',\", 3), (\"'center',\", 3), (\"'consent',\", 3), (\"'authorize',\", 3), (\"'process',\", 3), (\"'adjust',\", 3), (\"'generally',\", 3), (\"'prevent',\", 3), (\"'comply',\", 3), (\"'long',\", 3), (\"'longer',\", 3), (\"'delete',\", 3), (\"'correction',\", 3), (\"'portability',\", 3), (\"'instruction',\", 3), (\"'deactivate',\", 3), (\"'revise',\", 3), (\"'inquiry',\", 3), (\"'international',\", 3), (\"'unlimited',\", 3), (\"'read',\", 2), (\"'everyone',\", 2), (\"'wish',\", 2), (\"'ask',\", 2), (\"'describe',\", 2), (\"'detail',\", 2), (\"'write',\", 2), (\"'viewable',\", 2), (\"'category',\", 2), (\"'get',\", 2), (\"'basically',\", 2), (\"'necessary',\", 2), (\"'single',\", 2), (\"'book',\", 2), (\"'remember',\", 2), (\"'offer',\", 2), (\"'useful',\", 2), (\"'check',\", 2), (\"'purchase',\", 2), (\"'offering',\", 2), (\"'card',\", 2), (\"'expiration',\", 2), (\"'post',\", 2), (\"'version',\", 2), (\"'list',\", 2), (\"'retweets',\", 2), (\"'reply',\", 2), (\"'mention',\", 2), (\"'tag',\", 2), (\"'participate',\", 2), (\"'across',\", 2), (\"'transaction',\", 2), (\"'expire',\", 2), (\"'operating',\", 2), (\"'carrier',\", 2), (\"'expect',\", 2), (\"'current',\", 2), (\"'place',\", 2), (\"'hash',\", 2), (\"'refer',\", 2), (\"'mobile',\", 2), (\"'submit',\", 2), (\"'query',\", 2), (\"'another',\", 2), (\"'serve',\", 2), (\"'watch',\", 2), (\"'look',\", 2), (\"'web',\", 2), (\"'online',\", 2), (\"'developer',\", 2), (\"'cookie',\", 2), (\"'interest',\", 2), (\"'combine',\", 2), (\"'receives',\", 2), (\"'generates',\", 2), (\"'infers',\", 2), (\"'evaluate',\", 2), (\"'quality',\", 2), (\"'connect',\", 2), (\"'2',\", 2), (\"'five',\", 2), (\"'answer',\", 2), (\"'personalize',\", 2), (\"'permit',\", 2), (\"'client',\", 2), (\"'effectiveness',\", 2), (\"'enforce',\", 2), (\"'applicable',\", 2), (\"'research',\", 2), (\"'result',\", 2), (\"'specific',\", 2), (\"'else',\", 2), (\"'one',\", 2), (\"'news',\", 2), (\"'partnership',\", 2), (\"'behalf',\", 2), (\"'audience',\", 2), (\"'intend',\", 2), (\"'apis',\", 2), (\"'standard',\", 2), (\"'reflect',\", 2), (\"'http',\", 2), (\"'remove',\", 2), (\"'rule',\", 2), (\"'property',\", 2), (\"'sell',\", 2), (\"'transfer',\", 2), (\"'new',\", 2), (\"'copy',\", 2), (\"'specify',\", 2), (\"'requirement',\", 2), (\"'reason',\", 2), (\"'download',\", 2), (\"'periscope',\", 2), (\"'modification',\", 2), (\"'maintain',\", 2), (\"'deletion',\", 2), (\"'related',\", 2), (\"'reject',\", 2), (\"'choice',\", 2), (\"'notice',\", 2), (\"'tool',\", 2), (\"'agent',\", 2), (\"'ensure',\", 2), (\"'local',\", 2), (\"'conversation',\", 2), (\"'around',\", 2), (\"'13',\", 2), (\"'european',\", 2), (\"'union',\", 2), (\"'efta',\", 2), (\"'kingdom',\", 2)]\n"
          ]
        }
      ]
    },
    {
      "cell_type": "code",
      "source": [
        "split_it2 = mastodoncontent.split()\n",
        "Counter2 = Counter(split_it2)\n",
        "most_occur_mastodon = Counter2.most_common(300)\n",
        "print(most_occur_mastodon) "
      ],
      "metadata": {
        "colab": {
          "base_uri": "https://localhost:8080/"
        },
        "id": "_8ie42_J6VZ3",
        "outputId": "bad614d7-42dd-4519-eae5-26da6a6ea83d"
      },
      "execution_count": null,
      "outputs": [
        {
          "output_type": "stream",
          "name": "stdout",
          "text": [
            "[(\"'information',\", 20), (\"'server',\", 19), (\"'may',\", 17), (\"'post',\", 16), (\"'use',\", 11), (\"'policy',\", 9), (\"'address',\", 9), (\"'follower',\", 9), (\"'site',\", 9), (\"'deliver',\", 8), (\"'ip',\", 7), (\"'log',\", 7), (\"'privacy',\", 6), (\"'access',\", 6), (\"'account',\", 6), (\"'proﬁle',\", 6), (\"'public',\", 6), (\"'people',\", 6), (\"'message',\", 6), (\"'mastodon',\", 5), (\"'also',\", 5), (\"'list',\", 5), (\"'follow',\", 5), (\"'store',\", 5), (\"'application',\", 5), (\"'direct',\", 5), (\"'content',\", 5), (\"'available',\", 4), (\"'register',\", 4), (\"'picture',\", 4), (\"'publicly',\", 4), (\"'different',\", 4), (\"'browser',\", 4), (\"'request',\", 4), (\"'cooky',\", 4), (\"'service',\", 4), (\"'party',\", 4), (\"'http',\", 3), (\"'collect',\", 3), (\"'provide',\", 3), (\"'personal',\", 3), (\"'enter',\", 3), (\"'password',\", 3), (\"'name',\", 3), (\"'header',\", 3), (\"'image',\", 3), (\"'submit',\", 3), (\"'well',\", 3), (\"'copy',\", 3), (\"'user',\", 3), (\"'recipient',\", 3), (\"'retain',\", 3), (\"'include',\", 3), (\"'requirement',\", 3), (\"'update',\", 2), (\"'describes',\", 2), (\"'u',\", 2), (\"'personally',\", 2), (\"'identiﬁable',\", 2), (\"'api',\", 2), (\"'username',\", 2), (\"'display',\", 2), (\"'biography',\", 2), (\"'always',\", 2), (\"'time',\", 2), (\"'contain',\", 2), (\"'medium',\", 2), (\"'attachment',\", 2), (\"'case',\", 2), (\"'mean',\", 2), (\"'delete',\", 2), (\"'another',\", 2), (\"'mention',\", 2), (\"'make',\", 2), (\"'good',\", 2), (\"'faith',\", 2), (\"'effort',\", 2), (\"'authorize',\", 2), (\"'review',\", 2), (\"'approve',\", 2), (\"'setting',\", 2), (\"'keep',\", 2), (\"'view',\", 2), (\"'otherwise',\", 2), (\"'session',\", 2), (\"'12',\", 2), (\"'month',\", 2), (\"'protect',\", 2), (\"'safety',\", 2), (\"'secure',\", 2), (\"'enable',\", 2), (\"'data',\", 2), (\"'download',\", 2), (\"'transfer',\", 2), (\"'associate',\", 2), (\"'outside',\", 2), (\"'interact',\", 2), (\"'example',\", 2), (\"'send',\", 2), (\"'far',\", 2), (\"'release',\", 2), (\"'law',\", 2), (\"'reside',\", 2), (\"'child',\", 2), (\"'product',\", 2), (\"'least',\", 2), (\"'16',\", 2), (\"'year',\", 2), (\"'old',\", 2), (\"'age',\", 2), (\"'per',\", 2), (\"'protection',\", 2), (\"'13',\", 2), (\"['privacy',\", 1), (\"'last',\", 1), (\"'oct',\", 1), (\"'06',\", 1), (\"'2022',\", 1), (\"'protects',\", 1), (\"'us',\", 1), (\"'website',\", 1), (\"'choice',\", 1), (\"'regard',\", 1), (\"'apply',\", 1), (\"'practice',\", 1), (\"'company',\", 1), (\"'control',\", 1), (\"'individual',\", 1), (\"'employ',\", 1), (\"'manage',\", 1), (\"'basic',\", 1), (\"'ask',\", 1), (\"'mail',\", 1), (\"'additional',\", 1), (\"'upload',\", 1), (\"'true',\", 1), (\"'date',\", 1), (\"'video',\", 1), (\"'unlisted',\", 1), (\"'feature',\", 1), (\"'likewise',\", 1), (\"'action',\", 1), (\"'reblogging',\", 1), (\"'favouriting',\", 1), (\"'process',\", 1), (\"'limit',\", 1), (\"'person',\", 1), (\"'fail',\", 1), (\"'therefore',\", 1), (\"'important',\", 1), (\"'belong',\", 1), (\"'toggle',\", 1), (\"'option',\", 1), (\"'reject',\", 1), (\"'new',\", 1), (\"'manually',\", 1), (\"'please',\", 1), (\"'mind',\", 1), (\"'operator',\", 1), (\"'receive',\", 1), (\"'screenshot',\", 1), (\"'share',\", 1), (\"'sensitive',\", 1), (\"'metadata',\", 1), (\"'record',\", 1), (\"'revocation',\", 1), (\"'late',\", 1), (\"'every',\", 1), (\"'way',\", 1), (\"'implement',\", 1), (\"'variety',\", 1), (\"'security',\", 1), (\"'measure',\", 1), (\"'maintain',\", 1), (\"'among',\", 1), (\"'thing',\", 1), (\"'traﬃc',\", 1), (\"'ssl',\", 1), (\"'hash',\", 1), (\"'strong',\", 1), (\"'algorithm',\", 1), (\"'authentication',\", 1), (\"'retention',\", 1), (\"'archive',\", 1), (\"'irreversibly',\", 1), (\"'yes',\", 1), (\"'small',\", 1), (\"'ﬁles',\", 1), (\"'provider',\", 1), (\"'computer',\", 1), (\"'hard',\", 1), (\"'drive',\", 1), (\"'web',\", 1), (\"'allow',\", 1), (\"'recognize',\", 1), (\"'understand',\", 1), (\"'save',\", 1), (\"'preference',\", 1), (\"'future',\", 1), (\"'visit',\", 1), (\"'disclose',\", 1), (\"'core',\", 1), (\"'functionality',\", 1), (\"'combine',\", 1), (\"'personalize',\", 1), (\"'home',\", 1), (\"'timeline',\", 1), (\"'aid',\", 1), (\"'moderation',\", 1), (\"'community',\", 1), (\"'compare',\", 1), (\"'know',\", 1), (\"'one',\", 1), (\"'determine',\", 1), (\"'ban',\", 1), (\"'evasion',\", 1), (\"'violation',\", 1), (\"'email',\", 1), (\"'notiﬁcations',\", 1), (\"'respond',\", 1), (\"'inquiry',\", 1), (\"'question',\", 1), (\"'kept',\", 1), (\"'90',\", 1), (\"'day',\", 1), (\"'sell',\", 1), (\"'trade',\", 1), (\"'trust',\", 1), (\"'third',\", 1), (\"'assist',\", 1), (\"'operating',\", 1), (\"'conduct',\", 1), (\"'business',\", 1), (\"'long',\", 1), (\"'agree',\", 1), (\"'conﬁdential',\", 1), (\"'believe',\", 1), (\"'appropriate',\", 1), (\"'comply',\", 1), (\"'enforce',\", 1), (\"'others',\", 1), (\"'right',\", 1), (\"'property',\", 1), (\"'network',\", 1), (\"'depend',\", 1), (\"'scope',\", 1), (\"'permission',\", 1), (\"'favourite',\", 1), (\"'never',\", 1), (\"'usage',\", 1), (\"'eu',\", 1), (\"'eea',\", 1), (\"'gdpr',\", 1), (\"'general',\", 1), (\"'regulation',\", 1), (\"'usa',\", 1), (\"'coppa',\", 1), (\"'online',\", 1), (\"'act',\", 1), (\"'jurisdiction',\", 1), (\"'document',\", 1), (\"'originally',\", 1), (\"'adapt',\", 1), (\"'discourse',\", 1), (\"'policy']\", 1)]\n"
          ]
        }
      ]
    },
    {
      "cell_type": "markdown",
      "source": [
        "From here, unnecessary words are identified and will be added to the stop words list. \n",
        "\n",
        "The folllowing scrip is adopted from [Projectpro](https://www.projectpro.io/recipes/add-custom-stopwords-and-then-remove-them-from-text)"
      ],
      "metadata": {
        "id": "APHhSDUeZbtA"
      }
    },
    {
      "cell_type": "markdown",
      "source": [
        "Add new stop words, such as twitter, mastodon, privacy, policy, etc and add it to the existing stop words."
      ],
      "metadata": {
        "id": "sAHCkc3bZ-wC"
      }
    },
    {
      "cell_type": "code",
      "source": [
        "new_stopwords = [\"twitter\", 'mastodon', 'u', \"also\", \"daily\", \"privacy\", \"policy\", \"http\", 'last', 'update', 'oct', '06', '2022', ]\n",
        "stops.extend(new_stopwords)\n",
        "\n",
        "print(stops)"
      ],
      "metadata": {
        "colab": {
          "base_uri": "https://localhost:8080/"
        },
        "id": "tdF6ceffWwB4",
        "outputId": "937c2a1c-5227-4210-f398-a3efe1cb15a0"
      },
      "execution_count": null,
      "outputs": [
        {
          "output_type": "stream",
          "name": "stdout",
          "text": [
            "['i', 'me', 'my', 'myself', 'we', 'our', 'ours', 'ourselves', 'you', \"you're\", \"you've\", \"you'll\", \"you'd\", 'your', 'yours', 'yourself', 'yourselves', 'he', 'him', 'his', 'himself', 'she', \"she's\", 'her', 'hers', 'herself', 'it', \"it's\", 'its', 'itself', 'they', 'them', 'their', 'theirs', 'themselves', 'what', 'which', 'who', 'whom', 'this', 'that', \"that'll\", 'these', 'those', 'am', 'is', 'are', 'was', 'were', 'be', 'been', 'being', 'have', 'has', 'had', 'having', 'do', 'does', 'did', 'doing', 'a', 'an', 'the', 'and', 'but', 'if', 'or', 'because', 'as', 'until', 'while', 'of', 'at', 'by', 'for', 'with', 'about', 'against', 'between', 'into', 'through', 'during', 'before', 'after', 'above', 'below', 'to', 'from', 'up', 'down', 'in', 'out', 'on', 'off', 'over', 'under', 'again', 'further', 'then', 'once', 'here', 'there', 'when', 'where', 'why', 'how', 'all', 'any', 'both', 'each', 'few', 'more', 'most', 'other', 'some', 'such', 'no', 'nor', 'not', 'only', 'own', 'same', 'so', 'than', 'too', 'very', 's', 't', 'can', 'will', 'just', 'don', \"don't\", 'should', \"should've\", 'now', 'd', 'll', 'm', 'o', 're', 've', 'y', 'ain', 'aren', \"aren't\", 'couldn', \"couldn't\", 'didn', \"didn't\", 'doesn', \"doesn't\", 'hadn', \"hadn't\", 'hasn', \"hasn't\", 'haven', \"haven't\", 'isn', \"isn't\", 'ma', 'mightn', \"mightn't\", 'mustn', \"mustn't\", 'needn', \"needn't\", 'shan', \"shan't\", 'shouldn', \"shouldn't\", 'wasn', \"wasn't\", 'weren', \"weren't\", 'won', \"won't\", 'wouldn', \"wouldn't\", 'twitter', 'mastodon', 'u', 'also', 'daily', 'privacy', 'policy', 'http', 'last', 'update', 'oct', '06', '2022']\n"
          ]
        }
      ]
    },
    {
      "cell_type": "code",
      "source": [
        "newstops = stops\n",
        "print(newstops)"
      ],
      "metadata": {
        "colab": {
          "base_uri": "https://localhost:8080/"
        },
        "id": "vnsnF2Z9CuJO",
        "outputId": "cb0d5ddb-bde1-4260-d1bd-207c524945b7"
      },
      "execution_count": null,
      "outputs": [
        {
          "output_type": "stream",
          "name": "stdout",
          "text": [
            "['i', 'me', 'my', 'myself', 'we', 'our', 'ours', 'ourselves', 'you', \"you're\", \"you've\", \"you'll\", \"you'd\", 'your', 'yours', 'yourself', 'yourselves', 'he', 'him', 'his', 'himself', 'she', \"she's\", 'her', 'hers', 'herself', 'it', \"it's\", 'its', 'itself', 'they', 'them', 'their', 'theirs', 'themselves', 'what', 'which', 'who', 'whom', 'this', 'that', \"that'll\", 'these', 'those', 'am', 'is', 'are', 'was', 'were', 'be', 'been', 'being', 'have', 'has', 'had', 'having', 'do', 'does', 'did', 'doing', 'a', 'an', 'the', 'and', 'but', 'if', 'or', 'because', 'as', 'until', 'while', 'of', 'at', 'by', 'for', 'with', 'about', 'against', 'between', 'into', 'through', 'during', 'before', 'after', 'above', 'below', 'to', 'from', 'up', 'down', 'in', 'out', 'on', 'off', 'over', 'under', 'again', 'further', 'then', 'once', 'here', 'there', 'when', 'where', 'why', 'how', 'all', 'any', 'both', 'each', 'few', 'more', 'most', 'other', 'some', 'such', 'no', 'nor', 'not', 'only', 'own', 'same', 'so', 'than', 'too', 'very', 's', 't', 'can', 'will', 'just', 'don', \"don't\", 'should', \"should've\", 'now', 'd', 'll', 'm', 'o', 're', 've', 'y', 'ain', 'aren', \"aren't\", 'couldn', \"couldn't\", 'didn', \"didn't\", 'doesn', \"doesn't\", 'hadn', \"hadn't\", 'hasn', \"hasn't\", 'haven', \"haven't\", 'isn', \"isn't\", 'ma', 'mightn', \"mightn't\", 'mustn', \"mustn't\", 'needn', \"needn't\", 'shan', \"shan't\", 'shouldn', \"shouldn't\", 'wasn', \"wasn't\", 'weren', \"weren't\", 'won', \"won't\", 'wouldn', \"wouldn't\", 'twitter', 'mastodon', 'u', 'also', 'daily', 'privacy', 'policy', 'http', 'last', 'update', 'oct', '06', '2022']\n"
          ]
        }
      ]
    },
    {
      "cell_type": "markdown",
      "source": [
        "Re-run the data clean ups with new stop words and override the current cleaned text files. "
      ],
      "metadata": {
        "id": "2yuZx4TTaYjh"
      }
    },
    {
      "cell_type": "code",
      "source": [
        "text_tokens = nltk.word_tokenize(content)\n",
        "nltk_text = nltk.Text(text_tokens)\n",
        "text_lower = [t.lower() for t in nltk_text if t.isalnum()]\n",
        "text_stops = [t for t in text_lower if t not in newstops]\n",
        "text_clean = [WordNetLemmatizer().lemmatize(t, get_wordnet_pos(t)) for t in text_stops]\n",
        "\n",
        "with open(f\"files_cleaned/twitter_cleaned.txt\", \"w\") as file:\n",
        "    file.write(str(text_clean))"
      ],
      "metadata": {
        "id": "W8B-81oTtLCJ"
      },
      "execution_count": null,
      "outputs": []
    },
    {
      "cell_type": "code",
      "source": [
        "text_tokens4 = nltk.word_tokenize(content2)\n",
        "nltk_text4 = nltk.Text(text_tokens4)\n",
        "text_lower4 = [t.lower() for t in nltk_text4 if t.isalnum()]\n",
        "text_stops4 = [t for t in text_lower4 if t not in newstops]\n",
        "text_clean4 = [WordNetLemmatizer().lemmatize(t, get_wordnet_pos(t)) for t in text_stops4]\n",
        "\n",
        "with open(f\"files_cleaned/mastodon_cleaned.txt\", \"w\") as file:\n",
        "    file.write(str(text_clean4))"
      ],
      "metadata": {
        "id": "XiUXDqrVBpIM"
      },
      "execution_count": null,
      "outputs": []
    },
    {
      "cell_type": "markdown",
      "source": [
        "Open the file to check if the stop words are reflected properly."
      ],
      "metadata": {
        "id": "Gr4s0A5-tZtb"
      }
    },
    {
      "cell_type": "code",
      "source": [
        "file = open(f\"files_cleaned/twitter_cleaned.txt\", 'r')\n",
        "newtwittercontent = file.read()\n",
        "print(newtwittercontent)"
      ],
      "metadata": {
        "id": "6Vu1dci9taTI",
        "colab": {
          "base_uri": "https://localhost:8080/"
        },
        "outputId": "96b4ac82-b7f1-4958-aa59-e4c0b7a83098"
      },
      "execution_count": null,
      "outputs": [
        {
          "output_type": "stream",
          "name": "stdout",
          "text": [
            "['scroll', 'read', 'really', 'hard', 'make', 'everyone', 'happy', 'people', 'use', 'want', 'something', 'short', 'easy', 'understand', 'wish', 'could', 'fit', 'everything', 'need', 'know', 'tweet', 'regulator', 'ask', 'u', 'meet', 'legal', 'obligation', 'describe', 'lot', 'detail', 'mind', 'write', 'simply', 'possible', 'empower', 'make', 'inform', 'decision', 'use', 'make', 'sure', 'understand', 'control', 'information', 'collect', 'use', 'share', 'skip', 'reading', 'every', 'word', 'least', 'know', 'public', 'platform', 'learn', 'viewable', 'searchable', 'collect', 'data', 'learn', 'collect', 'affiliate', 'service', 'may', 'policy', 'learn', 'affiliate', 'use', 'data', 'make', 'well', 'learn', 'make', 'info', 'work', 'control', 'experience', 'learn', 'setting', 'question', 'use', 'data', 'ask', 'learn', 'contact', 'u', 'seriously', 'happens', 'data', '1', 'information', 'collect', 'information', 'collect', 'use', 'fall', 'three', 'category', 'information', 'provide', 'u', 'use', 'product', 'service', 'need', 'account', 'create', 'account', 'need', 'provide', 'u', 'certain', 'information', 'likewise', 'use', 'paid', 'product', 'service', 'provide', 'without', 'get', 'payment', 'information', 'basically', 'certain', 'information', 'necessary', 'want', 'use', 'many', 'product', 'service', 'personal', 'account', 'create', 'account', 'must', 'provide', 'u', 'information', 'provide', 'service', 'include', 'display', 'name', 'example', 'moment', 'username', 'example', 'twittermoments', 'password', 'email', 'address', 'phone', 'number', 'date', 'birth', 'display', 'language', 'single', 'information', 'choose', 'method', 'choose', 'share', 'location', 'profile', 'tweet', 'upload', 'address', 'book', 'help', 'find', 'people', 'may', 'know', 'profile', 'information', 'include', 'display', 'name', 'username', 'always', 'public', 'use', 'either', 'real', 'name', 'pseudonym', 'remember', 'create', 'multiple', 'account', 'example', 'express', 'different', 'part', 'identity', 'professional', 'otherwise', 'data', 'collect', 'give', 'data', 'get', 'data', 'return', 'offer', 'useful', 'service', 'mind', 'check', 'setting', 'professional', 'account', 'create', 'professional', 'account', 'need', 'provide', 'u', 'professional', 'category', 'may', 'provide', 'u', 'information', 'include', 'street', 'address', 'contact', 'email', 'address', 'contact', 'phone', 'number', 'always', 'public', 'payment', 'information', 'order', 'purchase', 'ad', 'offering', 'provide', 'part', 'paid', 'product', 'service', 'need', 'provide', 'u', 'payment', 'information', 'include', 'credit', 'debit', 'card', 'number', 'card', 'expiration', 'date', 'cvv', 'code', 'billing', 'address', 'preference', 'set', 'preference', 'use', 'setting', 'collect', 'information', 'respect', 'preference', 'information', 'collect', 'use', 'use', 'service', 'collect', 'information', 'use', 'product', 'service', 'use', 'information', 'provide', 'product', 'service', 'help', 'keep', 'secure', 'respectful', 'everyone', 'relevant', 'usage', 'information', 'collect', 'information', 'activity', 'include', 'tweet', 'content', 'post', 'include', 'date', 'application', 'version', 'information', 'broadcast', 'activity', 'twitterlive', 'space', 'include', 'broadcast', 'create', 'create', 'list', 'bookmark', 'community', 'part', 'interaction', 'user', 'content', 'retweets', 'like', 'share', 'reply', 'user', 'mention', 'tag', 'content', 'mention', 'tag', 'broadcast', 'participate', 'include', 'view', 'history', 'listen', 'comment', 'speak', 'react', 'interact', 'others', 'platform', 'people', 'follow', 'people', 'follow', 'use', 'direct', 'message', 'include', 'content', 'message', 'recipient', 'date', 'time', 'message', 'communicate', 'u', 'email', 'collect', 'information', 'communication', 'content', 'collect', 'information', 'link', 'interact', 'across', 'service', 'include', 'email', 'sent', 'purchase', 'payment', 'allow', 'make', 'payment', 'send', 'money', 'use', 'feature', 'service', 'include', 'intermediary', 'may', 'receive', 'information', 'transaction', 'make', 'subscription', 'set', 'expire', 'amount', 'paid', 'receive', 'device', 'information', 'collect', 'information', 'device', 'use', 'access', 'include', 'information', 'connection', 'ip', 'address', 'browser', 'type', 'information', 'device', 'setting', 'device', 'advertising', 'id', 'operating', 'system', 'carrier', 'language', 'memory', 'apps', 'instal', 'battery', 'level', 'device', 'address', 'book', 'chosen', 'share', 'u', 'location', 'information', 'use', 'collect', 'information', 'approximate', 'location', 'provide', 'service', 'expect', 'include', 'show', 'relevant', 'ad', 'choose', 'share', 'current', 'precise', 'location', 'place', 'previously', 'use', 'enable', 'setting', 'account', 'infer', 'identity', 'may', 'collect', 'receive', 'information', 'use', 'infer', 'identity', 'detailed', 'sign', 'browser', 'device', 'associate', 'browser', 'device', 'account', 'subject', 'setting', 'may', 'associate', 'account', 'browser', 'device', 'use', 'sign', 'associate', 'device', 'browser', 'browser', 'device', 'identifier', 'provide', 'information', 'include', 'email', 'address', 'phone', 'number', 'associate', 'information', 'account', 'subject', 'setting', 'may', 'use', 'information', 'order', 'infer', 'information', 'identity', 'example', 'associate', 'account', 'hash', 'email', 'address', 'share', 'common', 'component', 'email', 'address', 'provide', 'access', 'sign', 'may', 'infer', 'identity', 'base', 'information', 'collect', 'log', 'information', 'may', 'receive', 'information', 'view', 'content', 'otherwise', 'interact', 'product', 'service', 'even', 'create', 'account', 'sign', 'ip', 'address', 'browser', 'type', 'language', 'operating', 'system', 'refer', 'webpage', 'access', 'time', 'page', 'visit', 'location', 'mobile', 'carrier', 'device', 'information', 'include', 'device', 'application', 'id', 'search', 'term', 'id', 'include', 'submit', 'query', 'ad', 'show', 'identifier', 'identifier', 'associate', 'cooky', 'receive', 'log', 'information', 'click', 'view', 'interact', 'link', 'service', 'include', 'install', 'another', 'application', 'advertisement', 'view', 'interact', 'ad', 'serve', 'may', 'collect', 'information', 'view', 'interaction', 'watch', 'video', 'ad', 'preroll', 'click', 'ad', 'interact', 'retweets', 'reply', 'ad', 'cooky', 'similar', 'technology', 'like', 'many', 'website', 'use', 'cooky', 'similar', 'technology', 'collect', 'additional', 'website', 'usage', 'data', 'operate', 'service', 'cooky', 'require', 'many', 'part', 'product', 'service', 'search', 'look', 'public', 'profile', 'learn', 'use', 'cooky', 'similar', 'technology', 'interaction', 'content', 'site', 'view', 'content', 'website', 'integrate', 'content', 'embed', 'timeline', 'tweet', 'button', 'may', 'receive', 'log', 'information', 'include', 'web', 'page', 'visit', 'information', 'receive', 'third', 'party', 'use', 'online', 'product', 'service', 'may', 'share', 'information', 'usage', 'u', 'ad', 'partner', 'developer', 'publisher', 'ad', 'business', 'partner', 'share', 'information', 'u', 'browser', 'cookie', 'id', 'identifier', 'mobile', 'device', 'id', 'hash', 'user', 'information', 'like', 'email', 'address', 'demographic', 'interest', 'data', 'content', 'view', 'action', 'take', 'website', 'app', 'ad', 'partner', 'particularly', 'advertiser', 'enable', 'u', 'collect', 'similar', 'information', 'directly', 'website', 'app', 'integrate', 'advertising', 'technology', 'information', 'share', 'ad', 'partner', 'affiliate', 'collect', 'website', 'apps', 'ad', 'partner', 'affiliate', 'may', 'combine', 'information', 'share', 'receives', 'generates', 'infers', 'described', 'elsewhere', 'third', 'party', 'account', 'connection', 'integration', 'may', 'receive', 'information', 'third', 'party', 'ad', 'partner', 'user', 'developer', 'partner', 'help', 'u', 'evaluate', 'safety', 'quality', 'content', 'platform', 'corporate', 'affiliate', 'service', 'link', 'account', 'may', 'choose', 'connect', 'account', 'account', 'another', 'service', 'service', 'may', 'send', 'u', 'information', 'account', 'service', '2', 'use', 'information', 'break', 'use', 'information', 'collect', 'simple', 'way', 'system', 'bring', 'service', 'work', 'example', 'piece', 'information', 'may', 'use', 'differently', 'different', 'purpose', 'ultimately', 'deliver', 'single', 'service', 'think', 'useful', 'describe', 'five', 'main', 'way', 'use', 'information', 'question', 'answer', 'always', 'contact', 'u', 'go', 'operate', 'improve', 'personalize', 'service', 'use', 'information', 'collect', 'provide', 'operate', 'product', 'service', 'use', 'information', 'collect', 'improve', 'personalize', 'product', 'service', 'well', 'experience', 'include', 'show', 'relevant', 'content', 'ad', 'suggest', 'people', 'topic', 'follow', 'enable', 'help', 'discover', 'affiliate', 'apps', 'service', 'may', 'use', 'information', 'collect', 'account', 'service', 'choose', 'connect', 'account', 'provide', 'feature', 'like', 'authentication', 'operate', 'service', 'use', 'contact', 'information', 'help', 'others', 'find', 'account', 'setting', 'permit', 'include', 'service', 'client', 'application', 'use', 'information', 'provide', 'advertising', 'sponsor', 'content', 'service', 'subject', 'setting', 'help', 'make', 'ad', 'relevant', 'use', 'information', 'measure', 'effectiveness', 'ad', 'help', 'recognize', 'device', 'serve', 'ad', 'ad', 'partner', 'enable', 'u', 'collect', 'similar', 'information', 'directly', 'website', 'app', 'integrate', 'advertising', 'technology', 'use', 'information', 'make', 'service', 'know', 'love', 'information', 'share', 'ad', 'partner', 'affiliate', 'collect', 'website', 'apps', 'ad', 'partner', 'affiliate', 'may', 'combine', 'information', 'share', 'receives', 'generates', 'infers', 'described', 'elsewhere', 'foster', 'safety', 'security', 'use', 'information', 'collect', 'provide', 'safety', 'security', 'user', 'product', 'service', 'account', 'include', 'verify', 'identity', 'authenticate', 'account', 'defend', 'fraud', 'unauthorized', 'use', 'illegal', 'activity', 'use', 'information', 'evaluate', 'affect', 'safety', 'quality', 'content', 'include', 'investigate', 'enforce', 'policy', 'term', 'well', 'applicable', 'law', 'measure', 'analyze', 'make', 'service', 'well', 'use', 'information', 'collect', 'measure', 'analyze', 'effectiveness', 'product', 'service', 'well', 'understand', 'use', 'order', 'make', 'well', 'communicate', 'service', 'use', 'information', 'collect', 'communicate', 'product', 'service', 'include', 'product', 'update', 'change', 'policy', 'term', 'open', 'hearing', 'u', 'may', 'send', 'marketing', 'message', 'time', 'time', 'research', 'use', 'information', 'share', 'u', 'collect', 'conduct', 'research', 'survey', 'product', 'test', 'troubleshoot', 'help', 'u', 'operate', 'improve', 'product', 'service', 'tweet', 'public', '3', 'share', 'information', 'know', 'way', 'share', 'information', 'share', 'control', 'five', 'general', 'way', 'share', 'information', 'tweet', 'post', 'share', 'general', 'public', 'direct', 'u', 'disclose', 'information', 'broadly', 'possible', 'content', 'include', 'profile', 'information', 'username', 'profile', 'picture', 'available', 'view', 'general', 'public', 'public', 'need', 'sign', 'view', 'much', 'content', 'may', 'find', 'content', 'example', 'search', 'query', 'result', 'internet', 'search', 'engine', 'user', 'depend', 'setting', 'base', 'product', 'service', 'use', 'share', 'interaction', 'content', 'user', 'like', 'people', 'follow', 'content', 'send', 'specific', 'user', 'direct', 'message', 'please', 'keep', 'mind', 'share', 'information', 'like', 'direct', 'message', 'protect', 'tweet', 'someone', 'else', 'access', 'service', 'information', 'may', 'share', 'service', 'share', 'information', 'quick', 'answer', 'one', 'head', 'tweet', 'end', 'news', 'search', 'engine', 'partner', 'depend', 'setting', 'provide', 'certain', 'third', 'party', 'information', 'help', 'u', 'offer', 'operate', 'product', 'service', 'learn', 'partnership', 'help', 'center', 'control', 'whether', 'share', 'personal', 'information', 'partner', 'use', 'data', 'share', 'business', 'partner', 'option', 'safety', 'setting', 'set', 'control', 'share', 'described', 'elsewhere', 'share', 'information', 'service', 'provider', 'partnership', 'described', 'help', 'center', 'article', 'third', 'party', 'integration', 'service', 'provider', 'may', 'share', 'information', 'service', 'provider', 'perform', 'function', 'provide', 'service', 'behalf', 'include', 'payment', 'service', 'provider', 'facilitate', 'payment', 'service', 'provider', 'host', 'various', 'blog', 'wikis', 'service', 'provider', 'help', 'u', 'understand', 'use', 'service', 'provide', 'fraud', 'detection', 'service', 'advertiser', 'advertising', 'revenue', 'enables', 'u', 'provide', 'product', 'service', 'advertiser', 'may', 'learn', 'information', 'engagement', 'ad', 'example', 'click', 'external', 'link', 'ad', 'service', 'advertiser', 'website', 'operator', 'might', 'figure', 'come', 'along', 'information', 'associate', 'ad', 'clicked', 'characteristic', 'audience', 'intend', 'reach', 'identifier', 'ad', 'may', 'collect', 'personal', 'information', 'cookie', 'identifier', 'ip', 'address', 'content', 'integration', 'share', 'disclose', 'information', 'consent', 'direction', 'authorize', 'party', 'web', 'client', 'application', 'access', 'account', 'direct', 'u', 'share', 'feedback', 'business', 'similarly', 'improve', 'experience', 'work', 'partner', 'display', 'video', 'content', 'allow', 'share', 'watch', 'otherwise', 'interact', 'content', 'video', 'share', 'partner', 'may', 'receive', 'process', 'personal', 'information', 'described', 'policy', 'video', 'content', 'adjust', 'autoplay', 'setting', 'prefer', 'content', 'play', 'automatically', 'apis', 'use', 'technology', 'like', 'apis', 'embeds', 'make', 'public', 'information', 'available', 'website', 'apps', 'others', 'use', 'example', 'display', 'tweet', 'news', 'website', 'analyze', 'people', 'say', 'generally', 'make', 'content', 'available', 'limited', 'quantity', 'free', 'charge', 'licensing', 'fee', 'access', 'standard', 'term', 'govern', 'information', 'use', 'compliance', 'program', 'enforce', 'term', 'individual', 'company', 'affiliate', 'offering', 'may', 'reflect', 'update', 'make', 'information', 'make', 'public', 'data', 'available', 'world', 'visit', 'http', 'require', 'law', 'prevent', 'harm', 'public', 'interest', 'may', 'preserve', 'use', 'share', 'disclose', 'information', 'believe', 'reasonably', 'necessary', 'comply', 'law', 'regulation', 'legal', 'process', 'governmental', 'request', 'protect', 'safety', 'person', 'protect', 'safety', 'integrity', 'platform', 'include', 'help', 'prevent', 'spam', 'abuse', 'malicious', 'actor', 'service', 'explain', 'remove', 'content', 'account', 'service', 'violation', 'rule', 'address', 'fraud', 'security', 'technical', 'issue', 'protect', 'right', 'property', 'right', 'property', 'use', 'service', 'affiliate', 'may', 'share', 'information', 'amongst', 'affiliate', 'provide', 'product', 'service', 'result', 'change', 'ownership', 'may', 'share', 'sell', 'transfer', 'information', 'connection', 'merger', 'acquisition', 'reorganization', 'sale', 'asset', 'bankruptcy', 'apply', 'personal', 'information', 'share', 'close', 'transaction', 'transfer', 'new', 'entity', 'data', 'expiration', 'date', '4', 'long', 'keep', 'information', 'keep', 'different', 'type', 'information', 'different', 'period', 'time', 'keep', 'profile', 'information', 'content', 'duration', 'account', 'generally', 'keep', 'personally', 'identifiable', 'data', 'collect', 'use', 'product', 'service', 'maximum', '18', 'month', 'remember', 'public', 'content', 'exist', 'elsewhere', 'even', 'remove', 'example', 'search', 'engine', 'third', 'party', 'may', 'retain', 'copy', 'tweet', 'longer', 'base', 'upon', 'policy', 'even', 'delete', 'expire', 'read', 'search', 'visibility', 'violate', 'rule', 'account', 'suspend', 'may', 'keep', 'identifier', 'use', 'create', 'account', 'email', 'address', 'phone', 'number', 'indefinitely', 'prevent', 'repeat', 'offender', 'create', 'new', 'account', 'may', 'keep', 'certain', 'information', 'longer', 'policy', 'specify', 'order', 'comply', 'legal', 'requirement', 'safety', 'security', 'reason', 'long', 'keep', 'data', 'generally', 'keep', 'data', 'long', 'account', '5', 'take', 'control', 'access', 'correction', 'portability', 'access', 'correct', 'modify', 'information', 'provide', 'u', 'edit', 'profile', 'adjust', 'account', 'setting', 'learn', 'information', 'collect', 'infer', 'data', 'request', 'access', 'additional', 'information', 'download', 'copy', 'information', 'tweet', 'follow', 'instruction', 'periscope', 'website', 'request', 'correction', 'modification', 'information', 'download', 'account', 'information', 'follow', 'instruction', 'protect', 'maintain', 'security', 'take', 'step', 'verify', 'identity', 'grant', 'access', 'personal', 'information', 'comply', 'deletion', 'portability', 'related', 'request', 'may', 'certain', 'situation', 'reject', 'request', 'access', 'correction', 'portability', 'example', 'may', 'reject', 'access', 'unable', 'verify', 'identity', 'control', 'data', 'access', 'delete', 'change', 'setting', 'basically', 'bos', 'delete', 'information', 'follow', 'instruction', 'periscope', 'account', 'deactivate', 'deactivate', 'account', 'include', 'display', 'name', 'username', 'public', 'profile', 'longer', 'viewable', 'io', 'android', '30', 'day', 'deactivation', 'still', 'possible', 'restore', 'account', 'accidentally', 'wrongfully', 'deactivate', 'object', 'restrict', 'withdraw', 'consent', 'manage', 'setting', 'account', 'feature', 'change', 'setting', 'may', 'take', 'time', 'choice', 'fully', 'reflect', 'throughout', 'system', 'may', 'notice', 'change', 'experience', 'limitation', 'ability', 'access', 'certain', 'feature', 'depend', 'setting', 'adjust', 'adheres', 'digital', 'advertising', 'alliance', 'principle', 'online', 'behavioral', 'advertising', 'refer', 'advertising', 'respect', 'daa', 'consumer', 'choice', 'tool', 'opt', 'base', 'advertising', 'http', 'authorize', 'agent', 'request', 'submit', 'request', 'related', 'access', 'modification', 'deletion', 'information', 'someone', 'else', 'information', 'authorize', 'agent', 'may', 'contact', 'u', 'specify', 'contact', 'section', 'may', 'require', 'provide', 'additional', 'information', 'verification', '6', 'right', 'provide', 'people', 'world', 'provide', 'many', 'tool', 'control', 'user', 'regardless', 'live', 'however', 'experience', 'may', 'slightly', 'different', 'user', 'country', 'ensure', 'respect', 'local', 'requirement', 'specific', 'legal', 'base', 'use', 'information', 'carefully', 'consider', 'legal', 'reason', 'permit', 'collect', 'use', 'share', 'otherwise', 'process', 'information', 'want', 'dig', 'learn', 'well', 'understand', 'nuance', 'encourage', 'check', 'additional', 'information', 'data', 'processing', 'sell', 'personal', 'information', 'move', 'data', 'make', 'work', 'use', 'seamlessly', 'participate', 'global', 'conversation', 'people', 'country', 'world', 'must', 'move', 'information', 'across', 'border', 'different', 'country', 'around', 'world', 'support', 'safe', 'reliable', 'service', 'depend', 'example', 'live', 'europe', 'conversation', 'someone', 'united', 'state', 'information', 'move', 'country', 'provide', 'experience', 'expect', 'u', 'handle', 'information', 'wherever', 'treat', 'information', 'fairly', 'matter', 'live', 'around', 'world', 'use', 'data', 'center', 'cloud', 'provider', 'engage', 'affiliate', 'partner', 'service', 'provider', 'locate', 'many', 'part', 'world', 'help', 'u', 'provide', 'service', 'move', 'data', 'country', 'look', 'risk', 'may', 'present', 'data', 'rely', 'thing', 'like', 'standard', 'contractual', 'clause', 'applicable', 'ensure', 'data', 'right', 'protect', 'data', 'share', 'third', 'party', 'require', 'maintain', 'protection', 'data', 'provide', 'directly', '7', 'audience', 'service', 'direct', 'child', 'may', 'use', 'service', 'age', '13', 'must', 'old', 'enough', 'consent', 'processing', 'personal', 'data', 'country', 'country', 'may', 'allow', 'parent', 'guardian', 'behalf', 'kid', 'nope', 'intend', 'people', '13', '8', 'change', 'current', 'version', 'governs', 'processing', 'personal', 'data', 'may', 'revise', 'time', 'time', 'need', 'revise', 'make', 'change', 'determine', 'u', 'material', 'provide', 'notice', 'opportunity', 'review', 'revise', 'continue', 'use', 'change', 'let', 'know', '9', 'contact', 'want', 'hear', 'thought', 'question', 'contact', 'u', 'via', 'inquiry', 'page', 'write', 'u', 'appropriate', 'address', 'live', 'united', 'state', 'country', 'outside', 'european', 'union', 'efta', 'state', 'united', 'kingdom', 'data', 'controller', 'responsible', 'personal', 'data', 'address', 'live', 'european', 'union', 'efta', 'state', 'united', 'kingdom', 'data', 'controller', 'international', 'unlimited', 'company', 'address', 'attn', 'inquiry', '1355', 'market', 'street', 'suite', '900', 'san', 'francisco', 'ca', '94103', 'international', 'unlimited', 'company', 'attn', 'data', 'protection', 'officer', 'one', 'cumberland', 'place', 'fenian', 'street', 'dublin', '2', 'd02', 'ax07', 'ireland', 'confidentially', 'contact', 'data', 'protection', 'officer', 'data', 'protection', 'inquiry', 'form', 'wish', 'raise', 'concern', 'data', 'processing', 'practice', 'right', 'local', 'supervisory', 'authority', 'international', 'unlimited', 'company', 'lead', 'supervisory', 'authority', 'irish', 'data', 'protection', 'commission', 'use', 'contact', 'detail', 'list', 'website', 'effective', 'june', '10', 'contact', 'slide', 'official', 'inbox']\n"
          ]
        }
      ]
    },
    {
      "cell_type": "code",
      "source": [
        "file2 = open(f\"files_cleaned/mastodon_cleaned.txt\", 'r')\n",
        "newmastodoncontent = file2.read()\n",
        "print(newmastodoncontent)"
      ],
      "metadata": {
        "colab": {
          "base_uri": "https://localhost:8080/"
        },
        "id": "aT0KB-BktcYG",
        "outputId": "bb5c027e-8984-445b-e8e5-0ff58851f81b"
      },
      "execution_count": null,
      "outputs": [
        {
          "output_type": "stream",
          "name": "stdout",
          "text": [
            "['http', 'update', 'describes', 'u', 'collect', 'protects', 'us', 'personally', 'identiﬁable', 'information', 'may', 'provide', 'website', 'api', 'describes', 'choice', 'available', 'regard', 'use', 'personal', 'information', 'access', 'information', 'apply', 'practice', 'company', 'control', 'individual', 'employ', 'manage', 'information', 'collect', 'basic', 'account', 'information', 'register', 'server', 'may', 'ask', 'enter', 'username', 'mail', 'address', 'password', 'may', 'enter', 'additional', 'proﬁle', 'information', 'display', 'name', 'biography', 'upload', 'proﬁle', 'picture', 'header', 'image', 'username', 'display', 'name', 'biography', 'proﬁle', 'picture', 'header', 'image', 'always', 'list', 'publicly', 'post', 'follow', 'public', 'information', 'list', 'people', 'follow', 'list', 'publicly', 'true', 'follower', 'submit', 'message', 'date', 'time', 'store', 'well', 'application', 'submit', 'message', 'message', 'may', 'contain', 'medium', 'attachment', 'picture', 'video', 'public', 'unlisted', 'post', 'available', 'publicly', 'feature', 'post', 'proﬁle', 'publicly', 'available', 'information', 'post', 'deliver', 'follower', 'case', 'mean', 'deliver', 'different', 'server', 'copy', 'store', 'delete', 'post', 'likewise', 'deliver', 'follower', 'action', 'reblogging', 'favouriting', 'another', 'post', 'always', 'public', 'direct', 'post', 'post', 'store', 'process', 'server', 'post', 'deliver', 'follower', 'user', 'mention', 'direct', 'post', 'deliver', 'user', 'mention', 'case', 'mean', 'deliver', 'different', 'server', 'copy', 'store', 'make', 'good', 'faith', 'effort', 'limit', 'access', 'post', 'authorize', 'person', 'server', 'may', 'fail', 'therefore', 'important', 'review', 'server', 'follower', 'belong', 'may', 'toggle', 'option', 'approve', 'reject', 'new', 'follower', 'manually', 'setting', 'please', 'keep', 'mind', 'operator', 'server', 'receive', 'server', 'may', 'view', 'message', 'recipient', 'may', 'screenshot', 'copy', 'otherwise', 'share', 'sensitive', 'information', 'ip', 'metadata', 'log', 'record', 'ip', 'address', 'log', 'well', 'name', 'browser', 'application', 'log', 'session', 'available', 'review', 'revocation', 'setting', 'late', 'ip', 'address', 'use', 'store', '12', 'month', 'may', 'retain', 'server', 'log', 'include', 'ip', 'address', 'every', 'request', 'server', 'http', 'use', 'information', 'information', 'collect', 'may', 'use', 'follow', 'way', 'protect', 'information', 'implement', 'variety', 'security', 'measure', 'maintain', 'safety', 'personal', 'information', 'enter', 'submit', 'access', 'personal', 'information', 'among', 'thing', 'browser', 'session', 'well', 'traﬃc', 'application', 'api', 'secure', 'ssl', 'password', 'hash', 'use', 'strong', 'algorithm', 'may', 'enable', 'authentication', 'secure', 'access', 'account', 'data', 'retention', 'make', 'good', 'faith', 'effort', 'request', 'download', 'archive', 'content', 'include', 'post', 'medium', 'attachment', 'proﬁle', 'picture', 'header', 'image', 'may', 'irreversibly', 'delete', 'account', 'time', 'use', 'cooky', 'yes', 'cooky', 'small', 'ﬁles', 'site', 'service', 'provider', 'transfer', 'computer', 'hard', 'drive', 'web', 'browser', 'allow', 'cooky', 'enable', 'site', 'recognize', 'browser', 'register', 'account', 'associate', 'register', 'account', 'use', 'cooky', 'understand', 'save', 'preference', 'future', 'visit', 'disclose', 'information', 'outside', 'party', 'provide', 'core', 'functionality', 'interact', 'people', 'content', 'post', 'content', 'log', 'example', 'may', 'follow', 'people', 'view', 'combine', 'post', 'personalize', 'home', 'timeline', 'aid', 'moderation', 'community', 'example', 'compare', 'ip', 'address', 'know', 'one', 'determine', 'ban', 'evasion', 'violation', 'email', 'address', 'provide', 'may', 'use', 'send', 'information', 'notiﬁcations', 'people', 'interact', 'content', 'send', 'message', 'respond', 'inquiry', 'request', 'question', 'retain', 'server', 'log', 'contain', 'ip', 'address', 'request', 'server', 'far', 'log', 'kept', '90', 'day', 'retain', 'ip', 'address', 'associate', 'register', 'user', '12', 'month', 'http', 'sell', 'trade', 'otherwise', 'transfer', 'outside', 'party', 'personally', 'identiﬁable', 'information', 'include', 'trust', 'third', 'party', 'assist', 'u', 'operating', 'site', 'conduct', 'business', 'service', 'long', 'party', 'agree', 'keep', 'information', 'conﬁdential', 'may', 'release', 'information', 'believe', 'release', 'appropriate', 'comply', 'law', 'enforce', 'site', 'policy', 'protect', 'others', 'right', 'property', 'safety', 'public', 'content', 'may', 'download', 'server', 'network', 'public', 'post', 'deliver', 'server', 'follower', 'reside', 'direct', 'message', 'deliver', 'server', 'recipient', 'far', 'follower', 'recipient', 'reside', 'different', 'server', 'authorize', 'application', 'use', 'account', 'depend', 'scope', 'permission', 'approve', 'may', 'access', 'public', 'proﬁle', 'information', 'follow', 'list', 'follower', 'list', 'post', 'favourite', 'application', 'never', 'access', 'address', 'password', 'site', 'usage', 'child', 'server', 'eu', 'eea', 'site', 'product', 'service', 'direct', 'people', 'least', '16', 'year', 'old', 'age', '16', 'per', 'requirement', 'gdpr', 'general', 'data', 'protection', 'regulation', 'use', 'site', 'server', 'usa', 'site', 'product', 'service', 'direct', 'people', 'least', '13', 'year', 'old', 'age', '13', 'per', 'requirement', 'coppa', 'child', 'online', 'protection', 'act', 'use', 'site', 'law', 'requirement', 'different', 'server', 'another', 'jurisdiction', 'document', 'originally', 'adapt', 'discourse']\n"
          ]
        }
      ]
    },
    {
      "cell_type": "markdown",
      "source": [
        "Since \"http\" was not deleted properly, by using replace function, \"http\" will be replaced with a space.\n",
        "\n",
        "The following script is adopted from [Geeks for Geeks](https://www.geeksforgeeks.org/how-to-search-and-replace-text-in-a-file-in-python/#)."
      ],
      "metadata": {
        "id": "Fkue1lJQSjTZ"
      }
    },
    {
      "cell_type": "code",
      "source": [
        "with open(f\"files_cleaned/mastodon_cleaned.txt\", 'r') as file:\n",
        "  \n",
        "    # Reading the content of the file\n",
        "    # using the read() function and storing\n",
        "    # them in a new variable\n",
        "    data = file.read()\n",
        "  \n",
        "    # Searching and replacing the text\n",
        "    # using the replace() function\n",
        "    data = data.replace('http', ' ')\n",
        "  \n",
        "# Opening our text file in write only\n",
        "# mode to write the replaced content\n",
        "with open(f\"files_cleaned/mastodon_cleaned.txt\", 'w') as file:\n",
        "  \n",
        "    # Writing the replaced data in our\n",
        "    # text file\n",
        "    file.write(data)\n",
        "\n",
        "cleanupmastodon = open(f\"files_cleaned/mastodon_cleaned.txt\", 'r')\n",
        "newmastodoncontent = cleanupmastodon.read()\n",
        "print(newmastodoncontent)"
      ],
      "metadata": {
        "colab": {
          "base_uri": "https://localhost:8080/"
        },
        "id": "E9cJ6SrfRGKu",
        "outputId": "c3a85416-0336-4906-ce25-cd34a9ad994e"
      },
      "execution_count": null,
      "outputs": [
        {
          "output_type": "stream",
          "name": "stdout",
          "text": [
            "[' ', 'update', 'describes', 'u', 'collect', 'protects', 'us', 'personally', 'identiﬁable', 'information', 'may', 'provide', 'website', 'api', 'describes', 'choice', 'available', 'regard', 'use', 'personal', 'information', 'access', 'information', 'apply', 'practice', 'company', 'control', 'individual', 'employ', 'manage', 'information', 'collect', 'basic', 'account', 'information', 'register', 'server', 'may', 'ask', 'enter', 'username', 'mail', 'address', 'password', 'may', 'enter', 'additional', 'proﬁle', 'information', 'display', 'name', 'biography', 'upload', 'proﬁle', 'picture', 'header', 'image', 'username', 'display', 'name', 'biography', 'proﬁle', 'picture', 'header', 'image', 'always', 'list', 'publicly', 'post', 'follow', 'public', 'information', 'list', 'people', 'follow', 'list', 'publicly', 'true', 'follower', 'submit', 'message', 'date', 'time', 'store', 'well', 'application', 'submit', 'message', 'message', 'may', 'contain', 'medium', 'attachment', 'picture', 'video', 'public', 'unlisted', 'post', 'available', 'publicly', 'feature', 'post', 'proﬁle', 'publicly', 'available', 'information', 'post', 'deliver', 'follower', 'case', 'mean', 'deliver', 'different', 'server', 'copy', 'store', 'delete', 'post', 'likewise', 'deliver', 'follower', 'action', 'reblogging', 'favouriting', 'another', 'post', 'always', 'public', 'direct', 'post', 'post', 'store', 'process', 'server', 'post', 'deliver', 'follower', 'user', 'mention', 'direct', 'post', 'deliver', 'user', 'mention', 'case', 'mean', 'deliver', 'different', 'server', 'copy', 'store', 'make', 'good', 'faith', 'effort', 'limit', 'access', 'post', 'authorize', 'person', 'server', 'may', 'fail', 'therefore', 'important', 'review', 'server', 'follower', 'belong', 'may', 'toggle', 'option', 'approve', 'reject', 'new', 'follower', 'manually', 'setting', 'please', 'keep', 'mind', 'operator', 'server', 'receive', 'server', 'may', 'view', 'message', 'recipient', 'may', 'screenshot', 'copy', 'otherwise', 'share', 'sensitive', 'information', 'ip', 'metadata', 'log', 'record', 'ip', 'address', 'log', 'well', 'name', 'browser', 'application', 'log', 'session', 'available', 'review', 'revocation', 'setting', 'late', 'ip', 'address', 'use', 'store', '12', 'month', 'may', 'retain', 'server', 'log', 'include', 'ip', 'address', 'every', 'request', 'server', ' ', 'use', 'information', 'information', 'collect', 'may', 'use', 'follow', 'way', 'protect', 'information', 'implement', 'variety', 'security', 'measure', 'maintain', 'safety', 'personal', 'information', 'enter', 'submit', 'access', 'personal', 'information', 'among', 'thing', 'browser', 'session', 'well', 'traﬃc', 'application', 'api', 'secure', 'ssl', 'password', 'hash', 'use', 'strong', 'algorithm', 'may', 'enable', 'authentication', 'secure', 'access', 'account', 'data', 'retention', 'make', 'good', 'faith', 'effort', 'request', 'download', 'archive', 'content', 'include', 'post', 'medium', 'attachment', 'proﬁle', 'picture', 'header', 'image', 'may', 'irreversibly', 'delete', 'account', 'time', 'use', 'cooky', 'yes', 'cooky', 'small', 'ﬁles', 'site', 'service', 'provider', 'transfer', 'computer', 'hard', 'drive', 'web', 'browser', 'allow', 'cooky', 'enable', 'site', 'recognize', 'browser', 'register', 'account', 'associate', 'register', 'account', 'use', 'cooky', 'understand', 'save', 'preference', 'future', 'visit', 'disclose', 'information', 'outside', 'party', 'provide', 'core', 'functionality', 'interact', 'people', 'content', 'post', 'content', 'log', 'example', 'may', 'follow', 'people', 'view', 'combine', 'post', 'personalize', 'home', 'timeline', 'aid', 'moderation', 'community', 'example', 'compare', 'ip', 'address', 'know', 'one', 'determine', 'ban', 'evasion', 'violation', 'email', 'address', 'provide', 'may', 'use', 'send', 'information', 'notiﬁcations', 'people', 'interact', 'content', 'send', 'message', 'respond', 'inquiry', 'request', 'question', 'retain', 'server', 'log', 'contain', 'ip', 'address', 'request', 'server', 'far', 'log', 'kept', '90', 'day', 'retain', 'ip', 'address', 'associate', 'register', 'user', '12', 'month', ' ', 'sell', 'trade', 'otherwise', 'transfer', 'outside', 'party', 'personally', 'identiﬁable', 'information', 'include', 'trust', 'third', 'party', 'assist', 'u', 'operating', 'site', 'conduct', 'business', 'service', 'long', 'party', 'agree', 'keep', 'information', 'conﬁdential', 'may', 'release', 'information', 'believe', 'release', 'appropriate', 'comply', 'law', 'enforce', 'site', 'policy', 'protect', 'others', 'right', 'property', 'safety', 'public', 'content', 'may', 'download', 'server', 'network', 'public', 'post', 'deliver', 'server', 'follower', 'reside', 'direct', 'message', 'deliver', 'server', 'recipient', 'far', 'follower', 'recipient', 'reside', 'different', 'server', 'authorize', 'application', 'use', 'account', 'depend', 'scope', 'permission', 'approve', 'may', 'access', 'public', 'proﬁle', 'information', 'follow', 'list', 'follower', 'list', 'post', 'favourite', 'application', 'never', 'access', 'address', 'password', 'site', 'usage', 'child', 'server', 'eu', 'eea', 'site', 'product', 'service', 'direct', 'people', 'least', '16', 'year', 'old', 'age', '16', 'per', 'requirement', 'gdpr', 'general', 'data', 'protection', 'regulation', 'use', 'site', 'server', 'usa', 'site', 'product', 'service', 'direct', 'people', 'least', '13', 'year', 'old', 'age', '13', 'per', 'requirement', 'coppa', 'child', 'online', 'protection', 'act', 'use', 'site', 'law', 'requirement', 'different', 'server', 'another', 'jurisdiction', 'document', 'originally', 'adapt', 'discourse']\n"
          ]
        }
      ]
    },
    {
      "cell_type": "markdown",
      "source": [
        "Now based on the cleaned up file, a WordCloud will be created to visualize what are the most common terms used in both policies. \n",
        "\n",
        "For the purpose of this paper, max words are limited to 30."
      ],
      "metadata": {
        "id": "gh1oSX-CbIiG"
      }
    },
    {
      "cell_type": "code",
      "source": [
        "# # create Word Clouds\n",
        "\n",
        "from wordcloud import WordCloud    \n",
        "import matplotlib.pyplot as plt\n",
        "\n",
        "wordcloud = WordCloud(max_font_size=40, collocations=False, max_words=30).generate(newtwittercontent)\n",
        "plt.figure()\n",
        "plt.imshow(wordcloud, interpolation=\"bilinear\")\n",
        "plt.axis(\"off\")\n",
        "plt.show()\n",
        "\n",
        "# save Word Clouds\n",
        "! mkdir wordclouds\n",
        "wordcloud.to_file(f\"wordclouds/word_cloud_twitter.png\")\n",
        "\n",
        "# Establish lexical density\n",
        "# text_clean_slice = text_clean [0:600]\n",
        "# ld_results = len(set(text_clean_slice)) / len(text_clean_slice)\n",
        "# print(ld_results)\n",
        "# ld_dict = {'File_name': filepath, 'lexical_density': ld_results}\n",
        "# lexical_density.append(ld_dict)\n",
        "\n",
        "# print(lexical_density)"
      ],
      "metadata": {
        "colab": {
          "base_uri": "https://localhost:8080/",
          "height": 303
        },
        "id": "ezoiR4jwXal9",
        "outputId": "a5e9842e-4668-4464-b741-982b5e014ab1"
      },
      "execution_count": null,
      "outputs": [
        {
          "output_type": "display_data",
          "data": {
            "text/plain": [
              "<Figure size 640x480 with 1 Axes>"
            ],
            "image/png": "[encoded data removed]"
          },
          "metadata": {}
        },
        {
          "output_type": "execute_result",
          "data": {
            "text/plain": [
              "<wordcloud.wordcloud.WordCloud at 0x7f217f2207c0>"
            ]
          },
          "metadata": {},
          "execution_count": 50
        }
      ]
    },
    {
      "cell_type": "code",
      "source": [
        "wordcloud2 = WordCloud(max_font_size=40, collocations=False, max_words=30).generate(newmastodoncontent)\n",
        "plt.figure()\n",
        "plt.imshow(wordcloud2, interpolation=\"bilinear\")\n",
        "plt.axis(\"off\")\n",
        "plt.show()\n",
        "\n",
        "# save Word Clouds\n",
        "wordcloud.to_file(f\"wordclouds/word_cloud_mastodon.png\")"
      ],
      "metadata": {
        "colab": {
          "base_uri": "https://localhost:8080/",
          "height": 303
        },
        "id": "gulptIdUVM5f",
        "outputId": "54cfb243-947c-4a9e-c198-fe4e59e454c9"
      },
      "execution_count": null,
      "outputs": [
        {
          "output_type": "display_data",
          "data": {
            "text/plain": [
              "<Figure size 640x480 with 1 Axes>"
            ],
            "image/png": "[encoded data removed]"
          },
          "metadata": {}
        },
        {
          "output_type": "execute_result",
          "data": {
            "text/plain": [
              "<wordcloud.wordcloud.WordCloud at 0x7f217f2207c0>"
            ]
          },
          "metadata": {},
          "execution_count": 51
        }
      ]
    },
    {
      "cell_type": "markdown",
      "source": [
        "Both Twitter and Mastodon have \"information\" as the most frequenty used term. It makes sense given the privacy policy is about how the company addresses user information.\n",
        "\n",
        "Some other notable terms from Twitter include \"provide\", \"share\", \"ad\", \"access\", \"affiliate\", \"partner\", and \"collect.\" \n",
        "\n",
        "There were many mentions of sharing the data as previously noted in the document. This can be due to how much data Twitter collects and uses to generate profit, through advertisement. \n",
        "\n",
        "For Mastodon, notable terms were \"server\", \"deliver\", \"IP\", \"site\", \"register\", \"log.\"\n",
        "\n",
        "This can be due to how Mastodon operates with distributed servers. \n",
        "\n",
        "What is most interesting from the wordcloud is that both Twitter and Matodon had the term \"may\" in their top 30 most frequently used terms. The use of term \"may\" can create confusion to the users as \"may\" in definition expresses possibility.\n",
        "\n",
        "For instance, Twitter provides following statement:\n",
        "\n",
        "“Professional Accounts. If you create a professional account, you also need to provide us with a professional category, and ***may*** provide us with other information, including street address, contact email address, and contact phone number, all of which will always be public.\"\n",
        "\n",
        "Also,\n",
        "\n",
        "“3.4 With our Affiliates.\n",
        "We ***may*** share information amongst our affiliates to provide our products and services.”\n",
        "\n",
        "\"May\" could be interpreted as optional information that users could provide but it can also be interpreted as Twitter possibly sharing information with other parties. \n",
        "\n",
        "As for Mastodon, their policy provides as follows:\n",
        "\n",
        "“Basic account information: If you register on this server, you ***may*** be asked to enter a username, an e- mail address and a password. You ***may*** also enter additional profile information such as a display name and biography, and upload a profile picture and header image. The username, display name, biography, profile picture and header image are always listed publicly.”\n",
        "\n",
        "Unless there are alternative ways to register on the server, this statement should be more definitive than merely expressing possibility.\n",
        "\n",
        "Both Twitter and Mastodon could provide clearer language surrounding how the data is collected and shared, if those data are certainly collected, used and shared. \n"
      ],
      "metadata": {
        "id": "aUS_fsecbf-O"
      }
    },
    {
      "cell_type": "markdown",
      "source": [
        "## Lexical Density\n",
        "\n",
        "[Lexical density](https://osawec.elc.cityu.edu.hk/repo/front-page/writing-tips/lexical-density/#:~:text=Assessed%20with%20Lexical%20Density%2C%20a,nouns%20while%20adverbs%20modify%20verbs) is used to find out the density of text or speech by dividing the number of lexical words by total number of words. Lexical words are verbs, nouns, adjectives and adverbs. According to [Languages Humanities](https://www.languagehumanities.org/what-is-lexical-density.htm),  a balanced lexicon density would be around 50%, whereas academic papers, government documents and jargon-filled documents tend to produce higher densities."
      ],
      "metadata": {
        "id": "0EI5s2pWVieW"
      }
    },
    {
      "cell_type": "code",
      "source": [
        "# Establish lexical density for Twitter\n",
        "text_clean_slice = newtwittercontent [0:1000]\n",
        "ld_results = len(set(text_clean_slice)) / len(text_clean_slice)\n",
        "\n",
        "print(ld_results)"
      ],
      "metadata": {
        "colab": {
          "base_uri": "https://localhost:8080/"
        },
        "id": "LSOqeFl_VkrS",
        "outputId": "167e2c8a-1361-4c2d-dcf0-e8a2fb504ff4"
      },
      "execution_count": null,
      "outputs": [
        {
          "output_type": "stream",
          "name": "stdout",
          "text": [
            "0.029\n"
          ]
        }
      ]
    },
    {
      "cell_type": "code",
      "source": [
        "# Establish lexical density for Mastodon\n",
        "text_clean_slice2 = newmastodoncontent [0:1000]\n",
        "ld_results2 = len(set(text_clean_slice2)) / len(text_clean_slice2)\n",
        "print(ld_results2)"
      ],
      "metadata": {
        "colab": {
          "base_uri": "https://localhost:8080/"
        },
        "id": "mWBg_ZeeZdg3",
        "outputId": "68bd23f3-5776-4e6f-bd8d-4dc497309ddc"
      },
      "execution_count": null,
      "outputs": [
        {
          "output_type": "stream",
          "name": "stdout",
          "text": [
            "0.027\n"
          ]
        }
      ]
    },
    {
      "cell_type": "markdown",
      "source": [
        "Considering both Mastodon and Twitter are measured to be less than 50%, we can infer that the documents are not as jargon heavy, and therefore should be easy for users to read and comprehend.\n"
      ],
      "metadata": {
        "id": "VSDDtx9ogytV"
      }
    },
    {
      "cell_type": "markdown",
      "source": [
        "## TF-IDF\n",
        "\n",
        "TF-IDF aims to identify the most distinctively frequent or significant words in a document. \n",
        "\n",
        "First, download necessary libraries"
      ],
      "metadata": {
        "id": "NeqJ2-qGuy5Q"
      }
    },
    {
      "cell_type": "code",
      "source": [
        "! pip install sklearn"
      ],
      "metadata": {
        "colab": {
          "base_uri": "https://localhost:8080/"
        },
        "id": "qUkOH6FtwcbW",
        "outputId": "27f2c54c-7bbc-48ef-9380-85c66226cdee"
      },
      "execution_count": null,
      "outputs": [
        {
          "output_type": "stream",
          "name": "stdout",
          "text": [
            "Looking in indexes: https://pypi.org/simple, https://us-python.pkg.dev/colab-wheels/public/simple/\n",
            "Collecting sklearn\n",
            "  Using cached sklearn-0.0.post4.tar.gz (3.6 kB)\n",
            "  \u001b[1;31merror\u001b[0m: \u001b[1msubprocess-exited-with-error\u001b[0m\n",
            "  \n",
            "  \u001b[31m×\u001b[0m \u001b[32mpython setup.py egg_info\u001b[0m did not run successfully.\n",
            "  \u001b[31m│\u001b[0m exit code: \u001b[1;36m1\u001b[0m\n",
            "  \u001b[31m╰─>\u001b[0m See above for output.\n",
            "  \n",
            "  \u001b[1;35mnote\u001b[0m: This error originates from a subprocess, and is likely not a problem with pip.\n",
            "  Preparing metadata (setup.py) ... \u001b[?25l\u001b[?25herror\n",
            "\u001b[1;31merror\u001b[0m: \u001b[1mmetadata-generation-failed\u001b[0m\n",
            "\n",
            "\u001b[31m×\u001b[0m Encountered error while generating package metadata.\n",
            "\u001b[31m╰─>\u001b[0m See above for output.\n",
            "\n",
            "\u001b[1;35mnote\u001b[0m: This is an issue with the package mentioned above, not pip.\n",
            "\u001b[1;36mhint\u001b[0m: See above for details.\n"
          ]
        }
      ]
    },
    {
      "cell_type": "code",
      "source": [
        "from sklearn.feature_extraction.text import TfidfVectorizer\n",
        "from sklearn.feature_extraction.text import CountVectorizer\n",
        "import pandas as pd\n",
        "pd.options.display.max_rows = 600\n",
        "from pathlib import Path  \n",
        "import glob"
      ],
      "metadata": {
        "id": "og3FHbLZu1d6"
      },
      "execution_count": null,
      "outputs": []
    },
    {
      "cell_type": "markdown",
      "source": [
        "Set Directory"
      ],
      "metadata": {
        "id": "IM8jKNFBhyyE"
      }
    },
    {
      "cell_type": "code",
      "source": [
        "directory_path = \"files_cleaned/\"\n",
        "text_files = glob.glob(f\"{directory_path}/*.txt\")"
      ],
      "metadata": {
        "id": "Pxh-F0ySvO-9"
      },
      "execution_count": null,
      "outputs": []
    },
    {
      "cell_type": "code",
      "source": [
        "text_files"
      ],
      "metadata": {
        "colab": {
          "base_uri": "https://localhost:8080/"
        },
        "id": "GLYxtAlswxgk",
        "outputId": "c4b04f70-3d93-4f80-aa29-f376a63a5342"
      },
      "execution_count": null,
      "outputs": [
        {
          "output_type": "execute_result",
          "data": {
            "text/plain": [
              "['files_cleaned/mastodon_cleaned.txt', 'files_cleaned/twitter_cleaned.txt']"
            ]
          },
          "metadata": {},
          "execution_count": 61
        }
      ]
    },
    {
      "cell_type": "code",
      "source": [
        "text_titles = [Path(text).stem for text in text_files]"
      ],
      "metadata": {
        "id": "zrUnRdd_cCCL"
      },
      "execution_count": null,
      "outputs": []
    },
    {
      "cell_type": "code",
      "source": [
        "text_titles"
      ],
      "metadata": {
        "colab": {
          "base_uri": "https://localhost:8080/"
        },
        "id": "uI1rW0aKcDXL",
        "outputId": "984f952a-8078-4faa-86c3-e093de064477"
      },
      "execution_count": null,
      "outputs": [
        {
          "output_type": "execute_result",
          "data": {
            "text/plain": [
              "['mastodon_cleaned', 'twitter_cleaned']"
            ]
          },
          "metadata": {},
          "execution_count": 63
        }
      ]
    },
    {
      "cell_type": "markdown",
      "source": [
        "Run TfidfVectorizer"
      ],
      "metadata": {
        "id": "UBKt29q0h3yM"
      }
    },
    {
      "cell_type": "code",
      "source": [
        "tfidf_vectorizer = TfidfVectorizer(input='filename', stop_words='english')"
      ],
      "metadata": {
        "id": "3jyfF2qsu2v6"
      },
      "execution_count": null,
      "outputs": []
    },
    {
      "cell_type": "code",
      "source": [
        "tfidf_vector = tfidf_vectorizer.fit_transform(text_files)"
      ],
      "metadata": {
        "id": "gFHj70iEu20M"
      },
      "execution_count": null,
      "outputs": []
    },
    {
      "cell_type": "code",
      "source": [
        "type(tfidf_vector)"
      ],
      "metadata": {
        "id": "mIidK5bHu24m",
        "colab": {
          "base_uri": "https://localhost:8080/"
        },
        "outputId": "6c672376-4f04-44a3-fb92-c4b796a646b4"
      },
      "execution_count": null,
      "outputs": [
        {
          "output_type": "execute_result",
          "data": {
            "text/plain": [
              "scipy.sparse._csr.csr_matrix"
            ]
          },
          "metadata": {},
          "execution_count": 66
        }
      ]
    },
    {
      "cell_type": "markdown",
      "source": [
        "Turn the result into dataframe"
      ],
      "metadata": {
        "id": "UiBRkdXmiGR-"
      }
    },
    {
      "cell_type": "code",
      "source": [
        "tfidf_df = pd.DataFrame(tfidf_vector.toarray(), index=text_titles, columns=tfidf_vectorizer.get_feature_names_out())"
      ],
      "metadata": {
        "id": "U-FdVkTwu27s"
      },
      "execution_count": null,
      "outputs": []
    },
    {
      "cell_type": "code",
      "source": [
        "tfidf_df = tfidf_df.stack().reset_index()"
      ],
      "metadata": {
        "id": "I1Xgsz_Lc4er"
      },
      "execution_count": null,
      "outputs": []
    },
    {
      "cell_type": "markdown",
      "source": [
        "Rename Dataframe Columns"
      ],
      "metadata": {
        "id": "nDC_uT48imN_"
      }
    },
    {
      "cell_type": "code",
      "source": [
        "tfidf_df = tfidf_df.rename(columns={0:'tfidf', 'level_0': 'document','level_1': 'term'})"
      ],
      "metadata": {
        "id": "F6BoW9Klc6zU"
      },
      "execution_count": null,
      "outputs": []
    },
    {
      "cell_type": "markdown",
      "source": [
        "Print top 10 terms and highest tfidf scores"
      ],
      "metadata": {
        "id": "2gxyXjsfirR4"
      }
    },
    {
      "cell_type": "code",
      "source": [
        "tfidf_df.sort_values(by=['document','tfidf'], ascending=[True,False]).groupby(['document']).head(10)"
      ],
      "metadata": {
        "colab": {
          "base_uri": "https://localhost:8080/",
          "height": 677
        },
        "id": "PG5mtT_Kc7FK",
        "outputId": "60a530eb-500f-45b6-d5d9-13f213a81e92"
      },
      "execution_count": null,
      "outputs": [
        {
          "output_type": "execute_result",
          "data": {
            "text/plain": [
              "              document         term     tfidf\n",
              "562   mastodon_cleaned       server  0.469758\n",
              "306   mastodon_cleaned  information  0.351828\n",
              "450   mastodon_cleaned         post  0.281462\n",
              "252   mastodon_cleaned     follower  0.222517\n",
              "641   mastodon_cleaned          use  0.193505\n",
              "23    mastodon_cleaned      address  0.158323\n",
              "575   mastodon_cleaned         site  0.158323\n",
              "473   mastodon_cleaned       proﬁle  0.148345\n",
              "174   mastodon_cleaned      deliver  0.140731\n",
              "591   mastodon_cleaned        store  0.123621\n",
              "980    twitter_cleaned  information  0.573386\n",
              "1237   twitter_cleaned      service  0.316351\n",
              "1315   twitter_cleaned          use  0.301522\n",
              "1241   twitter_cleaned        share  0.182890\n",
              "688    twitter_cleaned      account  0.177947\n",
              "838    twitter_cleaned         data  0.173004\n",
              "790    twitter_cleaned      collect  0.168061\n",
              "694    twitter_cleaned           ad  0.166733\n",
              "1145   twitter_cleaned      provide  0.148289\n",
              "815    twitter_cleaned      content  0.138403"
            ],
            "text/html": [
              "\n",
              "  <div id=\"df-1ed00ef3-d984-4a9b-a759-f76f55129524\">\n",
              "    <div class=\"colab-df-container\">\n",
              "      <div>\n",
              "<style scoped>\n",
              "    .dataframe tbody tr th:only-of-type {\n",
              "        vertical-align: middle;\n",
              "    }\n",
              "\n",
              "    .dataframe tbody tr th {\n",
              "        vertical-align: top;\n",
              "    }\n",
              "\n",
              "    .dataframe thead th {\n",
              "        text-align: right;\n",
              "    }\n",
              "</style>\n",
              "<table border=\"1\" class=\"dataframe\">\n",
              "  <thead>\n",
              "    <tr style=\"text-align: right;\">\n",
              "      <th></th>\n",
              "      <th>document</th>\n",
              "      <th>term</th>\n",
              "      <th>tfidf</th>\n",
              "    </tr>\n",
              "  </thead>\n",
              "  <tbody>\n",
              "    <tr>\n",
              "      <th>562</th>\n",
              "      <td>mastodon_cleaned</td>\n",
              "      <td>server</td>\n",
              "      <td>0.469758</td>\n",
              "    </tr>\n",
              "    <tr>\n",
              "      <th>306</th>\n",
              "      <td>mastodon_cleaned</td>\n",
              "      <td>information</td>\n",
              "      <td>0.351828</td>\n",
              "    </tr>\n",
              "    <tr>\n",
              "      <th>450</th>\n",
              "      <td>mastodon_cleaned</td>\n",
              "      <td>post</td>\n",
              "      <td>0.281462</td>\n",
              "    </tr>\n",
              "    <tr>\n",
              "      <th>252</th>\n",
              "      <td>mastodon_cleaned</td>\n",
              "      <td>follower</td>\n",
              "      <td>0.222517</td>\n",
              "    </tr>\n",
              "    <tr>\n",
              "      <th>641</th>\n",
              "      <td>mastodon_cleaned</td>\n",
              "      <td>use</td>\n",
              "      <td>0.193505</td>\n",
              "    </tr>\n",
              "    <tr>\n",
              "      <th>23</th>\n",
              "      <td>mastodon_cleaned</td>\n",
              "      <td>address</td>\n",
              "      <td>0.158323</td>\n",
              "    </tr>\n",
              "    <tr>\n",
              "      <th>575</th>\n",
              "      <td>mastodon_cleaned</td>\n",
              "      <td>site</td>\n",
              "      <td>0.158323</td>\n",
              "    </tr>\n",
              "    <tr>\n",
              "      <th>473</th>\n",
              "      <td>mastodon_cleaned</td>\n",
              "      <td>proﬁle</td>\n",
              "      <td>0.148345</td>\n",
              "    </tr>\n",
              "    <tr>\n",
              "      <th>174</th>\n",
              "      <td>mastodon_cleaned</td>\n",
              "      <td>deliver</td>\n",
              "      <td>0.140731</td>\n",
              "    </tr>\n",
              "    <tr>\n",
              "      <th>591</th>\n",
              "      <td>mastodon_cleaned</td>\n",
              "      <td>store</td>\n",
              "      <td>0.123621</td>\n",
              "    </tr>\n",
              "    <tr>\n",
              "      <th>980</th>\n",
              "      <td>twitter_cleaned</td>\n",
              "      <td>information</td>\n",
              "      <td>0.573386</td>\n",
              "    </tr>\n",
              "    <tr>\n",
              "      <th>1237</th>\n",
              "      <td>twitter_cleaned</td>\n",
              "      <td>service</td>\n",
              "      <td>0.316351</td>\n",
              "    </tr>\n",
              "    <tr>\n",
              "      <th>1315</th>\n",
              "      <td>twitter_cleaned</td>\n",
              "      <td>use</td>\n",
              "      <td>0.301522</td>\n",
              "    </tr>\n",
              "    <tr>\n",
              "      <th>1241</th>\n",
              "      <td>twitter_cleaned</td>\n",
              "      <td>share</td>\n",
              "      <td>0.182890</td>\n",
              "    </tr>\n",
              "    <tr>\n",
              "      <th>688</th>\n",
              "      <td>twitter_cleaned</td>\n",
              "      <td>account</td>\n",
              "      <td>0.177947</td>\n",
              "    </tr>\n",
              "    <tr>\n",
              "      <th>838</th>\n",
              "      <td>twitter_cleaned</td>\n",
              "      <td>data</td>\n",
              "      <td>0.173004</td>\n",
              "    </tr>\n",
              "    <tr>\n",
              "      <th>790</th>\n",
              "      <td>twitter_cleaned</td>\n",
              "      <td>collect</td>\n",
              "      <td>0.168061</td>\n",
              "    </tr>\n",
              "    <tr>\n",
              "      <th>694</th>\n",
              "      <td>twitter_cleaned</td>\n",
              "      <td>ad</td>\n",
              "      <td>0.166733</td>\n",
              "    </tr>\n",
              "    <tr>\n",
              "      <th>1145</th>\n",
              "      <td>twitter_cleaned</td>\n",
              "      <td>provide</td>\n",
              "      <td>0.148289</td>\n",
              "    </tr>\n",
              "    <tr>\n",
              "      <th>815</th>\n",
              "      <td>twitter_cleaned</td>\n",
              "      <td>content</td>\n",
              "      <td>0.138403</td>\n",
              "    </tr>\n",
              "  </tbody>\n",
              "</table>\n",
              "</div>\n",
              "      <button class=\"colab-df-convert\" onclick=\"convertToInteractive('df-1ed00ef3-d984-4a9b-a759-f76f55129524')\"\n",
              "              title=\"Convert this dataframe to an interactive table.\"\n",
              "              style=\"display:none;\">\n",
              "        \n",
              "  <svg xmlns=\"http://www.w3.org/2000/svg\" height=\"24px\"viewBox=\"0 0 24 24\"\n",
              "       width=\"24px\">\n",
              "    <path d=\"M0 0h24v24H0V0z\" fill=\"none\"/>\n",
              "    <path d=\"M18.56 5.44l.94 2.06.94-2.06 2.06-.94-2.06-.94-.94-2.06-.94 2.06-2.06.94zm-11 1L8.5 8.5l.94-2.06 2.06-.94-2.06-.94L8.5 2.5l-.94 2.06-2.06.94zm10 10l.94 2.06.94-2.06 2.06-.94-2.06-.94-.94-2.06-.94 2.06-2.06.94z\"/><path d=\"M17.41 7.96l-1.37-1.37c-.4-.4-.92-.59-1.43-.59-.52 0-1.04.2-1.43.59L10.3 9.45l-7.72 7.72c-.78.78-.78 2.05 0 2.83L4 21.41c.39.39.9.59 1.41.59.51 0 1.02-.2 1.41-.59l7.78-7.78 2.81-2.81c.8-.78.8-2.07 0-2.86zM5.41 20L4 18.59l7.72-7.72 1.47 1.35L5.41 20z\"/>\n",
              "  </svg>\n",
              "      </button>\n",
              "      \n",
              "  <style>\n",
              "    .colab-df-container {\n",
              "      display:flex;\n",
              "      flex-wrap:wrap;\n",
              "      gap: 12px;\n",
              "    }\n",
              "\n",
              "    .colab-df-convert {\n",
              "      background-color: #E8F0FE;\n",
              "      border: none;\n",
              "      border-radius: 50%;\n",
              "      cursor: pointer;\n",
              "      display: none;\n",
              "      fill: #1967D2;\n",
              "      height: 32px;\n",
              "      padding: 0 0 0 0;\n",
              "      width: 32px;\n",
              "    }\n",
              "\n",
              "    .colab-df-convert:hover {\n",
              "      background-color: #E2EBFA;\n",
              "      box-shadow: 0px 1px 2px rgba(60, 64, 67, 0.3), 0px 1px 3px 1px rgba(60, 64, 67, 0.15);\n",
              "      fill: #174EA6;\n",
              "    }\n",
              "\n",
              "    [theme=dark] .colab-df-convert {\n",
              "      background-color: #3B4455;\n",
              "      fill: #D2E3FC;\n",
              "    }\n",
              "\n",
              "    [theme=dark] .colab-df-convert:hover {\n",
              "      background-color: #434B5C;\n",
              "      box-shadow: 0px 1px 3px 1px rgba(0, 0, 0, 0.15);\n",
              "      filter: drop-shadow(0px 1px 2px rgba(0, 0, 0, 0.3));\n",
              "      fill: #FFFFFF;\n",
              "    }\n",
              "  </style>\n",
              "\n",
              "      <script>\n",
              "        const buttonEl =\n",
              "          document.querySelector('#df-1ed00ef3-d984-4a9b-a759-f76f55129524 button.colab-df-convert');\n",
              "        buttonEl.style.display =\n",
              "          google.colab.kernel.accessAllowed ? 'block' : 'none';\n",
              "\n",
              "        async function convertToInteractive(key) {\n",
              "          const element = document.querySelector('#df-1ed00ef3-d984-4a9b-a759-f76f55129524');\n",
              "          const dataTable =\n",
              "            await google.colab.kernel.invokeFunction('convertToInteractive',\n",
              "                                                     [key], {});\n",
              "          if (!dataTable) return;\n",
              "\n",
              "          const docLinkHtml = 'Like what you see? Visit the ' +\n",
              "            '<a target=\"_blank\" href=https://colab.research.google.com/notebooks/data_table.ipynb>data table notebook</a>'\n",
              "            + ' to learn more about interactive tables.';\n",
              "          element.innerHTML = '';\n",
              "          dataTable['output_type'] = 'display_data';\n",
              "          await google.colab.output.renderOutput(dataTable, element);\n",
              "          const docLink = document.createElement('div');\n",
              "          docLink.innerHTML = docLinkHtml;\n",
              "          element.appendChild(docLink);\n",
              "        }\n",
              "      </script>\n",
              "    </div>\n",
              "  </div>\n",
              "  "
            ]
          },
          "metadata": {},
          "execution_count": 71
        }
      ]
    },
    {
      "cell_type": "markdown",
      "source": [
        "Visualize the TFIDF using altair"
      ],
      "metadata": {
        "id": "SwKDcGMGHd8R"
      }
    },
    {
      "cell_type": "code",
      "source": [
        "!pip install altair"
      ],
      "metadata": {
        "colab": {
          "base_uri": "https://localhost:8080/"
        },
        "id": "OhQ7QKWMfYTQ",
        "outputId": "a3488725-7419-4b4c-d6af-72f405de311a"
      },
      "execution_count": null,
      "outputs": [
        {
          "output_type": "stream",
          "name": "stdout",
          "text": [
            "Looking in indexes: https://pypi.org/simple, https://us-python.pkg.dev/colab-wheels/public/simple/\n",
            "Requirement already satisfied: altair in /usr/local/lib/python3.9/dist-packages (4.2.2)\n",
            "Requirement already satisfied: toolz in /usr/local/lib/python3.9/dist-packages (from altair) (0.12.0)\n",
            "Requirement already satisfied: entrypoints in /usr/local/lib/python3.9/dist-packages (from altair) (0.4)\n",
            "Requirement already satisfied: jsonschema>=3.0 in /usr/local/lib/python3.9/dist-packages (from altair) (4.3.3)\n",
            "Requirement already satisfied: jinja2 in /usr/local/lib/python3.9/dist-packages (from altair) (3.1.2)\n",
            "Requirement already satisfied: pandas>=0.18 in /usr/local/lib/python3.9/dist-packages (from altair) (1.5.3)\n",
            "Requirement already satisfied: numpy in /usr/local/lib/python3.9/dist-packages (from altair) (1.22.4)\n",
            "Requirement already satisfied: pyrsistent!=0.17.0,!=0.17.1,!=0.17.2,>=0.14.0 in /usr/local/lib/python3.9/dist-packages (from jsonschema>=3.0->altair) (0.19.3)\n",
            "Requirement already satisfied: attrs>=17.4.0 in /usr/local/lib/python3.9/dist-packages (from jsonschema>=3.0->altair) (23.1.0)\n",
            "Requirement already satisfied: pytz>=2020.1 in /usr/local/lib/python3.9/dist-packages (from pandas>=0.18->altair) (2022.7.1)\n",
            "Requirement already satisfied: python-dateutil>=2.8.1 in /usr/local/lib/python3.9/dist-packages (from pandas>=0.18->altair) (2.8.2)\n",
            "Requirement already satisfied: MarkupSafe>=2.0 in /usr/local/lib/python3.9/dist-packages (from jinja2->altair) (2.1.2)\n",
            "Requirement already satisfied: six>=1.5 in /usr/local/lib/python3.9/dist-packages (from python-dateutil>=2.8.1->pandas>=0.18->altair) (1.16.0)\n"
          ]
        }
      ]
    },
    {
      "cell_type": "code",
      "source": [
        "import altair as alt\n",
        "import numpy as np\n",
        "\n",
        "# Terms in this list will get a red dot in the visualization\n",
        "term_list = ['information', 'share']\n",
        "\n",
        "# adding a little randomness to break ties in term ranking\n",
        "top_tfidf_plusRand = top_tfidf.copy()\n",
        "top_tfidf_plusRand['tfidf'] = top_tfidf_plusRand['tfidf'] + np.random.rand(top_tfidf.shape[0])*0.0001\n",
        "\n",
        "# base for all visualizations, with rank calculation\n",
        "base = alt.Chart(top_tfidf_plusRand).encode(\n",
        "    x = 'rank:O',\n",
        "    y = 'document:N'\n",
        ").transform_window(\n",
        "    rank = \"rank()\",\n",
        "    sort = [alt.SortField(\"tfidf\", order=\"descending\")],\n",
        "    groupby = [\"document\"],\n",
        ")\n",
        "\n",
        "# heatmap specification\n",
        "heatmap = base.mark_rect().encode(\n",
        "    color = 'tfidf:Q'\n",
        ")\n",
        "\n",
        "# red circle over terms in above list\n",
        "circle = base.mark_circle(size=100).encode(\n",
        "    color = alt.condition(\n",
        "        alt.FieldOneOfPredicate(field='term', oneOf=term_list),\n",
        "        alt.value('red'),\n",
        "        alt.value('#FFFFFF00')        \n",
        "    )\n",
        ")\n",
        "\n",
        "# text labels, white for darker heatmap colors\n",
        "text = base.mark_text(baseline='middle').encode(\n",
        "    text = 'term:N',\n",
        "    color = alt.condition(alt.datum.tfidf >= 0.23, alt.value('white'), alt.value('black'))\n",
        ")\n",
        "\n",
        "# display the three superimposed visualizations\n",
        "(heatmap + circle + text).properties(width = 600)"
      ],
      "metadata": {
        "colab": {
          "base_uri": "https://localhost:8080/",
          "height": 118
        },
        "id": "s263mAcQfZGA",
        "outputId": "2eb49b92-35a6-4c58-df54-ca3dd11be9f3"
      },
      "execution_count": null,
      "outputs": [
        {
          "output_type": "execute_result",
          "data": {
            "text/html": [
              "\n",
              "<div id=\"altair-viz-8f710565c34d434e94ff63b00ddd19e3\"></div>\n",
              "<script type=\"text/javascript\">\n",
              "  var VEGA_DEBUG = (typeof VEGA_DEBUG == \"undefined\") ? {} : VEGA_DEBUG;\n",
              "  (function(spec, embedOpt){\n",
              "    let outputDiv = document.currentScript.previousElementSibling;\n",
              "    if (outputDiv.id !== \"altair-viz-8f710565c34d434e94ff63b00ddd19e3\") {\n",
              "      outputDiv = document.getElementById(\"altair-viz-8f710565c34d434e94ff63b00ddd19e3\");\n",
              "    }\n",
              "    const paths = {\n",
              "      \"vega\": \"https://cdn.jsdelivr.net/npm//vega@5?noext\",\n",
              "      \"vega-lib\": \"https://cdn.jsdelivr.net/npm//vega-lib?noext\",\n",
              "      \"vega-lite\": \"https://cdn.jsdelivr.net/npm//vega-lite@4.17.0?noext\",\n",
              "      \"vega-embed\": \"https://cdn.jsdelivr.net/npm//vega-embed@6?noext\",\n",
              "    };\n",
              "\n",
              "    function maybeLoadScript(lib, version) {\n",
              "      var key = `${lib.replace(\"-\", \"\")}_version`;\n",
              "      return (VEGA_DEBUG[key] == version) ?\n",
              "        Promise.resolve(paths[lib]) :\n",
              "        new Promise(function(resolve, reject) {\n",
              "          var s = document.createElement('script');\n",
              "          document.getElementsByTagName(\"head\")[0].appendChild(s);\n",
              "          s.async = true;\n",
              "          s.onload = () => {\n",
              "            VEGA_DEBUG[key] = version;\n",
              "            return resolve(paths[lib]);\n",
              "          };\n",
              "          s.onerror = () => reject(`Error loading script: ${paths[lib]}`);\n",
              "          s.src = paths[lib];\n",
              "        });\n",
              "    }\n",
              "\n",
              "    function showError(err) {\n",
              "      outputDiv.innerHTML = `<div class=\"error\" style=\"color:red;\">${err}</div>`;\n",
              "      throw err;\n",
              "    }\n",
              "\n",
              "    function displayChart(vegaEmbed) {\n",
              "      vegaEmbed(outputDiv, spec, embedOpt)\n",
              "        .catch(err => showError(`Javascript Error: ${err.message}<br>This usually means there's a typo in your chart specification. See the javascript console for the full traceback.`));\n",
              "    }\n",
              "\n",
              "    if(typeof define === \"function\" && define.amd) {\n",
              "      requirejs.config({paths});\n",
              "      require([\"vega-embed\"], displayChart, err => showError(`Error loading script: ${err.message}`));\n",
              "    } else {\n",
              "      maybeLoadScript(\"vega\", \"5\")\n",
              "        .then(() => maybeLoadScript(\"vega-lite\", \"4.17.0\"))\n",
              "        .then(() => maybeLoadScript(\"vega-embed\", \"6\"))\n",
              "        .catch(showError)\n",
              "        .then(() => displayChart(vegaEmbed));\n",
              "    }\n",
              "  })({\"config\": {\"view\": {\"continuousWidth\": 400, \"continuousHeight\": 300}}, \"layer\": [{\"mark\": \"rect\", \"encoding\": {\"color\": {\"field\": \"tfidf\", \"type\": \"quantitative\"}, \"x\": {\"field\": \"rank\", \"type\": \"ordinal\"}, \"y\": {\"field\": \"document\", \"type\": \"nominal\"}}, \"transform\": [{\"window\": [{\"op\": \"rank\", \"field\": \"\", \"as\": \"rank\"}], \"groupby\": [\"document\"], \"sort\": [{\"field\": \"tfidf\", \"order\": \"descending\"}]}]}, {\"mark\": {\"type\": \"circle\", \"size\": 100}, \"encoding\": {\"color\": {\"condition\": {\"value\": \"red\", \"test\": {\"field\": \"term\", \"oneOf\": [\"information\", \"share\"]}}, \"value\": \"#FFFFFF00\"}, \"x\": {\"field\": \"rank\", \"type\": \"ordinal\"}, \"y\": {\"field\": \"document\", \"type\": \"nominal\"}}, \"transform\": [{\"window\": [{\"op\": \"rank\", \"field\": \"\", \"as\": \"rank\"}], \"groupby\": [\"document\"], \"sort\": [{\"field\": \"tfidf\", \"order\": \"descending\"}]}]}, {\"mark\": {\"type\": \"text\", \"baseline\": \"middle\"}, \"encoding\": {\"color\": {\"condition\": {\"value\": \"white\", \"test\": \"(datum.tfidf >= 0.23)\"}, \"value\": \"black\"}, \"text\": {\"field\": \"term\", \"type\": \"nominal\"}, \"x\": {\"field\": \"rank\", \"type\": \"ordinal\"}, \"y\": {\"field\": \"document\", \"type\": \"nominal\"}}, \"transform\": [{\"window\": [{\"op\": \"rank\", \"field\": \"\", \"as\": \"rank\"}], \"groupby\": [\"document\"], \"sort\": [{\"field\": \"tfidf\", \"order\": \"descending\"}]}]}], \"data\": {\"name\": \"data-14e58114b5b86da7a42cdedb67a34141\"}, \"width\": 600, \"$schema\": \"https://vega.github.io/schema/vega-lite/v4.17.0.json\", \"datasets\": {\"data-14e58114b5b86da7a42cdedb67a34141\": [{\"document\": \"mastodon_cleaned\", \"term\": \"server\", \"tfidf\": 0.4697821004915147}, {\"document\": \"mastodon_cleaned\", \"term\": \"information\", \"tfidf\": 0.35192430585223206}, {\"document\": \"mastodon_cleaned\", \"term\": \"post\", \"tfidf\": 0.2814952029244268}, {\"document\": \"mastodon_cleaned\", \"term\": \"follower\", \"tfidf\": 0.22257944356552006}, {\"document\": \"mastodon_cleaned\", \"term\": \"use\", \"tfidf\": 0.19353664538193105}, {\"document\": \"mastodon_cleaned\", \"term\": \"address\", \"tfidf\": 0.15832559875615937}, {\"document\": \"mastodon_cleaned\", \"term\": \"site\", \"tfidf\": 0.15836259491607318}, {\"document\": \"mastodon_cleaned\", \"term\": \"pro\\ufb01le\", \"tfidf\": 0.1483476254788984}, {\"document\": \"mastodon_cleaned\", \"term\": \"deliver\", \"tfidf\": 0.14075046644406866}, {\"document\": \"mastodon_cleaned\", \"term\": \"store\", \"tfidf\": 0.12363550723885901}, {\"document\": \"twitter_cleaned\", \"term\": \"information\", \"tfidf\": 0.573465626252283}, {\"document\": \"twitter_cleaned\", \"term\": \"service\", \"tfidf\": 0.31639460576599016}, {\"document\": \"twitter_cleaned\", \"term\": \"use\", \"tfidf\": 0.3015866770168372}, {\"document\": \"twitter_cleaned\", \"term\": \"share\", \"tfidf\": 0.18298454285285062}, {\"document\": \"twitter_cleaned\", \"term\": \"account\", \"tfidf\": 0.17804065966919416}, {\"document\": \"twitter_cleaned\", \"term\": \"data\", \"tfidf\": 0.1730222560710594}, {\"document\": \"twitter_cleaned\", \"term\": \"collect\", \"tfidf\": 0.16815491592729237}, {\"document\": \"twitter_cleaned\", \"term\": \"ad\", \"tfidf\": 0.1667636090226601}, {\"document\": \"twitter_cleaned\", \"term\": \"provide\", \"tfidf\": 0.14830056920415252}, {\"document\": \"twitter_cleaned\", \"term\": \"content\", \"tfidf\": 0.1384155168842163}]}}, {\"mode\": \"vega-lite\"});\n",
              "</script>"
            ],
            "text/plain": [
              "alt.LayerChart(...)"
            ]
          },
          "metadata": {},
          "execution_count": 75
        }
      ]
    },
    {
      "cell_type": "markdown",
      "source": [
        "The result is similar to what was shown using WordCloud. \n",
        "\n",
        "Both Twitter and Mastodon have \"information\" as top 2 used term in terms of frequency as this is an analysis of privacy policy. Considering the low TF-IDF scores throughout the top 10 terms, it is difficult to conclude which policy has more depth. However, this analysis demonstrates how these two companies operate. Mastodon highlights its servers while Twitter highlights its service. \n",
        "\n"
      ],
      "metadata": {
        "id": "5fAMwmpHjBYq"
      }
    },
    {
      "cell_type": "markdown",
      "source": [
        "## Limitations\n",
        "It should be noted that the main distinction between Twitter and Mastodon is the difference in servers. This means that Twitter has one server that collects and stores all data and is governed by Twitter’s own privacy policy, while Mastodon has several servers among which the data are collected, is based on user’s choice, and follow both [Mastodon and the servers’ own privacy policies](https://themarkup.org/the-breakdown/2022/11/21/we-joined-mastodon-heres-what-we-learned-about-privacy-and-security ). Considering Mastodon has more than [12,000 servers](https://mastodon.help/instances/en ), this research will only contain privacy policies of Mastodon itself, not its servers. \n"
      ],
      "metadata": {
        "id": "NXrt7j93lrTD"
      }
    },
    {
      "cell_type": "markdown",
      "source": [
        "##Replicability\n",
        "\n",
        "The code above can be used for other platforms and policies as long as the text is scraped from PDF filetypes. It would be interesting to see how other platforms that are as mature as Twitter, such as Facebook and Youtube, write their privacy policies. It would also be interesting to analyze other policies such as community guidelines or codes of conduct to answer other research questions. \n"
      ],
      "metadata": {
        "id": "-lLxni63mJRO"
      }
    },
    {
      "cell_type": "markdown",
      "source": [
        "## Conclusion\n",
        "\n",
        "This paper aimed to compare the privacy policies of Twitter and Mastodon with a hypothesis that Mastodon will have a better privacy policy. \n",
        "\n",
        "The analysis involved answering 7 questions on necessary information that should be included in the privacy policy, looking at vague and technical jargon, analyzing lexical density, as well as significant and frequent terms. The research finds that both Twitter and Mastodon fail to answer some of the 7 questions such as providing how data is secured and protected, who to contact regarding privacy, as well as establishing the legal basis for daqta collection. The weight of each question is left to the interpretation of the reader. In terms of technical jargon, while both Twitter and Mastodon use abbreviations, only Maston provided a full definition of abbreviations. However, both use vague language throughout their privacy policies by using the term \"may\" in many instances. Both Twitter and Mastodon should provide more certainty in their policy on how the users’ data are collected, used and shared by using concrete terms. By analyzing lexical density, the research finds that both Twitter and Mastodon write their policy in comprehensible ways, however, the focus of both policies are different as the two companies operate their businesses in distinct ways. Ultimately, as both companies lack clarity on their privacy policies in different areas, the hypothesis that Mastodon’s privacy policy is better than Twitter is inconclusive.\n"
      ],
      "metadata": {
        "id": "r-UUf0Gil7jx"
      }
    }
  ]
}
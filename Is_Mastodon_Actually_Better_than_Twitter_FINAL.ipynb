{
  "nbformat": 4,
  "nbformat_minor": 0,
  "metadata": {
    "colab": {
      "provenance": []
    },
    "kernelspec": {
      "name": "python3",
      "display_name": "Python 3"
    },
    "language_info": {
      "name": "python"
    }
  },
  "cells": [
    {
      "cell_type": "markdown",
      "source": [
        "# Is Mastodon Actually Better than Twitter? - A Closer Look at Privacy Policies \n",
        "\n",
        "## Introduction\n",
        "\n",
        "In January of 2022, Elon Musk indicated [interest in acquiring Twitter](https://apnews.com/article/twitter-elon-musk-timeline-c6b09620ee0905e59df9325ed042a609) by purchasing a small percentage of its shares. By October 27th of the same year, Musk closed a $44 billion deal to purchase Twitter and officially took over one of the major social media platforms in the world. With Musk’s mixed reputation in the technology space as well as [his vision](https://www.cnn.com/2022/10/28/tech/elon-musk-twitter-changes/index.html#:~:text=Musk%20has%20also%20said%20he,or%20demoted%20in%20their%20feed. ) for the platform, his leadership alarmed many users as he has heavily focused on profit and free speech over user trust and safety. In search of an alternative, users sought out a similar platform called Mastodon. [Mastodon](https://www.nytimes.com/2022/11/07/technology/mastodon-twitter-elon-musk.html ) is a social media platform that was founded in 2016 by software developer Eugen Rochko, and claims it can be a [“viable alternative to Twitter”](https://blog.joinmastodon.org/2022/04/twitter-buyout-puts-mastodon-into-spotlight/ ) as a free and open source platform where communication is not dictated by one commercial company. Its user base has [grown significantly](https://www.cnn.com/2022/12/20/tech/mastodon-twitter-usage/index.html) since Musk's takeover of Twitter.\n",
        "\n",
        "Musk’s leadership at Twitter has raised many questions about how social media should be governed and operated. Among many issues that social media companies are scrutinized for, privacy and data are one of the major topics discussed. There have been many data breaches of social media companies such as the infamous [Cambridge Analytica Scandal](https://www.nytimes.com/2018/04/04/us/politics/cambridge-analytica-scandal-fallout.html) in 2018, where millions of Facebook user’s data were breached and used for political purposes. Considering the significance of privacy and data, this paper aims to compare the privacy policies of Twitter and its alternative Mastodon. \n",
        "\n",
        "The hypothesis for this paper is that Mastodon is a better social media platform than Twitter, therefore Mastodon must have a good if not a better privacy policy than Twitter. In this context, a good privacy policy means setting out, at minimum, answers to these questions building upon [guildelines set by UC Berkeley's Information Security Office](https://security.berkeley.edu/how-write-effective-website-privacy-statement#:~:text=Your%20privacy%20statement%20must%20accurately,you%20must%20inform%20your%20users): what kind of data are collected, what is the legal basis for collecting such data, how are these data are used, who to contact regarding policies, how long is data retained, what measures are taken to protect and secure data, and who has access to data. The goal is to compare the two policies to determine which platform has the more comprehensive policy that seeks to provide necessary information to users but also do due diligence to protect the data. Vague language as well as difficult and technical jargon used in the policies will be considered against the platforms’ policies.\n",
        "\n",
        "For the purpose of this paper, technical jargon is limited to the use of abbreviations. For instance, if the policy states GDPR, a European regulation on data, instead of writing out General Data Protection Regulation, it will be considered a technical jargon. In terms of vague language, it will be limited to ambiguity coming from use of language that does not give certainty, such as ‘may’ will be considered. \n",
        "\n",
        "## Methodology\n",
        "\n",
        "Data collection for this method is fairly simple. Privacy policies are to be collected by downloading directly from [Twitter](https://twitter.com/en/privacy) and [Mastodon](https://mastodon.social/privacy-policy)’s websites and by using PyMuPDF, the texts will be extracted. \n",
        "\n",
        "First part of the research will go through the questions to be answered in privacy policies via search using Python readlines functions. Then, technical jargon will be searched using the Spacy library. Data will be then cleaned up using NLTK.  \n",
        "\n",
        "Considering Twitter’s privacy policy is longer and more detailed, using lexical density, a quantitative way of finding out breadth of vocabularies, the research seeks to answer which policy is more robust. Additionally, the Term Frequency-Inverse Document Frequency (TF-IDF) method will be used. Using this method, the most frequent and significant terms used in each company’s policies will be identified. Lastly, some of visualization tools will also be used. For instance, Word Cloud will show common words and visually demonstrate in sizes the relative frequency of the term mentioned in each of the policies, as well as a heat map showing the top 10 TF-IDF terms for each policy. \n",
        "\n",
        "Unless otherwise specified in this document, all codes used in this document are from the [Introduction to Text Analysis](https://github.com/intro-to-text-analysis-SIPA-S23/syllabus) course taught by Rebecca Krisel. \n",
        "\n",
        "\n"
      ],
      "metadata": {
        "id": "lgLauQmtHgMC"
      }
    },
    {
      "cell_type": "markdown",
      "source": [
        "## Data Scraping"
      ],
      "metadata": {
        "id": "3MvHfq_BLOhJ"
      }
    },
    {
      "cell_type": "markdown",
      "source": [
        "First scrape the policy from PDF using PyMuPDF\n",
        "\n",
        "Install PyMuPDF library"
      ],
      "metadata": {
        "id": "Efs_qfQ6719k"
      }
    },
    {
      "cell_type": "code",
      "execution_count": 3,
      "metadata": {
        "colab": {
          "base_uri": "https://localhost:8080/"
        },
        "id": "ZdG4taNw7D2E",
        "outputId": "c47deab7-83f8-4444-828e-4858c8069fd9"
      },
      "outputs": [
        {
          "output_type": "stream",
          "name": "stdout",
          "text": [
            "Looking in indexes: https://pypi.org/simple, https://us-python.pkg.dev/colab-wheels/public/simple/\n",
            "Collecting PyMuPDF\n",
            "  Downloading PyMuPDF-1.22.2-cp310-cp310-manylinux_2_17_x86_64.manylinux2014_x86_64.whl (14.1 MB)\n",
            "\u001b[2K     \u001b[90m━━━━━━━━━━━━━━━━━━━━━━━━━━━━━━━━━━━━━━━━\u001b[0m \u001b[32m14.1/14.1 MB\u001b[0m \u001b[31m14.6 MB/s\u001b[0m eta \u001b[36m0:00:00\u001b[0m\n",
            "\u001b[?25hInstalling collected packages: PyMuPDF\n",
            "Successfully installed PyMuPDF-1.22.2\n"
          ]
        }
      ],
      "source": [
        "!pip install PyMuPDF"
      ]
    },
    {
      "cell_type": "markdown",
      "source": [
        "Extract the text from the PDF files and create a text document"
      ],
      "metadata": {
        "id": "Jw1F9k7DLSra"
      }
    },
    {
      "cell_type": "code",
      "source": [
        "import fitz #fitz is pymupdf\n",
        "doc = fitz.open(\"Twitter_Privacy_Policy_EN.pdf\")  # open document\n",
        "out = open(\"twitter.txt\", \"wb\")  # open text output\n",
        "for page in doc:  # iterate the document pages\n",
        "    text = page.get_text().encode(\"utf8\")  # get plain text (is in UTF-8)\n",
        "    out.write(text)  # write text of page\n",
        "    out.write(bytes((12,)))  # write page delimiter (form feed 0x0C)\n",
        "out.close()"
      ],
      "metadata": {
        "id": "F-mOoJTJ7HXv"
      },
      "execution_count": 4,
      "outputs": []
    },
    {
      "cell_type": "code",
      "source": [
        "doc2 = fitz.open(\"Mastodon_Privacy_Policy.pdf\")\n",
        "out2 = open(\"mastodon.txt\", \"wb\") \n",
        "for page2 in doc2:  # iterate the document pages\n",
        "    text2 = page2.get_text().encode(\"utf8\")  # get plain text (is in UTF-8)\n",
        "    out2.write(text2)  # write text of page\n",
        "    out2.write(bytes((12,)))  # write page delimiter (form feed 0x0C)\n",
        "out2.close()"
      ],
      "metadata": {
        "id": "CXWCLidQ0hjw"
      },
      "execution_count": 5,
      "outputs": []
    },
    {
      "cell_type": "markdown",
      "source": [
        "## Answering UC Berkley's Guidelines using readlines function. \n",
        "\n",
        "The following script is adopted from [GeeksforGeeks](https://www.geeksforgeeks.org/python-how-to-search-for-a-string-in-text-files/# )"
      ],
      "metadata": {
        "id": "NA8De7k4LdUO"
      }
    },
    {
      "cell_type": "markdown",
      "source": [
        "Question 1: what kind of data are collected? For this question, \"data\" and \"information\" are used as search terms.\n"
      ],
      "metadata": {
        "id": "Q4WJIlTgRvwq"
      }
    },
    {
      "cell_type": "code",
      "source": [
        "word = 'data'\n",
        "with open(r'twitter.txt', 'r') as twitter:\n",
        "    # read all lines in a list\n",
        "    lines = twitter.readlines()\n",
        "    for line in lines:\n",
        "        # check if string present on a current line\n",
        "        if line.find(word) != -1:\n",
        "            print(word, 'string exists in file')\n",
        "            print('Line Number:', lines.index(line))\n",
        "            print('Line:', line)"
      ],
      "metadata": {
        "colab": {
          "base_uri": "https://localhost:8080/"
        },
        "id": "-RwNwnqzOMkd",
        "outputId": "4e3a9681-38cd-4278-d5da-93b40abf7275"
      },
      "execution_count": 6,
      "outputs": [
        {
          "output_type": "stream",
          "name": "stdout",
          "text": [
            "data string exists in file\n",
            "Line Number: 22\n",
            "Line: We collect some data about you\n",
            "\n",
            "data string exists in file\n",
            "Line Number: 26\n",
            "Line: We use your data to make Twitter better\n",
            "\n",
            "data string exists in file\n",
            "Line Number: 31\n",
            "Line: how we use data, just ask\n",
            "\n",
            "data string exists in file\n",
            "Line Number: 34\n",
            "Line: with my data?\n",
            "\n",
            "data string exists in file\n",
            "Line Number: 56\n",
            "Line: What data do you collect about me?\n",
            "\n",
            "data string exists in file\n",
            "Line Number: 57\n",
            "Line: You give some data, we get some data. In return we offer useful \n",
            "\n",
            "data string exists in file\n",
            "Line Number: 154\n",
            "Line: similar technologies to collect additional website usage data and to operate our \n",
            "\n",
            "data string exists in file\n",
            "Line Number: 169\n",
            "Line: or interest data, and content viewed or actions taken on a website or app. Some \n",
            "\n",
            "data string exists in file\n",
            "Line Number: 304\n",
            "Line: For more information about how we make public data on Twitter available \n",
            "\n",
            "data string exists in file\n",
            "Line Number: 331\n",
            "Line: \fDoes data have an expiration \n",
            "\n",
            "data string exists in file\n",
            "Line Number: 340\n",
            "Line: We generally keep other personally identifiable data we collect when you \n",
            "\n",
            "data string exists in file\n",
            "Line Number: 355\n",
            "Line: How long do you keep data?\n",
            "\n",
            "data string exists in file\n",
            "Line Number: 356\n",
            "Line: Generally, we keep your data as long as your account is up.\n",
            "\n",
            "data string exists in file\n",
            "Line Number: 376\n",
            "Line: How can I control my data?\n",
            "\n",
            "data string exists in file\n",
            "Line Number: 412\n",
            "Line: this additional information about data processing. And no, we don’t sell your \n",
            "\n",
            "data string exists in file\n",
            "Line Number: 414\n",
            "Line: 6.2 We move your data to make Twitter \n",
            "\n",
            "data string exists in file\n",
            "Line Number: 426\n",
            "Line: \fWe also use data centers and cloud providers, and engage our affiliates and \n",
            "\n",
            "data string exists in file\n",
            "Line Number: 428\n",
            "Line: help us provide our services. Before we move data between countries we look \n",
            "\n",
            "data string exists in file\n",
            "Line Number: 429\n",
            "Line: at the risks that may be presented to the data and rely on things like standard \n",
            "\n",
            "data string exists in file\n",
            "Line Number: 430\n",
            "Line: contractual clauses, where applicable, to ensure your data rights are protected. \n",
            "\n",
            "data string exists in file\n",
            "Line Number: 431\n",
            "Line: If data will be shared with a third party, we require them to maintain the same \n",
            "\n",
            "data string exists in file\n",
            "Line Number: 432\n",
            "Line: protections over your data that we provide directly.\n",
            "\n",
            "data string exists in file\n",
            "Line Number: 436\n",
            "Line: of your personal data in your country (in some countries we may allow your parent \n",
            "\n",
            "data string exists in file\n",
            "Line Number: 444\n",
            "Line: personal data and we may revise this Privacy Policy from time to time as needed.\n",
            "\n",
            "data string exists in file\n",
            "Line Number: 457\n",
            "Line: United Kingdom, the data controller \n",
            "\n",
            "data string exists in file\n",
            "Line Number: 458\n",
            "Line: responsible for your personal data is \n",
            "\n",
            "data string exists in file\n",
            "Line Number: 462\n",
            "Line: Kingdom, the data controller \n",
            "\n",
            "data string exists in file\n",
            "Line Number: 475\n",
            "Line: our data processing practices, you have the right to do so with your local \n",
            "\n"
          ]
        }
      ]
    },
    {
      "cell_type": "markdown",
      "source": [
        "Looking at the document from line 56, Twitter provides very detailed information about the data collected including email address or phone number, date of birth, as well as user tracking data, such as content posted, interaction with other content, links that you interact with. Additionally, Twitter collects device and location information, even interactions with Twitter content on third-party sites."
      ],
      "metadata": {
        "id": "p7BjHIjtMPpS"
      }
    },
    {
      "cell_type": "code",
      "source": [
        "word = 'information'\n",
        "with open(r'mastodon.txt', 'r') as mastodon:\n",
        "    # read all lines in a list\n",
        "    lines = mastodon.readlines()\n",
        "    for line in lines:\n",
        "        # check if string present on a current line\n",
        "        if line.find(word) != -1:\n",
        "            print(word, 'string exists in file')\n",
        "            print('Line Number:', lines.index(line))\n",
        "            print('Line:', line)"
      ],
      "metadata": {
        "colab": {
          "base_uri": "https://localhost:8080/"
        },
        "id": "ZFLYj_hC-TLJ",
        "outputId": "6ab8227a-8564-45ed-c014-b3189770fbec"
      },
      "execution_count": 7,
      "outputs": [
        {
          "output_type": "stream",
          "name": "stdout",
          "text": [
            "information string exists in file\n",
            "Line Number: 7\n",
            "Line: uses the personally identiﬁable information you may provide through the mastodon.social website or its\n",
            "\n",
            "information string exists in file\n",
            "Line Number: 8\n",
            "Line: API. The policy also describes the choices available to you regarding our use of your personal information\n",
            "\n",
            "information string exists in file\n",
            "Line Number: 9\n",
            "Line: and how you can access and update this information. This policy does not apply to the practices of\n",
            "\n",
            "information string exists in file\n",
            "Line Number: 12\n",
            "Line: What information do we collect?\n",
            "\n",
            "information string exists in file\n",
            "Line Number: 13\n",
            "Line: Basic account information: If you register on this server, you may be asked to enter a username, an e-\n",
            "\n",
            "information string exists in file\n",
            "Line Number: 14\n",
            "Line: mail address and a password. You may also enter additional proﬁle information such as a display\n",
            "\n",
            "information string exists in file\n",
            "Line Number: 17\n",
            "Line: Posts, following and other public information: The list of people you follow is listed publicly, the same\n",
            "\n",
            "information string exists in file\n",
            "Line Number: 21\n",
            "Line: proﬁle, that is also publicly available information. Your posts are delivered to your followers, in some\n",
            "\n",
            "information string exists in file\n",
            "Line Number: 33\n",
            "Line: them. Do not share any sensitive information over Mastodon.\n",
            "\n",
            "information string exists in file\n",
            "Line Number: 42\n",
            "Line: What do we use your information for?\n",
            "\n",
            "information string exists in file\n",
            "Line Number: 43\n",
            "Line: Any of the information we collect from you may be used in the following ways:\n",
            "\n",
            "information string exists in file\n",
            "Line Number: 44\n",
            "Line: How do we protect your information?\n",
            "\n",
            "information string exists in file\n",
            "Line Number: 45\n",
            "Line: We implement a variety of security measures to maintain the safety of your personal information when\n",
            "\n",
            "information string exists in file\n",
            "Line Number: 46\n",
            "Line: you enter, submit, or access your personal information. Among other things, your browser session, as well\n",
            "\n",
            "information string exists in file\n",
            "Line Number: 60\n",
            "Line: Do we disclose any information to outside parties?\n",
            "\n",
            "information string exists in file\n",
            "Line Number: 66\n",
            "Line: The email address you provide may be used to send you information, notiﬁcations about other people\n",
            "\n",
            "information string exists in file\n",
            "Line Number: 76\n",
            "Line: We do not sell, trade, or otherwise transfer to outside parties your personally identiﬁable information. This\n",
            "\n",
            "information string exists in file\n",
            "Line Number: 78\n",
            "Line: servicing you, so long as those parties agree to keep this information conﬁdential. We may also release\n",
            "\n",
            "information string exists in file\n",
            "Line Number: 79\n",
            "Line: your information when we believe release is appropriate to comply with the law, enforce our site policies,\n",
            "\n",
            "information string exists in file\n",
            "Line Number: 85\n",
            "Line: approve, it may access your public proﬁle information, your following list, your followers, your lists, all your\n",
            "\n"
          ]
        }
      ]
    },
    {
      "cell_type": "markdown",
      "source": [
        "From line 12 of the Mastodon document, it states that username, e-mail address, password, content, log information, etc., are all collected. \n",
        "\n",
        "Mastodon seems to collect less information from users. This may be because the products that Twitter offers are more complex than Mastodon. \n",
        "\n",
        "Ultimately, both policies meet the minimum requirement of answering what data are collected. \n"
      ],
      "metadata": {
        "id": "YDxsFTZEMf2T"
      }
    },
    {
      "cell_type": "markdown",
      "source": [
        "Question 2: what is the legal basis of collecting such data? For this question, \"law\" and \"legal\" are used as search terms."
      ],
      "metadata": {
        "id": "TBNMSw1DMISk"
      }
    },
    {
      "cell_type": "code",
      "source": [
        "word = 'legal'\n",
        "with open(r'twitter.txt', 'r') as twitter:\n",
        "    # read all lines in a list\n",
        "    lines = twitter.readlines()\n",
        "    for line in lines:\n",
        "        # check if string present on a current line\n",
        "        if line.find(word) != -1:\n",
        "            print(word, 'string exists in file')\n",
        "            print('Line Number:', lines.index(line))\n",
        "            print('Line:', line)"
      ],
      "metadata": {
        "colab": {
          "base_uri": "https://localhost:8080/"
        },
        "id": "z40Q0o7OPW_N",
        "outputId": "ef1cda6f-4748-4943-8bd4-76e4524c16c5"
      },
      "execution_count": 8,
      "outputs": [
        {
          "output_type": "stream",
          "name": "stdout",
          "text": [
            "legal string exists in file\n",
            "Line Number: 8\n",
            "Line: our regulators ask us to meet our legal \n",
            "\n",
            "legal string exists in file\n",
            "Line Number: 219\n",
            "Line: use, and illegal activity. We also use the information to evaluate and affect \n",
            "\n",
            "legal string exists in file\n",
            "Line Number: 311\n",
            "Line: comply with a law, regulation, legal process, or governmental request;\n",
            "\n",
            "legal string exists in file\n",
            "Line Number: 354\n",
            "Line: to comply with legal requirements and for safety and security reasons.\n",
            "\n",
            "legal string exists in file\n",
            "Line Number: 407\n",
            "Line: 6.1 We have specific legal bases to use your \n",
            "\n",
            "legal string exists in file\n",
            "Line Number: 409\n",
            "Line: Twitter has carefully considered the legal reasons it is permitted to collect, \n",
            "\n"
          ]
        }
      ]
    },
    {
      "cell_type": "markdown",
      "source": [
        "In line 407, section 6.1 of the document, Twitter mentions that it has \"carefully considered the legal reasons it is permitted to collect,\n",
        "use, share and otherwise process your information.\" There is no specific mention of the laws and regulation themselves. It does not fully answer the question but it does mention the legal basis. "
      ],
      "metadata": {
        "id": "8XprlB40NhWf"
      }
    },
    {
      "cell_type": "code",
      "source": [
        "word = 'law'\n",
        "with open(r'mastodon.txt', 'r') as mastodon:\n",
        "    # read all lines in a list\n",
        "    lines = mastodon.readlines()\n",
        "    for line in lines:\n",
        "        # check if string present on a current line\n",
        "        if line.find(word) != -1:\n",
        "            print(word, 'string exists in file')\n",
        "            print('Line Number:', lines.index(line))\n",
        "            print('Line:', line)"
      ],
      "metadata": {
        "colab": {
          "base_uri": "https://localhost:8080/"
        },
        "id": "b8ZjosHrBa9o",
        "outputId": "7a42ae29-f833-4750-d4e8-91ab19782231"
      },
      "execution_count": 9,
      "outputs": [
        {
          "output_type": "stream",
          "name": "stdout",
          "text": [
            "law string exists in file\n",
            "Line Number: 79\n",
            "Line: your information when we believe release is appropriate to comply with the law, enforce our site policies,\n",
            "\n"
          ]
        }
      ]
    },
    {
      "cell_type": "markdown",
      "source": [
        "Law is mentioned in Mastodon's policy, however, it also does not mention the legal basis on collection of the data. The statement is on sharing the data. \n",
        "\n",
        "For question 2, both Twitter and Mastodon do not cover the legal basis."
      ],
      "metadata": {
        "id": "PVkZFVOGN7NT"
      }
    },
    {
      "cell_type": "markdown",
      "source": [
        "Question 3: how are data used? For this question, \"use\" is used as a search term."
      ],
      "metadata": {
        "id": "P6_5vhGQOuGT"
      }
    },
    {
      "cell_type": "code",
      "source": [
        "word = 'use'\n",
        "with open(r'twitter.txt', 'r') as twitter:\n",
        "    # read all lines in a list\n",
        "    lines = twitter.readlines()\n",
        "    for line in lines:\n",
        "        # check if string present on a current line\n",
        "        if line.find(word) != -1:\n",
        "            print(word, 'string exists in file')\n",
        "            print('Line Number:', lines.index(line))\n",
        "            print('Line:', line)"
      ],
      "metadata": {
        "colab": {
          "base_uri": "https://localhost:8080/"
        },
        "id": "9eIko5AZCNRO",
        "outputId": "5562221b-ef1d-4c4c-c588-d78086c245fd"
      },
      "execution_count": 10,
      "outputs": [
        {
          "output_type": "stream",
          "name": "stdout",
          "text": [
            "use string exists in file\n",
            "Line Number: 4\n",
            "Line: with a Privacy Policy. Most people who use \n",
            "\n",
            "use string exists in file\n",
            "Line Number: 14\n",
            "Line: when you use Twitter by making sure you \n",
            "\n",
            "use string exists in file\n",
            "Line Number: 16\n",
            "Line: information we collect, how it’s used, and \n",
            "\n",
            "use string exists in file\n",
            "Line Number: 26\n",
            "Line: We use your data to make Twitter better\n",
            "\n",
            "use string exists in file\n",
            "Line Number: 31\n",
            "Line: how we use data, just ask\n",
            "\n",
            "use string exists in file\n",
            "Line Number: 36\n",
            "Line: The information we collect when you use Twitter falls into three categories.\n",
            "\n",
            "use string exists in file\n",
            "Line Number: 38\n",
            "Line: To use some of our products and services you need to have an account, and \n",
            "\n",
            "use string exists in file\n",
            "Line Number: 40\n",
            "Line: if you use our paid products and services, we cannot provide them to you \n",
            "\n",
            "use string exists in file\n",
            "Line Number: 42\n",
            "Line: necessary if you want to use many of our products and services.\n",
            "\n",
            "use string exists in file\n",
            "Line Number: 46\n",
            "Line: includes a display name (for example, “Twitter Moments”); a username \n",
            "\n",
            "use string exists in file\n",
            "Line Number: 52\n",
            "Line: profile information, which includes your display name and username, \n",
            "\n",
            "use string exists in file\n",
            "Line Number: 53\n",
            "Line: is always public, but you can use either your real name or a pseudonym. \n",
            "\n",
            "use string exists in file\n",
            "Line Number: 57\n",
            "Line: You give some data, we get some data. In return we offer useful \n",
            "\n",
            "use string exists in file\n",
            "Line Number: 73\n",
            "Line: use Twitter\n",
            "\n",
            "use string exists in file\n",
            "Line Number: 74\n",
            "Line: When you use our services, we collect information about how you use our \n",
            "\n",
            "use string exists in file\n",
            "Line Number: 75\n",
            "Line: products and services. We use that information to provide you with products and \n",
            "\n",
            "use string exists in file\n",
            "Line Number: 86\n",
            "Line: Your interactions with other users’ content, such as retweets, likes, shares, \n",
            "\n",
            "use string exists in file\n",
            "Line Number: 87\n",
            "Line: replies, if other users mention or tag you in content or if you mention or tag \n",
            "\n",
            "use string exists in file\n",
            "Line Number: 92\n",
            "Line: people who follow you, and when you use Direct Messages, including the \n",
            "\n",
            "use string exists in file\n",
            "Line Number: 104\n",
            "Line: \fDevice Information. We collect information from and about the devices you use \n",
            "\n",
            "use string exists in file\n",
            "Line Number: 115\n",
            "Line: Location Information. When you use Twitter, we collect some information about \n",
            "\n",
            "use string exists in file\n",
            "Line Number: 118\n",
            "Line: places where you’ve previously used Twitter by enabling these settings in your \n",
            "\n",
            "use string exists in file\n",
            "Line Number: 120\n",
            "Line: Inferred Identity. We may collect or receive information that we use to infer \n",
            "\n",
            "use string exists in file\n",
            "Line Number: 125\n",
            "Line: associate your account with browsers or devices other than those you use to \n",
            "\n",
            "use string exists in file\n",
            "Line Number: 131\n",
            "Line: Subject to your settings, we may also use this information in order to infer \n",
            "\n",
            "use string exists in file\n",
            "Line Number: 153\n",
            "Line: Cookies and similar technologies. Like many websites, we use cookies and \n",
            "\n",
            "use string exists in file\n",
            "Line Number: 157\n",
            "Line: we use cookies and similar technologies here.\n",
            "\n",
            "use string exists in file\n",
            "Line Number: 164\n",
            "Line: When you use other online products and services, they may share information \n",
            "\n",
            "use string exists in file\n",
            "Line Number: 168\n",
            "Line: mobile device IDs, hashed user information like email addresses, demographic \n",
            "\n",
            "use string exists in file\n",
            "Line Number: 179\n",
            "Line: other Twitter users, developers, and partners who help us evaluate the safety \n",
            "\n",
            "use string exists in file\n",
            "Line Number: 184\n",
            "Line: \f2. How we use information\n",
            "\n",
            "use string exists in file\n",
            "Line Number: 185\n",
            "Line: Breaking down how we use the information we collect is not simple because of the \n",
            "\n",
            "use string exists in file\n",
            "Line Number: 187\n",
            "Line: information may be used differently for different purposes to ultimately deliver a single \n",
            "\n",
            "use string exists in file\n",
            "Line Number: 188\n",
            "Line: service. We think it’s most useful to describe the five main ways we use information \n",
            "\n",
            "use string exists in file\n",
            "Line Number: 193\n",
            "Line: We use the information we collect to provide and operate Twitter products and \n",
            "\n",
            "use string exists in file\n",
            "Line Number: 194\n",
            "Line: services. We also use the information we collect to improve and personalize our \n",
            "\n",
            "use string exists in file\n",
            "Line Number: 198\n",
            "Line: We may use the information we collect from accounts of other services that \n",
            "\n",
            "use string exists in file\n",
            "Line Number: 201\n",
            "Line: We use your contact information to help others find your account if your \n",
            "\n",
            "use string exists in file\n",
            "Line Number: 203\n",
            "Line: We use your information to provide our advertising and sponsored content \n",
            "\n",
            "use string exists in file\n",
            "Line Number: 205\n",
            "Line: relevant to you. We also use this information to measure the effectiveness \n",
            "\n",
            "use string exists in file\n",
            "Line Number: 209\n",
            "Line: How do you use my information?\n",
            "\n",
            "use string exists in file\n",
            "Line Number: 216\n",
            "Line: We use information we collect to provide for the safety and security of our \n",
            "\n",
            "use string exists in file\n",
            "Line Number: 217\n",
            "Line: users, our products, services, and your account. This includes verifying your \n",
            "\n",
            "use string exists in file\n",
            "Line Number: 219\n",
            "Line: use, and illegal activity. We also use the information to evaluate and affect \n",
            "\n",
            "use string exists in file\n",
            "Line Number: 224\n",
            "Line: We use the information we collect to measure and analyze the effectiveness \n",
            "\n",
            "use string exists in file\n",
            "Line Number: 225\n",
            "Line: of our products and services and to better understand how you use them \n",
            "\n",
            "use string exists in file\n",
            "Line Number: 229\n",
            "Line: We use the information we collect to communicate with you about our products \n",
            "\n",
            "use string exists in file\n",
            "Line Number: 234\n",
            "Line: We use information you share with us, or that we collect to conduct research, \n",
            "\n",
            "use string exists in file\n",
            "Line Number: 244\n",
            "Line: (e.g., name/pseudonym, username, profile pictures), is available for viewing \n",
            "\n",
            "use string exists in file\n",
            "Line Number: 248\n",
            "Line: With other Twitter users. Depending on your settings, and based on the \n",
            "\n",
            "use string exists in file\n",
            "Line Number: 249\n",
            "Line: Twitter products and services you use, we share:\n",
            "\n",
            "use string exists in file\n",
            "Line Number: 251\n",
            "Line: Your interactions with Twitter content of other users, such as likes, \n",
            "\n",
            "use string exists in file\n",
            "Line Number: 254\n",
            "Line: Content you send to a specific Twitter user, such as through Direct Messages. \n",
            "\n",
            "use string exists in file\n",
            "Line Number: 276\n",
            "Line: our various blogs and wikis; service providers that help us understand the use \n",
            "\n",
            "use string exists in file\n",
            "Line Number: 296\n",
            "Line: \fThrough our APIs. We use technology like APIs and embeds to make public \n",
            "\n",
            "use string exists in file\n",
            "Line Number: 297\n",
            "Line: Twitter information available to websites, apps, and others for their use, \n",
            "\n",
            "use string exists in file\n",
            "Line Number: 301\n",
            "Line: terms that govern how this information can be used, and a compliance program \n",
            "\n",
            "use string exists in file\n",
            "Line Number: 308\n",
            "Line: We may preserve, use, share, or disclose your information if we believe that \n",
            "\n",
            "use string exists in file\n",
            "Line Number: 314\n",
            "Line: including to help prevent spam, abuse, or malicious actors on our services;\n",
            "\n",
            "use string exists in file\n",
            "Line Number: 321\n",
            "Line: protect our rights or property, or the rights or property of those who use \n",
            "\n",
            "use string exists in file\n",
            "Line Number: 341\n",
            "Line: use our products and services for a maximum of 18 months.\n",
            "\n",
            "use string exists in file\n",
            "Line Number: 350\n",
            "Line: identifiers you used to create the account (i.e., email address or phone number) \n",
            "\n",
            "use string exists in file\n",
            "Line Number: 382\n",
            "Line: username, and public profile, will no longer be viewable on Twitter.com, Twitter for \n",
            "\n",
            "use string exists in file\n",
            "Line Number: 404\n",
            "Line: privacy tools and controls to all of our users regardless of where they live. However, \n",
            "\n",
            "use string exists in file\n",
            "Line Number: 405\n",
            "Line: your experience may be slightly different than users in other countries to ensure \n",
            "\n",
            "use string exists in file\n",
            "Line Number: 407\n",
            "Line: 6.1 We have specific legal bases to use your \n",
            "\n",
            "use string exists in file\n",
            "Line Number: 410\n",
            "Line: use, share and otherwise process your information. If you want to dig in to learn \n",
            "\n",
            "use string exists in file\n",
            "Line Number: 416\n",
            "Line: Just as you use Twitter to seamlessly participate in global conversations with \n",
            "\n",
            "use string exists in file\n",
            "Line Number: 426\n",
            "Line: \fWe also use data centers and cloud providers, and engage our affiliates and \n",
            "\n",
            "use string exists in file\n",
            "Line Number: 430\n",
            "Line: contractual clauses, where applicable, to ensure your data rights are protected. \n",
            "\n",
            "use string exists in file\n",
            "Line Number: 434\n",
            "Line: Our services are not directed to children, and you may not use our services if you \n",
            "\n",
            "use string exists in file\n",
            "Line Number: 447\n",
            "Line: Privacy Policy before you continue to use Twitter.\n",
            "\n"
          ]
        }
      ]
    },
    {
      "cell_type": "markdown",
      "source": [
        "There are many mentions of \"use\" in Twitter's document. In the section provided on line 2, Twitter provides a comprehensive explanation on where the collected data are used, such as for personalized service, service analysis, and safety of users."
      ],
      "metadata": {
        "id": "SHYSLilJPQfm"
      }
    },
    {
      "cell_type": "code",
      "source": [
        "word = 'use'\n",
        "with open(r'mastodon.txt', 'r') as mastodon:\n",
        "    # read all lines in a list\n",
        "    lines = mastodon.readlines()\n",
        "    for line in lines:\n",
        "        # check if string present on a current line\n",
        "        if line.find(word) != -1:\n",
        "            print(word, 'string exists in file')\n",
        "            print('Line Number:', lines.index(line))\n",
        "            print('Line:', line)"
      ],
      "metadata": {
        "colab": {
          "base_uri": "https://localhost:8080/"
        },
        "id": "uEZqphMoCUGa",
        "outputId": "a5acb676-f98c-4987-9274-cdcab0ebf3f1"
      },
      "execution_count": 11,
      "outputs": [
        {
          "output_type": "stream",
          "name": "stdout",
          "text": [
            "use string exists in file\n",
            "Line Number: 7\n",
            "Line: uses the personally identiﬁable information you may provide through the mastodon.social website or its\n",
            "\n",
            "use string exists in file\n",
            "Line Number: 8\n",
            "Line: API. The policy also describes the choices available to you regarding our use of your personal information\n",
            "\n",
            "use string exists in file\n",
            "Line Number: 13\n",
            "Line: Basic account information: If you register on this server, you may be asked to enter a username, an e-\n",
            "\n",
            "use string exists in file\n",
            "Line Number: 15\n",
            "Line: name and biography, and upload a proﬁle picture and header image. The username, display name,\n",
            "\n",
            "use string exists in file\n",
            "Line Number: 26\n",
            "Line: posts are delivered to your followers and users who are mentioned in them, and direct posts are\n",
            "\n",
            "use string exists in file\n",
            "Line Number: 27\n",
            "Line: delivered only to users mentioned in them. In some cases it means they are delivered to different\n",
            "\n",
            "use string exists in file\n",
            "Line Number: 36\n",
            "Line: revocation in the settings. The latest IP address used is stored for up to 12 months. We also may\n",
            "\n",
            "use string exists in file\n",
            "Line Number: 42\n",
            "Line: What do we use your information for?\n",
            "\n",
            "use string exists in file\n",
            "Line Number: 43\n",
            "Line: Any of the information we collect from you may be used in the following ways:\n",
            "\n",
            "use string exists in file\n",
            "Line Number: 55\n",
            "Line: Do we use cookies?\n",
            "\n",
            "use string exists in file\n",
            "Line Number: 59\n",
            "Line: We use cookies to understand and save your preferences for future visits.\n",
            "\n",
            "use string exists in file\n",
            "Line Number: 66\n",
            "Line: The email address you provide may be used to send you information, notiﬁcations about other people\n",
            "\n",
            "use string exists in file\n",
            "Line Number: 71\n",
            "Line: Retain the IP addresses associated with registered users no more than 12 months.\n",
            "\n",
            "use string exists in file\n",
            "Line Number: 84\n",
            "Line: When you authorize an application to use your account, depending on the scope of permissions you\n",
            "\n",
            "use string exists in file\n",
            "Line Number: 90\n",
            "Line: Protection Regulation) do not use this site.\n",
            "\n",
            "use string exists in file\n",
            "Line Number: 93\n",
            "Line: Protection Act) do not use this site.\n",
            "\n"
          ]
        }
      ]
    },
    {
      "cell_type": "markdown",
      "source": [
        "For Mastodon, on line 42 “What do we use your information for?”, the document provides explanations of where the data are used, such as for core functionality, moderation of the community, and others.\n",
        "\n",
        "Twitter and Mastodon both answer the third question."
      ],
      "metadata": {
        "id": "cTv-n5RcPyGS"
      }
    },
    {
      "cell_type": "markdown",
      "source": [
        "Question 4: who to contact regarding policies? For this question, \"contact\" is used as a search term."
      ],
      "metadata": {
        "id": "LbHefBOKQM4j"
      }
    },
    {
      "cell_type": "code",
      "source": [
        "word = 'contact'\n",
        "with open(r'twitter.txt', 'r') as twitter:\n",
        "    # read all lines in a list\n",
        "    lines = twitter.readlines()\n",
        "    for line in lines:\n",
        "        # check if string present on a current line\n",
        "        if line.find(word) != -1:\n",
        "            print(word, 'string exists in file')\n",
        "            print('Line Number:', lines.index(line))\n",
        "            print('Line:', line)"
      ],
      "metadata": {
        "colab": {
          "base_uri": "https://localhost:8080/"
        },
        "id": "cxRx800jFGwK",
        "outputId": "25e73cb8-9405-47a1-b99f-f120b2b1c382"
      },
      "execution_count": 12,
      "outputs": [
        {
          "output_type": "stream",
          "name": "stdout",
          "text": [
            "contact string exists in file\n",
            "Line Number: 32\n",
            "Line: Learn how to contact us\n",
            "\n",
            "contact string exists in file\n",
            "Line Number: 62\n",
            "Line: information, including street address, contact email address, and contact \n",
            "\n",
            "contact string exists in file\n",
            "Line Number: 189\n",
            "Line: and if you have questions that are not answered, you can always contact us. \n",
            "\n",
            "contact string exists in file\n",
            "Line Number: 201\n",
            "Line: We use your contact information to help others find your account if your \n",
            "\n",
            "contact string exists in file\n",
            "Line Number: 399\n",
            "Line: agent, you may also contact us as specified in the How To Contact Twitter \n",
            "\n",
            "contact string exists in file\n",
            "Line Number: 452\n",
            "Line: Privacy Policy. You can contact us via our Privacy Policy Inquiries page \n",
            "\n",
            "contact string exists in file\n",
            "Line Number: 473\n",
            "Line: You can confidentially contact Twitter’s Data Protection Officer through \n",
            "\n",
            "contact string exists in file\n",
            "Line Number: 478\n",
            "Line: contact details listed on their website.\n",
            "\n",
            "contact string exists in file\n",
            "Line Number: 480\n",
            "Line: How can I contact Twitter?\n",
            "\n"
          ]
        }
      ]
    },
    {
      "cell_type": "markdown",
      "source": [
        "On line 480, there is a section on how to contact Twitter. The document provides contact information based on where the user is located as well as a link to a web form. "
      ],
      "metadata": {
        "id": "opEzeRQnQZcs"
      }
    },
    {
      "cell_type": "code",
      "source": [
        "word = 'contact'\n",
        "with open(r'mastodon.txt', 'r') as mastodon:\n",
        "    # read all lines in a list\n",
        "    lines = mastodon.readlines()\n",
        "    for line in lines:\n",
        "        # check if string present on a current line\n",
        "        if line.find(word) != -1:\n",
        "            print(word, 'string exists in file')\n",
        "            print('Line Number:', lines.index(line))\n",
        "            print('Line:', line)"
      ],
      "metadata": {
        "id": "MEWKDLVwFiPI"
      },
      "execution_count": 13,
      "outputs": []
    },
    {
      "cell_type": "markdown",
      "source": [
        "Mastodon does not provide contact information for inquiries related to the privacy policy.\n",
        "\n",
        "For question 4, only Twitter fulfills the requirement.  "
      ],
      "metadata": {
        "id": "n1Rs278OQzqU"
      }
    },
    {
      "cell_type": "markdown",
      "source": [
        "Question 5: how long are the data retained? For this question, \"period\" and \"rentention\" are used as search terms. "
      ],
      "metadata": {
        "id": "Qq0QCCHGSEmM"
      }
    },
    {
      "cell_type": "code",
      "source": [
        "word = 'period'\n",
        "with open(r'twitter.txt', 'r') as twitter:\n",
        "    # read all lines in a list\n",
        "    lines = twitter.readlines()\n",
        "    for line in lines:\n",
        "        # check if string present on a current line\n",
        "        if line.find(word) != -1:\n",
        "            print(word, 'string exists in file')\n",
        "            print('Line Number:', lines.index(line))\n",
        "            print('Line:', line)"
      ],
      "metadata": {
        "id": "99AnLzKVRsto",
        "colab": {
          "base_uri": "https://localhost:8080/"
        },
        "outputId": "861136cc-cbff-453a-fd82-eec3bed33cca"
      },
      "execution_count": 14,
      "outputs": [
        {
          "output_type": "stream",
          "name": "stdout",
          "text": [
            "period string exists in file\n",
            "Line Number: 335\n",
            "Line: We keep different types of information for different periods of time: \n",
            "\n"
          ]
        }
      ]
    },
    {
      "cell_type": "markdown",
      "source": [
        "Twitter does provide the data retention period in line 335. This section provides how different types of information are retained for different periods. \n"
      ],
      "metadata": {
        "id": "6uo_inT_RXXR"
      }
    },
    {
      "cell_type": "code",
      "source": [
        "word = 'retention'\n",
        "with open(r'mastodon.txt', 'r') as mastodon:\n",
        "    # read all lines in a list\n",
        "    lines = mastodon.readlines()\n",
        "    for line in lines:\n",
        "        # check if string present on a current line\n",
        "        if line.find(word) != -1:\n",
        "            print(word, 'string exists in file')\n",
        "            print('Line Number:', lines.index(line))\n",
        "            print('Line:', line)"
      ],
      "metadata": {
        "colab": {
          "base_uri": "https://localhost:8080/"
        },
        "id": "YyIEA5INHZC3",
        "outputId": "1bcd8de9-6015-4b3b-8c1e-2e6269b1b83f"
      },
      "execution_count": 15,
      "outputs": [
        {
          "output_type": "stream",
          "name": "stdout",
          "text": [
            "retention string exists in file\n",
            "Line Number: 50\n",
            "Line: What is our data retention policy?\n",
            "\n"
          ]
        }
      ]
    },
    {
      "cell_type": "markdown",
      "source": [
        "Mastodon also provides the data retention policy in line 50. The document provides retention period for server logs and IP address. \n",
        "\n",
        "Both Twitter and Mastodon fulfill the fifth requirement. "
      ],
      "metadata": {
        "id": "6IbMQKoaRcU3"
      }
    },
    {
      "cell_type": "markdown",
      "source": [
        "Question 6: What measures are taken to protect and secure the data? \"Protect\" is used as a search term."
      ],
      "metadata": {
        "id": "tvlywA1VSMM4"
      }
    },
    {
      "cell_type": "code",
      "source": [
        "word = 'protect'\n",
        "with open(r'twitter.txt', 'r') as twitter:\n",
        "    # read all lines in a list\n",
        "    lines = twitter.readlines()\n",
        "    for line in lines:\n",
        "        # check if string present on a current line\n",
        "        if line.find(word) != -1:\n",
        "            print(word, 'string exists in file')\n",
        "            print('Line Number:', lines.index(line))\n",
        "            print('Line:', line)"
      ],
      "metadata": {
        "colab": {
          "base_uri": "https://localhost:8080/"
        },
        "id": "Wn-zrXA3RtpD",
        "outputId": "4d839d79-0a83-4443-fb97-d0a698202eca"
      },
      "execution_count": 16,
      "outputs": [
        {
          "output_type": "stream",
          "name": "stdout",
          "text": [
            "protect string exists in file\n",
            "Line Number: 256\n",
            "Line: or protected Tweets with someone else who accesses Twitter through \n",
            "\n",
            "protect string exists in file\n",
            "Line Number: 313\n",
            "Line: protect the safety of any person, protect the safety or integrity of our platform, \n",
            "\n",
            "protect string exists in file\n",
            "Line Number: 321\n",
            "Line: protect our rights or property, or the rights or property of those who use \n",
            "\n",
            "protect string exists in file\n",
            "Line Number: 371\n",
            "Line: To protect your privacy and maintain security, we take steps to verify your identity \n",
            "\n",
            "protect string exists in file\n",
            "Line Number: 430\n",
            "Line: contractual clauses, where applicable, to ensure your data rights are protected. \n",
            "\n",
            "protect string exists in file\n",
            "Line Number: 432\n",
            "Line: protections over your data that we provide directly.\n",
            "\n"
          ]
        }
      ]
    },
    {
      "cell_type": "markdown",
      "source": [
        "Although line 371 mention protecting and securing privacy, there is no specific mention on how. Same for line 432, when data is shared with third parties, where Twitter requires them to protect the data but with no mention of how. "
      ],
      "metadata": {
        "id": "CQHpdwmETKRV"
      }
    },
    {
      "cell_type": "code",
      "source": [
        "word = 'protect'\n",
        "with open(r'mastodon.txt', 'r') as mastodon:\n",
        "    # read all lines in a list\n",
        "    lines = mastodon.readlines()\n",
        "    for line in lines:\n",
        "        # check if string present on a current line\n",
        "        if line.find(word) != -1:\n",
        "            print(word, 'string exists in file')\n",
        "            print('Line Number:', lines.index(line))\n",
        "            print('Line:', line)"
      ],
      "metadata": {
        "colab": {
          "base_uri": "https://localhost:8080/"
        },
        "id": "MMx0-PSDRuG2",
        "outputId": "6e01885b-cd52-4f69-eda9-696d25f4045a"
      },
      "execution_count": 17,
      "outputs": [
        {
          "output_type": "stream",
          "name": "stdout",
          "text": [
            "protect string exists in file\n",
            "Line Number: 6\n",
            "Line: This privacy policy describes how mastodon.social (\"mastodon.social\", \"we\", \"us\") collects, protects and\n",
            "\n",
            "protect string exists in file\n",
            "Line Number: 44\n",
            "Line: How do we protect your information?\n",
            "\n",
            "protect string exists in file\n",
            "Line Number: 80\n",
            "Line: or protect ours or others rights, property, or safety.\n",
            "\n"
          ]
        }
      ]
    },
    {
      "cell_type": "markdown",
      "source": [
        "Line 44 provides the section on how Mastodon protect user information. \n",
        "\n",
        "This section mentions security measures such as hashing.\n",
        "\n",
        "Only Mastodon fulfills the 6th requirement. "
      ],
      "metadata": {
        "id": "ArRb5TWoS38f"
      }
    },
    {
      "cell_type": "markdown",
      "source": [
        "Last question: who has access to the data? 'share' and 'transfer' are used as search terms."
      ],
      "metadata": {
        "id": "Q4pFwt6XM1jY"
      }
    },
    {
      "cell_type": "code",
      "source": [
        "word = 'share'\n",
        "with open(r'twitter.txt', 'r') as twitter:\n",
        "    # read all lines in a list\n",
        "    lines = twitter.readlines()\n",
        "    for line in lines:\n",
        "        # check if string present on a current line\n",
        "        if line.find(word) != -1:\n",
        "            print(word, 'string exists in file')\n",
        "            print('Line Number:', lines.index(line))\n",
        "            print('Line:', line)"
      ],
      "metadata": {
        "colab": {
          "base_uri": "https://localhost:8080/"
        },
        "id": "KYCMah0FStC8",
        "outputId": "79d54b78-a939-491c-c03c-a14b00757272"
      },
      "execution_count": 18,
      "outputs": [
        {
          "output_type": "stream",
          "name": "stdout",
          "text": [
            "share string exists in file\n",
            "Line Number: 17\n",
            "Line: when it’s shared. \n",
            "\n",
            "share string exists in file\n",
            "Line Number: 50\n",
            "Line: choose to share your location in your profile and Tweets, and to upload \n",
            "\n",
            "share string exists in file\n",
            "Line Number: 86\n",
            "Line: Your interactions with other users’ content, such as retweets, likes, shares, \n",
            "\n",
            "share string exists in file\n",
            "Line Number: 114\n",
            "Line: Your device address book, if you’ve chosen to share it with us.\n",
            "\n",
            "share string exists in file\n",
            "Line Number: 117\n",
            "Line: you relevant ads. You can also choose to share your current precise location or \n",
            "\n",
            "share string exists in file\n",
            "Line Number: 133\n",
            "Line: account with hashes of email addresses that share common components \n",
            "\n",
            "share string exists in file\n",
            "Line Number: 164\n",
            "Line: When you use other online products and services, they may share information \n",
            "\n",
            "share string exists in file\n",
            "Line Number: 166\n",
            "Line: Ad Partners, Developers, Publishers. Our ad and business partners share \n",
            "\n",
            "share string exists in file\n",
            "Line Number: 172\n",
            "Line: technology. Information shared by ad partners and affiliates or collected \n",
            "\n",
            "share string exists in file\n",
            "Line Number: 174\n",
            "Line: combined with the other information you share with Twitter and that Twitter \n",
            "\n",
            "share string exists in file\n",
            "Line Number: 211\n",
            "Line: \fInformation shared by ad partners and affiliates or collected by Twitter from \n",
            "\n",
            "share string exists in file\n",
            "Line Number: 213\n",
            "Line: other information you share with Twitter and that Twitter receives, generates, \n",
            "\n",
            "share string exists in file\n",
            "Line Number: 234\n",
            "Line: We use information you share with us, or that we collect to conduct research, \n",
            "\n",
            "share string exists in file\n",
            "Line Number: 239\n",
            "Line: You should know the ways we share your information, why we share it, and how \n",
            "\n",
            "share string exists in file\n",
            "Line Number: 240\n",
            "Line: you can control it. There are five general ways we share your information.\n",
            "\n",
            "share string exists in file\n",
            "Line Number: 241\n",
            "Line: 3.1 When you Tweet, post, and share.\n",
            "\n",
            "share string exists in file\n",
            "Line Number: 249\n",
            "Line: Twitter products and services you use, we share:\n",
            "\n",
            "share string exists in file\n",
            "Line Number: 255\n",
            "Line: Please keep in mind that if you’ve shared information like Direct Messages \n",
            "\n",
            "share string exists in file\n",
            "Line Number: 257\n",
            "Line: a third-party service, the information may be shared with the third-party \n",
            "\n",
            "share string exists in file\n",
            "Line Number: 259\n",
            "Line: How or when do you share my information?\n",
            "\n",
            "share string exists in file\n",
            "Line Number: 265\n",
            "Line: You can control whether Twitter shares your personal information with these \n",
            "\n",
            "share string exists in file\n",
            "Line Number: 268\n",
            "Line: elsewhere in this Privacy Policy, such as when we share information with \n",
            "\n",
            "share string exists in file\n",
            "Line Number: 273\n",
            "Line: With service providers. We may share your information with our service \n",
            "\n",
            "share string exists in file\n",
            "Line Number: 286\n",
            "Line: Third-party content & integrations. We share or disclose your information \n",
            "\n",
            "share string exists in file\n",
            "Line Number: 289\n",
            "Line: to share your feedback with a business. Similarly, to improve your experience, \n",
            "\n",
            "share string exists in file\n",
            "Line Number: 308\n",
            "Line: We may preserve, use, share, or disclose your information if we believe that \n",
            "\n",
            "share string exists in file\n",
            "Line Number: 324\n",
            "Line: We may share information amongst our affiliates to provide our products \n",
            "\n",
            "share string exists in file\n",
            "Line Number: 327\n",
            "Line: We may share, sell, or transfer information about you in connection with \n",
            "\n",
            "share string exists in file\n",
            "Line Number: 329\n",
            "Line: Policy will apply to your personal information that is shared with (before and after \n",
            "\n",
            "share string exists in file\n",
            "Line Number: 410\n",
            "Line: use, share and otherwise process your information. If you want to dig in to learn \n",
            "\n",
            "share string exists in file\n",
            "Line Number: 431\n",
            "Line: If data will be shared with a third party, we require them to maintain the same \n",
            "\n"
          ]
        }
      ]
    },
    {
      "cell_type": "code",
      "source": [
        "word = 'transfer'\n",
        "with open(r'twitter.txt', 'r') as twitter:\n",
        "    # read all lines in a list\n",
        "    lines = twitter.readlines()\n",
        "    for line in lines:\n",
        "        # check if string present on a current line\n",
        "        if line.find(word) != -1:\n",
        "            print(word, 'string exists in file')\n",
        "            print('Line Number:', lines.index(line))\n",
        "            print('Line:', line)"
      ],
      "metadata": {
        "colab": {
          "base_uri": "https://localhost:8080/"
        },
        "id": "64LTCey2KSXu",
        "outputId": "602def97-6ccf-475a-c8c3-11e7b0b4c9ba"
      },
      "execution_count": 19,
      "outputs": [
        {
          "output_type": "stream",
          "name": "stdout",
          "text": [
            "transfer string exists in file\n",
            "Line Number: 327\n",
            "Line: We may share, sell, or transfer information about you in connection with \n",
            "\n",
            "transfer string exists in file\n",
            "Line Number: 330\n",
            "Line: the close of any transaction) or transferred to the new entity.\n",
            "\n"
          ]
        }
      ]
    },
    {
      "cell_type": "markdown",
      "source": [
        "There are many mentions of sharing and transferring data in the Twitter document. Thus, Twitter fulfills the requirement. "
      ],
      "metadata": {
        "id": "gcEi37bhU8Fg"
      }
    },
    {
      "cell_type": "code",
      "source": [
        "word = 'share'\n",
        "with open(r'mastodon.txt', 'r') as mastodon:\n",
        "    # read all lines in a list\n",
        "    lines = mastodon.readlines()\n",
        "    for line in lines:\n",
        "        # check if string present on a current line\n",
        "        if line.find(word) != -1:\n",
        "            print(word, 'string exists in file')\n",
        "            print('Line Number:', lines.index(line))\n",
        "            print('Line:', line)"
      ],
      "metadata": {
        "colab": {
          "base_uri": "https://localhost:8080/"
        },
        "id": "wOKByr-gJliS",
        "outputId": "33109740-4d09-402b-da12-541084f8c957"
      },
      "execution_count": 20,
      "outputs": [
        {
          "output_type": "stream",
          "name": "stdout",
          "text": [
            "share string exists in file\n",
            "Line Number: 32\n",
            "Line: server may view such messages, and that recipients may screenshot, copy or otherwise re-share\n",
            "\n",
            "share string exists in file\n",
            "Line Number: 33\n",
            "Line: them. Do not share any sensitive information over Mastodon.\n",
            "\n"
          ]
        }
      ]
    },
    {
      "cell_type": "code",
      "source": [
        "word = 'transfer'\n",
        "with open(r'mastodon.txt', 'r') as mastodon:\n",
        "    # read all lines in a list\n",
        "    lines = mastodon.readlines()\n",
        "    for line in lines:\n",
        "        # check if string present on a current line\n",
        "        if line.find(word) != -1:\n",
        "            print(word, 'string exists in file')\n",
        "            print('Line Number:', lines.index(line))\n",
        "            print('Line:', line)"
      ],
      "metadata": {
        "colab": {
          "base_uri": "https://localhost:8080/"
        },
        "id": "19ZKNmnBKVvW",
        "outputId": "0fa4f0b0-112d-45c4-decd-9f7ed74daa40"
      },
      "execution_count": 21,
      "outputs": [
        {
          "output_type": "stream",
          "name": "stdout",
          "text": [
            "transfer string exists in file\n",
            "Line Number: 56\n",
            "Line: Yes. Cookies are small ﬁles that a site or its service provider transfers to your computer's hard drive\n",
            "\n",
            "transfer string exists in file\n",
            "Line Number: 76\n",
            "Line: We do not sell, trade, or otherwise transfer to outside parties your personally identiﬁable information. This\n",
            "\n"
          ]
        }
      ]
    },
    {
      "cell_type": "markdown",
      "source": [
        "Line 76 provides that Mastodon does not \"sell, trade or otherwise transfer to outside parties your personally identifiable information.\"\n",
        "\n",
        "Both Twitter and Mastodon fulfill the requirement of mentioning who has access to user data.\n",
        "\n",
        "For the first part of the analysis, both Twitter and Mastodon lack clarity on certain questions and need improvement on their policy. "
      ],
      "metadata": {
        "id": "tl5Gfze3UMUa"
      }
    },
    {
      "cell_type": "markdown",
      "source": [
        "## Search for Technical Jargon\n",
        "\n",
        "Prior to cleaning up the data, spacy library is used to search abbreviations in the document and check whether abbreviations are written out to avoid confusion.\n",
        "\n",
        "Spacy library will be used for this analysis. The folllwing script is adapted from [allenai Github](https://https://github.com/allenai/scispacy)."
      ],
      "metadata": {
        "id": "jJk_6lzAVGG6"
      }
    },
    {
      "cell_type": "markdown",
      "source": [
        "First, install scispacy"
      ],
      "metadata": {
        "id": "06SQ8T7-Vx6n"
      }
    },
    {
      "cell_type": "code",
      "source": [
        "pip install scispacy"
      ],
      "metadata": {
        "colab": {
          "base_uri": "https://localhost:8080/"
        },
        "id": "SVYrTWLYsvLD",
        "outputId": "20de4310-0a82-46dd-9c5b-5b5e9a848625"
      },
      "execution_count": 66,
      "outputs": [
        {
          "output_type": "stream",
          "name": "stdout",
          "text": [
            "Looking in indexes: https://pypi.org/simple, https://us-python.pkg.dev/colab-wheels/public/simple/\n",
            "Collecting scispacy\n",
            "  Using cached scispacy-0.5.1-py3-none-any.whl (44 kB)\n",
            "Collecting nmslib>=1.7.3.6\n",
            "  Using cached nmslib-2.1.1.tar.gz (188 kB)\n",
            "  Preparing metadata (setup.py) ... \u001b[?25l\u001b[?25hdone\n",
            "Requirement already satisfied: scikit-learn>=0.20.3 in /usr/local/lib/python3.10/dist-packages (from scispacy) (1.2.2)\n",
            "Requirement already satisfied: numpy in /usr/local/lib/python3.10/dist-packages (from scispacy) (1.22.4)\n",
            "Requirement already satisfied: spacy<3.5.0,>=3.4.0 in /usr/local/lib/python3.10/dist-packages (from scispacy) (3.4.4)\n",
            "Requirement already satisfied: requests<3.0.0,>=2.0.0 in /usr/local/lib/python3.10/dist-packages (from scispacy) (2.27.1)\n",
            "Requirement already satisfied: joblib in /usr/local/lib/python3.10/dist-packages (from scispacy) (1.2.0)\n",
            "Collecting conllu\n",
            "  Using cached conllu-4.5.2-py2.py3-none-any.whl (16 kB)\n",
            "Collecting pysbd\n",
            "  Using cached pysbd-0.3.4-py3-none-any.whl (71 kB)\n",
            "Collecting pybind11<2.6.2\n",
            "  Using cached pybind11-2.6.1-py2.py3-none-any.whl (188 kB)\n",
            "Requirement already satisfied: psutil in /usr/local/lib/python3.10/dist-packages (from nmslib>=1.7.3.6->scispacy) (5.9.5)\n",
            "Requirement already satisfied: charset-normalizer~=2.0.0 in /usr/local/lib/python3.10/dist-packages (from requests<3.0.0,>=2.0.0->scispacy) (2.0.12)\n",
            "Requirement already satisfied: idna<4,>=2.5 in /usr/local/lib/python3.10/dist-packages (from requests<3.0.0,>=2.0.0->scispacy) (3.4)\n",
            "Requirement already satisfied: certifi>=2017.4.17 in /usr/local/lib/python3.10/dist-packages (from requests<3.0.0,>=2.0.0->scispacy) (2022.12.7)\n",
            "Requirement already satisfied: urllib3<1.27,>=1.21.1 in /usr/local/lib/python3.10/dist-packages (from requests<3.0.0,>=2.0.0->scispacy) (1.26.15)\n",
            "Requirement already satisfied: scipy>=1.3.2 in /usr/local/lib/python3.10/dist-packages (from scikit-learn>=0.20.3->scispacy) (1.10.1)\n",
            "Requirement already satisfied: threadpoolctl>=2.0.0 in /usr/local/lib/python3.10/dist-packages (from scikit-learn>=0.20.3->scispacy) (3.1.0)\n",
            "Requirement already satisfied: preshed<3.1.0,>=3.0.2 in /usr/local/lib/python3.10/dist-packages (from spacy<3.5.0,>=3.4.0->scispacy) (3.0.8)\n",
            "Requirement already satisfied: murmurhash<1.1.0,>=0.28.0 in /usr/local/lib/python3.10/dist-packages (from spacy<3.5.0,>=3.4.0->scispacy) (1.0.9)\n",
            "Requirement already satisfied: thinc<8.2.0,>=8.1.0 in /usr/local/lib/python3.10/dist-packages (from spacy<3.5.0,>=3.4.0->scispacy) (8.1.9)\n",
            "Requirement already satisfied: spacy-legacy<3.1.0,>=3.0.10 in /usr/local/lib/python3.10/dist-packages (from spacy<3.5.0,>=3.4.0->scispacy) (3.0.12)\n",
            "Requirement already satisfied: packaging>=20.0 in /usr/local/lib/python3.10/dist-packages (from spacy<3.5.0,>=3.4.0->scispacy) (23.1)\n",
            "Requirement already satisfied: pydantic!=1.8,!=1.8.1,<1.11.0,>=1.7.4 in /usr/local/lib/python3.10/dist-packages (from spacy<3.5.0,>=3.4.0->scispacy) (1.10.7)\n",
            "Requirement already satisfied: cymem<2.1.0,>=2.0.2 in /usr/local/lib/python3.10/dist-packages (from spacy<3.5.0,>=3.4.0->scispacy) (2.0.7)\n",
            "Requirement already satisfied: typer<0.8.0,>=0.3.0 in /usr/local/lib/python3.10/dist-packages (from spacy<3.5.0,>=3.4.0->scispacy) (0.7.0)\n",
            "Requirement already satisfied: langcodes<4.0.0,>=3.2.0 in /usr/local/lib/python3.10/dist-packages (from spacy<3.5.0,>=3.4.0->scispacy) (3.3.0)\n",
            "Requirement already satisfied: srsly<3.0.0,>=2.4.3 in /usr/local/lib/python3.10/dist-packages (from spacy<3.5.0,>=3.4.0->scispacy) (2.4.6)\n",
            "Requirement already satisfied: jinja2 in /usr/local/lib/python3.10/dist-packages (from spacy<3.5.0,>=3.4.0->scispacy) (3.1.2)\n",
            "Requirement already satisfied: tqdm<5.0.0,>=4.38.0 in /usr/local/lib/python3.10/dist-packages (from spacy<3.5.0,>=3.4.0->scispacy) (4.65.0)\n",
            "Requirement already satisfied: catalogue<2.1.0,>=2.0.6 in /usr/local/lib/python3.10/dist-packages (from spacy<3.5.0,>=3.4.0->scispacy) (2.0.8)\n",
            "Requirement already satisfied: wasabi<1.1.0,>=0.9.1 in /usr/local/lib/python3.10/dist-packages (from spacy<3.5.0,>=3.4.0->scispacy) (0.10.1)\n",
            "Requirement already satisfied: smart-open<7.0.0,>=5.2.1 in /usr/local/lib/python3.10/dist-packages (from spacy<3.5.0,>=3.4.0->scispacy) (6.3.0)\n",
            "Requirement already satisfied: setuptools in /usr/local/lib/python3.10/dist-packages (from spacy<3.5.0,>=3.4.0->scispacy) (67.7.2)\n",
            "Requirement already satisfied: spacy-loggers<2.0.0,>=1.0.0 in /usr/local/lib/python3.10/dist-packages (from spacy<3.5.0,>=3.4.0->scispacy) (1.0.4)\n",
            "Requirement already satisfied: pathy>=0.3.5 in /usr/local/lib/python3.10/dist-packages (from spacy<3.5.0,>=3.4.0->scispacy) (0.10.1)\n",
            "Requirement already satisfied: typing-extensions>=4.2.0 in /usr/local/lib/python3.10/dist-packages (from pydantic!=1.8,!=1.8.1,<1.11.0,>=1.7.4->spacy<3.5.0,>=3.4.0->scispacy) (4.5.0)\n",
            "Requirement already satisfied: confection<1.0.0,>=0.0.1 in /usr/local/lib/python3.10/dist-packages (from thinc<8.2.0,>=8.1.0->spacy<3.5.0,>=3.4.0->scispacy) (0.0.4)\n",
            "Requirement already satisfied: blis<0.8.0,>=0.7.8 in /usr/local/lib/python3.10/dist-packages (from thinc<8.2.0,>=8.1.0->spacy<3.5.0,>=3.4.0->scispacy) (0.7.9)\n",
            "Requirement already satisfied: click<9.0.0,>=7.1.1 in /usr/local/lib/python3.10/dist-packages (from typer<0.8.0,>=0.3.0->spacy<3.5.0,>=3.4.0->scispacy) (8.1.3)\n",
            "Requirement already satisfied: MarkupSafe>=2.0 in /usr/local/lib/python3.10/dist-packages (from jinja2->spacy<3.5.0,>=3.4.0->scispacy) (2.1.2)\n",
            "Building wheels for collected packages: nmslib\n",
            "  Building wheel for nmslib (setup.py) ... \u001b[?25l\u001b[?25hdone\n",
            "  Created wheel for nmslib: filename=nmslib-2.1.1-cp310-cp310-linux_x86_64.whl size=13571696 sha256=ce6820d0c00e0d7851f6ef795a3e9783897aa469811385521d790c9b6cf1b3da\n",
            "  Stored in directory: /root/.cache/pip/wheels/21/1a/5d/4cc754a5b1a88405cad184b76f823897a63a8d19afcd4b9314\n",
            "Successfully built nmslib\n",
            "Installing collected packages: pysbd, pybind11, conllu, nmslib, scispacy\n",
            "Successfully installed conllu-4.5.2 nmslib-2.1.1 pybind11-2.6.1 pysbd-0.3.4 scispacy-0.5.1\n"
          ]
        }
      ]
    },
    {
      "cell_type": "code",
      "source": [
        "pip install https://s3-us-west-2.amazonaws.com/ai2-s2-scispacy/releases/v0.5.1/en_core_sci_sm-0.5.1.tar.gz"
      ],
      "metadata": {
        "colab": {
          "base_uri": "https://localhost:8080/"
        },
        "id": "1ExTH6Nhs8uT",
        "outputId": "ed62b86b-e23c-4451-8a5d-e036fc2fc59a"
      },
      "execution_count": 27,
      "outputs": [
        {
          "output_type": "stream",
          "name": "stdout",
          "text": [
            "Looking in indexes: https://pypi.org/simple, https://us-python.pkg.dev/colab-wheels/public/simple/\n",
            "Collecting https://s3-us-west-2.amazonaws.com/ai2-s2-scispacy/releases/v0.5.1/en_core_sci_sm-0.5.1.tar.gz\n",
            "  Using cached https://s3-us-west-2.amazonaws.com/ai2-s2-scispacy/releases/v0.5.1/en_core_sci_sm-0.5.1.tar.gz (15.9 MB)\n",
            "  Preparing metadata (setup.py) ... \u001b[?25l\u001b[?25hdone\n",
            "Collecting spacy<3.5.0,>=3.4.1\n",
            "  Using cached spacy-3.4.4-cp310-cp310-manylinux_2_17_x86_64.manylinux2014_x86_64.whl (6.5 MB)\n",
            "Requirement already satisfied: pathy>=0.3.5 in /usr/local/lib/python3.10/dist-packages (from spacy<3.5.0,>=3.4.1->en-core-sci-sm==0.5.1) (0.10.1)\n",
            "Requirement already satisfied: typer<0.8.0,>=0.3.0 in /usr/local/lib/python3.10/dist-packages (from spacy<3.5.0,>=3.4.1->en-core-sci-sm==0.5.1) (0.7.0)\n",
            "Requirement already satisfied: srsly<3.0.0,>=2.4.3 in /usr/local/lib/python3.10/dist-packages (from spacy<3.5.0,>=3.4.1->en-core-sci-sm==0.5.1) (2.4.6)\n",
            "Requirement already satisfied: spacy-legacy<3.1.0,>=3.0.10 in /usr/local/lib/python3.10/dist-packages (from spacy<3.5.0,>=3.4.1->en-core-sci-sm==0.5.1) (3.0.12)\n",
            "Requirement already satisfied: tqdm<5.0.0,>=4.38.0 in /usr/local/lib/python3.10/dist-packages (from spacy<3.5.0,>=3.4.1->en-core-sci-sm==0.5.1) (4.65.0)\n",
            "Requirement already satisfied: setuptools in /usr/local/lib/python3.10/dist-packages (from spacy<3.5.0,>=3.4.1->en-core-sci-sm==0.5.1) (67.7.2)\n",
            "Requirement already satisfied: jinja2 in /usr/local/lib/python3.10/dist-packages (from spacy<3.5.0,>=3.4.1->en-core-sci-sm==0.5.1) (3.1.2)\n",
            "Requirement already satisfied: catalogue<2.1.0,>=2.0.6 in /usr/local/lib/python3.10/dist-packages (from spacy<3.5.0,>=3.4.1->en-core-sci-sm==0.5.1) (2.0.8)\n",
            "Requirement already satisfied: packaging>=20.0 in /usr/local/lib/python3.10/dist-packages (from spacy<3.5.0,>=3.4.1->en-core-sci-sm==0.5.1) (23.1)\n",
            "Requirement already satisfied: numpy>=1.15.0 in /usr/local/lib/python3.10/dist-packages (from spacy<3.5.0,>=3.4.1->en-core-sci-sm==0.5.1) (1.22.4)\n",
            "Requirement already satisfied: requests<3.0.0,>=2.13.0 in /usr/local/lib/python3.10/dist-packages (from spacy<3.5.0,>=3.4.1->en-core-sci-sm==0.5.1) (2.27.1)\n",
            "Requirement already satisfied: pydantic!=1.8,!=1.8.1,<1.11.0,>=1.7.4 in /usr/local/lib/python3.10/dist-packages (from spacy<3.5.0,>=3.4.1->en-core-sci-sm==0.5.1) (1.10.7)\n",
            "Requirement already satisfied: murmurhash<1.1.0,>=0.28.0 in /usr/local/lib/python3.10/dist-packages (from spacy<3.5.0,>=3.4.1->en-core-sci-sm==0.5.1) (1.0.9)\n",
            "Requirement already satisfied: spacy-loggers<2.0.0,>=1.0.0 in /usr/local/lib/python3.10/dist-packages (from spacy<3.5.0,>=3.4.1->en-core-sci-sm==0.5.1) (1.0.4)\n",
            "Requirement already satisfied: thinc<8.2.0,>=8.1.0 in /usr/local/lib/python3.10/dist-packages (from spacy<3.5.0,>=3.4.1->en-core-sci-sm==0.5.1) (8.1.9)\n",
            "Requirement already satisfied: smart-open<7.0.0,>=5.2.1 in /usr/local/lib/python3.10/dist-packages (from spacy<3.5.0,>=3.4.1->en-core-sci-sm==0.5.1) (6.3.0)\n",
            "Collecting wasabi<1.1.0,>=0.9.1\n",
            "  Using cached wasabi-0.10.1-py3-none-any.whl (26 kB)\n",
            "Requirement already satisfied: cymem<2.1.0,>=2.0.2 in /usr/local/lib/python3.10/dist-packages (from spacy<3.5.0,>=3.4.1->en-core-sci-sm==0.5.1) (2.0.7)\n",
            "Requirement already satisfied: preshed<3.1.0,>=3.0.2 in /usr/local/lib/python3.10/dist-packages (from spacy<3.5.0,>=3.4.1->en-core-sci-sm==0.5.1) (3.0.8)\n",
            "Requirement already satisfied: langcodes<4.0.0,>=3.2.0 in /usr/local/lib/python3.10/dist-packages (from spacy<3.5.0,>=3.4.1->en-core-sci-sm==0.5.1) (3.3.0)\n",
            "Requirement already satisfied: typing-extensions>=4.2.0 in /usr/local/lib/python3.10/dist-packages (from pydantic!=1.8,!=1.8.1,<1.11.0,>=1.7.4->spacy<3.5.0,>=3.4.1->en-core-sci-sm==0.5.1) (4.5.0)\n",
            "Requirement already satisfied: idna<4,>=2.5 in /usr/local/lib/python3.10/dist-packages (from requests<3.0.0,>=2.13.0->spacy<3.5.0,>=3.4.1->en-core-sci-sm==0.5.1) (3.4)\n",
            "Requirement already satisfied: charset-normalizer~=2.0.0 in /usr/local/lib/python3.10/dist-packages (from requests<3.0.0,>=2.13.0->spacy<3.5.0,>=3.4.1->en-core-sci-sm==0.5.1) (2.0.12)\n",
            "Requirement already satisfied: urllib3<1.27,>=1.21.1 in /usr/local/lib/python3.10/dist-packages (from requests<3.0.0,>=2.13.0->spacy<3.5.0,>=3.4.1->en-core-sci-sm==0.5.1) (1.26.15)\n",
            "Requirement already satisfied: certifi>=2017.4.17 in /usr/local/lib/python3.10/dist-packages (from requests<3.0.0,>=2.13.0->spacy<3.5.0,>=3.4.1->en-core-sci-sm==0.5.1) (2022.12.7)\n",
            "Requirement already satisfied: confection<1.0.0,>=0.0.1 in /usr/local/lib/python3.10/dist-packages (from thinc<8.2.0,>=8.1.0->spacy<3.5.0,>=3.4.1->en-core-sci-sm==0.5.1) (0.0.4)\n",
            "Requirement already satisfied: blis<0.8.0,>=0.7.8 in /usr/local/lib/python3.10/dist-packages (from thinc<8.2.0,>=8.1.0->spacy<3.5.0,>=3.4.1->en-core-sci-sm==0.5.1) (0.7.9)\n",
            "Requirement already satisfied: click<9.0.0,>=7.1.1 in /usr/local/lib/python3.10/dist-packages (from typer<0.8.0,>=0.3.0->spacy<3.5.0,>=3.4.1->en-core-sci-sm==0.5.1) (8.1.3)\n",
            "Requirement already satisfied: MarkupSafe>=2.0 in /usr/local/lib/python3.10/dist-packages (from jinja2->spacy<3.5.0,>=3.4.1->en-core-sci-sm==0.5.1) (2.1.2)\n",
            "Building wheels for collected packages: en-core-sci-sm\n",
            "  Building wheel for en-core-sci-sm (setup.py) ... \u001b[?25l\u001b[?25hdone\n",
            "  Created wheel for en-core-sci-sm: filename=en_core_sci_sm-0.5.1-py3-none-any.whl size=15870871 sha256=b58d5b4e139a89377edf05da7f8a37e4f62eb536a820fc13ed6c844811dc9ff9\n",
            "  Stored in directory: /root/.cache/pip/wheels/35/8f/33/4c20916692704167c1d78c3f11e7deff5b7c2ba4875eacf648\n",
            "Successfully built en-core-sci-sm\n",
            "Installing collected packages: wasabi, spacy, en-core-sci-sm\n",
            "  Attempting uninstall: wasabi\n",
            "    Found existing installation: wasabi 1.1.1\n",
            "    Uninstalling wasabi-1.1.1:\n",
            "      Successfully uninstalled wasabi-1.1.1\n",
            "  Attempting uninstall: spacy\n",
            "    Found existing installation: spacy 3.5.2\n",
            "    Uninstalling spacy-3.5.2:\n",
            "      Successfully uninstalled spacy-3.5.2\n",
            "\u001b[31mERROR: pip's dependency resolver does not currently take into account all the packages that are installed. This behaviour is the source of the following dependency conflicts.\n",
            "en-core-web-sm 3.5.0 requires spacy<3.6.0,>=3.5.0, but you have spacy 3.4.4 which is incompatible.\u001b[0m\u001b[31m\n",
            "\u001b[0mSuccessfully installed en-core-sci-sm-0.5.1 spacy-3.4.4 wasabi-0.10.1\n"
          ]
        }
      ]
    },
    {
      "cell_type": "markdown",
      "source": [
        "Create variables for the twitter and mastodon text files."
      ],
      "metadata": {
        "id": "fiekXAwlV999"
      }
    },
    {
      "cell_type": "code",
      "source": [
        "file = open(\"twitter.txt\", 'r')\n",
        "print(file)\n",
        "content = file.read()\n",
        "\n",
        "file2 = open(\"mastodon.txt\", 'r')\n",
        "print(file2)\n",
        "content2 = file2.read()"
      ],
      "metadata": {
        "colab": {
          "base_uri": "https://localhost:8080/"
        },
        "id": "Dh1laCSQtRGa",
        "outputId": "104a6e0a-204a-4c83-d24b-1c5b2786b25e"
      },
      "execution_count": 24,
      "outputs": [
        {
          "output_type": "stream",
          "name": "stdout",
          "text": [
            "<_io.TextIOWrapper name='twitter.txt' mode='r' encoding='UTF-8'>\n",
            "<_io.TextIOWrapper name='mastodon.txt' mode='r' encoding='UTF-8'>\n"
          ]
        }
      ]
    },
    {
      "cell_type": "markdown",
      "source": [
        "Import spacy and using the \"en_core_sci_sm\" dictionary, look for abbreviations in the document and find written out terms/definition in the document.\n",
        "\n",
        "First is the Twitter document."
      ],
      "metadata": {
        "id": "lde2dngpua0v"
      }
    },
    {
      "cell_type": "code",
      "source": [
        "import spacy\n",
        "from scispacy.abbreviation import AbbreviationDetector\n",
        "\n",
        "nlp = spacy.load(\"en_core_sci_sm\")\n",
        "\n",
        "# Add the abbreviation pipe to the spacy pipeline.\n",
        "nlp.add_pipe(\"abbreviation_detector\")\n",
        "\n",
        "doc = nlp(content)\n",
        "\n",
        "print(\"Abbreviation\", \"\\t\", \"Definition\")\n",
        "for abrv in doc._.abbreviations:\n",
        "\tprint(f\"{abrv} \\t ({abrv.start}, {abrv.end}) {abrv._.long_form}\")"
      ],
      "metadata": {
        "colab": {
          "base_uri": "https://localhost:8080/"
        },
        "id": "JXXbVxQEtYlH",
        "outputId": "6a40c655-2f41-4c58-9669-6ffc449cba96"
      },
      "execution_count": 67,
      "outputs": [
        {
          "output_type": "stream",
          "name": "stdout",
          "text": [
            "Abbreviation \t Definition\n",
            "here \t (4094, 4095) here\n",
            "here \t (4275, 4276) here\n",
            "here \t (1688, 1689) here\n",
            "here \t (4150, 4151) here\n",
            "here \t (4270, 4271) here\n",
            "here \t (4118, 4119) here\n",
            "here \t (3927, 3928) here\n",
            "here \t (4371, 4372) here\n"
          ]
        }
      ]
    },
    {
      "cell_type": "markdown",
      "source": [
        "Twitter has abbreviations but does not seem to show on the result. After manually searching through the file, there were references to the Digital Advertising Alliance (DAA) and EFTA, among others. However, certain terms such as EFTA, assumed to refer to the European Free Trade Association, wer not defined in the document."
      ],
      "metadata": {
        "id": "ry6AS_Q-W5YY"
      }
    },
    {
      "cell_type": "code",
      "source": [
        "import spacy\n",
        "from scispacy.abbreviation import AbbreviationDetector\n",
        "\n",
        "nlp = spacy.load(\"en_core_sci_sm\")\n",
        "\n",
        "# Add the abbreviation pipe to the spacy pipeline.\n",
        "nlp.add_pipe(\"abbreviation_detector\")\n",
        "\n",
        "doc = nlp(content2)\n",
        "\n",
        "print(\"Abbreviation\", \"\\t\", \"Definition\")\n",
        "for abrv in doc._.abbreviations:\n",
        "\tprint(f\"{abrv} \\t ({abrv.start}, {abrv.end}) {abrv._.long_form}\")"
      ],
      "metadata": {
        "colab": {
          "base_uri": "https://localhost:8080/"
        },
        "id": "CaQ7etfSqNh4",
        "outputId": "1732ab08-d538-4cc2-836a-8c58c35807a2"
      },
      "execution_count": 68,
      "outputs": [
        {
          "output_type": "stream",
          "name": "stdout",
          "text": [
            "Abbreviation \t Definition\n",
            "GDPR \t (1304, 1305) General Data\n",
            "Protection Regulation\n",
            "COPPA \t (1360, 1361) Children's Online Privacy\n",
            "Protection Act\n"
          ]
        }
      ]
    },
    {
      "cell_type": "markdown",
      "source": [
        "Mastodon has two acronyms that were both defined in the document.\n",
        "\n",
        "Twitter should be more mindful of writing out the abbreviations for users that may not be familiar with certain terms. "
      ],
      "metadata": {
        "id": "qzmstRDxXVAh"
      }
    },
    {
      "cell_type": "markdown",
      "source": [
        "## Data Clean Up\n",
        "To continue the analysis, the text data will be cleaned up using NLTK pos tag, lemmetizer and stop words. \n",
        "\n",
        "First import all the libraries."
      ],
      "metadata": {
        "id": "b1k0fAVESwQ4"
      }
    },
    {
      "cell_type": "code",
      "source": [
        "import nltk\n",
        "from nltk.corpus import stopwords\n",
        "nltk.download('stopwords')\n",
        "from nltk import pos_tag\n",
        "from nltk.corpus import wordnet \n",
        "from nltk.stem.wordnet import WordNetLemmatizer\n",
        "stops = stopwords.words('english')\n",
        "\n",
        "import glob"
      ],
      "metadata": {
        "colab": {
          "base_uri": "https://localhost:8080/"
        },
        "id": "scd6QwjETkeQ",
        "outputId": "8421138b-df9a-42d5-d379-3109e55ff974"
      },
      "execution_count": 30,
      "outputs": [
        {
          "output_type": "stream",
          "name": "stderr",
          "text": [
            "[nltk_data] Downloading package stopwords to /root/nltk_data...\n",
            "[nltk_data]   Unzipping corpora/stopwords.zip.\n"
          ]
        }
      ]
    },
    {
      "cell_type": "markdown",
      "source": [
        "Create a folder for the clean up files to go into."
      ],
      "metadata": {
        "id": "vDx6IoqBX7aV"
      }
    },
    {
      "cell_type": "code",
      "source": [
        "! mkdir files_cleaned"
      ],
      "metadata": {
        "id": "mL3IlLwS3WB5"
      },
      "execution_count": 31,
      "outputs": []
    },
    {
      "cell_type": "markdown",
      "source": [
        "Define a function to map POS tag."
      ],
      "metadata": {
        "id": "905jGz0WYAEs"
      }
    },
    {
      "cell_type": "code",
      "source": [
        "def get_wordnet_pos(word):\n",
        "    \"\"\"Map POS tag to first character lemmatize() accepts\"\"\"\n",
        "    tag = nltk.pos_tag([word])[0][1][0].upper()\n",
        "    tag_dict = {\"J\": wordnet.ADJ,\n",
        "                \"N\": wordnet.NOUN,\n",
        "                \"V\": wordnet.VERB,\n",
        "                \"R\": wordnet.ADV}\n",
        "\n",
        "    return tag_dict.get(tag, wordnet.NOUN)"
      ],
      "metadata": {
        "id": "oeM9cUOkrxMm"
      },
      "execution_count": 32,
      "outputs": []
    },
    {
      "cell_type": "markdown",
      "source": [
        "Clean up the files by changing all terms to lowercase, filtering through stop words, and lemmatizing the terms. Finally, save the result into a new text file."
      ],
      "metadata": {
        "id": "dRNoTOnGYH5e"
      }
    },
    {
      "cell_type": "code",
      "source": [
        "nltk.download('averaged_perceptron_tagger')\n",
        "nltk.download('wordnet')\n",
        "nltk.download('punkt')\n",
        "text_tokens = nltk.word_tokenize(content)\n",
        "nltk_text = nltk.Text(text_tokens)\n",
        "text_lower = [t.lower() for t in nltk_text if t.isalnum()]\n",
        "text_stops = [t for t in text_lower if t not in stops]\n",
        "text_clean = [WordNetLemmatizer().lemmatize(t, get_wordnet_pos(t)) for t in text_stops]\n",
        "\n",
        "with open(f\"files_cleaned/twitter_cleaned.txt\", \"w\") as file:\n",
        "    file.write(str(text_clean))"
      ],
      "metadata": {
        "colab": {
          "base_uri": "https://localhost:8080/"
        },
        "id": "V8qmzKIhrxUM",
        "outputId": "6de78277-345e-48ce-a242-7e82a6429f86"
      },
      "execution_count": 33,
      "outputs": [
        {
          "output_type": "stream",
          "name": "stderr",
          "text": [
            "[nltk_data] Downloading package averaged_perceptron_tagger to\n",
            "[nltk_data]     /root/nltk_data...\n",
            "[nltk_data]   Unzipping taggers/averaged_perceptron_tagger.zip.\n",
            "[nltk_data] Downloading package wordnet to /root/nltk_data...\n",
            "[nltk_data] Downloading package punkt to /root/nltk_data...\n",
            "[nltk_data]   Unzipping tokenizers/punkt.zip.\n"
          ]
        }
      ]
    },
    {
      "cell_type": "code",
      "source": [
        "text_tokens2 = nltk.word_tokenize(content2)\n",
        "nltk_text2 = nltk.Text(text_tokens2)\n",
        "text_lower2 = [t.lower() for t in nltk_text2 if t.isalnum()]\n",
        "text_stops2 = [t for t in text_lower2 if t not in stops]\n",
        "text_clean2 = [WordNetLemmatizer().lemmatize(t, get_wordnet_pos(t)) for t in text_stops2]\n",
        "\n",
        "with open(f\"files_cleaned/mastodon_cleaned.txt\", \"w\") as file:\n",
        "    file.write(str(text_clean2))"
      ],
      "metadata": {
        "id": "g6odzq_H5J1P"
      },
      "execution_count": 34,
      "outputs": []
    },
    {
      "cell_type": "markdown",
      "source": [
        "Check to see if any more stop words need to be added. "
      ],
      "metadata": {
        "id": "FvGRRTpOYvvl"
      }
    },
    {
      "cell_type": "code",
      "source": [
        "file = open(f\"files_cleaned/twitter_cleaned.txt\", 'r')\n",
        "twittercontent = file.read()\n",
        "print(twittercontent)"
      ],
      "metadata": {
        "colab": {
          "base_uri": "https://localhost:8080/"
        },
        "id": "8kdLfkOy3r4l",
        "outputId": "052ce5dc-a499-4aaa-a600-28cd4f6aaff1"
      },
      "execution_count": 35,
      "outputs": [
        {
          "output_type": "stream",
          "name": "stdout",
          "text": [
            "['twitter', 'privacy', 'policy', 'scroll', 'read', 'really', 'hard', 'make', 'everyone', 'happy', 'privacy', 'policy', 'people', 'use', 'twitter', 'want', 'something', 'short', 'easy', 'understand', 'wish', 'could', 'fit', 'everything', 'need', 'know', 'tweet', 'regulator', 'ask', 'u', 'meet', 'legal', 'obligation', 'describe', 'lot', 'detail', 'mind', 'write', 'privacy', 'policy', 'simply', 'possible', 'empower', 'make', 'inform', 'decision', 'use', 'twitter', 'make', 'sure', 'understand', 'control', 'information', 'collect', 'use', 'share', 'skip', 'reading', 'every', 'word', 'privacy', 'policy', 'least', 'know', 'twitter', 'public', 'platform', 'learn', 'viewable', 'searchable', 'collect', 'data', 'learn', 'collect', 'affiliate', 'service', 'may', 'policy', 'learn', 'affiliate', 'use', 'data', 'make', 'twitter', 'well', 'learn', 'make', 'info', 'work', 'control', 'experience', 'learn', 'update', 'setting', 'question', 'use', 'data', 'ask', 'learn', 'contact', 'u', 'seriously', 'happens', 'data', '1', 'information', 'collect', 'information', 'collect', 'use', 'twitter', 'fall', 'three', 'category', 'information', 'provide', 'u', 'use', 'product', 'service', 'need', 'account', 'create', 'account', 'need', 'provide', 'u', 'certain', 'information', 'likewise', 'use', 'paid', 'product', 'service', 'provide', 'without', 'get', 'payment', 'information', 'basically', 'certain', 'information', 'necessary', 'want', 'use', 'many', 'product', 'service', 'personal', 'account', 'create', 'account', 'must', 'provide', 'u', 'information', 'provide', 'service', 'include', 'display', 'name', 'example', 'twitter', 'moment', 'username', 'example', 'twittermoments', 'password', 'email', 'address', 'phone', 'number', 'date', 'birth', 'display', 'language', 'single', 'information', 'choose', 'method', 'also', 'choose', 'share', 'location', 'profile', 'tweet', 'upload', 'address', 'book', 'twitter', 'help', 'find', 'people', 'may', 'know', 'profile', 'information', 'include', 'display', 'name', 'username', 'always', 'public', 'use', 'either', 'real', 'name', 'pseudonym', 'remember', 'create', 'multiple', 'twitter', 'account', 'example', 'express', 'different', 'part', 'identity', 'professional', 'otherwise', 'data', 'collect', 'give', 'data', 'get', 'data', 'return', 'offer', 'useful', 'service', 'mind', 'check', 'setting', 'professional', 'account', 'create', 'professional', 'account', 'also', 'need', 'provide', 'u', 'professional', 'category', 'may', 'provide', 'u', 'information', 'include', 'street', 'address', 'contact', 'email', 'address', 'contact', 'phone', 'number', 'always', 'public', 'payment', 'information', 'order', 'purchase', 'ad', 'offering', 'provide', 'part', 'paid', 'product', 'service', 'need', 'provide', 'u', 'payment', 'information', 'include', 'credit', 'debit', 'card', 'number', 'card', 'expiration', 'date', 'cvv', 'code', 'billing', 'address', 'preference', 'set', 'preference', 'use', 'setting', 'collect', 'information', 'respect', 'preference', 'information', 'collect', 'use', 'twitter', 'use', 'service', 'collect', 'information', 'use', 'product', 'service', 'use', 'information', 'provide', 'product', 'service', 'help', 'keep', 'twitter', 'secure', 'respectful', 'everyone', 'relevant', 'usage', 'information', 'collect', 'information', 'activity', 'twitter', 'include', 'tweet', 'content', 'post', 'include', 'date', 'application', 'version', 'twitter', 'information', 'broadcast', 'activity', 'twitterlive', 'space', 'include', 'broadcast', 'create', 'create', 'list', 'bookmark', 'community', 'part', 'interaction', 'user', 'content', 'retweets', 'like', 'share', 'reply', 'user', 'mention', 'tag', 'content', 'mention', 'tag', 'broadcast', 'participate', 'include', 'view', 'history', 'listen', 'comment', 'speak', 'react', 'interact', 'others', 'platform', 'people', 'follow', 'people', 'follow', 'use', 'direct', 'message', 'include', 'content', 'message', 'recipient', 'date', 'time', 'message', 'communicate', 'u', 'email', 'collect', 'information', 'communication', 'content', 'collect', 'information', 'link', 'interact', 'across', 'service', 'include', 'email', 'sent', 'purchase', 'payment', 'allow', 'make', 'payment', 'send', 'money', 'use', 'twitter', 'feature', 'service', 'include', 'intermediary', 'may', 'receive', 'information', 'transaction', 'make', 'subscription', 'set', 'expire', 'amount', 'paid', 'receive', 'device', 'information', 'collect', 'information', 'device', 'use', 'access', 'twitter', 'include', 'information', 'connection', 'ip', 'address', 'browser', 'type', 'information', 'device', 'setting', 'device', 'advertising', 'id', 'operating', 'system', 'carrier', 'language', 'memory', 'apps', 'instal', 'battery', 'level', 'device', 'address', 'book', 'chosen', 'share', 'u', 'location', 'information', 'use', 'twitter', 'collect', 'information', 'approximate', 'location', 'provide', 'service', 'expect', 'include', 'show', 'relevant', 'ad', 'also', 'choose', 'share', 'current', 'precise', 'location', 'place', 'previously', 'use', 'twitter', 'enable', 'setting', 'account', 'infer', 'identity', 'may', 'collect', 'receive', 'information', 'use', 'infer', 'identity', 'detailed', 'sign', 'twitter', 'browser', 'device', 'associate', 'browser', 'device', 'account', 'subject', 'setting', 'may', 'also', 'associate', 'account', 'browser', 'device', 'use', 'sign', 'twitter', 'associate', 'device', 'browser', 'browser', 'device', 'identifier', 'provide', 'information', 'twitter', 'include', 'email', 'address', 'phone', 'number', 'associate', 'information', 'twitter', 'account', 'subject', 'setting', 'may', 'also', 'use', 'information', 'order', 'infer', 'information', 'identity', 'example', 'associate', 'account', 'hash', 'email', 'address', 'share', 'common', 'component', 'email', 'address', 'provide', 'twitter', 'access', 'twitter', 'sign', 'may', 'infer', 'identity', 'base', 'information', 'collect', 'log', 'information', 'may', 'receive', 'information', 'view', 'content', 'otherwise', 'interact', 'product', 'service', 'even', 'create', 'account', 'sign', 'ip', 'address', 'browser', 'type', 'language', 'operating', 'system', 'refer', 'webpage', 'access', 'time', 'page', 'visit', 'location', 'mobile', 'carrier', 'device', 'information', 'include', 'device', 'application', 'id', 'search', 'term', 'id', 'include', 'submit', 'query', 'ad', 'show', 'twitter', 'identifier', 'identifier', 'associate', 'cooky', 'also', 'receive', 'log', 'information', 'click', 'view', 'interact', 'link', 'service', 'include', 'install', 'another', 'application', 'twitter', 'advertisement', 'view', 'interact', 'ad', 'serve', 'twitter', 'may', 'collect', 'information', 'view', 'interaction', 'watch', 'video', 'ad', 'preroll', 'click', 'ad', 'interact', 'retweets', 'reply', 'ad', 'cooky', 'similar', 'technology', 'like', 'many', 'website', 'use', 'cooky', 'similar', 'technology', 'collect', 'additional', 'website', 'usage', 'data', 'operate', 'service', 'cooky', 'require', 'many', 'part', 'product', 'service', 'search', 'look', 'public', 'profile', 'learn', 'use', 'cooky', 'similar', 'technology', 'interaction', 'content', 'site', 'view', 'content', 'website', 'integrate', 'twitter', 'content', 'embed', 'timeline', 'tweet', 'button', 'may', 'receive', 'log', 'information', 'include', 'web', 'page', 'visit', 'information', 'receive', 'third', 'party', 'use', 'online', 'product', 'service', 'may', 'share', 'information', 'usage', 'u', 'ad', 'partner', 'developer', 'publisher', 'ad', 'business', 'partner', 'share', 'information', 'u', 'browser', 'cookie', 'id', 'identifier', 'mobile', 'device', 'id', 'hash', 'user', 'information', 'like', 'email', 'address', 'demographic', 'interest', 'data', 'content', 'view', 'action', 'take', 'website', 'app', 'ad', 'partner', 'particularly', 'advertiser', 'also', 'enable', 'u', 'collect', 'similar', 'information', 'directly', 'website', 'app', 'integrate', 'advertising', 'technology', 'information', 'share', 'ad', 'partner', 'affiliate', 'collect', 'twitter', 'website', 'apps', 'ad', 'partner', 'affiliate', 'may', 'combine', 'information', 'share', 'twitter', 'twitter', 'receives', 'generates', 'infers', 'described', 'elsewhere', 'privacy', 'policy', 'third', 'party', 'account', 'connection', 'integration', 'may', 'receive', 'information', 'third', 'party', 'ad', 'partner', 'twitter', 'user', 'developer', 'partner', 'help', 'u', 'evaluate', 'safety', 'quality', 'content', 'platform', 'corporate', 'affiliate', 'service', 'link', 'twitter', 'account', 'may', 'choose', 'connect', 'twitter', 'account', 'account', 'another', 'service', 'service', 'may', 'send', 'u', 'information', 'account', 'service', '2', 'use', 'information', 'break', 'use', 'information', 'collect', 'simple', 'way', 'system', 'bring', 'service', 'work', 'example', 'piece', 'information', 'may', 'use', 'differently', 'different', 'purpose', 'ultimately', 'deliver', 'single', 'service', 'think', 'useful', 'describe', 'five', 'main', 'way', 'use', 'information', 'question', 'answer', 'always', 'contact', 'u', 'go', 'operate', 'improve', 'personalize', 'service', 'use', 'information', 'collect', 'provide', 'operate', 'twitter', 'product', 'service', 'also', 'use', 'information', 'collect', 'improve', 'personalize', 'product', 'service', 'well', 'experience', 'twitter', 'include', 'show', 'relevant', 'content', 'ad', 'suggest', 'people', 'topic', 'follow', 'enable', 'help', 'discover', 'affiliate', 'apps', 'service', 'may', 'use', 'information', 'collect', 'account', 'service', 'choose', 'connect', 'twitter', 'account', 'provide', 'feature', 'like', 'authentication', 'operate', 'service', 'use', 'contact', 'information', 'help', 'others', 'find', 'account', 'setting', 'permit', 'include', 'service', 'client', 'application', 'use', 'information', 'provide', 'advertising', 'sponsor', 'content', 'service', 'subject', 'setting', 'help', 'make', 'ad', 'twitter', 'relevant', 'also', 'use', 'information', 'measure', 'effectiveness', 'ad', 'help', 'recognize', 'device', 'serve', 'ad', 'twitter', 'ad', 'partner', 'also', 'enable', 'u', 'collect', 'similar', 'information', 'directly', 'website', 'app', 'integrate', 'advertising', 'technology', 'use', 'information', 'make', 'twitter', 'service', 'know', 'love', 'information', 'share', 'ad', 'partner', 'affiliate', 'collect', 'twitter', 'website', 'apps', 'ad', 'partner', 'affiliate', 'may', 'combine', 'information', 'share', 'twitter', 'twitter', 'receives', 'generates', 'infers', 'described', 'elsewhere', 'privacy', 'policy', 'foster', 'safety', 'security', 'use', 'information', 'collect', 'provide', 'safety', 'security', 'user', 'product', 'service', 'account', 'include', 'verify', 'identity', 'authenticate', 'account', 'defend', 'fraud', 'unauthorized', 'use', 'illegal', 'activity', 'also', 'use', 'information', 'evaluate', 'affect', 'safety', 'quality', 'content', 'twitter', 'include', 'investigate', 'enforce', 'policy', 'term', 'well', 'applicable', 'law', 'measure', 'analyze', 'make', 'service', 'well', 'use', 'information', 'collect', 'measure', 'analyze', 'effectiveness', 'product', 'service', 'well', 'understand', 'use', 'order', 'make', 'well', 'communicate', 'service', 'use', 'information', 'collect', 'communicate', 'product', 'service', 'include', 'product', 'update', 'change', 'policy', 'term', 'open', 'hearing', 'u', 'may', 'also', 'send', 'marketing', 'message', 'time', 'time', 'research', 'use', 'information', 'share', 'u', 'collect', 'conduct', 'research', 'survey', 'product', 'test', 'troubleshoot', 'help', 'u', 'operate', 'improve', 'product', 'service', 'tweet', 'public', '3', 'share', 'information', 'know', 'way', 'share', 'information', 'share', 'control', 'five', 'general', 'way', 'share', 'information', 'tweet', 'post', 'share', 'general', 'public', 'direct', 'u', 'disclose', 'information', 'broadly', 'possible', 'twitter', 'content', 'include', 'profile', 'information', 'username', 'profile', 'picture', 'available', 'view', 'general', 'public', 'public', 'need', 'sign', 'view', 'much', 'content', 'twitter', 'may', 'also', 'find', 'twitter', 'content', 'twitter', 'example', 'search', 'query', 'result', 'internet', 'search', 'engine', 'twitter', 'user', 'depend', 'setting', 'base', 'twitter', 'product', 'service', 'use', 'share', 'interaction', 'twitter', 'content', 'user', 'like', 'people', 'follow', 'content', 'send', 'specific', 'twitter', 'user', 'direct', 'message', 'please', 'keep', 'mind', 'share', 'information', 'like', 'direct', 'message', 'protect', 'tweet', 'someone', 'else', 'access', 'twitter', 'service', 'information', 'may', 'share', 'service', 'share', 'information', 'quick', 'answer', 'one', 'head', 'tweet', 'end', 'news', 'search', 'engine', 'partner', 'depend', 'setting', 'also', 'provide', 'certain', 'third', 'party', 'information', 'help', 'u', 'offer', 'operate', 'product', 'service', 'learn', 'partnership', 'help', 'center', 'control', 'whether', 'twitter', 'share', 'personal', 'information', 'partner', 'use', 'data', 'share', 'business', 'partner', 'option', 'privacy', 'safety', 'setting', 'set', 'control', 'share', 'described', 'elsewhere', 'privacy', 'policy', 'share', 'information', 'service', 'provider', 'partnership', 'described', 'help', 'center', 'article', 'third', 'party', 'integration', 'service', 'provider', 'may', 'share', 'information', 'service', 'provider', 'perform', 'function', 'provide', 'service', 'behalf', 'include', 'payment', 'service', 'provider', 'facilitate', 'payment', 'service', 'provider', 'host', 'various', 'blog', 'wikis', 'service', 'provider', 'help', 'u', 'understand', 'use', 'service', 'provide', 'fraud', 'detection', 'service', 'advertiser', 'advertising', 'revenue', 'enables', 'u', 'provide', 'product', 'service', 'advertiser', 'may', 'learn', 'information', 'engagement', 'ad', 'twitter', 'example', 'click', 'external', 'link', 'ad', 'service', 'advertiser', 'website', 'operator', 'might', 'figure', 'come', 'twitter', 'along', 'information', 'associate', 'ad', 'clicked', 'characteristic', 'audience', 'intend', 'reach', 'identifier', 'ad', 'may', 'also', 'collect', 'personal', 'information', 'cookie', 'identifier', 'ip', 'address', 'content', 'integration', 'share', 'disclose', 'information', 'consent', 'direction', 'authorize', 'party', 'web', 'client', 'application', 'access', 'account', 'direct', 'u', 'share', 'feedback', 'business', 'similarly', 'improve', 'experience', 'work', 'partner', 'display', 'video', 'content', 'twitter', 'allow', 'share', 'watch', 'otherwise', 'interact', 'content', 'video', 'share', 'partner', 'may', 'receive', 'process', 'personal', 'information', 'described', 'privacy', 'policy', 'video', 'content', 'adjust', 'autoplay', 'setting', 'prefer', 'content', 'play', 'automatically', 'apis', 'use', 'technology', 'like', 'apis', 'embeds', 'make', 'public', 'twitter', 'information', 'available', 'website', 'apps', 'others', 'use', 'example', 'display', 'tweet', 'news', 'website', 'analyze', 'people', 'say', 'twitter', 'generally', 'make', 'content', 'available', 'limited', 'quantity', 'free', 'charge', 'licensing', 'fee', 'access', 'standard', 'term', 'govern', 'information', 'use', 'compliance', 'program', 'enforce', 'term', 'individual', 'company', 'affiliate', 'twitter', 'offering', 'may', 'reflect', 'update', 'make', 'twitter', 'information', 'make', 'public', 'data', 'twitter', 'available', 'world', 'visit', 'http', 'require', 'law', 'prevent', 'harm', 'public', 'interest', 'may', 'preserve', 'use', 'share', 'disclose', 'information', 'believe', 'reasonably', 'necessary', 'comply', 'law', 'regulation', 'legal', 'process', 'governmental', 'request', 'protect', 'safety', 'person', 'protect', 'safety', 'integrity', 'platform', 'include', 'help', 'prevent', 'spam', 'abuse', 'malicious', 'actor', 'service', 'explain', 'remove', 'content', 'account', 'service', 'violation', 'twitter', 'rule', 'address', 'fraud', 'security', 'technical', 'issue', 'protect', 'right', 'property', 'right', 'property', 'use', 'service', 'affiliate', 'may', 'share', 'information', 'amongst', 'affiliate', 'provide', 'product', 'service', 'result', 'change', 'ownership', 'may', 'share', 'sell', 'transfer', 'information', 'connection', 'merger', 'acquisition', 'reorganization', 'sale', 'asset', 'bankruptcy', 'privacy', 'policy', 'apply', 'personal', 'information', 'share', 'close', 'transaction', 'transfer', 'new', 'entity', 'data', 'expiration', 'date', '4', 'long', 'keep', 'information', 'keep', 'different', 'type', 'information', 'different', 'period', 'time', 'keep', 'profile', 'information', 'content', 'duration', 'account', 'generally', 'keep', 'personally', 'identifiable', 'data', 'collect', 'use', 'product', 'service', 'maximum', '18', 'month', 'remember', 'public', 'content', 'exist', 'elsewhere', 'even', 'remove', 'twitter', 'example', 'search', 'engine', 'third', 'party', 'may', 'retain', 'copy', 'tweet', 'longer', 'base', 'upon', 'privacy', 'policy', 'even', 'delete', 'expire', 'twitter', 'read', 'search', 'visibility', 'violate', 'rule', 'account', 'suspend', 'may', 'keep', 'identifier', 'use', 'create', 'account', 'email', 'address', 'phone', 'number', 'indefinitely', 'prevent', 'repeat', 'policy', 'offender', 'create', 'new', 'account', 'may', 'keep', 'certain', 'information', 'longer', 'policy', 'specify', 'order', 'comply', 'legal', 'requirement', 'safety', 'security', 'reason', 'long', 'keep', 'data', 'generally', 'keep', 'data', 'long', 'account', '5', 'take', 'control', 'access', 'correction', 'portability', 'access', 'correct', 'modify', 'information', 'provide', 'u', 'edit', 'profile', 'adjust', 'account', 'setting', 'learn', 'information', 'collect', 'infer', 'twitter', 'data', 'request', 'access', 'additional', 'information', 'download', 'copy', 'information', 'tweet', 'follow', 'instruction', 'periscope', 'website', 'request', 'correction', 'modification', 'information', 'download', 'account', 'information', 'follow', 'instruction', 'protect', 'privacy', 'maintain', 'security', 'take', 'step', 'verify', 'identity', 'grant', 'access', 'personal', 'information', 'comply', 'deletion', 'portability', 'related', 'request', 'may', 'certain', 'situation', 'reject', 'request', 'access', 'correction', 'portability', 'example', 'may', 'reject', 'access', 'unable', 'verify', 'identity', 'control', 'data', 'access', 'delete', 'change', 'setting', 'basically', 'bos', 'delete', 'information', 'follow', 'instruction', 'periscope', 'account', 'deactivate', 'deactivate', 'twitter', 'account', 'include', 'display', 'name', 'username', 'public', 'profile', 'longer', 'viewable', 'twitter', 'io', 'twitter', 'android', '30', 'day', 'deactivation', 'still', 'possible', 'restore', 'twitter', 'account', 'accidentally', 'wrongfully', 'deactivate', 'object', 'restrict', 'withdraw', 'consent', 'manage', 'privacy', 'setting', 'account', 'feature', 'change', 'setting', 'may', 'take', 'time', 'choice', 'fully', 'reflect', 'throughout', 'system', 'may', 'also', 'notice', 'change', 'twitter', 'experience', 'limitation', 'ability', 'access', 'certain', 'feature', 'depend', 'setting', 'adjust', 'twitter', 'adheres', 'digital', 'advertising', 'alliance', 'principle', 'online', 'behavioral', 'advertising', 'also', 'refer', 'advertising', 'respect', 'daa', 'consumer', 'choice', 'tool', 'opt', 'base', 'advertising', 'http', 'authorize', 'agent', 'request', 'submit', 'request', 'related', 'access', 'modification', 'deletion', 'information', 'someone', 'else', 'information', 'authorize', 'agent', 'may', 'also', 'contact', 'u', 'specify', 'contact', 'twitter', 'section', 'privacy', 'policy', 'may', 'require', 'provide', 'additional', 'information', 'verification', '6', 'right', 'provide', 'twitter', 'people', 'world', 'provide', 'many', 'privacy', 'tool', 'control', 'user', 'regardless', 'live', 'however', 'experience', 'may', 'slightly', 'different', 'user', 'country', 'ensure', 'twitter', 'respect', 'local', 'requirement', 'specific', 'legal', 'base', 'use', 'information', 'twitter', 'carefully', 'consider', 'legal', 'reason', 'permit', 'collect', 'use', 'share', 'otherwise', 'process', 'information', 'want', 'dig', 'learn', 'well', 'understand', 'nuance', 'encourage', 'check', 'additional', 'information', 'data', 'processing', 'sell', 'personal', 'information', 'move', 'data', 'make', 'twitter', 'work', 'use', 'twitter', 'seamlessly', 'participate', 'global', 'conversation', 'people', 'country', 'world', 'twitter', 'must', 'move', 'information', 'across', 'border', 'different', 'country', 'around', 'world', 'support', 'safe', 'reliable', 'service', 'depend', 'example', 'live', 'europe', 'conversation', 'someone', 'united', 'state', 'information', 'move', 'country', 'provide', 'experience', 'expect', 'u', 'twitter', 'handle', 'information', 'wherever', 'treat', 'information', 'fairly', 'matter', 'live', 'around', 'world', 'also', 'use', 'data', 'center', 'cloud', 'provider', 'engage', 'affiliate', 'partner', 'service', 'provider', 'locate', 'many', 'part', 'world', 'help', 'u', 'provide', 'service', 'move', 'data', 'country', 'look', 'risk', 'may', 'present', 'data', 'rely', 'thing', 'like', 'standard', 'contractual', 'clause', 'applicable', 'ensure', 'data', 'right', 'protect', 'data', 'share', 'third', 'party', 'require', 'maintain', 'protection', 'data', 'provide', 'directly', '7', 'twitter', 'audience', 'service', 'direct', 'child', 'may', 'use', 'service', 'age', '13', 'must', 'also', 'old', 'enough', 'consent', 'processing', 'personal', 'data', 'country', 'country', 'may', 'allow', 'parent', 'guardian', 'behalf', 'twitter', 'kid', 'nope', 'twitter', 'intend', 'people', '13', 'twitter', '8', 'change', 'privacy', 'policy', 'current', 'version', 'privacy', 'policy', 'governs', 'processing', 'personal', 'data', 'may', 'revise', 'privacy', 'policy', 'time', 'time', 'need', 'revise', 'privacy', 'policy', 'make', 'change', 'determine', 'u', 'material', 'provide', 'notice', 'opportunity', 'review', 'revise', 'privacy', 'policy', 'continue', 'use', 'twitter', 'policy', 'change', 'let', 'know', '9', 'contact', 'twitter', 'want', 'hear', 'thought', 'question', 'privacy', 'policy', 'contact', 'u', 'via', 'privacy', 'policy', 'inquiry', 'page', 'write', 'u', 'appropriate', 'address', 'live', 'united', 'state', 'country', 'outside', 'european', 'union', 'efta', 'state', 'united', 'kingdom', 'data', 'controller', 'responsible', 'personal', 'data', 'twitter', 'address', 'live', 'european', 'union', 'efta', 'state', 'united', 'kingdom', 'data', 'controller', 'twitter', 'international', 'unlimited', 'company', 'address', 'twitter', 'attn', 'privacy', 'policy', 'inquiry', '1355', 'market', 'street', 'suite', '900', 'san', 'francisco', 'ca', '94103', 'twitter', 'international', 'unlimited', 'company', 'attn', 'data', 'protection', 'officer', 'one', 'cumberland', 'place', 'fenian', 'street', 'dublin', '2', 'd02', 'ax07', 'ireland', 'confidentially', 'contact', 'twitter', 'data', 'protection', 'officer', 'data', 'protection', 'inquiry', 'form', 'wish', 'raise', 'concern', 'data', 'processing', 'practice', 'right', 'local', 'supervisory', 'authority', 'twitter', 'international', 'unlimited', 'company', 'lead', 'supervisory', 'authority', 'irish', 'data', 'protection', 'commission', 'use', 'contact', 'detail', 'list', 'website', 'effective', 'june', '10', '2022', 'contact', 'twitter', 'slide', 'official', 'inbox']\n"
          ]
        }
      ]
    },
    {
      "cell_type": "code",
      "source": [
        "file2 = open(f\"files_cleaned/mastodon_cleaned.txt\", 'r')\n",
        "mastodoncontent = file2.read()\n",
        "print(mastodoncontent)"
      ],
      "metadata": {
        "colab": {
          "base_uri": "https://localhost:8080/"
        },
        "id": "aUnm2sZt5ZwN",
        "outputId": "2d08160e-402d-4329-b68d-f206a0e461be"
      },
      "execution_count": 36,
      "outputs": [
        {
          "output_type": "stream",
          "name": "stdout",
          "text": [
            "['privacy', 'policy', 'mastodon', 'http', 'privacy', 'policy', 'last', 'update', 'oct', '06', '2022', 'privacy', 'policy', 'describes', 'u', 'collect', 'protects', 'us', 'personally', 'identiﬁable', 'information', 'may', 'provide', 'website', 'api', 'policy', 'also', 'describes', 'choice', 'available', 'regard', 'use', 'personal', 'information', 'access', 'update', 'information', 'policy', 'apply', 'practice', 'company', 'control', 'individual', 'employ', 'manage', 'information', 'collect', 'basic', 'account', 'information', 'register', 'server', 'may', 'ask', 'enter', 'username', 'mail', 'address', 'password', 'may', 'also', 'enter', 'additional', 'proﬁle', 'information', 'display', 'name', 'biography', 'upload', 'proﬁle', 'picture', 'header', 'image', 'username', 'display', 'name', 'biography', 'proﬁle', 'picture', 'header', 'image', 'always', 'list', 'publicly', 'post', 'follow', 'public', 'information', 'list', 'people', 'follow', 'list', 'publicly', 'true', 'follower', 'submit', 'message', 'date', 'time', 'store', 'well', 'application', 'submit', 'message', 'message', 'may', 'contain', 'medium', 'attachment', 'picture', 'video', 'public', 'unlisted', 'post', 'available', 'publicly', 'feature', 'post', 'proﬁle', 'also', 'publicly', 'available', 'information', 'post', 'deliver', 'follower', 'case', 'mean', 'deliver', 'different', 'server', 'copy', 'store', 'delete', 'post', 'likewise', 'deliver', 'follower', 'action', 'reblogging', 'favouriting', 'another', 'post', 'always', 'public', 'direct', 'post', 'post', 'store', 'process', 'server', 'post', 'deliver', 'follower', 'user', 'mention', 'direct', 'post', 'deliver', 'user', 'mention', 'case', 'mean', 'deliver', 'different', 'server', 'copy', 'store', 'make', 'good', 'faith', 'effort', 'limit', 'access', 'post', 'authorize', 'person', 'server', 'may', 'fail', 'therefore', 'important', 'review', 'server', 'follower', 'belong', 'may', 'toggle', 'option', 'approve', 'reject', 'new', 'follower', 'manually', 'setting', 'please', 'keep', 'mind', 'operator', 'server', 'receive', 'server', 'may', 'view', 'message', 'recipient', 'may', 'screenshot', 'copy', 'otherwise', 'share', 'sensitive', 'information', 'mastodon', 'ip', 'metadata', 'log', 'record', 'ip', 'address', 'log', 'well', 'name', 'browser', 'application', 'log', 'session', 'available', 'review', 'revocation', 'setting', 'late', 'ip', 'address', 'use', 'store', '12', 'month', 'also', 'may', 'retain', 'server', 'log', 'include', 'ip', 'address', 'every', 'request', 'server', 'privacy', 'policy', 'mastodon', 'http', 'use', 'information', 'information', 'collect', 'may', 'use', 'follow', 'way', 'protect', 'information', 'implement', 'variety', 'security', 'measure', 'maintain', 'safety', 'personal', 'information', 'enter', 'submit', 'access', 'personal', 'information', 'among', 'thing', 'browser', 'session', 'well', 'traﬃc', 'application', 'api', 'secure', 'ssl', 'password', 'hash', 'use', 'strong', 'algorithm', 'may', 'enable', 'authentication', 'secure', 'access', 'account', 'data', 'retention', 'policy', 'make', 'good', 'faith', 'effort', 'request', 'download', 'archive', 'content', 'include', 'post', 'medium', 'attachment', 'proﬁle', 'picture', 'header', 'image', 'may', 'irreversibly', 'delete', 'account', 'time', 'use', 'cooky', 'yes', 'cooky', 'small', 'ﬁles', 'site', 'service', 'provider', 'transfer', 'computer', 'hard', 'drive', 'web', 'browser', 'allow', 'cooky', 'enable', 'site', 'recognize', 'browser', 'register', 'account', 'associate', 'register', 'account', 'use', 'cooky', 'understand', 'save', 'preference', 'future', 'visit', 'disclose', 'information', 'outside', 'party', 'provide', 'core', 'functionality', 'mastodon', 'interact', 'people', 'content', 'post', 'content', 'log', 'example', 'may', 'follow', 'people', 'view', 'combine', 'post', 'personalize', 'home', 'timeline', 'aid', 'moderation', 'community', 'example', 'compare', 'ip', 'address', 'know', 'one', 'determine', 'ban', 'evasion', 'violation', 'email', 'address', 'provide', 'may', 'use', 'send', 'information', 'notiﬁcations', 'people', 'interact', 'content', 'send', 'message', 'respond', 'inquiry', 'request', 'question', 'retain', 'server', 'log', 'contain', 'ip', 'address', 'request', 'server', 'far', 'log', 'kept', '90', 'day', 'retain', 'ip', 'address', 'associate', 'register', 'user', '12', 'month', 'privacy', 'policy', 'mastodon', 'http', 'sell', 'trade', 'otherwise', 'transfer', 'outside', 'party', 'personally', 'identiﬁable', 'information', 'include', 'trust', 'third', 'party', 'assist', 'u', 'operating', 'site', 'conduct', 'business', 'service', 'long', 'party', 'agree', 'keep', 'information', 'conﬁdential', 'may', 'also', 'release', 'information', 'believe', 'release', 'appropriate', 'comply', 'law', 'enforce', 'site', 'policy', 'protect', 'others', 'right', 'property', 'safety', 'public', 'content', 'may', 'download', 'server', 'network', 'public', 'post', 'deliver', 'server', 'follower', 'reside', 'direct', 'message', 'deliver', 'server', 'recipient', 'far', 'follower', 'recipient', 'reside', 'different', 'server', 'authorize', 'application', 'use', 'account', 'depend', 'scope', 'permission', 'approve', 'may', 'access', 'public', 'proﬁle', 'information', 'follow', 'list', 'follower', 'list', 'post', 'favourite', 'application', 'never', 'access', 'address', 'password', 'site', 'usage', 'child', 'server', 'eu', 'eea', 'site', 'product', 'service', 'direct', 'people', 'least', '16', 'year', 'old', 'age', '16', 'per', 'requirement', 'gdpr', 'general', 'data', 'protection', 'regulation', 'use', 'site', 'server', 'usa', 'site', 'product', 'service', 'direct', 'people', 'least', '13', 'year', 'old', 'age', '13', 'per', 'requirement', 'coppa', 'child', 'online', 'privacy', 'protection', 'act', 'use', 'site', 'law', 'requirement', 'different', 'server', 'another', 'jurisdiction', 'document', 'originally', 'adapt', 'discourse', 'privacy', 'policy']\n"
          ]
        }
      ]
    },
    {
      "cell_type": "markdown",
      "source": [
        "To check for more significant words to be added to the stop words list, split function and most_common functions are used to list the terms by most frequent terms in the document. \n",
        "\n",
        "The following script is adopted from [Geeks for Geeks.](https://www.geeksforgeeks.org/find-k-frequent-words-data-set-python/#) "
      ],
      "metadata": {
        "id": "OAch7I4nY2CK"
      }
    },
    {
      "cell_type": "code",
      "source": [
        "from collections import Counter\n",
        "  \n",
        "# split() returns list of all the words in the string\n",
        "split_it = twittercontent.split()\n",
        "  \n",
        "# Pass the split_it list to instance of Counter class.\n",
        "Counter0 = Counter(split_it)\n",
        "\n",
        "# most_common() produces k frequently encountered\n",
        "# input values and their respective counts.\n",
        "most_occur_twitter = Counter0.most_common(300)\n",
        "\n",
        "    \n",
        "print(most_occur_twitter)"
      ],
      "metadata": {
        "colab": {
          "base_uri": "https://localhost:8080/"
        },
        "id": "iUQ5JaGy4KCl",
        "outputId": "eec7b599-f654-4b62-a6e9-402b8f6fafbb"
      },
      "execution_count": 37,
      "outputs": [
        {
          "output_type": "stream",
          "name": "stdout",
          "text": [
            "[(\"'information',\", 116), (\"'twitter',\", 91), (\"'service',\", 64), (\"'use',\", 61), (\"'may',\", 44), (\"'share',\", 37), (\"'account',\", 36), (\"'data',\", 35), (\"'collect',\", 34), (\"'u',\", 32), (\"'provide',\", 30), (\"'content',\", 28), (\"'include',\", 27), (\"'policy',\", 25), (\"'ad',\", 24), (\"'privacy',\", 23), (\"'product',\", 22), (\"'also',\", 20), (\"'setting',\", 18), (\"'address',\", 18), (\"'make',\", 17), (\"'partner',\", 16), (\"'access',\", 15), (\"'help',\", 14), (\"'device',\", 14), (\"'public',\", 13), (\"'website',\", 13), (\"'affiliate',\", 12), (\"'contact',\", 12), (\"'tweet',\", 11), (\"'learn',\", 11), (\"'example',\", 11), (\"'people',\", 10), (\"'personal',\", 10), (\"'keep',\", 10), (\"'user',\", 10), (\"'create',\", 9), (\"'email',\", 9), (\"'view',\", 9), (\"'receive',\", 9), (\"'advertising',\", 9), (\"'control',\", 8), (\"'profile',\", 8), (\"'identity',\", 8), (\"'like',\", 8), (\"'time',\", 8), (\"'browser',\", 8), (\"'party',\", 8), (\"'safety',\", 8), (\"'change',\", 8), (\"'provider',\", 8), (\"'country',\", 8), (\"'need',\", 7), (\"'well',\", 7), (\"'payment',\", 7), (\"'interact',\", 7), (\"'follow',\", 7), (\"'associate',\", 7), (\"'identifier',\", 7), (\"'search',\", 7), (\"'third',\", 7), (\"'request',\", 7), (\"'know',\", 6), (\"'experience',\", 6), (\"'certain',\", 6), (\"'display',\", 6), (\"'different',\", 6), (\"'direct',\", 6), (\"'message',\", 6), (\"'technology',\", 6), (\"'operate',\", 6), (\"'protect',\", 6), (\"'world',\", 6), (\"'understand',\", 5), (\"'legal',\", 5), (\"'many',\", 5), (\"'number',\", 5), (\"'date',\", 5), (\"'choose',\", 5), (\"'location',\", 5), (\"'part',\", 5), (\"'application',\", 5), (\"'id',\", 5), (\"'apps',\", 5), (\"'infer',\", 5), (\"'sign',\", 5), (\"'base',\", 5), (\"'term',\", 5), (\"'cooky',\", 5), (\"'similar',\", 5), (\"'described',\", 5), (\"'security',\", 5), (\"'right',\", 5), (\"'live',\", 5), (\"'protection',\", 5), (\"'want',\", 4), (\"'platform',\", 4), (\"'work',\", 4), (\"'name',\", 4), (\"'username',\", 4), (\"'phone',\", 4), (\"'professional',\", 4), (\"'otherwise',\", 4), (\"'order',\", 4), (\"'relevant',\", 4), (\"'interaction',\", 4), (\"'link',\", 4), (\"'send',\", 4), (\"'feature',\", 4), (\"'system',\", 4), (\"'enable',\", 4), (\"'video',\", 4), (\"'additional',\", 4), (\"'require',\", 4), (\"'take',\", 4), (\"'advertiser',\", 4), (\"'elsewhere',\", 4), (\"'way',\", 4), (\"'improve',\", 4), (\"'available',\", 4), (\"'depend',\", 4), (\"'company',\", 4), (\"'processing',\", 4), (\"'move',\", 4), (\"'united',\", 4), (\"'state',\", 4), (\"'mind',\", 3), (\"'possible',\", 3), (\"'update',\", 3), (\"'question',\", 3), (\"'paid',\", 3), (\"'must',\", 3), (\"'language',\", 3), (\"'find',\", 3), (\"'always',\", 3), (\"'street',\", 3), (\"'preference',\", 3), (\"'set',\", 3), (\"'respect',\", 3), (\"'usage',\", 3), (\"'activity',\", 3), (\"'broadcast',\", 3), (\"'others',\", 3), (\"'communicate',\", 3), (\"'allow',\", 3), (\"'connection',\", 3), (\"'ip',\", 3), (\"'type',\", 3), (\"'show',\", 3), (\"'subject',\", 3), (\"'log',\", 3), (\"'even',\", 3), (\"'page',\", 3), (\"'visit',\", 3), (\"'click',\", 3), (\"'integrate',\", 3), (\"'business',\", 3), (\"'app',\", 3), (\"'directly',\", 3), (\"'integration',\", 3), (\"'measure',\", 3), (\"'verify',\", 3), (\"'fraud',\", 3), (\"'law',\", 3), (\"'analyze',\", 3), (\"'general',\", 3), (\"'disclose',\", 3), (\"'engine',\", 3), (\"'someone',\", 3), (\"'center',\", 3), (\"'consent',\", 3), (\"'authorize',\", 3), (\"'process',\", 3), (\"'adjust',\", 3), (\"'generally',\", 3), (\"'prevent',\", 3), (\"'comply',\", 3), (\"'long',\", 3), (\"'longer',\", 3), (\"'delete',\", 3), (\"'correction',\", 3), (\"'portability',\", 3), (\"'instruction',\", 3), (\"'deactivate',\", 3), (\"'revise',\", 3), (\"'inquiry',\", 3), (\"'international',\", 3), (\"'unlimited',\", 3), (\"'read',\", 2), (\"'everyone',\", 2), (\"'wish',\", 2), (\"'ask',\", 2), (\"'describe',\", 2), (\"'detail',\", 2), (\"'write',\", 2), (\"'viewable',\", 2), (\"'category',\", 2), (\"'get',\", 2), (\"'basically',\", 2), (\"'necessary',\", 2), (\"'single',\", 2), (\"'book',\", 2), (\"'remember',\", 2), (\"'offer',\", 2), (\"'useful',\", 2), (\"'check',\", 2), (\"'purchase',\", 2), (\"'offering',\", 2), (\"'card',\", 2), (\"'expiration',\", 2), (\"'post',\", 2), (\"'version',\", 2), (\"'list',\", 2), (\"'retweets',\", 2), (\"'reply',\", 2), (\"'mention',\", 2), (\"'tag',\", 2), (\"'participate',\", 2), (\"'across',\", 2), (\"'transaction',\", 2), (\"'expire',\", 2), (\"'operating',\", 2), (\"'carrier',\", 2), (\"'expect',\", 2), (\"'current',\", 2), (\"'place',\", 2), (\"'hash',\", 2), (\"'refer',\", 2), (\"'mobile',\", 2), (\"'submit',\", 2), (\"'query',\", 2), (\"'another',\", 2), (\"'serve',\", 2), (\"'watch',\", 2), (\"'look',\", 2), (\"'web',\", 2), (\"'online',\", 2), (\"'developer',\", 2), (\"'cookie',\", 2), (\"'interest',\", 2), (\"'combine',\", 2), (\"'receives',\", 2), (\"'generates',\", 2), (\"'infers',\", 2), (\"'evaluate',\", 2), (\"'quality',\", 2), (\"'connect',\", 2), (\"'2',\", 2), (\"'five',\", 2), (\"'answer',\", 2), (\"'personalize',\", 2), (\"'permit',\", 2), (\"'client',\", 2), (\"'effectiveness',\", 2), (\"'enforce',\", 2), (\"'applicable',\", 2), (\"'research',\", 2), (\"'result',\", 2), (\"'specific',\", 2), (\"'else',\", 2), (\"'one',\", 2), (\"'news',\", 2), (\"'partnership',\", 2), (\"'behalf',\", 2), (\"'audience',\", 2), (\"'intend',\", 2), (\"'apis',\", 2), (\"'standard',\", 2), (\"'reflect',\", 2), (\"'http',\", 2), (\"'remove',\", 2), (\"'rule',\", 2), (\"'property',\", 2), (\"'sell',\", 2), (\"'transfer',\", 2), (\"'new',\", 2), (\"'copy',\", 2), (\"'specify',\", 2), (\"'requirement',\", 2), (\"'reason',\", 2), (\"'download',\", 2), (\"'periscope',\", 2), (\"'modification',\", 2), (\"'maintain',\", 2), (\"'deletion',\", 2), (\"'related',\", 2), (\"'reject',\", 2), (\"'choice',\", 2), (\"'notice',\", 2), (\"'tool',\", 2), (\"'agent',\", 2), (\"'ensure',\", 2), (\"'local',\", 2), (\"'conversation',\", 2), (\"'around',\", 2), (\"'13',\", 2), (\"'european',\", 2), (\"'union',\", 2), (\"'efta',\", 2), (\"'kingdom',\", 2)]\n"
          ]
        }
      ]
    },
    {
      "cell_type": "code",
      "source": [
        "split_it2 = mastodoncontent.split()\n",
        "Counter2 = Counter(split_it2)\n",
        "most_occur_mastodon = Counter2.most_common(300)\n",
        "print(most_occur_mastodon) "
      ],
      "metadata": {
        "colab": {
          "base_uri": "https://localhost:8080/"
        },
        "id": "_8ie42_J6VZ3",
        "outputId": "e62978a1-a576-4269-b478-59f0c43fa27c"
      },
      "execution_count": 38,
      "outputs": [
        {
          "output_type": "stream",
          "name": "stdout",
          "text": [
            "[(\"'information',\", 20), (\"'server',\", 19), (\"'may',\", 17), (\"'post',\", 16), (\"'use',\", 11), (\"'policy',\", 9), (\"'address',\", 9), (\"'follower',\", 9), (\"'site',\", 9), (\"'deliver',\", 8), (\"'ip',\", 7), (\"'log',\", 7), (\"'privacy',\", 6), (\"'access',\", 6), (\"'account',\", 6), (\"'proﬁle',\", 6), (\"'public',\", 6), (\"'people',\", 6), (\"'message',\", 6), (\"'mastodon',\", 5), (\"'also',\", 5), (\"'list',\", 5), (\"'follow',\", 5), (\"'store',\", 5), (\"'application',\", 5), (\"'direct',\", 5), (\"'content',\", 5), (\"'available',\", 4), (\"'register',\", 4), (\"'picture',\", 4), (\"'publicly',\", 4), (\"'different',\", 4), (\"'browser',\", 4), (\"'request',\", 4), (\"'cooky',\", 4), (\"'service',\", 4), (\"'party',\", 4), (\"'http',\", 3), (\"'collect',\", 3), (\"'provide',\", 3), (\"'personal',\", 3), (\"'enter',\", 3), (\"'password',\", 3), (\"'name',\", 3), (\"'header',\", 3), (\"'image',\", 3), (\"'submit',\", 3), (\"'well',\", 3), (\"'copy',\", 3), (\"'user',\", 3), (\"'recipient',\", 3), (\"'retain',\", 3), (\"'include',\", 3), (\"'requirement',\", 3), (\"'update',\", 2), (\"'describes',\", 2), (\"'u',\", 2), (\"'personally',\", 2), (\"'identiﬁable',\", 2), (\"'api',\", 2), (\"'username',\", 2), (\"'display',\", 2), (\"'biography',\", 2), (\"'always',\", 2), (\"'time',\", 2), (\"'contain',\", 2), (\"'medium',\", 2), (\"'attachment',\", 2), (\"'case',\", 2), (\"'mean',\", 2), (\"'delete',\", 2), (\"'another',\", 2), (\"'mention',\", 2), (\"'make',\", 2), (\"'good',\", 2), (\"'faith',\", 2), (\"'effort',\", 2), (\"'authorize',\", 2), (\"'review',\", 2), (\"'approve',\", 2), (\"'setting',\", 2), (\"'keep',\", 2), (\"'view',\", 2), (\"'otherwise',\", 2), (\"'session',\", 2), (\"'12',\", 2), (\"'month',\", 2), (\"'protect',\", 2), (\"'safety',\", 2), (\"'secure',\", 2), (\"'enable',\", 2), (\"'data',\", 2), (\"'download',\", 2), (\"'transfer',\", 2), (\"'associate',\", 2), (\"'outside',\", 2), (\"'interact',\", 2), (\"'example',\", 2), (\"'send',\", 2), (\"'far',\", 2), (\"'release',\", 2), (\"'law',\", 2), (\"'reside',\", 2), (\"'child',\", 2), (\"'product',\", 2), (\"'least',\", 2), (\"'16',\", 2), (\"'year',\", 2), (\"'old',\", 2), (\"'age',\", 2), (\"'per',\", 2), (\"'protection',\", 2), (\"'13',\", 2), (\"['privacy',\", 1), (\"'last',\", 1), (\"'oct',\", 1), (\"'06',\", 1), (\"'2022',\", 1), (\"'protects',\", 1), (\"'us',\", 1), (\"'website',\", 1), (\"'choice',\", 1), (\"'regard',\", 1), (\"'apply',\", 1), (\"'practice',\", 1), (\"'company',\", 1), (\"'control',\", 1), (\"'individual',\", 1), (\"'employ',\", 1), (\"'manage',\", 1), (\"'basic',\", 1), (\"'ask',\", 1), (\"'mail',\", 1), (\"'additional',\", 1), (\"'upload',\", 1), (\"'true',\", 1), (\"'date',\", 1), (\"'video',\", 1), (\"'unlisted',\", 1), (\"'feature',\", 1), (\"'likewise',\", 1), (\"'action',\", 1), (\"'reblogging',\", 1), (\"'favouriting',\", 1), (\"'process',\", 1), (\"'limit',\", 1), (\"'person',\", 1), (\"'fail',\", 1), (\"'therefore',\", 1), (\"'important',\", 1), (\"'belong',\", 1), (\"'toggle',\", 1), (\"'option',\", 1), (\"'reject',\", 1), (\"'new',\", 1), (\"'manually',\", 1), (\"'please',\", 1), (\"'mind',\", 1), (\"'operator',\", 1), (\"'receive',\", 1), (\"'screenshot',\", 1), (\"'share',\", 1), (\"'sensitive',\", 1), (\"'metadata',\", 1), (\"'record',\", 1), (\"'revocation',\", 1), (\"'late',\", 1), (\"'every',\", 1), (\"'way',\", 1), (\"'implement',\", 1), (\"'variety',\", 1), (\"'security',\", 1), (\"'measure',\", 1), (\"'maintain',\", 1), (\"'among',\", 1), (\"'thing',\", 1), (\"'traﬃc',\", 1), (\"'ssl',\", 1), (\"'hash',\", 1), (\"'strong',\", 1), (\"'algorithm',\", 1), (\"'authentication',\", 1), (\"'retention',\", 1), (\"'archive',\", 1), (\"'irreversibly',\", 1), (\"'yes',\", 1), (\"'small',\", 1), (\"'ﬁles',\", 1), (\"'provider',\", 1), (\"'computer',\", 1), (\"'hard',\", 1), (\"'drive',\", 1), (\"'web',\", 1), (\"'allow',\", 1), (\"'recognize',\", 1), (\"'understand',\", 1), (\"'save',\", 1), (\"'preference',\", 1), (\"'future',\", 1), (\"'visit',\", 1), (\"'disclose',\", 1), (\"'core',\", 1), (\"'functionality',\", 1), (\"'combine',\", 1), (\"'personalize',\", 1), (\"'home',\", 1), (\"'timeline',\", 1), (\"'aid',\", 1), (\"'moderation',\", 1), (\"'community',\", 1), (\"'compare',\", 1), (\"'know',\", 1), (\"'one',\", 1), (\"'determine',\", 1), (\"'ban',\", 1), (\"'evasion',\", 1), (\"'violation',\", 1), (\"'email',\", 1), (\"'notiﬁcations',\", 1), (\"'respond',\", 1), (\"'inquiry',\", 1), (\"'question',\", 1), (\"'kept',\", 1), (\"'90',\", 1), (\"'day',\", 1), (\"'sell',\", 1), (\"'trade',\", 1), (\"'trust',\", 1), (\"'third',\", 1), (\"'assist',\", 1), (\"'operating',\", 1), (\"'conduct',\", 1), (\"'business',\", 1), (\"'long',\", 1), (\"'agree',\", 1), (\"'conﬁdential',\", 1), (\"'believe',\", 1), (\"'appropriate',\", 1), (\"'comply',\", 1), (\"'enforce',\", 1), (\"'others',\", 1), (\"'right',\", 1), (\"'property',\", 1), (\"'network',\", 1), (\"'depend',\", 1), (\"'scope',\", 1), (\"'permission',\", 1), (\"'favourite',\", 1), (\"'never',\", 1), (\"'usage',\", 1), (\"'eu',\", 1), (\"'eea',\", 1), (\"'gdpr',\", 1), (\"'general',\", 1), (\"'regulation',\", 1), (\"'usa',\", 1), (\"'coppa',\", 1), (\"'online',\", 1), (\"'act',\", 1), (\"'jurisdiction',\", 1), (\"'document',\", 1), (\"'originally',\", 1), (\"'adapt',\", 1), (\"'discourse',\", 1), (\"'policy']\", 1)]\n"
          ]
        }
      ]
    },
    {
      "cell_type": "markdown",
      "source": [
        "From here, unnecessary words are identified and will be added to the stop words list. \n",
        "\n",
        "The folllowing scrip is adopted from [Projectpro](https://www.projectpro.io/recipes/add-custom-stopwords-and-then-remove-them-from-text)"
      ],
      "metadata": {
        "id": "APHhSDUeZbtA"
      }
    },
    {
      "cell_type": "markdown",
      "source": [
        "Add new stop words, such as twitter, mastodon, privacy, policy, etc and add it to the existing stop words."
      ],
      "metadata": {
        "id": "sAHCkc3bZ-wC"
      }
    },
    {
      "cell_type": "code",
      "source": [
        "new_stopwords = [\"twitter\", 'mastodon', 'u', \"also\", \"daily\", \"privacy\", \"policy\", \"http\", 'last', 'update', 'oct', '06', '2022', ]\n",
        "stops.extend(new_stopwords)\n",
        "\n",
        "print(stops)"
      ],
      "metadata": {
        "colab": {
          "base_uri": "https://localhost:8080/"
        },
        "id": "tdF6ceffWwB4",
        "outputId": "dee0a2a6-60d7-49ae-99b0-c5353dbb21e1"
      },
      "execution_count": 39,
      "outputs": [
        {
          "output_type": "stream",
          "name": "stdout",
          "text": [
            "['i', 'me', 'my', 'myself', 'we', 'our', 'ours', 'ourselves', 'you', \"you're\", \"you've\", \"you'll\", \"you'd\", 'your', 'yours', 'yourself', 'yourselves', 'he', 'him', 'his', 'himself', 'she', \"she's\", 'her', 'hers', 'herself', 'it', \"it's\", 'its', 'itself', 'they', 'them', 'their', 'theirs', 'themselves', 'what', 'which', 'who', 'whom', 'this', 'that', \"that'll\", 'these', 'those', 'am', 'is', 'are', 'was', 'were', 'be', 'been', 'being', 'have', 'has', 'had', 'having', 'do', 'does', 'did', 'doing', 'a', 'an', 'the', 'and', 'but', 'if', 'or', 'because', 'as', 'until', 'while', 'of', 'at', 'by', 'for', 'with', 'about', 'against', 'between', 'into', 'through', 'during', 'before', 'after', 'above', 'below', 'to', 'from', 'up', 'down', 'in', 'out', 'on', 'off', 'over', 'under', 'again', 'further', 'then', 'once', 'here', 'there', 'when', 'where', 'why', 'how', 'all', 'any', 'both', 'each', 'few', 'more', 'most', 'other', 'some', 'such', 'no', 'nor', 'not', 'only', 'own', 'same', 'so', 'than', 'too', 'very', 's', 't', 'can', 'will', 'just', 'don', \"don't\", 'should', \"should've\", 'now', 'd', 'll', 'm', 'o', 're', 've', 'y', 'ain', 'aren', \"aren't\", 'couldn', \"couldn't\", 'didn', \"didn't\", 'doesn', \"doesn't\", 'hadn', \"hadn't\", 'hasn', \"hasn't\", 'haven', \"haven't\", 'isn', \"isn't\", 'ma', 'mightn', \"mightn't\", 'mustn', \"mustn't\", 'needn', \"needn't\", 'shan', \"shan't\", 'shouldn', \"shouldn't\", 'wasn', \"wasn't\", 'weren', \"weren't\", 'won', \"won't\", 'wouldn', \"wouldn't\", 'twitter', 'mastodon', 'u', 'also', 'daily', 'privacy', 'policy', 'http', 'last', 'update', 'oct', '06', '2022']\n"
          ]
        }
      ]
    },
    {
      "cell_type": "code",
      "source": [
        "newstops = stops\n",
        "print(newstops)"
      ],
      "metadata": {
        "colab": {
          "base_uri": "https://localhost:8080/"
        },
        "id": "vnsnF2Z9CuJO",
        "outputId": "563e8fca-f606-43cc-b2b2-6aadb7bb3831"
      },
      "execution_count": 40,
      "outputs": [
        {
          "output_type": "stream",
          "name": "stdout",
          "text": [
            "['i', 'me', 'my', 'myself', 'we', 'our', 'ours', 'ourselves', 'you', \"you're\", \"you've\", \"you'll\", \"you'd\", 'your', 'yours', 'yourself', 'yourselves', 'he', 'him', 'his', 'himself', 'she', \"she's\", 'her', 'hers', 'herself', 'it', \"it's\", 'its', 'itself', 'they', 'them', 'their', 'theirs', 'themselves', 'what', 'which', 'who', 'whom', 'this', 'that', \"that'll\", 'these', 'those', 'am', 'is', 'are', 'was', 'were', 'be', 'been', 'being', 'have', 'has', 'had', 'having', 'do', 'does', 'did', 'doing', 'a', 'an', 'the', 'and', 'but', 'if', 'or', 'because', 'as', 'until', 'while', 'of', 'at', 'by', 'for', 'with', 'about', 'against', 'between', 'into', 'through', 'during', 'before', 'after', 'above', 'below', 'to', 'from', 'up', 'down', 'in', 'out', 'on', 'off', 'over', 'under', 'again', 'further', 'then', 'once', 'here', 'there', 'when', 'where', 'why', 'how', 'all', 'any', 'both', 'each', 'few', 'more', 'most', 'other', 'some', 'such', 'no', 'nor', 'not', 'only', 'own', 'same', 'so', 'than', 'too', 'very', 's', 't', 'can', 'will', 'just', 'don', \"don't\", 'should', \"should've\", 'now', 'd', 'll', 'm', 'o', 're', 've', 'y', 'ain', 'aren', \"aren't\", 'couldn', \"couldn't\", 'didn', \"didn't\", 'doesn', \"doesn't\", 'hadn', \"hadn't\", 'hasn', \"hasn't\", 'haven', \"haven't\", 'isn', \"isn't\", 'ma', 'mightn', \"mightn't\", 'mustn', \"mustn't\", 'needn', \"needn't\", 'shan', \"shan't\", 'shouldn', \"shouldn't\", 'wasn', \"wasn't\", 'weren', \"weren't\", 'won', \"won't\", 'wouldn', \"wouldn't\", 'twitter', 'mastodon', 'u', 'also', 'daily', 'privacy', 'policy', 'http', 'last', 'update', 'oct', '06', '2022']\n"
          ]
        }
      ]
    },
    {
      "cell_type": "markdown",
      "source": [
        "Re-run the data clean ups with new stop words and override the current cleaned text files. "
      ],
      "metadata": {
        "id": "2yuZx4TTaYjh"
      }
    },
    {
      "cell_type": "code",
      "source": [
        "text_tokens = nltk.word_tokenize(content)\n",
        "nltk_text = nltk.Text(text_tokens)\n",
        "text_lower = [t.lower() for t in nltk_text if t.isalnum()]\n",
        "text_stops = [t for t in text_lower if t not in newstops]\n",
        "text_clean = [WordNetLemmatizer().lemmatize(t, get_wordnet_pos(t)) for t in text_stops]\n",
        "\n",
        "with open(f\"files_cleaned/twitter_cleaned.txt\", \"w\") as file:\n",
        "    file.write(str(text_clean))"
      ],
      "metadata": {
        "id": "W8B-81oTtLCJ"
      },
      "execution_count": 41,
      "outputs": []
    },
    {
      "cell_type": "code",
      "source": [
        "text_tokens4 = nltk.word_tokenize(content2)\n",
        "nltk_text4 = nltk.Text(text_tokens4)\n",
        "text_lower4 = [t.lower() for t in nltk_text4 if t.isalnum()]\n",
        "text_stops4 = [t for t in text_lower4 if t not in newstops]\n",
        "text_clean4 = [WordNetLemmatizer().lemmatize(t, get_wordnet_pos(t)) for t in text_stops4]\n",
        "\n",
        "with open(f\"files_cleaned/mastodon_cleaned.txt\", \"w\") as file:\n",
        "    file.write(str(text_clean4))"
      ],
      "metadata": {
        "id": "XiUXDqrVBpIM"
      },
      "execution_count": 42,
      "outputs": []
    },
    {
      "cell_type": "markdown",
      "source": [
        "Open the file to check if the stop words are reflected properly."
      ],
      "metadata": {
        "id": "Gr4s0A5-tZtb"
      }
    },
    {
      "cell_type": "code",
      "source": [
        "file = open(f\"files_cleaned/twitter_cleaned.txt\", 'r')\n",
        "newtwittercontent = file.read()\n",
        "print(newtwittercontent)"
      ],
      "metadata": {
        "id": "6Vu1dci9taTI",
        "colab": {
          "base_uri": "https://localhost:8080/"
        },
        "outputId": "322258d3-fec2-4415-dcee-b8153ca7382a"
      },
      "execution_count": 43,
      "outputs": [
        {
          "output_type": "stream",
          "name": "stdout",
          "text": [
            "['scroll', 'read', 'really', 'hard', 'make', 'everyone', 'happy', 'people', 'use', 'want', 'something', 'short', 'easy', 'understand', 'wish', 'could', 'fit', 'everything', 'need', 'know', 'tweet', 'regulator', 'ask', 'u', 'meet', 'legal', 'obligation', 'describe', 'lot', 'detail', 'mind', 'write', 'simply', 'possible', 'empower', 'make', 'inform', 'decision', 'use', 'make', 'sure', 'understand', 'control', 'information', 'collect', 'use', 'share', 'skip', 'reading', 'every', 'word', 'least', 'know', 'public', 'platform', 'learn', 'viewable', 'searchable', 'collect', 'data', 'learn', 'collect', 'affiliate', 'service', 'may', 'policy', 'learn', 'affiliate', 'use', 'data', 'make', 'well', 'learn', 'make', 'info', 'work', 'control', 'experience', 'learn', 'setting', 'question', 'use', 'data', 'ask', 'learn', 'contact', 'u', 'seriously', 'happens', 'data', '1', 'information', 'collect', 'information', 'collect', 'use', 'fall', 'three', 'category', 'information', 'provide', 'u', 'use', 'product', 'service', 'need', 'account', 'create', 'account', 'need', 'provide', 'u', 'certain', 'information', 'likewise', 'use', 'paid', 'product', 'service', 'provide', 'without', 'get', 'payment', 'information', 'basically', 'certain', 'information', 'necessary', 'want', 'use', 'many', 'product', 'service', 'personal', 'account', 'create', 'account', 'must', 'provide', 'u', 'information', 'provide', 'service', 'include', 'display', 'name', 'example', 'moment', 'username', 'example', 'twittermoments', 'password', 'email', 'address', 'phone', 'number', 'date', 'birth', 'display', 'language', 'single', 'information', 'choose', 'method', 'choose', 'share', 'location', 'profile', 'tweet', 'upload', 'address', 'book', 'help', 'find', 'people', 'may', 'know', 'profile', 'information', 'include', 'display', 'name', 'username', 'always', 'public', 'use', 'either', 'real', 'name', 'pseudonym', 'remember', 'create', 'multiple', 'account', 'example', 'express', 'different', 'part', 'identity', 'professional', 'otherwise', 'data', 'collect', 'give', 'data', 'get', 'data', 'return', 'offer', 'useful', 'service', 'mind', 'check', 'setting', 'professional', 'account', 'create', 'professional', 'account', 'need', 'provide', 'u', 'professional', 'category', 'may', 'provide', 'u', 'information', 'include', 'street', 'address', 'contact', 'email', 'address', 'contact', 'phone', 'number', 'always', 'public', 'payment', 'information', 'order', 'purchase', 'ad', 'offering', 'provide', 'part', 'paid', 'product', 'service', 'need', 'provide', 'u', 'payment', 'information', 'include', 'credit', 'debit', 'card', 'number', 'card', 'expiration', 'date', 'cvv', 'code', 'billing', 'address', 'preference', 'set', 'preference', 'use', 'setting', 'collect', 'information', 'respect', 'preference', 'information', 'collect', 'use', 'use', 'service', 'collect', 'information', 'use', 'product', 'service', 'use', 'information', 'provide', 'product', 'service', 'help', 'keep', 'secure', 'respectful', 'everyone', 'relevant', 'usage', 'information', 'collect', 'information', 'activity', 'include', 'tweet', 'content', 'post', 'include', 'date', 'application', 'version', 'information', 'broadcast', 'activity', 'twitterlive', 'space', 'include', 'broadcast', 'create', 'create', 'list', 'bookmark', 'community', 'part', 'interaction', 'user', 'content', 'retweets', 'like', 'share', 'reply', 'user', 'mention', 'tag', 'content', 'mention', 'tag', 'broadcast', 'participate', 'include', 'view', 'history', 'listen', 'comment', 'speak', 'react', 'interact', 'others', 'platform', 'people', 'follow', 'people', 'follow', 'use', 'direct', 'message', 'include', 'content', 'message', 'recipient', 'date', 'time', 'message', 'communicate', 'u', 'email', 'collect', 'information', 'communication', 'content', 'collect', 'information', 'link', 'interact', 'across', 'service', 'include', 'email', 'sent', 'purchase', 'payment', 'allow', 'make', 'payment', 'send', 'money', 'use', 'feature', 'service', 'include', 'intermediary', 'may', 'receive', 'information', 'transaction', 'make', 'subscription', 'set', 'expire', 'amount', 'paid', 'receive', 'device', 'information', 'collect', 'information', 'device', 'use', 'access', 'include', 'information', 'connection', 'ip', 'address', 'browser', 'type', 'information', 'device', 'setting', 'device', 'advertising', 'id', 'operating', 'system', 'carrier', 'language', 'memory', 'apps', 'instal', 'battery', 'level', 'device', 'address', 'book', 'chosen', 'share', 'u', 'location', 'information', 'use', 'collect', 'information', 'approximate', 'location', 'provide', 'service', 'expect', 'include', 'show', 'relevant', 'ad', 'choose', 'share', 'current', 'precise', 'location', 'place', 'previously', 'use', 'enable', 'setting', 'account', 'infer', 'identity', 'may', 'collect', 'receive', 'information', 'use', 'infer', 'identity', 'detailed', 'sign', 'browser', 'device', 'associate', 'browser', 'device', 'account', 'subject', 'setting', 'may', 'associate', 'account', 'browser', 'device', 'use', 'sign', 'associate', 'device', 'browser', 'browser', 'device', 'identifier', 'provide', 'information', 'include', 'email', 'address', 'phone', 'number', 'associate', 'information', 'account', 'subject', 'setting', 'may', 'use', 'information', 'order', 'infer', 'information', 'identity', 'example', 'associate', 'account', 'hash', 'email', 'address', 'share', 'common', 'component', 'email', 'address', 'provide', 'access', 'sign', 'may', 'infer', 'identity', 'base', 'information', 'collect', 'log', 'information', 'may', 'receive', 'information', 'view', 'content', 'otherwise', 'interact', 'product', 'service', 'even', 'create', 'account', 'sign', 'ip', 'address', 'browser', 'type', 'language', 'operating', 'system', 'refer', 'webpage', 'access', 'time', 'page', 'visit', 'location', 'mobile', 'carrier', 'device', 'information', 'include', 'device', 'application', 'id', 'search', 'term', 'id', 'include', 'submit', 'query', 'ad', 'show', 'identifier', 'identifier', 'associate', 'cooky', 'receive', 'log', 'information', 'click', 'view', 'interact', 'link', 'service', 'include', 'install', 'another', 'application', 'advertisement', 'view', 'interact', 'ad', 'serve', 'may', 'collect', 'information', 'view', 'interaction', 'watch', 'video', 'ad', 'preroll', 'click', 'ad', 'interact', 'retweets', 'reply', 'ad', 'cooky', 'similar', 'technology', 'like', 'many', 'website', 'use', 'cooky', 'similar', 'technology', 'collect', 'additional', 'website', 'usage', 'data', 'operate', 'service', 'cooky', 'require', 'many', 'part', 'product', 'service', 'search', 'look', 'public', 'profile', 'learn', 'use', 'cooky', 'similar', 'technology', 'interaction', 'content', 'site', 'view', 'content', 'website', 'integrate', 'content', 'embed', 'timeline', 'tweet', 'button', 'may', 'receive', 'log', 'information', 'include', 'web', 'page', 'visit', 'information', 'receive', 'third', 'party', 'use', 'online', 'product', 'service', 'may', 'share', 'information', 'usage', 'u', 'ad', 'partner', 'developer', 'publisher', 'ad', 'business', 'partner', 'share', 'information', 'u', 'browser', 'cookie', 'id', 'identifier', 'mobile', 'device', 'id', 'hash', 'user', 'information', 'like', 'email', 'address', 'demographic', 'interest', 'data', 'content', 'view', 'action', 'take', 'website', 'app', 'ad', 'partner', 'particularly', 'advertiser', 'enable', 'u', 'collect', 'similar', 'information', 'directly', 'website', 'app', 'integrate', 'advertising', 'technology', 'information', 'share', 'ad', 'partner', 'affiliate', 'collect', 'website', 'apps', 'ad', 'partner', 'affiliate', 'may', 'combine', 'information', 'share', 'receives', 'generates', 'infers', 'described', 'elsewhere', 'third', 'party', 'account', 'connection', 'integration', 'may', 'receive', 'information', 'third', 'party', 'ad', 'partner', 'user', 'developer', 'partner', 'help', 'u', 'evaluate', 'safety', 'quality', 'content', 'platform', 'corporate', 'affiliate', 'service', 'link', 'account', 'may', 'choose', 'connect', 'account', 'account', 'another', 'service', 'service', 'may', 'send', 'u', 'information', 'account', 'service', '2', 'use', 'information', 'break', 'use', 'information', 'collect', 'simple', 'way', 'system', 'bring', 'service', 'work', 'example', 'piece', 'information', 'may', 'use', 'differently', 'different', 'purpose', 'ultimately', 'deliver', 'single', 'service', 'think', 'useful', 'describe', 'five', 'main', 'way', 'use', 'information', 'question', 'answer', 'always', 'contact', 'u', 'go', 'operate', 'improve', 'personalize', 'service', 'use', 'information', 'collect', 'provide', 'operate', 'product', 'service', 'use', 'information', 'collect', 'improve', 'personalize', 'product', 'service', 'well', 'experience', 'include', 'show', 'relevant', 'content', 'ad', 'suggest', 'people', 'topic', 'follow', 'enable', 'help', 'discover', 'affiliate', 'apps', 'service', 'may', 'use', 'information', 'collect', 'account', 'service', 'choose', 'connect', 'account', 'provide', 'feature', 'like', 'authentication', 'operate', 'service', 'use', 'contact', 'information', 'help', 'others', 'find', 'account', 'setting', 'permit', 'include', 'service', 'client', 'application', 'use', 'information', 'provide', 'advertising', 'sponsor', 'content', 'service', 'subject', 'setting', 'help', 'make', 'ad', 'relevant', 'use', 'information', 'measure', 'effectiveness', 'ad', 'help', 'recognize', 'device', 'serve', 'ad', 'ad', 'partner', 'enable', 'u', 'collect', 'similar', 'information', 'directly', 'website', 'app', 'integrate', 'advertising', 'technology', 'use', 'information', 'make', 'service', 'know', 'love', 'information', 'share', 'ad', 'partner', 'affiliate', 'collect', 'website', 'apps', 'ad', 'partner', 'affiliate', 'may', 'combine', 'information', 'share', 'receives', 'generates', 'infers', 'described', 'elsewhere', 'foster', 'safety', 'security', 'use', 'information', 'collect', 'provide', 'safety', 'security', 'user', 'product', 'service', 'account', 'include', 'verify', 'identity', 'authenticate', 'account', 'defend', 'fraud', 'unauthorized', 'use', 'illegal', 'activity', 'use', 'information', 'evaluate', 'affect', 'safety', 'quality', 'content', 'include', 'investigate', 'enforce', 'policy', 'term', 'well', 'applicable', 'law', 'measure', 'analyze', 'make', 'service', 'well', 'use', 'information', 'collect', 'measure', 'analyze', 'effectiveness', 'product', 'service', 'well', 'understand', 'use', 'order', 'make', 'well', 'communicate', 'service', 'use', 'information', 'collect', 'communicate', 'product', 'service', 'include', 'product', 'update', 'change', 'policy', 'term', 'open', 'hearing', 'u', 'may', 'send', 'marketing', 'message', 'time', 'time', 'research', 'use', 'information', 'share', 'u', 'collect', 'conduct', 'research', 'survey', 'product', 'test', 'troubleshoot', 'help', 'u', 'operate', 'improve', 'product', 'service', 'tweet', 'public', '3', 'share', 'information', 'know', 'way', 'share', 'information', 'share', 'control', 'five', 'general', 'way', 'share', 'information', 'tweet', 'post', 'share', 'general', 'public', 'direct', 'u', 'disclose', 'information', 'broadly', 'possible', 'content', 'include', 'profile', 'information', 'username', 'profile', 'picture', 'available', 'view', 'general', 'public', 'public', 'need', 'sign', 'view', 'much', 'content', 'may', 'find', 'content', 'example', 'search', 'query', 'result', 'internet', 'search', 'engine', 'user', 'depend', 'setting', 'base', 'product', 'service', 'use', 'share', 'interaction', 'content', 'user', 'like', 'people', 'follow', 'content', 'send', 'specific', 'user', 'direct', 'message', 'please', 'keep', 'mind', 'share', 'information', 'like', 'direct', 'message', 'protect', 'tweet', 'someone', 'else', 'access', 'service', 'information', 'may', 'share', 'service', 'share', 'information', 'quick', 'answer', 'one', 'head', 'tweet', 'end', 'news', 'search', 'engine', 'partner', 'depend', 'setting', 'provide', 'certain', 'third', 'party', 'information', 'help', 'u', 'offer', 'operate', 'product', 'service', 'learn', 'partnership', 'help', 'center', 'control', 'whether', 'share', 'personal', 'information', 'partner', 'use', 'data', 'share', 'business', 'partner', 'option', 'safety', 'setting', 'set', 'control', 'share', 'described', 'elsewhere', 'share', 'information', 'service', 'provider', 'partnership', 'described', 'help', 'center', 'article', 'third', 'party', 'integration', 'service', 'provider', 'may', 'share', 'information', 'service', 'provider', 'perform', 'function', 'provide', 'service', 'behalf', 'include', 'payment', 'service', 'provider', 'facilitate', 'payment', 'service', 'provider', 'host', 'various', 'blog', 'wikis', 'service', 'provider', 'help', 'u', 'understand', 'use', 'service', 'provide', 'fraud', 'detection', 'service', 'advertiser', 'advertising', 'revenue', 'enables', 'u', 'provide', 'product', 'service', 'advertiser', 'may', 'learn', 'information', 'engagement', 'ad', 'example', 'click', 'external', 'link', 'ad', 'service', 'advertiser', 'website', 'operator', 'might', 'figure', 'come', 'along', 'information', 'associate', 'ad', 'clicked', 'characteristic', 'audience', 'intend', 'reach', 'identifier', 'ad', 'may', 'collect', 'personal', 'information', 'cookie', 'identifier', 'ip', 'address', 'content', 'integration', 'share', 'disclose', 'information', 'consent', 'direction', 'authorize', 'party', 'web', 'client', 'application', 'access', 'account', 'direct', 'u', 'share', 'feedback', 'business', 'similarly', 'improve', 'experience', 'work', 'partner', 'display', 'video', 'content', 'allow', 'share', 'watch', 'otherwise', 'interact', 'content', 'video', 'share', 'partner', 'may', 'receive', 'process', 'personal', 'information', 'described', 'policy', 'video', 'content', 'adjust', 'autoplay', 'setting', 'prefer', 'content', 'play', 'automatically', 'apis', 'use', 'technology', 'like', 'apis', 'embeds', 'make', 'public', 'information', 'available', 'website', 'apps', 'others', 'use', 'example', 'display', 'tweet', 'news', 'website', 'analyze', 'people', 'say', 'generally', 'make', 'content', 'available', 'limited', 'quantity', 'free', 'charge', 'licensing', 'fee', 'access', 'standard', 'term', 'govern', 'information', 'use', 'compliance', 'program', 'enforce', 'term', 'individual', 'company', 'affiliate', 'offering', 'may', 'reflect', 'update', 'make', 'information', 'make', 'public', 'data', 'available', 'world', 'visit', 'http', 'require', 'law', 'prevent', 'harm', 'public', 'interest', 'may', 'preserve', 'use', 'share', 'disclose', 'information', 'believe', 'reasonably', 'necessary', 'comply', 'law', 'regulation', 'legal', 'process', 'governmental', 'request', 'protect', 'safety', 'person', 'protect', 'safety', 'integrity', 'platform', 'include', 'help', 'prevent', 'spam', 'abuse', 'malicious', 'actor', 'service', 'explain', 'remove', 'content', 'account', 'service', 'violation', 'rule', 'address', 'fraud', 'security', 'technical', 'issue', 'protect', 'right', 'property', 'right', 'property', 'use', 'service', 'affiliate', 'may', 'share', 'information', 'amongst', 'affiliate', 'provide', 'product', 'service', 'result', 'change', 'ownership', 'may', 'share', 'sell', 'transfer', 'information', 'connection', 'merger', 'acquisition', 'reorganization', 'sale', 'asset', 'bankruptcy', 'apply', 'personal', 'information', 'share', 'close', 'transaction', 'transfer', 'new', 'entity', 'data', 'expiration', 'date', '4', 'long', 'keep', 'information', 'keep', 'different', 'type', 'information', 'different', 'period', 'time', 'keep', 'profile', 'information', 'content', 'duration', 'account', 'generally', 'keep', 'personally', 'identifiable', 'data', 'collect', 'use', 'product', 'service', 'maximum', '18', 'month', 'remember', 'public', 'content', 'exist', 'elsewhere', 'even', 'remove', 'example', 'search', 'engine', 'third', 'party', 'may', 'retain', 'copy', 'tweet', 'longer', 'base', 'upon', 'policy', 'even', 'delete', 'expire', 'read', 'search', 'visibility', 'violate', 'rule', 'account', 'suspend', 'may', 'keep', 'identifier', 'use', 'create', 'account', 'email', 'address', 'phone', 'number', 'indefinitely', 'prevent', 'repeat', 'offender', 'create', 'new', 'account', 'may', 'keep', 'certain', 'information', 'longer', 'policy', 'specify', 'order', 'comply', 'legal', 'requirement', 'safety', 'security', 'reason', 'long', 'keep', 'data', 'generally', 'keep', 'data', 'long', 'account', '5', 'take', 'control', 'access', 'correction', 'portability', 'access', 'correct', 'modify', 'information', 'provide', 'u', 'edit', 'profile', 'adjust', 'account', 'setting', 'learn', 'information', 'collect', 'infer', 'data', 'request', 'access', 'additional', 'information', 'download', 'copy', 'information', 'tweet', 'follow', 'instruction', 'periscope', 'website', 'request', 'correction', 'modification', 'information', 'download', 'account', 'information', 'follow', 'instruction', 'protect', 'maintain', 'security', 'take', 'step', 'verify', 'identity', 'grant', 'access', 'personal', 'information', 'comply', 'deletion', 'portability', 'related', 'request', 'may', 'certain', 'situation', 'reject', 'request', 'access', 'correction', 'portability', 'example', 'may', 'reject', 'access', 'unable', 'verify', 'identity', 'control', 'data', 'access', 'delete', 'change', 'setting', 'basically', 'bos', 'delete', 'information', 'follow', 'instruction', 'periscope', 'account', 'deactivate', 'deactivate', 'account', 'include', 'display', 'name', 'username', 'public', 'profile', 'longer', 'viewable', 'io', 'android', '30', 'day', 'deactivation', 'still', 'possible', 'restore', 'account', 'accidentally', 'wrongfully', 'deactivate', 'object', 'restrict', 'withdraw', 'consent', 'manage', 'setting', 'account', 'feature', 'change', 'setting', 'may', 'take', 'time', 'choice', 'fully', 'reflect', 'throughout', 'system', 'may', 'notice', 'change', 'experience', 'limitation', 'ability', 'access', 'certain', 'feature', 'depend', 'setting', 'adjust', 'adheres', 'digital', 'advertising', 'alliance', 'principle', 'online', 'behavioral', 'advertising', 'refer', 'advertising', 'respect', 'daa', 'consumer', 'choice', 'tool', 'opt', 'base', 'advertising', 'http', 'authorize', 'agent', 'request', 'submit', 'request', 'related', 'access', 'modification', 'deletion', 'information', 'someone', 'else', 'information', 'authorize', 'agent', 'may', 'contact', 'u', 'specify', 'contact', 'section', 'may', 'require', 'provide', 'additional', 'information', 'verification', '6', 'right', 'provide', 'people', 'world', 'provide', 'many', 'tool', 'control', 'user', 'regardless', 'live', 'however', 'experience', 'may', 'slightly', 'different', 'user', 'country', 'ensure', 'respect', 'local', 'requirement', 'specific', 'legal', 'base', 'use', 'information', 'carefully', 'consider', 'legal', 'reason', 'permit', 'collect', 'use', 'share', 'otherwise', 'process', 'information', 'want', 'dig', 'learn', 'well', 'understand', 'nuance', 'encourage', 'check', 'additional', 'information', 'data', 'processing', 'sell', 'personal', 'information', 'move', 'data', 'make', 'work', 'use', 'seamlessly', 'participate', 'global', 'conversation', 'people', 'country', 'world', 'must', 'move', 'information', 'across', 'border', 'different', 'country', 'around', 'world', 'support', 'safe', 'reliable', 'service', 'depend', 'example', 'live', 'europe', 'conversation', 'someone', 'united', 'state', 'information', 'move', 'country', 'provide', 'experience', 'expect', 'u', 'handle', 'information', 'wherever', 'treat', 'information', 'fairly', 'matter', 'live', 'around', 'world', 'use', 'data', 'center', 'cloud', 'provider', 'engage', 'affiliate', 'partner', 'service', 'provider', 'locate', 'many', 'part', 'world', 'help', 'u', 'provide', 'service', 'move', 'data', 'country', 'look', 'risk', 'may', 'present', 'data', 'rely', 'thing', 'like', 'standard', 'contractual', 'clause', 'applicable', 'ensure', 'data', 'right', 'protect', 'data', 'share', 'third', 'party', 'require', 'maintain', 'protection', 'data', 'provide', 'directly', '7', 'audience', 'service', 'direct', 'child', 'may', 'use', 'service', 'age', '13', 'must', 'old', 'enough', 'consent', 'processing', 'personal', 'data', 'country', 'country', 'may', 'allow', 'parent', 'guardian', 'behalf', 'kid', 'nope', 'intend', 'people', '13', '8', 'change', 'current', 'version', 'governs', 'processing', 'personal', 'data', 'may', 'revise', 'time', 'time', 'need', 'revise', 'make', 'change', 'determine', 'u', 'material', 'provide', 'notice', 'opportunity', 'review', 'revise', 'continue', 'use', 'change', 'let', 'know', '9', 'contact', 'want', 'hear', 'thought', 'question', 'contact', 'u', 'via', 'inquiry', 'page', 'write', 'u', 'appropriate', 'address', 'live', 'united', 'state', 'country', 'outside', 'european', 'union', 'efta', 'state', 'united', 'kingdom', 'data', 'controller', 'responsible', 'personal', 'data', 'address', 'live', 'european', 'union', 'efta', 'state', 'united', 'kingdom', 'data', 'controller', 'international', 'unlimited', 'company', 'address', 'attn', 'inquiry', '1355', 'market', 'street', 'suite', '900', 'san', 'francisco', 'ca', '94103', 'international', 'unlimited', 'company', 'attn', 'data', 'protection', 'officer', 'one', 'cumberland', 'place', 'fenian', 'street', 'dublin', '2', 'd02', 'ax07', 'ireland', 'confidentially', 'contact', 'data', 'protection', 'officer', 'data', 'protection', 'inquiry', 'form', 'wish', 'raise', 'concern', 'data', 'processing', 'practice', 'right', 'local', 'supervisory', 'authority', 'international', 'unlimited', 'company', 'lead', 'supervisory', 'authority', 'irish', 'data', 'protection', 'commission', 'use', 'contact', 'detail', 'list', 'website', 'effective', 'june', '10', 'contact', 'slide', 'official', 'inbox']\n"
          ]
        }
      ]
    },
    {
      "cell_type": "code",
      "source": [
        "file2 = open(f\"files_cleaned/mastodon_cleaned.txt\", 'r')\n",
        "newmastodoncontent = file2.read()\n",
        "print(newmastodoncontent)"
      ],
      "metadata": {
        "colab": {
          "base_uri": "https://localhost:8080/"
        },
        "id": "aT0KB-BktcYG",
        "outputId": "3ccf93d0-4bd7-4a56-b70f-a45109536825"
      },
      "execution_count": 44,
      "outputs": [
        {
          "output_type": "stream",
          "name": "stdout",
          "text": [
            "['http', 'update', 'describes', 'u', 'collect', 'protects', 'us', 'personally', 'identiﬁable', 'information', 'may', 'provide', 'website', 'api', 'describes', 'choice', 'available', 'regard', 'use', 'personal', 'information', 'access', 'information', 'apply', 'practice', 'company', 'control', 'individual', 'employ', 'manage', 'information', 'collect', 'basic', 'account', 'information', 'register', 'server', 'may', 'ask', 'enter', 'username', 'mail', 'address', 'password', 'may', 'enter', 'additional', 'proﬁle', 'information', 'display', 'name', 'biography', 'upload', 'proﬁle', 'picture', 'header', 'image', 'username', 'display', 'name', 'biography', 'proﬁle', 'picture', 'header', 'image', 'always', 'list', 'publicly', 'post', 'follow', 'public', 'information', 'list', 'people', 'follow', 'list', 'publicly', 'true', 'follower', 'submit', 'message', 'date', 'time', 'store', 'well', 'application', 'submit', 'message', 'message', 'may', 'contain', 'medium', 'attachment', 'picture', 'video', 'public', 'unlisted', 'post', 'available', 'publicly', 'feature', 'post', 'proﬁle', 'publicly', 'available', 'information', 'post', 'deliver', 'follower', 'case', 'mean', 'deliver', 'different', 'server', 'copy', 'store', 'delete', 'post', 'likewise', 'deliver', 'follower', 'action', 'reblogging', 'favouriting', 'another', 'post', 'always', 'public', 'direct', 'post', 'post', 'store', 'process', 'server', 'post', 'deliver', 'follower', 'user', 'mention', 'direct', 'post', 'deliver', 'user', 'mention', 'case', 'mean', 'deliver', 'different', 'server', 'copy', 'store', 'make', 'good', 'faith', 'effort', 'limit', 'access', 'post', 'authorize', 'person', 'server', 'may', 'fail', 'therefore', 'important', 'review', 'server', 'follower', 'belong', 'may', 'toggle', 'option', 'approve', 'reject', 'new', 'follower', 'manually', 'setting', 'please', 'keep', 'mind', 'operator', 'server', 'receive', 'server', 'may', 'view', 'message', 'recipient', 'may', 'screenshot', 'copy', 'otherwise', 'share', 'sensitive', 'information', 'ip', 'metadata', 'log', 'record', 'ip', 'address', 'log', 'well', 'name', 'browser', 'application', 'log', 'session', 'available', 'review', 'revocation', 'setting', 'late', 'ip', 'address', 'use', 'store', '12', 'month', 'may', 'retain', 'server', 'log', 'include', 'ip', 'address', 'every', 'request', 'server', 'http', 'use', 'information', 'information', 'collect', 'may', 'use', 'follow', 'way', 'protect', 'information', 'implement', 'variety', 'security', 'measure', 'maintain', 'safety', 'personal', 'information', 'enter', 'submit', 'access', 'personal', 'information', 'among', 'thing', 'browser', 'session', 'well', 'traﬃc', 'application', 'api', 'secure', 'ssl', 'password', 'hash', 'use', 'strong', 'algorithm', 'may', 'enable', 'authentication', 'secure', 'access', 'account', 'data', 'retention', 'make', 'good', 'faith', 'effort', 'request', 'download', 'archive', 'content', 'include', 'post', 'medium', 'attachment', 'proﬁle', 'picture', 'header', 'image', 'may', 'irreversibly', 'delete', 'account', 'time', 'use', 'cooky', 'yes', 'cooky', 'small', 'ﬁles', 'site', 'service', 'provider', 'transfer', 'computer', 'hard', 'drive', 'web', 'browser', 'allow', 'cooky', 'enable', 'site', 'recognize', 'browser', 'register', 'account', 'associate', 'register', 'account', 'use', 'cooky', 'understand', 'save', 'preference', 'future', 'visit', 'disclose', 'information', 'outside', 'party', 'provide', 'core', 'functionality', 'interact', 'people', 'content', 'post', 'content', 'log', 'example', 'may', 'follow', 'people', 'view', 'combine', 'post', 'personalize', 'home', 'timeline', 'aid', 'moderation', 'community', 'example', 'compare', 'ip', 'address', 'know', 'one', 'determine', 'ban', 'evasion', 'violation', 'email', 'address', 'provide', 'may', 'use', 'send', 'information', 'notiﬁcations', 'people', 'interact', 'content', 'send', 'message', 'respond', 'inquiry', 'request', 'question', 'retain', 'server', 'log', 'contain', 'ip', 'address', 'request', 'server', 'far', 'log', 'kept', '90', 'day', 'retain', 'ip', 'address', 'associate', 'register', 'user', '12', 'month', 'http', 'sell', 'trade', 'otherwise', 'transfer', 'outside', 'party', 'personally', 'identiﬁable', 'information', 'include', 'trust', 'third', 'party', 'assist', 'u', 'operating', 'site', 'conduct', 'business', 'service', 'long', 'party', 'agree', 'keep', 'information', 'conﬁdential', 'may', 'release', 'information', 'believe', 'release', 'appropriate', 'comply', 'law', 'enforce', 'site', 'policy', 'protect', 'others', 'right', 'property', 'safety', 'public', 'content', 'may', 'download', 'server', 'network', 'public', 'post', 'deliver', 'server', 'follower', 'reside', 'direct', 'message', 'deliver', 'server', 'recipient', 'far', 'follower', 'recipient', 'reside', 'different', 'server', 'authorize', 'application', 'use', 'account', 'depend', 'scope', 'permission', 'approve', 'may', 'access', 'public', 'proﬁle', 'information', 'follow', 'list', 'follower', 'list', 'post', 'favourite', 'application', 'never', 'access', 'address', 'password', 'site', 'usage', 'child', 'server', 'eu', 'eea', 'site', 'product', 'service', 'direct', 'people', 'least', '16', 'year', 'old', 'age', '16', 'per', 'requirement', 'gdpr', 'general', 'data', 'protection', 'regulation', 'use', 'site', 'server', 'usa', 'site', 'product', 'service', 'direct', 'people', 'least', '13', 'year', 'old', 'age', '13', 'per', 'requirement', 'coppa', 'child', 'online', 'protection', 'act', 'use', 'site', 'law', 'requirement', 'different', 'server', 'another', 'jurisdiction', 'document', 'originally', 'adapt', 'discourse']\n"
          ]
        }
      ]
    },
    {
      "cell_type": "markdown",
      "source": [
        "Since \"http\" was not deleted properly, by using replace function, \"http\" will be replaced with a space.\n",
        "\n",
        "The following script is adopted from [Geeks for Geeks](https://www.geeksforgeeks.org/how-to-search-and-replace-text-in-a-file-in-python/#)."
      ],
      "metadata": {
        "id": "Fkue1lJQSjTZ"
      }
    },
    {
      "cell_type": "code",
      "source": [
        "with open(f\"files_cleaned/mastodon_cleaned.txt\", 'r') as file:\n",
        "  \n",
        "    # Reading the content of the file\n",
        "    # using the read() function and storing\n",
        "    # them in a new variable\n",
        "    data = file.read()\n",
        "  \n",
        "    # Searching and replacing the text\n",
        "    # using the replace() function\n",
        "    data = data.replace('http', ' ')\n",
        "  \n",
        "# Opening our text file in write only\n",
        "# mode to write the replaced content\n",
        "with open(f\"files_cleaned/mastodon_cleaned.txt\", 'w') as file:\n",
        "  \n",
        "    # Writing the replaced data in our\n",
        "    # text file\n",
        "    file.write(data)\n",
        "\n",
        "cleanupmastodon = open(f\"files_cleaned/mastodon_cleaned.txt\", 'r')\n",
        "newmastodoncontent = cleanupmastodon.read()\n",
        "print(newmastodoncontent)"
      ],
      "metadata": {
        "colab": {
          "base_uri": "https://localhost:8080/"
        },
        "id": "E9cJ6SrfRGKu",
        "outputId": "6e7e3ea3-31fe-4600-8995-f0bb397410c9"
      },
      "execution_count": 45,
      "outputs": [
        {
          "output_type": "stream",
          "name": "stdout",
          "text": [
            "[' ', 'update', 'describes', 'u', 'collect', 'protects', 'us', 'personally', 'identiﬁable', 'information', 'may', 'provide', 'website', 'api', 'describes', 'choice', 'available', 'regard', 'use', 'personal', 'information', 'access', 'information', 'apply', 'practice', 'company', 'control', 'individual', 'employ', 'manage', 'information', 'collect', 'basic', 'account', 'information', 'register', 'server', 'may', 'ask', 'enter', 'username', 'mail', 'address', 'password', 'may', 'enter', 'additional', 'proﬁle', 'information', 'display', 'name', 'biography', 'upload', 'proﬁle', 'picture', 'header', 'image', 'username', 'display', 'name', 'biography', 'proﬁle', 'picture', 'header', 'image', 'always', 'list', 'publicly', 'post', 'follow', 'public', 'information', 'list', 'people', 'follow', 'list', 'publicly', 'true', 'follower', 'submit', 'message', 'date', 'time', 'store', 'well', 'application', 'submit', 'message', 'message', 'may', 'contain', 'medium', 'attachment', 'picture', 'video', 'public', 'unlisted', 'post', 'available', 'publicly', 'feature', 'post', 'proﬁle', 'publicly', 'available', 'information', 'post', 'deliver', 'follower', 'case', 'mean', 'deliver', 'different', 'server', 'copy', 'store', 'delete', 'post', 'likewise', 'deliver', 'follower', 'action', 'reblogging', 'favouriting', 'another', 'post', 'always', 'public', 'direct', 'post', 'post', 'store', 'process', 'server', 'post', 'deliver', 'follower', 'user', 'mention', 'direct', 'post', 'deliver', 'user', 'mention', 'case', 'mean', 'deliver', 'different', 'server', 'copy', 'store', 'make', 'good', 'faith', 'effort', 'limit', 'access', 'post', 'authorize', 'person', 'server', 'may', 'fail', 'therefore', 'important', 'review', 'server', 'follower', 'belong', 'may', 'toggle', 'option', 'approve', 'reject', 'new', 'follower', 'manually', 'setting', 'please', 'keep', 'mind', 'operator', 'server', 'receive', 'server', 'may', 'view', 'message', 'recipient', 'may', 'screenshot', 'copy', 'otherwise', 'share', 'sensitive', 'information', 'ip', 'metadata', 'log', 'record', 'ip', 'address', 'log', 'well', 'name', 'browser', 'application', 'log', 'session', 'available', 'review', 'revocation', 'setting', 'late', 'ip', 'address', 'use', 'store', '12', 'month', 'may', 'retain', 'server', 'log', 'include', 'ip', 'address', 'every', 'request', 'server', ' ', 'use', 'information', 'information', 'collect', 'may', 'use', 'follow', 'way', 'protect', 'information', 'implement', 'variety', 'security', 'measure', 'maintain', 'safety', 'personal', 'information', 'enter', 'submit', 'access', 'personal', 'information', 'among', 'thing', 'browser', 'session', 'well', 'traﬃc', 'application', 'api', 'secure', 'ssl', 'password', 'hash', 'use', 'strong', 'algorithm', 'may', 'enable', 'authentication', 'secure', 'access', 'account', 'data', 'retention', 'make', 'good', 'faith', 'effort', 'request', 'download', 'archive', 'content', 'include', 'post', 'medium', 'attachment', 'proﬁle', 'picture', 'header', 'image', 'may', 'irreversibly', 'delete', 'account', 'time', 'use', 'cooky', 'yes', 'cooky', 'small', 'ﬁles', 'site', 'service', 'provider', 'transfer', 'computer', 'hard', 'drive', 'web', 'browser', 'allow', 'cooky', 'enable', 'site', 'recognize', 'browser', 'register', 'account', 'associate', 'register', 'account', 'use', 'cooky', 'understand', 'save', 'preference', 'future', 'visit', 'disclose', 'information', 'outside', 'party', 'provide', 'core', 'functionality', 'interact', 'people', 'content', 'post', 'content', 'log', 'example', 'may', 'follow', 'people', 'view', 'combine', 'post', 'personalize', 'home', 'timeline', 'aid', 'moderation', 'community', 'example', 'compare', 'ip', 'address', 'know', 'one', 'determine', 'ban', 'evasion', 'violation', 'email', 'address', 'provide', 'may', 'use', 'send', 'information', 'notiﬁcations', 'people', 'interact', 'content', 'send', 'message', 'respond', 'inquiry', 'request', 'question', 'retain', 'server', 'log', 'contain', 'ip', 'address', 'request', 'server', 'far', 'log', 'kept', '90', 'day', 'retain', 'ip', 'address', 'associate', 'register', 'user', '12', 'month', ' ', 'sell', 'trade', 'otherwise', 'transfer', 'outside', 'party', 'personally', 'identiﬁable', 'information', 'include', 'trust', 'third', 'party', 'assist', 'u', 'operating', 'site', 'conduct', 'business', 'service', 'long', 'party', 'agree', 'keep', 'information', 'conﬁdential', 'may', 'release', 'information', 'believe', 'release', 'appropriate', 'comply', 'law', 'enforce', 'site', 'policy', 'protect', 'others', 'right', 'property', 'safety', 'public', 'content', 'may', 'download', 'server', 'network', 'public', 'post', 'deliver', 'server', 'follower', 'reside', 'direct', 'message', 'deliver', 'server', 'recipient', 'far', 'follower', 'recipient', 'reside', 'different', 'server', 'authorize', 'application', 'use', 'account', 'depend', 'scope', 'permission', 'approve', 'may', 'access', 'public', 'proﬁle', 'information', 'follow', 'list', 'follower', 'list', 'post', 'favourite', 'application', 'never', 'access', 'address', 'password', 'site', 'usage', 'child', 'server', 'eu', 'eea', 'site', 'product', 'service', 'direct', 'people', 'least', '16', 'year', 'old', 'age', '16', 'per', 'requirement', 'gdpr', 'general', 'data', 'protection', 'regulation', 'use', 'site', 'server', 'usa', 'site', 'product', 'service', 'direct', 'people', 'least', '13', 'year', 'old', 'age', '13', 'per', 'requirement', 'coppa', 'child', 'online', 'protection', 'act', 'use', 'site', 'law', 'requirement', 'different', 'server', 'another', 'jurisdiction', 'document', 'originally', 'adapt', 'discourse']\n"
          ]
        }
      ]
    },
    {
      "cell_type": "markdown",
      "source": [
        "Now based on the cleaned up file, a WordCloud will be created to visualize what are the most common terms used in both policies. \n",
        "\n",
        "For the purpose of this paper, max words are limited to 30."
      ],
      "metadata": {
        "id": "gh1oSX-CbIiG"
      }
    },
    {
      "cell_type": "code",
      "source": [
        "# # create Word Clouds\n",
        "\n",
        "from wordcloud import WordCloud    \n",
        "import matplotlib.pyplot as plt\n",
        "\n",
        "wordcloud = WordCloud(max_font_size=40, collocations=False, max_words=30).generate(newtwittercontent)\n",
        "plt.figure()\n",
        "plt.imshow(wordcloud, interpolation=\"bilinear\")\n",
        "plt.axis(\"off\")\n",
        "plt.show()\n",
        "\n",
        "# save Word Clouds\n",
        "! mkdir wordclouds\n",
        "wordcloud.to_file(f\"wordclouds/word_cloud_twitter.png\")\n",
        "\n",
        "# Establish lexical density\n",
        "# text_clean_slice = text_clean [0:600]\n",
        "# ld_results = len(set(text_clean_slice)) / len(text_clean_slice)\n",
        "# print(ld_results)\n",
        "# ld_dict = {'File_name': filepath, 'lexical_density': ld_results}\n",
        "# lexical_density.append(ld_dict)\n",
        "\n",
        "# print(lexical_density)"
      ],
      "metadata": {
        "colab": {
          "base_uri": "https://localhost:8080/",
          "height": 303
        },
        "id": "ezoiR4jwXal9",
        "outputId": "61dbf65e-2869-4002-c245-819a6ecc6485"
      },
      "execution_count": 46,
      "outputs": [
        {
          "output_type": "display_data",
          "data": {
            "text/plain": [
              "<Figure size 640x480 with 1 Axes>"
            ],
            "image/png": "[encoded data removed]"
          },
          "metadata": {}
        },
        {
          "output_type": "execute_result",
          "data": {
            "text/plain": [
              "<wordcloud.wordcloud.WordCloud at 0x7fb71173b580>"
            ]
          },
          "metadata": {},
          "execution_count": 46
        }
      ]
    },
    {
      "cell_type": "code",
      "source": [
        "wordcloud2 = WordCloud(max_font_size=40, collocations=False, max_words=30).generate(newmastodoncontent)\n",
        "plt.figure()\n",
        "plt.imshow(wordcloud2, interpolation=\"bilinear\")\n",
        "plt.axis(\"off\")\n",
        "plt.show()\n",
        "\n",
        "# save Word Clouds\n",
        "wordcloud.to_file(f\"wordclouds/word_cloud_mastodon.png\")"
      ],
      "metadata": {
        "colab": {
          "base_uri": "https://localhost:8080/",
          "height": 303
        },
        "id": "gulptIdUVM5f",
        "outputId": "789c0af3-539b-4a34-b323-10a1f546d7d5"
      },
      "execution_count": 47,
      "outputs": [
        {
          "output_type": "display_data",
          "data": {
            "text/plain": [
              "<Figure size 640x480 with 1 Axes>"
            ],
            "image/png": "[encoded data removed]"
          },
          "metadata": {}
        },
        {
          "output_type": "execute_result",
          "data": {
            "text/plain": [
              "<wordcloud.wordcloud.WordCloud at 0x7fb71173b580>"
            ]
          },
          "metadata": {},
          "execution_count": 47
        }
      ]
    },
    {
      "cell_type": "markdown",
      "source": [
        "Both Twitter and Mastodon have \"information\" as the most frequenty used term. It makes sense given the privacy policy is about how the company addresses user information.\n",
        "\n",
        "Some other notable terms from Twitter include \"provide\", \"share\", \"ad\", \"access\", \"affiliate\", \"partner\", and \"collect.\" \n",
        "\n",
        "There were many mentions of sharing the data as previously noted in the document. This can be due to how much data Twitter collects and uses to generate profit, through advertisement. \n",
        "\n",
        "For Mastodon, notable terms were \"server\", \"deliver\", \"IP\", \"site\", \"register\", \"log.\"\n",
        "\n",
        "This can be due to how Mastodon operates with distributed servers. \n",
        "\n",
        "What is most interesting from the wordcloud is that both Twitter and Matodon had the term \"may\" in their top 30 most frequently used terms. The use of term \"may\" can create confusion to the users as \"may\" in definition expresses possibility.\n",
        "\n",
        "For instance, Twitter provides following statement:\n",
        "\n",
        "“Professional Accounts. If you create a professional account, you also need to provide us with a professional category, and ***may*** provide us with other information, including street address, contact email address, and contact phone number, all of which will always be public.\"\n",
        "\n",
        "Also,\n",
        "\n",
        "“3.4 With our Affiliates.\n",
        "We ***may*** share information amongst our affiliates to provide our products and services.”\n",
        "\n",
        "\"May\" could be interpreted as optional information that users could provide but it can also be interpreted as Twitter possibly sharing information with other parties. \n",
        "\n",
        "As for Mastodon, their policy provides as follows:\n",
        "\n",
        "“Basic account information: If you register on this server, you ***may*** be asked to enter a username, an e- mail address and a password. You ***may*** also enter additional profile information such as a display name and biography, and upload a profile picture and header image. The username, display name, biography, profile picture and header image are always listed publicly.”\n",
        "\n",
        "Unless there are alternative ways to register on the server, this statement should be more definitive than merely expressing possibility.\n",
        "\n",
        "Both Twitter and Mastodon could provide clearer language surrounding how the data is collected and shared, if those data are certainly collected, used and shared. \n"
      ],
      "metadata": {
        "id": "aUS_fsecbf-O"
      }
    },
    {
      "cell_type": "markdown",
      "source": [
        "## Lexical Density\n",
        "\n",
        "[Lexical density](https://osawec.elc.cityu.edu.hk/repo/front-page/writing-tips/lexical-density/#:~:text=Assessed%20with%20Lexical%20Density%2C%20a,nouns%20while%20adverbs%20modify%20verbs) is used to find out the density of text or speech by dividing the number of lexical words by total number of words. Lexical words are verbs, nouns, adjectives and adverbs. According to [Languages Humanities](https://www.languagehumanities.org/what-is-lexical-density.htm),  a balanced lexicon density would be around 50%, whereas academic papers, government documents and jargon-filled documents tend to produce higher densities."
      ],
      "metadata": {
        "id": "0EI5s2pWVieW"
      }
    },
    {
      "cell_type": "code",
      "source": [
        "# Establish lexical density for Twitter\n",
        "text_clean_slice = newtwittercontent [0:1000]\n",
        "ld_results = len(set(text_clean_slice)) / len(text_clean_slice)\n",
        "\n",
        "print(ld_results)"
      ],
      "metadata": {
        "colab": {
          "base_uri": "https://localhost:8080/"
        },
        "id": "LSOqeFl_VkrS",
        "outputId": "a79950f1-3fba-42dd-cd4c-33937a01bb37"
      },
      "execution_count": 48,
      "outputs": [
        {
          "output_type": "stream",
          "name": "stdout",
          "text": [
            "0.029\n"
          ]
        }
      ]
    },
    {
      "cell_type": "code",
      "source": [
        "# Establish lexical density for Mastodon\n",
        "text_clean_slice2 = newmastodoncontent [0:1000]\n",
        "ld_results2 = len(set(text_clean_slice2)) / len(text_clean_slice2)\n",
        "print(ld_results2)"
      ],
      "metadata": {
        "colab": {
          "base_uri": "https://localhost:8080/"
        },
        "id": "mWBg_ZeeZdg3",
        "outputId": "6ffa929e-5a89-4d33-f8a0-27c3a9b647fb"
      },
      "execution_count": 49,
      "outputs": [
        {
          "output_type": "stream",
          "name": "stdout",
          "text": [
            "0.027\n"
          ]
        }
      ]
    },
    {
      "cell_type": "markdown",
      "source": [
        "Considering both Mastodon and Twitter are measured to be less than 50%, we can infer that the documents are not as jargon heavy, and therefore should be easy for users to read and comprehend.\n"
      ],
      "metadata": {
        "id": "VSDDtx9ogytV"
      }
    },
    {
      "cell_type": "markdown",
      "source": [
        "## TF-IDF\n",
        "\n",
        "TF-IDF aims to identify the most distinctively frequent or significant words in a document. \n",
        "\n",
        "First, download necessary libraries"
      ],
      "metadata": {
        "id": "NeqJ2-qGuy5Q"
      }
    },
    {
      "cell_type": "code",
      "source": [
        "! pip install sklearn"
      ],
      "metadata": {
        "colab": {
          "base_uri": "https://localhost:8080/"
        },
        "id": "qUkOH6FtwcbW",
        "outputId": "7da14cc1-edb2-4e0e-bb49-c973b3920f92"
      },
      "execution_count": 50,
      "outputs": [
        {
          "output_type": "stream",
          "name": "stdout",
          "text": [
            "Looking in indexes: https://pypi.org/simple, https://us-python.pkg.dev/colab-wheels/public/simple/\n",
            "Collecting sklearn\n",
            "  Downloading sklearn-0.0.post4.tar.gz (3.6 kB)\n",
            "  Preparing metadata (setup.py) ... \u001b[?25l\u001b[?25hdone\n",
            "Building wheels for collected packages: sklearn\n",
            "  Building wheel for sklearn (setup.py) ... \u001b[?25l\u001b[?25hdone\n",
            "  Created wheel for sklearn: filename=sklearn-0.0.post4-py3-none-any.whl size=2973 sha256=79a724c0ec99820e5a81791e612cef204ceaca98ebe047e5a7c7296d81e7fa6f\n",
            "  Stored in directory: /root/.cache/pip/wheels/46/b8/69/4f7789b7d2fc0718a44cbc4ae5d40970a40c22c472ae50f0a1\n",
            "Successfully built sklearn\n",
            "Installing collected packages: sklearn\n",
            "Successfully installed sklearn-0.0.post4\n"
          ]
        }
      ]
    },
    {
      "cell_type": "code",
      "source": [
        "from sklearn.feature_extraction.text import TfidfVectorizer\n",
        "from sklearn.feature_extraction.text import CountVectorizer\n",
        "import pandas as pd\n",
        "pd.options.display.max_rows = 600\n",
        "from pathlib import Path  \n",
        "import glob"
      ],
      "metadata": {
        "id": "og3FHbLZu1d6"
      },
      "execution_count": 51,
      "outputs": []
    },
    {
      "cell_type": "markdown",
      "source": [
        "Set Directory"
      ],
      "metadata": {
        "id": "IM8jKNFBhyyE"
      }
    },
    {
      "cell_type": "code",
      "source": [
        "directory_path = \"files_cleaned/\"\n",
        "text_files = glob.glob(f\"{directory_path}/*.txt\")"
      ],
      "metadata": {
        "id": "Pxh-F0ySvO-9"
      },
      "execution_count": 52,
      "outputs": []
    },
    {
      "cell_type": "code",
      "source": [
        "text_files"
      ],
      "metadata": {
        "colab": {
          "base_uri": "https://localhost:8080/"
        },
        "id": "GLYxtAlswxgk",
        "outputId": "8b7a92e0-a9b0-4b7d-d1c9-4c11685375d4"
      },
      "execution_count": 53,
      "outputs": [
        {
          "output_type": "execute_result",
          "data": {
            "text/plain": [
              "['files_cleaned/mastodon_cleaned.txt', 'files_cleaned/twitter_cleaned.txt']"
            ]
          },
          "metadata": {},
          "execution_count": 53
        }
      ]
    },
    {
      "cell_type": "code",
      "source": [
        "text_titles = [Path(text).stem for text in text_files]"
      ],
      "metadata": {
        "id": "zrUnRdd_cCCL"
      },
      "execution_count": 54,
      "outputs": []
    },
    {
      "cell_type": "code",
      "source": [
        "text_titles"
      ],
      "metadata": {
        "colab": {
          "base_uri": "https://localhost:8080/"
        },
        "id": "uI1rW0aKcDXL",
        "outputId": "7d5d3868-6763-45ab-88c7-dd5bd524026b"
      },
      "execution_count": 55,
      "outputs": [
        {
          "output_type": "execute_result",
          "data": {
            "text/plain": [
              "['mastodon_cleaned', 'twitter_cleaned']"
            ]
          },
          "metadata": {},
          "execution_count": 55
        }
      ]
    },
    {
      "cell_type": "markdown",
      "source": [
        "Run TfidfVectorizer"
      ],
      "metadata": {
        "id": "UBKt29q0h3yM"
      }
    },
    {
      "cell_type": "code",
      "source": [
        "tfidf_vectorizer = TfidfVectorizer(input='filename', stop_words='english')"
      ],
      "metadata": {
        "id": "3jyfF2qsu2v6"
      },
      "execution_count": 56,
      "outputs": []
    },
    {
      "cell_type": "code",
      "source": [
        "tfidf_vector = tfidf_vectorizer.fit_transform(text_files)"
      ],
      "metadata": {
        "id": "gFHj70iEu20M"
      },
      "execution_count": 57,
      "outputs": []
    },
    {
      "cell_type": "code",
      "source": [
        "type(tfidf_vector)"
      ],
      "metadata": {
        "id": "mIidK5bHu24m",
        "colab": {
          "base_uri": "https://localhost:8080/"
        },
        "outputId": "034083f8-79c0-41db-9a16-bdf7f4947d37"
      },
      "execution_count": 58,
      "outputs": [
        {
          "output_type": "execute_result",
          "data": {
            "text/plain": [
              "scipy.sparse._csr.csr_matrix"
            ]
          },
          "metadata": {},
          "execution_count": 58
        }
      ]
    },
    {
      "cell_type": "markdown",
      "source": [
        "Turn the result into dataframe"
      ],
      "metadata": {
        "id": "UiBRkdXmiGR-"
      }
    },
    {
      "cell_type": "code",
      "source": [
        "tfidf_df = pd.DataFrame(tfidf_vector.toarray(), index=text_titles, columns=tfidf_vectorizer.get_feature_names_out())"
      ],
      "metadata": {
        "id": "U-FdVkTwu27s"
      },
      "execution_count": 59,
      "outputs": []
    },
    {
      "cell_type": "code",
      "source": [
        "tfidf_df = tfidf_df.stack().reset_index()"
      ],
      "metadata": {
        "id": "I1Xgsz_Lc4er"
      },
      "execution_count": 60,
      "outputs": []
    },
    {
      "cell_type": "markdown",
      "source": [
        "Rename Dataframe Columns"
      ],
      "metadata": {
        "id": "nDC_uT48imN_"
      }
    },
    {
      "cell_type": "code",
      "source": [
        "tfidf_df = tfidf_df.rename(columns={0:'tfidf', 'level_0': 'document','level_1': 'term'})"
      ],
      "metadata": {
        "id": "F6BoW9Klc6zU"
      },
      "execution_count": 61,
      "outputs": []
    },
    {
      "cell_type": "markdown",
      "source": [
        "Print top 10 terms and highest tfidf scores"
      ],
      "metadata": {
        "id": "2gxyXjsfirR4"
      }
    },
    {
      "cell_type": "code",
      "source": [
        "tfidf_df.sort_values(by=['document','tfidf'], ascending=[True,False]).groupby(['document']).head(10)"
      ],
      "metadata": {
        "colab": {
          "base_uri": "https://localhost:8080/",
          "height": 677
        },
        "id": "PG5mtT_Kc7FK",
        "outputId": "5dfe14c3-faee-44c1-9fbf-4ac9ad9183f7"
      },
      "execution_count": 62,
      "outputs": [
        {
          "output_type": "execute_result",
          "data": {
            "text/plain": [
              "              document         term     tfidf\n",
              "562   mastodon_cleaned       server  0.469758\n",
              "306   mastodon_cleaned  information  0.351828\n",
              "450   mastodon_cleaned         post  0.281462\n",
              "252   mastodon_cleaned     follower  0.222517\n",
              "641   mastodon_cleaned          use  0.193505\n",
              "23    mastodon_cleaned      address  0.158323\n",
              "575   mastodon_cleaned         site  0.158323\n",
              "473   mastodon_cleaned       proﬁle  0.148345\n",
              "174   mastodon_cleaned      deliver  0.140731\n",
              "591   mastodon_cleaned        store  0.123621\n",
              "980    twitter_cleaned  information  0.573386\n",
              "1237   twitter_cleaned      service  0.316351\n",
              "1315   twitter_cleaned          use  0.301522\n",
              "1241   twitter_cleaned        share  0.182890\n",
              "688    twitter_cleaned      account  0.177947\n",
              "838    twitter_cleaned         data  0.173004\n",
              "790    twitter_cleaned      collect  0.168061\n",
              "694    twitter_cleaned           ad  0.166733\n",
              "1145   twitter_cleaned      provide  0.148289\n",
              "815    twitter_cleaned      content  0.138403"
            ],
            "text/html": [
              "\n",
              "  <div id=\"df-01080373-d982-42f4-b845-1b51d5a70f86\">\n",
              "    <div class=\"colab-df-container\">\n",
              "      <div>\n",
              "<style scoped>\n",
              "    .dataframe tbody tr th:only-of-type {\n",
              "        vertical-align: middle;\n",
              "    }\n",
              "\n",
              "    .dataframe tbody tr th {\n",
              "        vertical-align: top;\n",
              "    }\n",
              "\n",
              "    .dataframe thead th {\n",
              "        text-align: right;\n",
              "    }\n",
              "</style>\n",
              "<table border=\"1\" class=\"dataframe\">\n",
              "  <thead>\n",
              "    <tr style=\"text-align: right;\">\n",
              "      <th></th>\n",
              "      <th>document</th>\n",
              "      <th>term</th>\n",
              "      <th>tfidf</th>\n",
              "    </tr>\n",
              "  </thead>\n",
              "  <tbody>\n",
              "    <tr>\n",
              "      <th>562</th>\n",
              "      <td>mastodon_cleaned</td>\n",
              "      <td>server</td>\n",
              "      <td>0.469758</td>\n",
              "    </tr>\n",
              "    <tr>\n",
              "      <th>306</th>\n",
              "      <td>mastodon_cleaned</td>\n",
              "      <td>information</td>\n",
              "      <td>0.351828</td>\n",
              "    </tr>\n",
              "    <tr>\n",
              "      <th>450</th>\n",
              "      <td>mastodon_cleaned</td>\n",
              "      <td>post</td>\n",
              "      <td>0.281462</td>\n",
              "    </tr>\n",
              "    <tr>\n",
              "      <th>252</th>\n",
              "      <td>mastodon_cleaned</td>\n",
              "      <td>follower</td>\n",
              "      <td>0.222517</td>\n",
              "    </tr>\n",
              "    <tr>\n",
              "      <th>641</th>\n",
              "      <td>mastodon_cleaned</td>\n",
              "      <td>use</td>\n",
              "      <td>0.193505</td>\n",
              "    </tr>\n",
              "    <tr>\n",
              "      <th>23</th>\n",
              "      <td>mastodon_cleaned</td>\n",
              "      <td>address</td>\n",
              "      <td>0.158323</td>\n",
              "    </tr>\n",
              "    <tr>\n",
              "      <th>575</th>\n",
              "      <td>mastodon_cleaned</td>\n",
              "      <td>site</td>\n",
              "      <td>0.158323</td>\n",
              "    </tr>\n",
              "    <tr>\n",
              "      <th>473</th>\n",
              "      <td>mastodon_cleaned</td>\n",
              "      <td>proﬁle</td>\n",
              "      <td>0.148345</td>\n",
              "    </tr>\n",
              "    <tr>\n",
              "      <th>174</th>\n",
              "      <td>mastodon_cleaned</td>\n",
              "      <td>deliver</td>\n",
              "      <td>0.140731</td>\n",
              "    </tr>\n",
              "    <tr>\n",
              "      <th>591</th>\n",
              "      <td>mastodon_cleaned</td>\n",
              "      <td>store</td>\n",
              "      <td>0.123621</td>\n",
              "    </tr>\n",
              "    <tr>\n",
              "      <th>980</th>\n",
              "      <td>twitter_cleaned</td>\n",
              "      <td>information</td>\n",
              "      <td>0.573386</td>\n",
              "    </tr>\n",
              "    <tr>\n",
              "      <th>1237</th>\n",
              "      <td>twitter_cleaned</td>\n",
              "      <td>service</td>\n",
              "      <td>0.316351</td>\n",
              "    </tr>\n",
              "    <tr>\n",
              "      <th>1315</th>\n",
              "      <td>twitter_cleaned</td>\n",
              "      <td>use</td>\n",
              "      <td>0.301522</td>\n",
              "    </tr>\n",
              "    <tr>\n",
              "      <th>1241</th>\n",
              "      <td>twitter_cleaned</td>\n",
              "      <td>share</td>\n",
              "      <td>0.182890</td>\n",
              "    </tr>\n",
              "    <tr>\n",
              "      <th>688</th>\n",
              "      <td>twitter_cleaned</td>\n",
              "      <td>account</td>\n",
              "      <td>0.177947</td>\n",
              "    </tr>\n",
              "    <tr>\n",
              "      <th>838</th>\n",
              "      <td>twitter_cleaned</td>\n",
              "      <td>data</td>\n",
              "      <td>0.173004</td>\n",
              "    </tr>\n",
              "    <tr>\n",
              "      <th>790</th>\n",
              "      <td>twitter_cleaned</td>\n",
              "      <td>collect</td>\n",
              "      <td>0.168061</td>\n",
              "    </tr>\n",
              "    <tr>\n",
              "      <th>694</th>\n",
              "      <td>twitter_cleaned</td>\n",
              "      <td>ad</td>\n",
              "      <td>0.166733</td>\n",
              "    </tr>\n",
              "    <tr>\n",
              "      <th>1145</th>\n",
              "      <td>twitter_cleaned</td>\n",
              "      <td>provide</td>\n",
              "      <td>0.148289</td>\n",
              "    </tr>\n",
              "    <tr>\n",
              "      <th>815</th>\n",
              "      <td>twitter_cleaned</td>\n",
              "      <td>content</td>\n",
              "      <td>0.138403</td>\n",
              "    </tr>\n",
              "  </tbody>\n",
              "</table>\n",
              "</div>\n",
              "      <button class=\"colab-df-convert\" onclick=\"convertToInteractive('df-01080373-d982-42f4-b845-1b51d5a70f86')\"\n",
              "              title=\"Convert this dataframe to an interactive table.\"\n",
              "              style=\"display:none;\">\n",
              "        \n",
              "  <svg xmlns=\"http://www.w3.org/2000/svg\" height=\"24px\"viewBox=\"0 0 24 24\"\n",
              "       width=\"24px\">\n",
              "    <path d=\"M0 0h24v24H0V0z\" fill=\"none\"/>\n",
              "    <path d=\"M18.56 5.44l.94 2.06.94-2.06 2.06-.94-2.06-.94-.94-2.06-.94 2.06-2.06.94zm-11 1L8.5 8.5l.94-2.06 2.06-.94-2.06-.94L8.5 2.5l-.94 2.06-2.06.94zm10 10l.94 2.06.94-2.06 2.06-.94-2.06-.94-.94-2.06-.94 2.06-2.06.94z\"/><path d=\"M17.41 7.96l-1.37-1.37c-.4-.4-.92-.59-1.43-.59-.52 0-1.04.2-1.43.59L10.3 9.45l-7.72 7.72c-.78.78-.78 2.05 0 2.83L4 21.41c.39.39.9.59 1.41.59.51 0 1.02-.2 1.41-.59l7.78-7.78 2.81-2.81c.8-.78.8-2.07 0-2.86zM5.41 20L4 18.59l7.72-7.72 1.47 1.35L5.41 20z\"/>\n",
              "  </svg>\n",
              "      </button>\n",
              "      \n",
              "  <style>\n",
              "    .colab-df-container {\n",
              "      display:flex;\n",
              "      flex-wrap:wrap;\n",
              "      gap: 12px;\n",
              "    }\n",
              "\n",
              "    .colab-df-convert {\n",
              "      background-color: #E8F0FE;\n",
              "      border: none;\n",
              "      border-radius: 50%;\n",
              "      cursor: pointer;\n",
              "      display: none;\n",
              "      fill: #1967D2;\n",
              "      height: 32px;\n",
              "      padding: 0 0 0 0;\n",
              "      width: 32px;\n",
              "    }\n",
              "\n",
              "    .colab-df-convert:hover {\n",
              "      background-color: #E2EBFA;\n",
              "      box-shadow: 0px 1px 2px rgba(60, 64, 67, 0.3), 0px 1px 3px 1px rgba(60, 64, 67, 0.15);\n",
              "      fill: #174EA6;\n",
              "    }\n",
              "\n",
              "    [theme=dark] .colab-df-convert {\n",
              "      background-color: #3B4455;\n",
              "      fill: #D2E3FC;\n",
              "    }\n",
              "\n",
              "    [theme=dark] .colab-df-convert:hover {\n",
              "      background-color: #434B5C;\n",
              "      box-shadow: 0px 1px 3px 1px rgba(0, 0, 0, 0.15);\n",
              "      filter: drop-shadow(0px 1px 2px rgba(0, 0, 0, 0.3));\n",
              "      fill: #FFFFFF;\n",
              "    }\n",
              "  </style>\n",
              "\n",
              "      <script>\n",
              "        const buttonEl =\n",
              "          document.querySelector('#df-01080373-d982-42f4-b845-1b51d5a70f86 button.colab-df-convert');\n",
              "        buttonEl.style.display =\n",
              "          google.colab.kernel.accessAllowed ? 'block' : 'none';\n",
              "\n",
              "        async function convertToInteractive(key) {\n",
              "          const element = document.querySelector('#df-01080373-d982-42f4-b845-1b51d5a70f86');\n",
              "          const dataTable =\n",
              "            await google.colab.kernel.invokeFunction('convertToInteractive',\n",
              "                                                     [key], {});\n",
              "          if (!dataTable) return;\n",
              "\n",
              "          const docLinkHtml = 'Like what you see? Visit the ' +\n",
              "            '<a target=\"_blank\" href=https://colab.research.google.com/notebooks/data_table.ipynb>data table notebook</a>'\n",
              "            + ' to learn more about interactive tables.';\n",
              "          element.innerHTML = '';\n",
              "          dataTable['output_type'] = 'display_data';\n",
              "          await google.colab.output.renderOutput(dataTable, element);\n",
              "          const docLink = document.createElement('div');\n",
              "          docLink.innerHTML = docLinkHtml;\n",
              "          element.appendChild(docLink);\n",
              "        }\n",
              "      </script>\n",
              "    </div>\n",
              "  </div>\n",
              "  "
            ]
          },
          "metadata": {},
          "execution_count": 62
        }
      ]
    },
    {
      "cell_type": "code",
      "source": [
        "top_tfidf = tfidf_df.sort_values(by=['document','tfidf'], ascending=[True,False]).groupby(['document']).head(10)"
      ],
      "metadata": {
        "id": "R-s-uF_OJ8Lr"
      },
      "execution_count": 63,
      "outputs": []
    },
    {
      "cell_type": "markdown",
      "source": [
        "Visualize the TFIDF using altair"
      ],
      "metadata": {
        "id": "SwKDcGMGHd8R"
      }
    },
    {
      "cell_type": "code",
      "source": [
        "!pip install altair"
      ],
      "metadata": {
        "colab": {
          "base_uri": "https://localhost:8080/"
        },
        "id": "OhQ7QKWMfYTQ",
        "outputId": "a5401f6f-da10-4fc7-81bd-657665db0e32"
      },
      "execution_count": 64,
      "outputs": [
        {
          "output_type": "stream",
          "name": "stdout",
          "text": [
            "Looking in indexes: https://pypi.org/simple, https://us-python.pkg.dev/colab-wheels/public/simple/\n",
            "Requirement already satisfied: altair in /usr/local/lib/python3.10/dist-packages (4.2.2)\n",
            "Requirement already satisfied: pandas>=0.18 in /usr/local/lib/python3.10/dist-packages (from altair) (1.5.3)\n",
            "Requirement already satisfied: entrypoints in /usr/local/lib/python3.10/dist-packages (from altair) (0.4)\n",
            "Requirement already satisfied: jsonschema>=3.0 in /usr/local/lib/python3.10/dist-packages (from altair) (4.3.3)\n",
            "Requirement already satisfied: toolz in /usr/local/lib/python3.10/dist-packages (from altair) (0.12.0)\n",
            "Requirement already satisfied: jinja2 in /usr/local/lib/python3.10/dist-packages (from altair) (3.1.2)\n",
            "Requirement already satisfied: numpy in /usr/local/lib/python3.10/dist-packages (from altair) (1.22.4)\n",
            "Requirement already satisfied: pyrsistent!=0.17.0,!=0.17.1,!=0.17.2,>=0.14.0 in /usr/local/lib/python3.10/dist-packages (from jsonschema>=3.0->altair) (0.19.3)\n",
            "Requirement already satisfied: attrs>=17.4.0 in /usr/local/lib/python3.10/dist-packages (from jsonschema>=3.0->altair) (23.1.0)\n",
            "Requirement already satisfied: python-dateutil>=2.8.1 in /usr/local/lib/python3.10/dist-packages (from pandas>=0.18->altair) (2.8.2)\n",
            "Requirement already satisfied: pytz>=2020.1 in /usr/local/lib/python3.10/dist-packages (from pandas>=0.18->altair) (2022.7.1)\n",
            "Requirement already satisfied: MarkupSafe>=2.0 in /usr/local/lib/python3.10/dist-packages (from jinja2->altair) (2.1.2)\n",
            "Requirement already satisfied: six>=1.5 in /usr/local/lib/python3.10/dist-packages (from python-dateutil>=2.8.1->pandas>=0.18->altair) (1.16.0)\n"
          ]
        }
      ]
    },
    {
      "cell_type": "code",
      "source": [
        "import altair as alt\n",
        "import numpy as np\n",
        "\n",
        "# Terms in this list will get a red dot in the visualization\n",
        "term_list = ['information']\n",
        "\n",
        "# adding a little randomness to break ties in term ranking\n",
        "top_tfidf_plusRand = top_tfidf.copy()\n",
        "top_tfidf_plusRand['tfidf'] = top_tfidf_plusRand['tfidf'] + np.random.rand(top_tfidf.shape[0])*0.0001\n",
        "\n",
        "# base for all visualizations, with rank calculation\n",
        "base = alt.Chart(top_tfidf_plusRand).encode(\n",
        "    x = 'rank:O',\n",
        "    y = 'document:N'\n",
        ").transform_window(\n",
        "    rank = \"rank()\",\n",
        "    sort = [alt.SortField(\"tfidf\", order=\"descending\")],\n",
        "    groupby = [\"document\"],\n",
        ")\n",
        "\n",
        "# heatmap specification\n",
        "heatmap = base.mark_rect().encode(\n",
        "    color = 'tfidf:Q'\n",
        ")\n",
        "\n",
        "# red circle over terms in above list\n",
        "circle = base.mark_circle(size=100).encode(\n",
        "    color = alt.condition(\n",
        "        alt.FieldOneOfPredicate(field='term', oneOf=term_list),\n",
        "        alt.value('red'),\n",
        "        alt.value('#FFFFFF00')        \n",
        "    )\n",
        ")\n",
        "\n",
        "# text labels, white for darker heatmap colors\n",
        "text = base.mark_text(baseline='middle').encode(\n",
        "    text = 'term:N',\n",
        "    color = alt.condition(alt.datum.tfidf >= 0.23, alt.value('white'), alt.value('black'))\n",
        ")\n",
        "\n",
        "# display the three superimposed visualizations\n",
        "(heatmap + circle + text).properties(width = 600)"
      ],
      "metadata": {
        "colab": {
          "base_uri": "https://localhost:8080/",
          "height": 227
        },
        "id": "s263mAcQfZGA",
        "outputId": "134e9a57-59ee-4b38-bb53-259b7b78bec5"
      },
      "execution_count": 65,
      "outputs": [
        {
          "output_type": "execute_result",
          "data": {
            "text/html": [
              "\n",
              "<div id=\"altair-viz-4545e983a6774b949ac3a3d28f414314\"></div>\n",
              "<script type=\"text/javascript\">\n",
              "  var VEGA_DEBUG = (typeof VEGA_DEBUG == \"undefined\") ? {} : VEGA_DEBUG;\n",
              "  (function(spec, embedOpt){\n",
              "    let outputDiv = document.currentScript.previousElementSibling;\n",
              "    if (outputDiv.id !== \"altair-viz-4545e983a6774b949ac3a3d28f414314\") {\n",
              "      outputDiv = document.getElementById(\"altair-viz-4545e983a6774b949ac3a3d28f414314\");\n",
              "    }\n",
              "    const paths = {\n",
              "      \"vega\": \"https://cdn.jsdelivr.net/npm//vega@5?noext\",\n",
              "      \"vega-lib\": \"https://cdn.jsdelivr.net/npm//vega-lib?noext\",\n",
              "      \"vega-lite\": \"https://cdn.jsdelivr.net/npm//vega-lite@4.17.0?noext\",\n",
              "      \"vega-embed\": \"https://cdn.jsdelivr.net/npm//vega-embed@6?noext\",\n",
              "    };\n",
              "\n",
              "    function maybeLoadScript(lib, version) {\n",
              "      var key = `${lib.replace(\"-\", \"\")}_version`;\n",
              "      return (VEGA_DEBUG[key] == version) ?\n",
              "        Promise.resolve(paths[lib]) :\n",
              "        new Promise(function(resolve, reject) {\n",
              "          var s = document.createElement('script');\n",
              "          document.getElementsByTagName(\"head\")[0].appendChild(s);\n",
              "          s.async = true;\n",
              "          s.onload = () => {\n",
              "            VEGA_DEBUG[key] = version;\n",
              "            return resolve(paths[lib]);\n",
              "          };\n",
              "          s.onerror = () => reject(`Error loading script: ${paths[lib]}`);\n",
              "          s.src = paths[lib];\n",
              "        });\n",
              "    }\n",
              "\n",
              "    function showError(err) {\n",
              "      outputDiv.innerHTML = `<div class=\"error\" style=\"color:red;\">${err}</div>`;\n",
              "      throw err;\n",
              "    }\n",
              "\n",
              "    function displayChart(vegaEmbed) {\n",
              "      vegaEmbed(outputDiv, spec, embedOpt)\n",
              "        .catch(err => showError(`Javascript Error: ${err.message}<br>This usually means there's a typo in your chart specification. See the javascript console for the full traceback.`));\n",
              "    }\n",
              "\n",
              "    if(typeof define === \"function\" && define.amd) {\n",
              "      requirejs.config({paths});\n",
              "      require([\"vega-embed\"], displayChart, err => showError(`Error loading script: ${err.message}`));\n",
              "    } else {\n",
              "      maybeLoadScript(\"vega\", \"5\")\n",
              "        .then(() => maybeLoadScript(\"vega-lite\", \"4.17.0\"))\n",
              "        .then(() => maybeLoadScript(\"vega-embed\", \"6\"))\n",
              "        .catch(showError)\n",
              "        .then(() => displayChart(vegaEmbed));\n",
              "    }\n",
              "  })({\"config\": {\"view\": {\"continuousWidth\": 400, \"continuousHeight\": 300}}, \"layer\": [{\"mark\": \"rect\", \"encoding\": {\"color\": {\"field\": \"tfidf\", \"type\": \"quantitative\"}, \"x\": {\"field\": \"rank\", \"type\": \"ordinal\"}, \"y\": {\"field\": \"document\", \"type\": \"nominal\"}}, \"transform\": [{\"window\": [{\"op\": \"rank\", \"field\": \"\", \"as\": \"rank\"}], \"groupby\": [\"document\"], \"sort\": [{\"field\": \"tfidf\", \"order\": \"descending\"}]}]}, {\"mark\": {\"type\": \"circle\", \"size\": 100}, \"encoding\": {\"color\": {\"condition\": {\"value\": \"red\", \"test\": {\"field\": \"term\", \"oneOf\": [\"information\"]}}, \"value\": \"#FFFFFF00\"}, \"x\": {\"field\": \"rank\", \"type\": \"ordinal\"}, \"y\": {\"field\": \"document\", \"type\": \"nominal\"}}, \"transform\": [{\"window\": [{\"op\": \"rank\", \"field\": \"\", \"as\": \"rank\"}], \"groupby\": [\"document\"], \"sort\": [{\"field\": \"tfidf\", \"order\": \"descending\"}]}]}, {\"mark\": {\"type\": \"text\", \"baseline\": \"middle\"}, \"encoding\": {\"color\": {\"condition\": {\"value\": \"white\", \"test\": \"(datum.tfidf >= 0.23)\"}, \"value\": \"black\"}, \"text\": {\"field\": \"term\", \"type\": \"nominal\"}, \"x\": {\"field\": \"rank\", \"type\": \"ordinal\"}, \"y\": {\"field\": \"document\", \"type\": \"nominal\"}}, \"transform\": [{\"window\": [{\"op\": \"rank\", \"field\": \"\", \"as\": \"rank\"}], \"groupby\": [\"document\"], \"sort\": [{\"field\": \"tfidf\", \"order\": \"descending\"}]}]}], \"data\": {\"name\": \"data-488584824da47534b4f6b04b6ac38eb6\"}, \"width\": 600, \"$schema\": \"https://vega.github.io/schema/vega-lite/v4.17.0.json\", \"datasets\": {\"data-488584824da47534b4f6b04b6ac38eb6\": [{\"document\": \"mastodon_cleaned\", \"term\": \"server\", \"tfidf\": 0.46980705636644177}, {\"document\": \"mastodon_cleaned\", \"term\": \"information\", \"tfidf\": 0.3518645129081123}, {\"document\": \"mastodon_cleaned\", \"term\": \"post\", \"tfidf\": 0.2815267835381337}, {\"document\": \"mastodon_cleaned\", \"term\": \"follower\", \"tfidf\": 0.22256730339812142}, {\"document\": \"mastodon_cleaned\", \"term\": \"use\", \"tfidf\": 0.19354091224222403}, {\"document\": \"mastodon_cleaned\", \"term\": \"address\", \"tfidf\": 0.15839465127593821}, {\"document\": \"mastodon_cleaned\", \"term\": \"site\", \"tfidf\": 0.1583918601703423}, {\"document\": \"mastodon_cleaned\", \"term\": \"pro\\ufb01le\", \"tfidf\": 0.14838183900280907}, {\"document\": \"mastodon_cleaned\", \"term\": \"deliver\", \"tfidf\": 0.14079333802245814}, {\"document\": \"mastodon_cleaned\", \"term\": \"store\", \"tfidf\": 0.1236554788899936}, {\"document\": \"twitter_cleaned\", \"term\": \"information\", \"tfidf\": 0.5734529952019033}, {\"document\": \"twitter_cleaned\", \"term\": \"service\", \"tfidf\": 0.3164398032068042}, {\"document\": \"twitter_cleaned\", \"term\": \"use\", \"tfidf\": 0.3015386316501842}, {\"document\": \"twitter_cleaned\", \"term\": \"share\", \"tfidf\": 0.18294812629222015}, {\"document\": \"twitter_cleaned\", \"term\": \"account\", \"tfidf\": 0.17804055496817436}, {\"document\": \"twitter_cleaned\", \"term\": \"data\", \"tfidf\": 0.17303781544705604}, {\"document\": \"twitter_cleaned\", \"term\": \"collect\", \"tfidf\": 0.16813615110797778}, {\"document\": \"twitter_cleaned\", \"term\": \"ad\", \"tfidf\": 0.1667446814412753}, {\"document\": \"twitter_cleaned\", \"term\": \"provide\", \"tfidf\": 0.14833044441760906}, {\"document\": \"twitter_cleaned\", \"term\": \"content\", \"tfidf\": 0.13843756390467582}]}}, {\"mode\": \"vega-lite\"});\n",
              "</script>"
            ],
            "text/plain": [
              "alt.LayerChart(...)"
            ]
          },
          "metadata": {},
          "execution_count": 65
        }
      ]
    },
    {
      "cell_type": "markdown",
      "source": [
        "![visualization (1).png](data:image/png;base64,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)"
      ],
      "metadata": {
        "id": "VctU1S3wOsUN"
      }
    },
    {
      "cell_type": "markdown",
      "source": [
        "The result is similar to what was shown using WordCloud. \n",
        "\n",
        "Both Twitter and Mastodon have \"information\" as top 2 used term in terms of frequency as this is an analysis of privacy policy. Considering the low TF-IDF scores throughout the top 10 terms, it is difficult to conclude which policy has more depth. However, this analysis demonstrates how these two companies operate. Mastodon highlights its servers while Twitter highlights its service. \n",
        "\n"
      ],
      "metadata": {
        "id": "5fAMwmpHjBYq"
      }
    },
    {
      "cell_type": "markdown",
      "source": [
        "## Limitations\n",
        "It should be noted that the main distinction between Twitter and Mastodon is the difference in servers. This means that Twitter has one server that collects and stores all data and is governed by Twitter’s own privacy policy, while Mastodon has several servers among which the data are collected, is based on user’s choice, and follow both [Mastodon and the servers’ own privacy policies](https://themarkup.org/the-breakdown/2022/11/21/we-joined-mastodon-heres-what-we-learned-about-privacy-and-security ). Considering Mastodon has more than [12,000 servers](https://mastodon.help/instances/en ), this research will only contain privacy policies of Mastodon itself, not its servers. \n"
      ],
      "metadata": {
        "id": "NXrt7j93lrTD"
      }
    },
    {
      "cell_type": "markdown",
      "source": [
        "##Replicability\n",
        "\n",
        "The code above can be used for other platforms and policies as long as the text is scraped from PDF filetypes. It would be interesting to see how other platforms that are as mature as Twitter, such as Facebook and Youtube, write their privacy policies. It would also be interesting to analyze other policies such as community guidelines or codes of conduct to answer other research questions. \n"
      ],
      "metadata": {
        "id": "-lLxni63mJRO"
      }
    },
    {
      "cell_type": "markdown",
      "source": [
        "## Conclusion\n",
        "\n",
        "This paper aimed to compare the privacy policies of Twitter and Mastodon with a hypothesis that Mastodon will have a better privacy policy. \n",
        "\n",
        "The analysis involved answering 7 questions on necessary information that should be included in the privacy policy, looking at vague and technical jargon, analyzing lexical density, as well as significant and frequent terms. The research finds that both Twitter and Mastodon fail to answer some of the 7 questions such as providing how data is secured and protected, who to contact regarding privacy, as well as establishing the legal basis for daqta collection. The weight of each question is left to the interpretation of the reader. In terms of technical jargon, while both Twitter and Mastodon use abbreviations, only Maston provided a full definition of abbreviations. However, both use vague language throughout their privacy policies by using the term \"may\" in many instances. Both Twitter and Mastodon should provide more certainty in their policy on how the users’ data are collected, used and shared by using concrete terms. By analyzing lexical density, the research finds that both Twitter and Mastodon write their policy in comprehensible ways, however, the focus of both policies are different as the two companies operate their businesses in distinct ways. Ultimately, as both companies lack clarity on their privacy policies in different areas, the hypothesis that Mastodon’s privacy policy is better than Twitter is inconclusive.\n"
      ],
      "metadata": {
        "id": "r-UUf0Gil7jx"
      }
    }
  ]
}